{
 "cells": [
  {
   "cell_type": "code",
   "execution_count": 1,
   "id": "63744e00",
   "metadata": {},
   "outputs": [],
   "source": [
    "import os\n",
    "from pathlib import Path\n",
    "\n",
    "testfolder = Path().resolve().parent.parent / 'bifacial_radiance' / 'TEMP'\n"
   ]
  },
  {
   "cell_type": "code",
   "execution_count": 7,
   "id": "de43d262",
   "metadata": {},
   "outputs": [],
   "source": [
    "import pandas as pd"
   ]
  },
  {
   "cell_type": "code",
   "execution_count": 2,
   "id": "be230e60",
   "metadata": {},
   "outputs": [],
   "source": [
    "import bifacial_radiance\n"
   ]
  },
  {
   "cell_type": "code",
   "execution_count": 22,
   "id": "c8490830",
   "metadata": {},
   "outputs": [
    {
     "name": "stdout",
     "output_type": "stream",
     "text": [
      "path = C:\\Users\\sayala\\Documents\\GitHub\\bifacial_radiance\\bifacial_radiance\\TEMP\n"
     ]
    }
   ],
   "source": [
    "demo = bifacial_radiance.RadianceObj('demo',str(testfolder))  \n"
   ]
  },
  {
   "cell_type": "code",
   "execution_count": 24,
   "id": "9b41bc01",
   "metadata": {},
   "outputs": [
    {
     "name": "stdout",
     "output_type": "stream",
     "text": [
      "Loading albedo, 1 value(s), 0.300 avg\n",
      "1 nonzero albedo values.\n",
      "Getting weather file: USA_VA_Richmond.724010_TMY2.epw\n",
      " ... OK!\n",
      "8760 line in WeatherFile. Assuming this is a standard hourly  WeatherFile for the year for purposes of saving Gencumulativesky temporal weather files in EPW folder.\n",
      "Coercing year to 2001\n",
      "Saving file EPWs\\metdata_temp.csv, # points: 8760\n",
      "Calculating Sun position for Metdata that is right-labeled  with a delta of -30 mins. i.e. 12 is 11:30 sunpos\n"
     ]
    },
    {
     "data": {
      "text/plain": [
       "'skies\\\\sky2_37.5_-77.33_2001-06-17_1400.rad'"
      ]
     },
     "execution_count": 24,
     "metadata": {},
     "output_type": "execute_result"
    }
   ],
   "source": [
    "demo.setGround(0.3)  # This prints available materials.\n",
    "epwfile = demo.getEPW(lat = 37.5, lon = -77.6)  # This location corresponds to Richmond, VA.\n",
    "metdata = demo.readWeatherFile(epwfile, coerce_year=2001) \n",
    "timeindex = metdata.datetime.index(pd.to_datetime('2001-06-17 12:0:0 -7'))\n",
    "demo.gendaylit(timeindex)  # Noon, June 17th (timepoint # 4020)"
   ]
  },
  {
   "cell_type": "code",
   "execution_count": null,
   "id": "20db6cc3",
   "metadata": {},
   "outputs": [],
   "source": []
  },
  {
   "cell_type": "code",
   "execution_count": 53,
   "id": "9c1a8f94",
   "metadata": {},
   "outputs": [
    {
     "data": {
      "text/plain": [
       "0.9999999999999999"
      ]
     },
     "execution_count": 53,
     "metadata": {},
     "output_type": "execute_result"
    }
   ],
   "source": [
    "6*0.15+5*0.02"
   ]
  },
  {
   "cell_type": "code",
   "execution_count": 54,
   "id": "bdab10eb",
   "metadata": {},
   "outputs": [
    {
     "data": {
      "text/plain": [
       "2.59"
      ]
     },
     "execution_count": 54,
     "metadata": {},
     "output_type": "execute_result"
    }
   ],
   "source": [
    "24*0.075+0.1+23*0.03"
   ]
  },
  {
   "cell_type": "code",
   "execution_count": 68,
   "id": "029cecad",
   "metadata": {},
   "outputs": [],
   "source": [
    "cellLevelModuleParams = {'numcellsx': 7,\n",
    "'numcellsy' : 24,\n",
    "'xcell' : 0.15,      \n",
    "'ycell' : 0.075,      \n",
    "'xcellgap' : 0.02,  \n",
    "'ycellgap' : 0.03,   \n",
    "'centerJB' : 0.1}"
   ]
  },
  {
   "cell_type": "code",
   "execution_count": 69,
   "id": "f97cfe71",
   "metadata": {},
   "outputs": [],
   "source": [
    "module_type = 'halfcell'\n"
   ]
  },
  {
   "cell_type": "code",
   "execution_count": 70,
   "id": "44696d7a",
   "metadata": {},
   "outputs": [],
   "source": [
    "frameParams={'frame_material' : 'Metal_Grey',\n",
    "'frame_thickness' : 0.002,  \n",
    "'frame_z' : 0.024,\n",
    "'frame_width' : 0.02,\n",
    "'nSides_frame' : 4}\n",
    "    "
   ]
  },
  {
   "cell_type": "code",
   "execution_count": 71,
   "id": "a8255002",
   "metadata": {},
   "outputs": [],
   "source": [
    "omegaParams = { 'omega_material': 'Metal_Grey',\n",
    "               'x_omega1' : 0.05,\n",
    "               'mod_overlap' : 0.02,\n",
    "               'y_omega' : 1,\n",
    "               'omega_thickness' : 0.005,\n",
    "               'x_omega3' : 0.03,\n",
    "                'inverted' : True}\n"
   ]
  },
  {
   "cell_type": "markdown",
   "id": "ced07ca2",
   "metadata": {},
   "source": [
    "# ISSUE\n",
    "# x > y makemodule and nframes = 2 Nonetype ISsue\n"
   ]
  },
  {
   "cell_type": "code",
   "execution_count": 76,
   "id": "f75644d4",
   "metadata": {},
   "outputs": [
    {
     "name": "stdout",
     "output_type": "stream",
     "text": [
      "\n",
      "Module Name: halfcell\n",
      "Pre-existing .rad file objects\\halfcell.rad will be overwritten\n",
      "Module was shifted by 0.075 in X to avoid sensors on air\n",
      "This is a Cell-Level detailed module with Packaging Factor of 0.55 %\n",
      "Warning: Omega values have been provided, butthe distance between modules with the omegadoes not match the x-gap provided.Setting x-gap to be the space between modulesfrom the omega.\n",
      "Module halfcell updated in module.json\n"
     ]
    },
    {
     "data": {
      "text/plain": [
       "{'x': 0.9999999999999999,\n",
       " 'y': 2.95,\n",
       " 'z': 0.02,\n",
       " 'modulematerial': 'black',\n",
       " 'scenex': 1.0099999999999998,\n",
       " 'sceney': 2.95,\n",
       " 'scenez': 0.15,\n",
       " 'numpanels': 1,\n",
       " 'bifi': 1,\n",
       " 'text': '! genbox black cellPVmodule 0.15 0.075 0.02 | xform -t -0.42499999999999993 -1.5250000000000001 0.174 -a 6 -t 0.16999999999999998 0 0 -a 12.0 -t 0 0.125 0 -a 2 -t 0 1.5750000000000002 0 -a 1 -t 0 2.95 0\\r\\n! genrev Metal_Grey tube1 t*1.0099999999999998 0.05 32 | xform -ry 90 -t -0.4299999999999999 0 0\\r\\n! genbox stock_glass halfcell_Glass 1.005 2.955 0.025 | xform -t 0 -0.0025 0 | xform -t -0.42749999999999994 -1.475 0.1815 -a 1 -t 0 2.95 0\\r\\n! genbox Metal_Grey frameside 0.002 3.01 0.024 | xform -t -0.51 -1.505 0.15 -a 1 -t 0 3.01 0 | xform -rz 0\\r\\n! genbox Metal_Grey frameleg 0.018000000000000002 3.01 0.002 | xform -t -0.508 -1.505 0.15 -a 1 -t 0 3.01 0 | xform -rz 0\\r\\n! genbox Metal_Grey frameside 0.002 3.01 0.024 | xform -t 0.508 -1.505 0.15 -a 1 -t 0 3.01 0 | xform -rz 0\\r\\n! genbox Metal_Grey frameleg 0.018000000000000002 3.01 0.002 | xform -t 0.49 -1.505 0.15 -a 1 -t 0 3.01 0 | xform -rz 0\\r\\n! genbox Metal_Grey frameside 1.016 0.002 0.022 | xform -t -0.508 1.503 0.152 -a 1 -t 0 3.01 0\\r\\n! genbox Metal_Grey frameleg 0.98 0.020000000000000004 0.002 | xform -t -0.49 1.4849999999999999 0.15 -a 1 -t 0 3.01 0\\r\\n! genbox Metal_Grey frameside 1.016 0.002 0.022 | xform -t -0.508 -1.505 0.152 -a 1 -t 0 3.01 0\\r\\n! genbox Metal_Grey frameleg 0.98 0.020000000000000004 0.002 | xform -t -0.49 -1.505 0.15 -a 1 -t 0 3.01 0\\r\\n! genbox Metal_Grey mod_adj 0.05 1 0.005 | xform -t 0.49 -0.5 0.145\\r\\n! genbox Metal_Grey verti 0.005 1 0.1 | xform -t 0.49 -0.5 0.04999999999999998\\r\\n! genbox Metal_Grey tt_adj 0.03 1 0.005 | xform -t 0.45999999999999996 -0.5 0.04999999999999998\\r\\n! genbox Metal_Grey mod_adj 0.05 1 0.005 | xform -t -0.54 -0.5 0.145\\r\\n! genbox Metal_Grey verti 0.005 1 0.1 | xform -t -0.495 -0.5 0.04999999999999998\\r\\n! genbox Metal_Grey tt_adj 0.03 1 0.005 | xform -t -0.49 -0.5 0.04999999999999998',\n",
       " 'modulefile': 'objects\\\\halfcell.rad',\n",
       " 'offsetfromaxis': 0.174,\n",
       " 'xgap': 0.01,\n",
       " 'ygap': 0.0,\n",
       " 'zgap': 0.1,\n",
       " 'cellModule': {'numcellsx': 6,\n",
       "  'numcellsy': 24,\n",
       "  'xcell': 0.15,\n",
       "  'ycell': 0.075,\n",
       "  'xcellgap': 0.02,\n",
       "  'ycellgap': 0.05,\n",
       "  'centerJB': 0.1},\n",
       " 'torquetube': {'bool': True,\n",
       "  'diameter': 0.1,\n",
       "  'tubetype': 'Round',\n",
       "  'material': 'Metal_Grey'},\n",
       " 'omegaParams': {'omega_material': 'Metal_Grey',\n",
       "  'x_omega1': 0.05,\n",
       "  'mod_overlap': 0.02,\n",
       "  'y_omega': 1,\n",
       "  'omega_thickness': 0.005,\n",
       "  'x_omega3': 0.03,\n",
       "  'inverted': True},\n",
       " 'frameParams': {'frame_material': 'Metal_Grey',\n",
       "  'frame_thickness': 0.002,\n",
       "  'frame_z': 0.024,\n",
       "  'frame_width': 0.02,\n",
       "  'nSides_frame': 4}}"
      ]
     },
     "execution_count": 76,
     "metadata": {},
     "output_type": "execute_result"
    }
   ],
   "source": [
    "demo.makeModule(name=module_type, x=1.02,y=3.01,\n",
    "               torquetube=True, diameter=0.1, tubetype='Round', material='Metal_Grey',\n",
    "               xgap=0.01, ygap=0.0, zgap=0.1, numpanels=1, rewriteModulefile=True,\n",
    "               axisofrotationTorqueTube=True, cellLevelModuleParams=cellParams,  \n",
    "               glass=True, omegaParams = omegaParams, frameParams = frameParams)"
   ]
  },
  {
   "cell_type": "code",
   "execution_count": 77,
   "id": "dfceccd7",
   "metadata": {},
   "outputs": [],
   "source": [
    "sceneDict = {'tilt':25,'pitch':3,'hub_height':2.0,'azimuth':180, 'nMods': 1, 'nRows': 1} \n",
    "scene = demo.makeScene(module_type,sceneDict)"
   ]
  },
  {
   "cell_type": "code",
   "execution_count": 78,
   "id": "1ece9105",
   "metadata": {},
   "outputs": [
    {
     "name": "stdout",
     "output_type": "stream",
     "text": [
      "Created demo.oct\n"
     ]
    }
   ],
   "source": [
    "octfile = demo.makeOct(demo.getfilelist())  "
   ]
  },
  {
   "cell_type": "code",
   "execution_count": 79,
   "id": "58312797",
   "metadata": {},
   "outputs": [],
   "source": [
    "!rvu -vf views\\front.vp -e .01 demo.oct"
   ]
  },
  {
   "cell_type": "code",
   "execution_count": null,
   "id": "2523113a",
   "metadata": {},
   "outputs": [],
   "source": [
    "!rvu -vf views\\front.vp -e .01 demo.oct vp 0 -4 7 vd 0 0.7 -0.7"
   ]
  }
 ],
 "metadata": {
  "kernelspec": {
   "display_name": "Python 3",
   "language": "python",
   "name": "python3"
  },
  "language_info": {
   "codemirror_mode": {
    "name": "ipython",
    "version": 3
   },
   "file_extension": ".py",
   "mimetype": "text/x-python",
   "name": "python",
   "nbconvert_exporter": "python",
   "pygments_lexer": "ipython3",
   "version": "3.8.8"
  }
 },
 "nbformat": 4,
 "nbformat_minor": 5
}
