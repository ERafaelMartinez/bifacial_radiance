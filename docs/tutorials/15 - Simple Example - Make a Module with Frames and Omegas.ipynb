{
 "cells": [
  {
   "cell_type": "markdown",
   "id": "d44f4591",
   "metadata": {},
   "source": [
    "# 15 - Simulating Frames and Omegas"
   ]
  },
  {
   "cell_type": "markdown",
   "id": "2c906cd6",
   "metadata": {},
   "source": [
    "\n",
    "![Folder Structure](../images_wiki/makeModule_ComplexGeometry.PNG)\n"
   ]
  },
  {
   "cell_type": "code",
   "execution_count": 1,
   "id": "52d5ac54",
   "metadata": {},
   "outputs": [
    {
     "name": "stdout",
     "output_type": "stream",
     "text": [
      "Your simulation will be stored in C:\\Users\\sayala\\Documents\\GitHub\\bifacial_radiance\\bifacial_radiance\\TEMP\\makeModTests\n"
     ]
    }
   ],
   "source": [
    "import bifacial_radiance\n",
    "\n",
    "import os\n",
    "from pathlib import Path\n",
    "\n",
    "testfolder = str(Path().resolve().parent.parent / 'bifacial_radiance' / 'TEMP' / 'makeModTests')\n",
    "\n",
    "if not os.path.exists(testfolder):\n",
    "    os.makedirs(testfolder)\n",
    "    \n",
    "print (\"Your simulation will be stored in %s\" % testfolder)\n"
   ]
  },
  {
   "cell_type": "code",
   "execution_count": 2,
   "id": "6711cfc1",
   "metadata": {},
   "outputs": [
    {
     "name": "stdout",
     "output_type": "stream",
     "text": [
      "path = C:\\Users\\sayala\\Documents\\GitHub\\bifacial_radiance\\bifacial_radiance\\TEMP\\makeModTests\n",
      "\n",
      "Module Name: TEST\n",
      "Pre-existing .rad file objects\\TEST.rad will be overwritten\n",
      "Warning: Frame Dictionary Parameters passed, but frame_thickness is missing\n",
      "Setting it to default value of 0.05 m to continue\n",
      "\n",
      "Warning: Using omega-to-omega distance to definegap between modulesxgap value not being used\n",
      "Module TEST updated in module.json\n"
     ]
    }
   ],
   "source": [
    "x = 2\n",
    "y = 1\n",
    "xgap = 0.02\n",
    "ygap = 0.15\n",
    "zgap = 0.3\n",
    "numpanels = 2\n",
    "offsetfromaxis = True\n",
    "\n",
    "module_type = 'TEST'\n",
    "frameParams = {'frame_material' : 'Metal_Grey', \n",
    "               'frame_thickness' : 0.05,\n",
    "               'nSides_frame' : 4,\n",
    "               'frame_width' : 0.08}\n",
    "\n",
    "\n",
    "omegaParams = {'omega_material': 'litesoil',\n",
    "                'x_omega1' : 0.4,\n",
    "                'mod_overlap' : 0.25,\n",
    "                'y_omega' : 1.5,\n",
    "                'x_omega3' : 0.25,\n",
    "                'omega_thickness' : 0.05,\n",
    "                'inverted' : False}\n",
    "\n",
    "demo = bifacial_radiance.RadianceObj('Sim1', testfolder) \n",
    "\n",
    "axisofrotationTorqueTube = False\n",
    "\n",
    "mymod = demo.makeModule(module_type,x=x, y=y, xgap = xgap, ygap = ygap, zgap = zgap, \n",
    "                torquetube = True, diameter = 0.3, axisofrotationTorqueTube=axisofrotationTorqueTube,\n",
    "                numpanels = numpanels, \n",
    "                frameParams=frameParams, omegaParams=omegaParams)"
   ]
  },
  {
   "cell_type": "code",
   "execution_count": 3,
   "id": "fc0fa941",
   "metadata": {},
   "outputs": [
    {
     "name": "stdout",
     "output_type": "stream",
     "text": [
      "Loading albedo, 1 value(s), 0.200 avg\n",
      "1 nonzero albedo values.\n",
      "Getting weather file: USA_VA_Richmond.Intl.AP.724010_TMY.epw\n",
      " connection error status code: 404\n"
     ]
    },
    {
     "ename": "HTTPError",
     "evalue": "404 Client Error: Not Found for url: https://energyplus.net/weather-download/north_and_central_america_wmo_region_4/USA/VA/USA_VA_Richmond.Intl.AP.724010_TMY/USA_VA_Richmond.Intl.AP.724010_TMY.epw",
     "output_type": "error",
     "traceback": [
      "\u001b[1;31m---------------------------------------------------------------------------\u001b[0m",
      "\u001b[1;31mHTTPError\u001b[0m                                 Traceback (most recent call last)",
      "\u001b[1;32m<ipython-input-3-9770d1fb255c>\u001b[0m in \u001b[0;36m<module>\u001b[1;34m\u001b[0m\n\u001b[0;32m      1\u001b[0m \u001b[0mdemo\u001b[0m\u001b[1;33m.\u001b[0m\u001b[0msetGround\u001b[0m\u001b[1;33m(\u001b[0m\u001b[1;36m0.2\u001b[0m\u001b[1;33m)\u001b[0m\u001b[1;33m\u001b[0m\u001b[1;33m\u001b[0m\u001b[0m\n\u001b[1;32m----> 2\u001b[1;33m \u001b[0mepwfile\u001b[0m \u001b[1;33m=\u001b[0m \u001b[0mdemo\u001b[0m\u001b[1;33m.\u001b[0m\u001b[0mgetEPW\u001b[0m\u001b[1;33m(\u001b[0m\u001b[0mlat\u001b[0m \u001b[1;33m=\u001b[0m \u001b[1;36m37.5\u001b[0m\u001b[1;33m,\u001b[0m \u001b[0mlon\u001b[0m \u001b[1;33m=\u001b[0m \u001b[1;33m-\u001b[0m\u001b[1;36m77.6\u001b[0m\u001b[1;33m)\u001b[0m\u001b[1;33m\u001b[0m\u001b[1;33m\u001b[0m\u001b[0m\n\u001b[0m\u001b[0;32m      3\u001b[0m \u001b[0mmetdata\u001b[0m \u001b[1;33m=\u001b[0m \u001b[0mdemo\u001b[0m\u001b[1;33m.\u001b[0m\u001b[0mreadWeatherFile\u001b[0m\u001b[1;33m(\u001b[0m\u001b[0mepwfile\u001b[0m\u001b[1;33m,\u001b[0m \u001b[0mcoerce_year\u001b[0m \u001b[1;33m=\u001b[0m \u001b[1;36m2021\u001b[0m\u001b[1;33m)\u001b[0m\u001b[1;33m\u001b[0m\u001b[1;33m\u001b[0m\u001b[0m\n\u001b[0;32m      4\u001b[0m \u001b[0mdemo\u001b[0m\u001b[1;33m.\u001b[0m\u001b[0mgendaylit\u001b[0m\u001b[1;33m(\u001b[0m\u001b[1;36m4020\u001b[0m\u001b[1;33m)\u001b[0m\u001b[1;33m\u001b[0m\u001b[1;33m\u001b[0m\u001b[0m\n\u001b[0;32m      5\u001b[0m \u001b[1;33m\u001b[0m\u001b[0m\n",
      "\u001b[1;32mc:\\users\\sayala\\documents\\github\\bifacial_radiance\\bifacial_radiance\\main.py\u001b[0m in \u001b[0;36mgetEPW\u001b[1;34m(self, lat, lon, GetAll)\u001b[0m\n\u001b[0;32m    559\u001b[0m             \u001b[1;31m# download the EPW file to the local drive.\u001b[0m\u001b[1;33m\u001b[0m\u001b[1;33m\u001b[0m\u001b[1;33m\u001b[0m\u001b[0m\n\u001b[0;32m    560\u001b[0m             \u001b[0mprint\u001b[0m\u001b[1;33m(\u001b[0m\u001b[1;34m'Getting weather file: '\u001b[0m \u001b[1;33m+\u001b[0m \u001b[0mname\u001b[0m\u001b[1;33m)\u001b[0m\u001b[1;33m\u001b[0m\u001b[1;33m\u001b[0m\u001b[0m\n\u001b[1;32m--> 561\u001b[1;33m             \u001b[0m_downloadEPWfile\u001b[0m\u001b[1;33m(\u001b[0m\u001b[0murl\u001b[0m\u001b[1;33m,\u001b[0m \u001b[0mpath_to_save\u001b[0m\u001b[1;33m,\u001b[0m \u001b[0mname\u001b[0m\u001b[1;33m)\u001b[0m\u001b[1;33m\u001b[0m\u001b[1;33m\u001b[0m\u001b[0m\n\u001b[0m\u001b[0;32m    562\u001b[0m             \u001b[0mself\u001b[0m\u001b[1;33m.\u001b[0m\u001b[0mepwfile\u001b[0m \u001b[1;33m=\u001b[0m \u001b[0mos\u001b[0m\u001b[1;33m.\u001b[0m\u001b[0mpath\u001b[0m\u001b[1;33m.\u001b[0m\u001b[0mjoin\u001b[0m\u001b[1;33m(\u001b[0m\u001b[1;34m'EPWs'\u001b[0m\u001b[1;33m,\u001b[0m \u001b[0mname\u001b[0m\u001b[1;33m)\u001b[0m\u001b[1;33m\u001b[0m\u001b[1;33m\u001b[0m\u001b[0m\n\u001b[0;32m    563\u001b[0m \u001b[1;33m\u001b[0m\u001b[0m\n",
      "\u001b[1;32mc:\\users\\sayala\\documents\\github\\bifacial_radiance\\bifacial_radiance\\main.py\u001b[0m in \u001b[0;36m_downloadEPWfile\u001b[1;34m(url, path_to_save, name)\u001b[0m\n\u001b[0;32m    548\u001b[0m             \u001b[1;32melse\u001b[0m\u001b[1;33m:\u001b[0m\u001b[1;33m\u001b[0m\u001b[1;33m\u001b[0m\u001b[0m\n\u001b[0;32m    549\u001b[0m                 \u001b[0mprint\u001b[0m\u001b[1;33m(\u001b[0m\u001b[1;34m' connection error status code: %s'\u001b[0m \u001b[1;33m%\u001b[0m\u001b[1;33m(\u001b[0m\u001b[0mr\u001b[0m\u001b[1;33m.\u001b[0m\u001b[0mstatus_code\u001b[0m\u001b[1;33m)\u001b[0m\u001b[1;33m)\u001b[0m\u001b[1;33m\u001b[0m\u001b[1;33m\u001b[0m\u001b[0m\n\u001b[1;32m--> 550\u001b[1;33m                 \u001b[0mr\u001b[0m\u001b[1;33m.\u001b[0m\u001b[0mraise_for_status\u001b[0m\u001b[1;33m(\u001b[0m\u001b[1;33m)\u001b[0m\u001b[1;33m\u001b[0m\u001b[1;33m\u001b[0m\u001b[0m\n\u001b[0m\u001b[0;32m    551\u001b[0m \u001b[1;33m\u001b[0m\u001b[0m\n\u001b[0;32m    552\u001b[0m         \u001b[1;31m# Get the list of EPW filenames and lat/lon\u001b[0m\u001b[1;33m\u001b[0m\u001b[1;33m\u001b[0m\u001b[1;33m\u001b[0m\u001b[0m\n",
      "\u001b[1;32mC:\\ProgramData\\Anaconda3\\lib\\site-packages\\requests\\models.py\u001b[0m in \u001b[0;36mraise_for_status\u001b[1;34m(self)\u001b[0m\n\u001b[0;32m    941\u001b[0m \u001b[1;33m\u001b[0m\u001b[0m\n\u001b[0;32m    942\u001b[0m         \u001b[1;32mif\u001b[0m \u001b[0mhttp_error_msg\u001b[0m\u001b[1;33m:\u001b[0m\u001b[1;33m\u001b[0m\u001b[1;33m\u001b[0m\u001b[0m\n\u001b[1;32m--> 943\u001b[1;33m             \u001b[1;32mraise\u001b[0m \u001b[0mHTTPError\u001b[0m\u001b[1;33m(\u001b[0m\u001b[0mhttp_error_msg\u001b[0m\u001b[1;33m,\u001b[0m \u001b[0mresponse\u001b[0m\u001b[1;33m=\u001b[0m\u001b[0mself\u001b[0m\u001b[1;33m)\u001b[0m\u001b[1;33m\u001b[0m\u001b[1;33m\u001b[0m\u001b[0m\n\u001b[0m\u001b[0;32m    944\u001b[0m \u001b[1;33m\u001b[0m\u001b[0m\n\u001b[0;32m    945\u001b[0m     \u001b[1;32mdef\u001b[0m \u001b[0mclose\u001b[0m\u001b[1;33m(\u001b[0m\u001b[0mself\u001b[0m\u001b[1;33m)\u001b[0m\u001b[1;33m:\u001b[0m\u001b[1;33m\u001b[0m\u001b[1;33m\u001b[0m\u001b[0m\n",
      "\u001b[1;31mHTTPError\u001b[0m: 404 Client Error: Not Found for url: https://energyplus.net/weather-download/north_and_central_america_wmo_region_4/USA/VA/USA_VA_Richmond.Intl.AP.724010_TMY/USA_VA_Richmond.Intl.AP.724010_TMY.epw"
     ]
    }
   ],
   "source": [
    "demo.setGround(0.2)\n",
    "epwfile = demo.getEPW(lat = 37.5, lon = -77.6)\n",
    "metdata = demo.readWeatherFile(epwfile, coerce_year = 2021)\n",
    "demo.gendaylit(4020)\n",
    "\n",
    "nMods = 1\n",
    "nRows = 1\n",
    "sceneDict = {'tilt':0, 'pitch':3, 'clearance_height':3,'azimuth':90, 'nMods': nMods, 'nRows': nRows} \n",
    "scene = demo.makeScene(module_type,sceneDict)\n",
    "demo.makeOct()"
   ]
  },
  {
   "cell_type": "markdown",
   "id": "13fdb933",
   "metadata": {},
   "source": [
    "To view the module from different angles, you can use the following rvu commands. See tutorial 1 for more on how to do rvu.\n",
    "\n",
    "    rvu -vp -7 0 3 -vd 1 0 0 Sim1.oct\n",
    "\n",
    "    rvu -vp 0 -5 3 -vd 0 1 0 Sim1.oct"
   ]
  },
  {
   "cell_type": "code",
   "execution_count": null,
   "id": "7aeae256",
   "metadata": {},
   "outputs": [],
   "source": []
  }
 ],
 "metadata": {
  "kernelspec": {
   "display_name": "Python 3",
   "language": "python",
   "name": "python3"
  },
  "language_info": {
   "codemirror_mode": {
    "name": "ipython",
    "version": 3
   },
   "file_extension": ".py",
   "mimetype": "text/x-python",
   "name": "python",
   "nbconvert_exporter": "python",
   "pygments_lexer": "ipython3",
   "version": "3.7.10"
  }
 },
 "nbformat": 4,
 "nbformat_minor": 5
}
