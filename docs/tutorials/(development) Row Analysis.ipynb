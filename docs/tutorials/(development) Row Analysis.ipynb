{
 "cells": [
  {
   "cell_type": "markdown",
   "id": "35ce6b13",
   "metadata": {},
   "source": [
    "## Making Analysis Function for Row"
   ]
  },
  {
   "cell_type": "code",
   "execution_count": 1,
   "id": "ffaa001f",
   "metadata": {},
   "outputs": [],
   "source": [
    "import bifacial_radiance"
   ]
  },
  {
   "cell_type": "code",
   "execution_count": 2,
   "id": "7d909286",
   "metadata": {},
   "outputs": [
    {
     "name": "stdout",
     "output_type": "stream",
     "text": [
      "path = C:\\Users\\sarefeen\\Documents\\GitHub\\bifacial_radiance\\bifacial_radiance\\TEMP\\makeModTests\n"
     ]
    }
   ],
   "source": [
    "testfolder = r'C:\\Users\\sarefeen\\Documents\\GitHub\\bifacial_radiance\\bifacial_radiance\\TEMP\\makeModTests'\n",
    "demo = bifacial_radiance.RadianceObj('SimRowScan', testfolder) "
   ]
  },
  {
   "cell_type": "code",
   "execution_count": 3,
   "id": "a90df9eb",
   "metadata": {},
   "outputs": [],
   "source": [
    "x = 2\n",
    "y = 1\n",
    "xgap = 0.02\n",
    "ygap = 0.15\n",
    "zgap = 0.10\n",
    "numpanels = 1\n",
    "offsetfromaxis = True\n",
    "Ny = numpanels\n",
    "axisofrotationTorqueTube = True\n",
    "frameParams = None\n",
    "omegaParams = None\n",
    "diam = 0.1"
   ]
  },
  {
   "cell_type": "code",
   "execution_count": 4,
   "id": "e894ef1b",
   "metadata": {},
   "outputs": [],
   "source": [
    "module_type = 'TEST'\n",
    "nMods = 5\n",
    "nRows = 4\n",
    "sceneDict = {'tilt':0, 'pitch':3, 'clearance_height':3,'azimuth':90, 'nMods': nMods, 'nRows': nRows} "
   ]
  },
  {
   "cell_type": "code",
   "execution_count": 5,
   "id": "1da8c61c",
   "metadata": {},
   "outputs": [
    {
     "name": "stdout",
     "output_type": "stream",
     "text": [
      "Loading albedo, 1 value(s), 0.200 avg\n",
      "1 nonzero albedo values.\n",
      "Getting weather file: USA_VA_Richmond.Intl.AP.724010_TMY.epw\n",
      " ... OK!\n",
      "start: 2021-01-01 01:00:00\n",
      "end: 2021-12-31 23:00:00\n",
      "Saving file EPWs\\epw_temp.csv, # points: 8760\n",
      "Calculating Sun position for Metdata that is right-labeled  with a delta of -30 mins. i.e. 12 is 11:30 sunpos\n"
     ]
    },
    {
     "data": {
      "text/plain": [
       "'skies\\\\sky2_37.5_-77.33_2021_06_17_13_00.rad'"
      ]
     },
     "execution_count": 5,
     "metadata": {},
     "output_type": "execute_result"
    }
   ],
   "source": [
    "demo.setGround(0.2)\n",
    "epwfile = demo.getEPW(lat = 37.5, lon = -77.6)\n",
    "metdata = demo.readWeatherFile(epwfile, coerce_year = 2021)\n",
    "demo.gendaylit(4020)"
   ]
  },
  {
   "cell_type": "code",
   "execution_count": 6,
   "id": "8f0fd750",
   "metadata": {},
   "outputs": [
    {
     "name": "stdout",
     "output_type": "stream",
     "text": [
      "\n",
      "Module Name: TEST\n",
      "Pre-existing .rad file objects\\TEST.rad will be overwritten\n",
      "Module TEST updated in module.json\n"
     ]
    },
    {
     "data": {
      "text/plain": [
       "{'x': 2,\n",
       " 'y': 1,\n",
       " 'z': 0.02,\n",
       " 'modulematerial': 'black',\n",
       " 'scenex': 2.02,\n",
       " 'sceney': 1.0,\n",
       " 'scenez': 0.15,\n",
       " 'numpanels': 1,\n",
       " 'bifi': 1,\n",
       " 'text': '! genbox black TEST 2 1 0.02 | xform -t -1.0 -0.5 0.15 -a 1 -t 0 1.15 0\\r\\n! genrev Metal_Grey tube1 t*2.02 0.05 32 | xform -ry 90 -t -1.01 0 0',\n",
       " 'modulefile': 'objects\\\\TEST.rad',\n",
       " 'offsetfromaxis': 0.15,\n",
       " 'xgap': 0.02,\n",
       " 'ygap': 0.15,\n",
       " 'zgap': 0.1,\n",
       " 'cellModule': None,\n",
       " 'torquetube': {'bool': True,\n",
       "  'diameter': 0.1,\n",
       "  'tubetype': 'Round',\n",
       "  'material': 'Metal_Grey'}}"
      ]
     },
     "execution_count": 6,
     "metadata": {},
     "output_type": "execute_result"
    }
   ],
   "source": [
    "demo.makeModule(name=module_type,x=x, y=y, torquetube = True, \n",
    "                    diameter = diam, xgap = xgap, ygap = ygap, zgap = zgap, \n",
    "                    numpanels = Ny, frameParams=frameParams, omegaParams=omegaParams,\n",
    "                    axisofrotationTorqueTube=axisofrotationTorqueTube)"
   ]
  },
  {
   "cell_type": "code",
   "execution_count": 7,
   "id": "f1bfa1c0",
   "metadata": {},
   "outputs": [
    {
     "name": "stdout",
     "output_type": "stream",
     "text": [
      "Created SimRowScan.oct\n"
     ]
    }
   ],
   "source": [
    "scene = demo.makeScene(module_type,sceneDict)\n",
    "octfile = demo.makeOct()\n",
    "analysis = bifacial_radiance.AnalysisObj()  # return an analysis object including the scan dimensions for back irradiance\n",
    "#frontscan, backscan = analysis.moduleAnalysis(scene, sensorsy=1) # Gives us the dictionaries with coordinates"
   ]
  },
  {
   "cell_type": "code",
   "execution_count": null,
   "id": "5608f683",
   "metadata": {},
   "outputs": [],
   "source": [
    "frontscan"
   ]
  },
  {
   "cell_type": "code",
   "execution_count": null,
   "id": "58c57c75",
   "metadata": {},
   "outputs": [],
   "source": [
    "backscan"
   ]
  },
  {
   "cell_type": "code",
   "execution_count": 8,
   "id": "63c80be7",
   "metadata": {},
   "outputs": [
    {
     "name": "stdout",
     "output_type": "stream",
     "text": [
      " FYI Modules and Rows start at index 1. Reindexing to modWanted 1\n",
      "Linescan in process: RowTest_Module_0_Front\n",
      "Linescan in process: RowTest_Module_0_Back\n",
      "Saved: results\\irr_RowTest_Module_0.csv\n",
      "Linescan in process: RowTest_Module_1_Front\n",
      "Linescan in process: RowTest_Module_1_Back\n",
      "Saved: results\\irr_RowTest_Module_1.csv\n",
      "Linescan in process: RowTest_Module_2_Front\n",
      "Linescan in process: RowTest_Module_2_Back\n",
      "Saved: results\\irr_RowTest_Module_2.csv\n",
      "Linescan in process: RowTest_Module_3_Front\n",
      "Linescan in process: RowTest_Module_3_Back\n",
      "Saved: results\\irr_RowTest_Module_3.csv\n",
      "Linescan in process: RowTest_Module_4_Front\n",
      "Linescan in process: RowTest_Module_4_Back\n",
      "Saved: results\\irr_RowTest_Module_4.csv\n"
     ]
    }
   ],
   "source": [
    "name = 'RowTest'\n",
    "sensorsy = 2\n",
    "rowWanted = 2\n",
    "rowscan = analysis.analyzeRow(name = name, scene = scene, sensorsy = sensorsy, rowWanted = rowWanted, nMods = nMods, octfile = octfile)"
   ]
  },
  {
   "cell_type": "code",
   "execution_count": null,
   "id": "00d88384",
   "metadata": {},
   "outputs": [],
   "source": []
  }
 ],
 "metadata": {
  "kernelspec": {
   "display_name": "Python 3",
   "language": "python",
   "name": "python3"
  },
  "language_info": {
   "codemirror_mode": {
    "name": "ipython",
    "version": 3
   },
   "file_extension": ".py",
   "mimetype": "text/x-python",
   "name": "python",
   "nbconvert_exporter": "python",
   "pygments_lexer": "ipython3",
   "version": "3.8.8"
  }
 },
 "nbformat": 4,
 "nbformat_minor": 5
}
