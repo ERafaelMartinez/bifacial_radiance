{
 "cells": [
  {
   "cell_type": "markdown",
   "id": "175a8b1d",
   "metadata": {},
   "source": [
    "## Making Analysis Function for Row"
   ]
  },
  {
   "cell_type": "code",
   "execution_count": 1,
   "id": "a21bbcc1",
   "metadata": {},
   "outputs": [],
   "source": [
    "import bifacial_radiance"
   ]
  },
  {
   "cell_type": "code",
   "execution_count": 5,
   "id": "374ac94b",
   "metadata": {},
   "outputs": [],
   "source": [
    "import os\n",
    "from pathlib import Path\n",
    "\n",
    "testfolder = str(Path().resolve().parent.parent / 'bifacial_radiance' / 'TEMP')"
   ]
  },
  {
   "cell_type": "code",
   "execution_count": 6,
   "id": "e396c31a",
   "metadata": {},
   "outputs": [
    {
     "name": "stdout",
     "output_type": "stream",
     "text": [
      "path = C:\\Users\\sarefeen\\Documents\\GitHub\\bifacial_radiance\\bifacial_radiance\\TEMP\n"
     ]
    }
   ],
   "source": [
    "demo = bifacial_radiance.RadianceObj('SimRowScan', testfolder) "
   ]
  },
  {
   "cell_type": "code",
   "execution_count": 7,
   "id": "376f9817",
   "metadata": {},
   "outputs": [],
   "source": [
    "x = 2\n",
    "y = 1\n",
    "xgap = 0.02\n",
    "ygap = 0.15\n",
    "zgap = 0.10\n",
    "numpanels = 1\n",
    "offsetfromaxis = True\n",
    "Ny = numpanels\n",
    "axisofrotationTorqueTube = True\n",
    "frameParams = None\n",
    "omegaParams = None\n",
    "diam = 0.1"
   ]
  },
  {
   "cell_type": "code",
   "execution_count": 8,
   "id": "d6ad80ab",
   "metadata": {},
   "outputs": [],
   "source": [
    "module_type = 'TEST'\n",
    "nMods = 5\n",
    "nRows = 4\n",
    "sceneDict = {'tilt':0, 'pitch':30, 'clearance_height':3,'azimuth':90, 'nMods': nMods, 'nRows': nRows} "
   ]
  },
  {
   "cell_type": "code",
   "execution_count": 9,
   "id": "37281b42",
   "metadata": {},
   "outputs": [
    {
     "name": "stdout",
     "output_type": "stream",
     "text": [
      "Loading albedo, 1 value(s), 0.200 avg\n",
      "1 nonzero albedo values.\n",
      "Getting weather file: USA_VA_Richmond.Intl.AP.724010_TMY.epw\n",
      " ... OK!\n",
      "start: 2021-01-01 01:00:00\n",
      "end: 2021-12-31 23:00:00\n",
      "Saving file EPWs\\epw_temp.csv, # points: 8760\n",
      "Calculating Sun position for Metdata that is right-labeled  with a delta of -30 mins. i.e. 12 is 11:30 sunpos\n"
     ]
    },
    {
     "data": {
      "text/plain": [
       "'skies\\\\sky2_37.5_-77.33_2021_06_17_13_00.rad'"
      ]
     },
     "execution_count": 9,
     "metadata": {},
     "output_type": "execute_result"
    }
   ],
   "source": [
    "demo.setGround(0.2)\n",
    "epwfile = demo.getEPW(lat = 37.5, lon = -77.6)\n",
    "metdata = demo.readWeatherFile(epwfile, coerce_year = 2021)\n",
    "demo.gendaylit(4020)"
   ]
  },
  {
   "cell_type": "code",
   "execution_count": 10,
   "id": "b6f0a7d0",
   "metadata": {},
   "outputs": [
    {
     "name": "stdout",
     "output_type": "stream",
     "text": [
      "\n",
      "Module Name: TEST\n",
      "Module TEST updated in module.json\n"
     ]
    },
    {
     "data": {
      "text/plain": [
       "{'x': 2,\n",
       " 'y': 1,\n",
       " 'z': 0.02,\n",
       " 'modulematerial': 'black',\n",
       " 'scenex': 2.02,\n",
       " 'sceney': 1.0,\n",
       " 'scenez': 0.15,\n",
       " 'numpanels': 1,\n",
       " 'bifi': 1,\n",
       " 'text': '! genbox black TEST 2 1 0.02 | xform -t -1.0 -0.5 0.15 -a 1 -t 0 1.15 0\\r\\n! genrev Metal_Grey tube1 t*2.02 0.05 32 | xform -ry 90 -t -1.01 0 0',\n",
       " 'modulefile': 'objects\\\\TEST.rad',\n",
       " 'offsetfromaxis': 0.15,\n",
       " 'xgap': 0.02,\n",
       " 'ygap': 0.15,\n",
       " 'zgap': 0.1,\n",
       " 'cellModule': None,\n",
       " 'torquetube': {'bool': True,\n",
       "  'diameter': 0.1,\n",
       "  'tubetype': 'Round',\n",
       "  'material': 'Metal_Grey'}}"
      ]
     },
     "execution_count": 10,
     "metadata": {},
     "output_type": "execute_result"
    }
   ],
   "source": [
    "demo.makeModule(name=module_type,x=x, y=y, torquetube = True, \n",
    "                    diameter = diam, xgap = xgap, ygap = ygap, zgap = zgap, \n",
    "                    numpanels = Ny, frameParams=frameParams, omegaParams=omegaParams,\n",
    "                    axisofrotationTorqueTube=axisofrotationTorqueTube)"
   ]
  },
  {
   "cell_type": "code",
   "execution_count": 11,
   "id": "6b8e9262",
   "metadata": {},
   "outputs": [
    {
     "name": "stdout",
     "output_type": "stream",
     "text": [
      "Created SimRowScan.oct\n"
     ]
    }
   ],
   "source": [
    "scene = demo.makeScene(module_type,sceneDict)\n",
    "octfile = demo.makeOct()\n",
    "analysis = bifacial_radiance.AnalysisObj()  # return an analysis object including the scan dimensions for back irradiance\n",
    "#frontscan, backscan = analysis.moduleAnalysis(scene, sensorsy=1) # Gives us the dictionaries with coordinates"
   ]
  },
  {
   "cell_type": "code",
   "execution_count": 12,
   "id": "3283cff6",
   "metadata": {},
   "outputs": [],
   "source": [
    "rowWanted = 2\n",
    "modWanted = 2\n",
    "name = 'ScanTest'\n",
    "sensorsy = 2\n",
    "#frontscan, backscan = analysis.moduleAnalysis(scene, sensorsy=sensorsy, modWanted = modWanted, rowWanted = rowWanted)"
   ]
  },
  {
   "cell_type": "code",
   "execution_count": 13,
   "id": "88cb1968",
   "metadata": {
    "scrolled": true
   },
   "outputs": [
    {
     "name": "stdout",
     "output_type": "stream",
     "text": [
      " FYI Modules and Rows start at index 1. Reindexing to modWanted 1\n",
      "Linescan in process: ScanTest_Module_0_Front\n",
      "Linescan in process: ScanTest_Module_0_Back\n",
      "Saved: results\\irr_ScanTest_Module_0.csv\n",
      "Linescan in process: ScanTest_Module_1_Front\n",
      "Linescan in process: ScanTest_Module_1_Back\n",
      "Saved: results\\irr_ScanTest_Module_1.csv\n",
      "Linescan in process: ScanTest_Module_2_Front\n",
      "Linescan in process: ScanTest_Module_2_Back\n",
      "Saved: results\\irr_ScanTest_Module_2.csv\n",
      "Linescan in process: ScanTest_Module_3_Front\n",
      "Linescan in process: ScanTest_Module_3_Back\n",
      "Saved: results\\irr_ScanTest_Module_3.csv\n",
      "Linescan in process: ScanTest_Module_4_Front\n",
      "Linescan in process: ScanTest_Module_4_Back\n",
      "Saved: results\\irr_ScanTest_Module_4.csv\n"
     ]
    }
   ],
   "source": [
    "rowscan = analysis.analyzeRow(name = name, scene = scene, sensorsy = sensorsy, rowWanted = rowWanted, nMods = nMods, octfile = octfile)"
   ]
  },
  {
   "cell_type": "code",
   "execution_count": 14,
   "id": "3da0a3e8",
   "metadata": {},
   "outputs": [
    {
     "data": {
      "text/html": [
       "<div>\n",
       "<style scoped>\n",
       "    .dataframe tbody tr th:only-of-type {\n",
       "        vertical-align: middle;\n",
       "    }\n",
       "\n",
       "    .dataframe tbody tr th {\n",
       "        vertical-align: top;\n",
       "    }\n",
       "\n",
       "    .dataframe thead th {\n",
       "        text-align: right;\n",
       "    }\n",
       "</style>\n",
       "<table border=\"1\" class=\"dataframe\">\n",
       "  <thead>\n",
       "    <tr style=\"text-align: right;\">\n",
       "      <th></th>\n",
       "      <th>x</th>\n",
       "      <th>y</th>\n",
       "      <th>z</th>\n",
       "      <th>rearZ</th>\n",
       "      <th>mattype</th>\n",
       "      <th>rearMat</th>\n",
       "      <th>Wm2Front</th>\n",
       "      <th>Wm2Back</th>\n",
       "      <th>Back/FrontRatio</th>\n",
       "    </tr>\n",
       "  </thead>\n",
       "  <tbody>\n",
       "    <tr>\n",
       "      <th>0</th>\n",
       "      <td>[0.1666667, -0.1666667]</td>\n",
       "      <td>[-4.04, -4.04]</td>\n",
       "      <td>[3.171, 3.171]</td>\n",
       "      <td>[3.149, 3.149]</td>\n",
       "      <td>[a0.1.a0.TEST.6457, a0.1.a0.TEST.6457]</td>\n",
       "      <td>[a0.1.a0.TEST.2310, a0.1.a0.TEST.2310]</td>\n",
       "      <td>[605.6525, 605.6608]</td>\n",
       "      <td>[100.67736666666667, 100.56256666666667]</td>\n",
       "      <td>[6.01577613770192, 6.022726150254054]</td>\n",
       "    </tr>\n",
       "    <tr>\n",
       "      <th>1</th>\n",
       "      <td>[0.1666667, -0.1666667]</td>\n",
       "      <td>[-4.04, -4.04]</td>\n",
       "      <td>[3.171, 3.171]</td>\n",
       "      <td>[3.149, 3.149]</td>\n",
       "      <td>[a0.1.a0.TEST.6457, a0.1.a0.TEST.6457]</td>\n",
       "      <td>[a0.1.a0.TEST.2310, a0.1.a0.TEST.2310]</td>\n",
       "      <td>[605.6487, 605.657]</td>\n",
       "      <td>[100.58139999999999, 100.27523333333333]</td>\n",
       "      <td>[6.021478126174422, 6.039946055140901]</td>\n",
       "    </tr>\n",
       "    <tr>\n",
       "      <th>2</th>\n",
       "      <td>[0.1666667, -0.1666667]</td>\n",
       "      <td>[-2.02, -2.02]</td>\n",
       "      <td>[3.171, 3.171]</td>\n",
       "      <td>[3.149, 3.149]</td>\n",
       "      <td>[a1.1.a0.TEST.6457, a1.1.a0.TEST.6457]</td>\n",
       "      <td>[a1.1.a0.TEST.2310, a1.1.a0.TEST.2310]</td>\n",
       "      <td>[605.5999, 605.6078]</td>\n",
       "      <td>[96.36219, 97.13879666666666]</td>\n",
       "      <td>[6.284621592763719, 6.234458535431037]</td>\n",
       "    </tr>\n",
       "    <tr>\n",
       "      <th>3</th>\n",
       "      <td>[0.1666667, -0.1666667]</td>\n",
       "      <td>[1.020539e-17, -1.020539e-17]</td>\n",
       "      <td>[3.171, 3.171]</td>\n",
       "      <td>[3.149, 3.149]</td>\n",
       "      <td>[a2.1.a0.TEST.6457, a2.1.a0.TEST.6457]</td>\n",
       "      <td>[a2.1.a0.TEST.2310, a2.1.a0.TEST.2310]</td>\n",
       "      <td>[606.0184, 606.0266]</td>\n",
       "      <td>[95.06792666666666, 95.63524666666667]</td>\n",
       "      <td>[6.37458311387037, 6.336854048301717]</td>\n",
       "    </tr>\n",
       "    <tr>\n",
       "      <th>4</th>\n",
       "      <td>[0.1666667, -0.1666667]</td>\n",
       "      <td>[2.02, 2.02]</td>\n",
       "      <td>[3.171, 3.171]</td>\n",
       "      <td>[3.149, 3.149]</td>\n",
       "      <td>[a3.1.a0.TEST.6457, a3.1.a0.TEST.6457]</td>\n",
       "      <td>[a3.1.a0.TEST.2310, a3.1.a0.TEST.2310]</td>\n",
       "      <td>[605.7834, 605.7919]</td>\n",
       "      <td>[94.45433666666668, 95.62145666666667]</td>\n",
       "      <td>[6.413505418367768, 6.335313444468548]</td>\n",
       "    </tr>\n",
       "  </tbody>\n",
       "</table>\n",
       "</div>"
      ],
      "text/plain": [
       "                         x                              y               z  \\\n",
       "0  [0.1666667, -0.1666667]                 [-4.04, -4.04]  [3.171, 3.171]   \n",
       "1  [0.1666667, -0.1666667]                 [-4.04, -4.04]  [3.171, 3.171]   \n",
       "2  [0.1666667, -0.1666667]                 [-2.02, -2.02]  [3.171, 3.171]   \n",
       "3  [0.1666667, -0.1666667]  [1.020539e-17, -1.020539e-17]  [3.171, 3.171]   \n",
       "4  [0.1666667, -0.1666667]                   [2.02, 2.02]  [3.171, 3.171]   \n",
       "\n",
       "            rearZ                                 mattype  \\\n",
       "0  [3.149, 3.149]  [a0.1.a0.TEST.6457, a0.1.a0.TEST.6457]   \n",
       "1  [3.149, 3.149]  [a0.1.a0.TEST.6457, a0.1.a0.TEST.6457]   \n",
       "2  [3.149, 3.149]  [a1.1.a0.TEST.6457, a1.1.a0.TEST.6457]   \n",
       "3  [3.149, 3.149]  [a2.1.a0.TEST.6457, a2.1.a0.TEST.6457]   \n",
       "4  [3.149, 3.149]  [a3.1.a0.TEST.6457, a3.1.a0.TEST.6457]   \n",
       "\n",
       "                                  rearMat              Wm2Front  \\\n",
       "0  [a0.1.a0.TEST.2310, a0.1.a0.TEST.2310]  [605.6525, 605.6608]   \n",
       "1  [a0.1.a0.TEST.2310, a0.1.a0.TEST.2310]   [605.6487, 605.657]   \n",
       "2  [a1.1.a0.TEST.2310, a1.1.a0.TEST.2310]  [605.5999, 605.6078]   \n",
       "3  [a2.1.a0.TEST.2310, a2.1.a0.TEST.2310]  [606.0184, 606.0266]   \n",
       "4  [a3.1.a0.TEST.2310, a3.1.a0.TEST.2310]  [605.7834, 605.7919]   \n",
       "\n",
       "                                    Wm2Back  \\\n",
       "0  [100.67736666666667, 100.56256666666667]   \n",
       "1  [100.58139999999999, 100.27523333333333]   \n",
       "2             [96.36219, 97.13879666666666]   \n",
       "3    [95.06792666666666, 95.63524666666667]   \n",
       "4    [94.45433666666668, 95.62145666666667]   \n",
       "\n",
       "                          Back/FrontRatio  \n",
       "0   [6.01577613770192, 6.022726150254054]  \n",
       "1  [6.021478126174422, 6.039946055140901]  \n",
       "2  [6.284621592763719, 6.234458535431037]  \n",
       "3   [6.37458311387037, 6.336854048301717]  \n",
       "4  [6.413505418367768, 6.335313444468548]  "
      ]
     },
     "execution_count": 14,
     "metadata": {},
     "output_type": "execute_result"
    }
   ],
   "source": [
    "rowscan"
   ]
  },
  {
   "cell_type": "code",
   "execution_count": null,
   "id": "b23dc43b",
   "metadata": {},
   "outputs": [],
   "source": []
  }
 ],
 "metadata": {
  "kernelspec": {
   "display_name": "Python 3",
   "language": "python",
   "name": "python3"
  },
  "language_info": {
   "codemirror_mode": {
    "name": "ipython",
    "version": 3
   },
   "file_extension": ".py",
   "mimetype": "text/x-python",
   "name": "python",
   "nbconvert_exporter": "python",
   "pygments_lexer": "ipython3",
   "version": "3.8.8"
  }
 },
 "nbformat": 4,
 "nbformat_minor": 5
}
