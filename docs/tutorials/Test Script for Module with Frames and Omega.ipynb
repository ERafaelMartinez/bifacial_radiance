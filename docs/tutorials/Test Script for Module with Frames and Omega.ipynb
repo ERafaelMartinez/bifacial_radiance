{
 "cells": [
  {
   "cell_type": "code",
   "execution_count": null,
   "id": "5ada0680",
   "metadata": {},
   "outputs": [],
   "source": [
    "# -*- coding: utf-8 -*-\n",
    "\"\"\"\n",
    "Created on Tue Jul  6 13:30:49 2021\n",
    "\n",
    "rvu -vp -7 0 3 -vd 1 0 0 Sim1.oct\n",
    "rvu -vp 0 -5 3 -vd 0 1 0 Sim1.oct\n",
    "\n",
    "@author: sayala\n",
    "\"\"\""
   ]
  },
  {
   "cell_type": "code",
   "execution_count": 1,
   "id": "7734388c",
   "metadata": {},
   "outputs": [
    {
     "name": "stdout",
     "output_type": "stream",
     "text": [
      "Your simulation will be stored in C:\\Users\\sarefeen\\Documents\\GitHub\\bifacial_radiance\\bifacial_radiance\\TEMP\\makeModTests\n"
     ]
    }
   ],
   "source": [
    "import bifacial_radiance\n",
    "import pytest\n",
    "\n",
    "import os\n",
    "from pathlib import Path\n",
    "\n",
    "testfolder = str(Path().resolve().parent.parent / 'bifacial_radiance' / 'TEMP' / 'makeModTests')\n",
    "\n",
    "if not os.path.exists(testfolder):\n",
    "    os.makedirs(testfolder)\n",
    "    \n",
    "print (\"Your simulation will be stored in %s\" % testfolder)\n"
   ]
  },
  {
   "cell_type": "code",
   "execution_count": 2,
   "id": "734b0174",
   "metadata": {},
   "outputs": [
    {
     "name": "stdout",
     "output_type": "stream",
     "text": [
      "path = C:\\Users\\sarefeen\\Documents\\GitHub\\bifacial_radiance\\bifacial_radiance\\TEMP\\makeModTests\n"
     ]
    }
   ],
   "source": [
    "demo = bifacial_radiance.RadianceObj('FrameOmegaTest', testfolder)"
   ]
  },
  {
   "cell_type": "code",
   "execution_count": 3,
   "id": "f1449bda",
   "metadata": {},
   "outputs": [],
   "source": [
    "#generating sky\n",
    "\n",
    "x = 2\n",
    "y = 1\n",
    "xgap = 0.02\n",
    "ygap = 0.15\n",
    "zgap = 0.10\n",
    "numpanels = 1\n",
    "offsetfromaxis = True\n",
    "Ny = numpanels  \n",
    "\n",
    "module_type = 'TEST'\n",
    "frameParams = {'frame_material' : 'Metal_Grey', \n",
    "               'frame_thickness' : 0.003,\n",
    "               'frame_z' : 0.03,\n",
    "               'nSides_frame' : 4,\n",
    "               'frame_width' : 0.05}\n",
    "\n",
    "\n",
    "omegaParams = {'omega_material': 'litesoil',\n",
    "                'x_omega1' : 0.10,\n",
    "                'mod_overlap' : 0.5,\n",
    "                'y_omega' : 1.5,\n",
    "                'x_omega3' : 0.05,\n",
    "                'omega_thickness' : 0.01,\n",
    "                'inverted' : False}\n",
    "\n",
    "nMods = 1\n",
    "nRows = 1\n",
    "sceneDict = {'tilt':0, 'pitch':3, 'clearance_height':3,'azimuth':90, 'nMods': nMods, 'nRows': nRows} "
   ]
  },
  {
   "cell_type": "code",
   "execution_count": 4,
   "id": "da96a5e2",
   "metadata": {},
   "outputs": [
    {
     "name": "stdout",
     "output_type": "stream",
     "text": [
      "Loading albedo, 1 value(s), 0.200 avg\n",
      "1 nonzero albedo values.\n",
      "Getting weather file: USA_VA_Richmond.Intl.AP.724010_TMY.epw\n",
      " ... OK!\n",
      "start: 2021-01-01 01:00:00\n",
      "end: 2021-12-31 23:00:00\n",
      "Saving file EPWs\\epw_temp.csv, # points: 8760\n",
      "Calculating Sun position for Metdata that is right-labeled  with a delta of -30 mins. i.e. 12 is 11:30 sunpos\n"
     ]
    },
    {
     "name": "stderr",
     "output_type": "stream",
     "text": [
      "C:\\Users\\sarefeen\\Anaconda3\\lib\\site-packages\\pvlib\\solarposition.py:448: FutureWarning: casting datetime64[ns, UTC] values to int64 with .astype(...) is deprecated and will raise in a future version. Use .view(...) instead.\n",
      "  unixtime = np.array(utcday.astype(np.int64)/10**9)\n",
      "C:\\Users\\sarefeen\\Anaconda3\\lib\\site-packages\\pvlib\\solarposition.py:368: FutureWarning: casting datetime64[ns, pytz.FixedOffset(-300)] values to int64 with .astype(...) is deprecated and will raise in a future version. Use .view(...) instead.\n",
      "  unixtime = np.array(time.astype(np.int64)/10**9)\n"
     ]
    },
    {
     "data": {
      "text/plain": [
       "'skies\\\\sky2_37.5_-77.33_2021_06_17_13_00.rad'"
      ]
     },
     "execution_count": 4,
     "metadata": {},
     "output_type": "execute_result"
    }
   ],
   "source": [
    "demo.setGround(0.2)\n",
    "epwfile = demo.getEPW(lat = 37.5, lon = -77.6)\n",
    "metdata = demo.readWeatherFile(epwfile, coerce_year = 2021)\n",
    "demo.gendaylit(4020)"
   ]
  },
  {
   "cell_type": "code",
   "execution_count": 5,
   "id": "1c0d10b0",
   "metadata": {},
   "outputs": [],
   "source": [
    "loopaxisofRotation = [True, True, True, True, True, True, True, True]\n",
    "loopTorquetube = [True, True, True, True, False, False, False, False ]\n",
    "loopOmega = [omegaParams, omegaParams, None, None, omegaParams, omegaParams, None, None]\n",
    "loopFrame = [frameParams, None, frameParams, None, frameParams,  None, frameParams, None]\n",
    "expectedModuleZ = [3.179, 3.149, 3.179, 3.149, 3.129, 3.099, 3.129, 3.099]"
   ]
  },
  {
   "cell_type": "code",
   "execution_count": 7,
   "id": "efe9d80b",
   "metadata": {},
   "outputs": [
    {
     "name": "stdout",
     "output_type": "stream",
     "text": [
      "\n",
      "Module Name: TEST\n",
      "Pre-existing .rad file objects\\TEST.rad will be overwritten\n",
      "Postion 1 Offsetfromaxis: 0.18\n",
      "NEW CHANGE HERE!!!!\n",
      "Module TEST updated in module.json\n",
      "Created FrameOmegaTest.oct\n",
      "\n",
      "Module Name: TEST\n",
      "Pre-existing .rad file objects\\TEST.rad will be overwritten\n",
      "Postion 1 Offsetfromaxis: 0.18\n",
      "NEW CHANGE HERE!!!!\n",
      "Module TEST updated in module.json\n",
      "Created FrameOmegaTest.oct\n",
      "\n",
      "Module Name: TEST\n",
      "Pre-existing .rad file objects\\TEST.rad will be overwritten\n",
      "Postion 1 Offsetfromaxis: 0.18\n",
      "NEW CHANGE HERE!!!!\n",
      "Module TEST updated in module.json\n",
      "Created FrameOmegaTest.oct\n",
      "\n",
      "Module Name: TEST\n",
      "Pre-existing .rad file objects\\TEST.rad will be overwritten\n",
      "Postion 1 Offsetfromaxis: 0.18\n",
      "NEW CHANGE HERE!!!!\n",
      "Module TEST updated in module.json\n",
      "Created FrameOmegaTest.oct\n",
      "\n",
      "Module Name: TEST\n",
      "Pre-existing .rad file objects\\TEST.rad will be overwritten\n",
      "Postion 1 Offsetfromaxis: 0.13\n",
      "NEW CHANGE HERE!!!!\n",
      "Module TEST updated in module.json\n",
      "Created FrameOmegaTest.oct\n",
      "\n",
      "Module Name: TEST\n",
      "Pre-existing .rad file objects\\TEST.rad will be overwritten\n",
      "Postion 1 Offsetfromaxis: 0.13\n",
      "NEW CHANGE HERE!!!!\n",
      "Module TEST updated in module.json\n",
      "Created FrameOmegaTest.oct\n",
      "\n",
      "Module Name: TEST\n",
      "Pre-existing .rad file objects\\TEST.rad will be overwritten\n",
      "Postion 1 Offsetfromaxis: 0.13\n",
      "NEW CHANGE HERE!!!!\n",
      "Module TEST updated in module.json\n",
      "Created FrameOmegaTest.oct\n",
      "\n",
      "Module Name: TEST\n",
      "Pre-existing .rad file objects\\TEST.rad will be overwritten\n",
      "Postion 1 Offsetfromaxis: 0.13\n",
      "NEW CHANGE HERE!!!!\n",
      "Module TEST updated in module.json\n",
      "Created FrameOmegaTest.oct\n"
     ]
    }
   ],
   "source": [
    "assertionResults = []\n",
    "for ii in range (0, len(loopOmega)):\n",
    "    omegaParamsint = loopOmega[ii]\n",
    "    frameParamsint = loopFrame[ii]\n",
    "    axisofrotationTorqueTube = loopaxisofRotation[ii]\n",
    "    torquetube = loopTorquetube[ii]\n",
    "    \n",
    "    diam = 0.1\n",
    "    if torquetube is False:\n",
    "        diam = 0.0\n",
    "        \n",
    "    demo.makeModule(name=module_type,x=x, y=y, torquetube = True, \n",
    "                    diameter = diam, xgap = xgap, ygap = ygap, zgap = zgap, \n",
    "                    numpanels = Ny, frameParams=frameParams, omegaParams=omegaParams,\n",
    "                    axisofrotationTorqueTube=axisofrotationTorqueTube)\n",
    "    \n",
    "    scene = demo.makeScene(module_type,sceneDict)\n",
    "    octfile = demo.makeOct()\n",
    "    analysis = bifacial_radiance.AnalysisObj()  # return an analysis object including the scan dimensions for back irradiance\n",
    "    frontscan, backscan = analysis.moduleAnalysis(scene, sensorsy=1) # Gives us the dictionaries with coordinates\n",
    "    assertionResults.append(backscan['zstart'])\n",
    "    # assert backscan['zstart'] == expectedModuleZ[ii]\n",
    "    \n",
    "#assert assertionResults == expectedModuleZ"
   ]
  },
  {
   "cell_type": "code",
   "execution_count": 8,
   "id": "1237acf7",
   "metadata": {},
   "outputs": [
    {
     "data": {
      "text/plain": [
       "False"
      ]
     },
     "execution_count": 8,
     "metadata": {},
     "output_type": "execute_result"
    }
   ],
   "source": [
    "assertionResults == expectedModuleZ"
   ]
  },
  {
   "cell_type": "code",
   "execution_count": 9,
   "id": "125119e8",
   "metadata": {},
   "outputs": [
    {
     "name": "stdout",
     "output_type": "stream",
     "text": [
      "Omega = True, Frame = False, Axis of Rotation = True, Torquetube = True, Off by = 0.029999999999999805\n",
      "Omega = False, Frame = False, Axis of Rotation = True, Torquetube = True, Off by = 0.029999999999999805\n",
      "Omega = True, Frame = False, Axis of Rotation = True, Torquetube = False, Off by = 0.029999999999999805\n",
      "Omega = False, Frame = False, Axis of Rotation = True, Torquetube = False, Off by = 0.029999999999999805\n"
     ]
    }
   ],
   "source": [
    "for i in range(len(assertionResults)):\n",
    "    if assertionResults[i] != expectedModuleZ[i]:\n",
    "        print('Omega =',loopOmega[i] is not None, end = ', ')\n",
    "        print('Frame =',loopFrame[i] is not None, end = ', ')\n",
    "        print('Axis of Rotation =',loopaxisofRotation[i], end = ', ')\n",
    "        print('Torquetube =',loopTorquetube[i], end = ', ')\n",
    "        print('Off by =',assertionResults[i] - expectedModuleZ[i], end = '\\n')\n",
    "    "
   ]
  },
  {
   "cell_type": "code",
   "execution_count": null,
   "id": "2e180fa2",
   "metadata": {},
   "outputs": [],
   "source": []
  }
 ],
 "metadata": {
  "kernelspec": {
   "display_name": "Python 3",
   "language": "python",
   "name": "python3"
  },
  "language_info": {
   "codemirror_mode": {
    "name": "ipython",
    "version": 3
   },
   "file_extension": ".py",
   "mimetype": "text/x-python",
   "name": "python",
   "nbconvert_exporter": "python",
   "pygments_lexer": "ipython3",
   "version": "3.8.8"
  }
 },
 "nbformat": 4,
 "nbformat_minor": 5
}
