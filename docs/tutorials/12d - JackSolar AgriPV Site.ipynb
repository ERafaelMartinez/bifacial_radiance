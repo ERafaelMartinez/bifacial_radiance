{
 "cells": [
  {
   "cell_type": "markdown",
   "id": "4997ec7a",
   "metadata": {},
   "source": [
    "## 12d - JackSolar AgriPV Site"
   ]
  },
  {
   "cell_type": "markdown",
   "id": "393445a3",
   "metadata": {},
   "source": [
    "May September (idx 2881 : 6552)\n",
    "\n",
    "Configuration A:\n",
    "<li>Under 6 ft panels : 1.8288m\n",
    "<li>Hub height: 6 ft   : 1.8288m  \n",
    "\n",
    "    \n",
    "Configuration B:\n",
    "<li>8 ft panels : 2.4384m\n",
    "<li>Hub height 8 ft : 2.4384m\n",
    "\n",
    "Module x = 3 ft\n",
    "    \n",
    "Row-to-row spacing: 17 ft --> 5.1816\n",
    "\n",
    "torquetube: square, diam 15 cm, zgap = 0\n",
    "modules on portrait\n",
    "albedo = green grass\n",
    " \n",
    "COMPARE TO:\n",
    "Open air (no panels)\n"
   ]
  },
  {
   "cell_type": "markdown",
   "id": "e588c612",
   "metadata": {},
   "source": [
    "** Two Methods: **\n",
    "    - Hourly with Fixed tilt, getTrackerAngle to update tilt of tracker\n",
    "    - Hourly with gendaylit1axis\n",
    "    - Cumulatively with gencumsky1axis\n"
   ]
  },
  {
   "cell_type": "markdown",
   "id": "2b900d27",
   "metadata": {},
   "source": [
    "## 1. Load Bifacial Radiance and other essential packages"
   ]
  },
  {
   "cell_type": "code",
   "execution_count": 2,
   "id": "c3575599",
   "metadata": {},
   "outputs": [],
   "source": [
    "import bifacial_radiance\n",
    "import numpy as np\n",
    "import os # this operative system to do the relative-path testfolder for this example.\n",
    "import pprint    # We will be pretty-printing the trackerdictionary throughout to show its structure.\n",
    "from pathlib import Path"
   ]
  },
  {
   "cell_type": "markdown",
   "id": "149f51b2",
   "metadata": {},
   "source": [
    "## 2. Define all the system variables"
   ]
  },
  {
   "cell_type": "code",
   "execution_count": 3,
   "id": "b6f8ac23",
   "metadata": {},
   "outputs": [],
   "source": [
    "testfolder = str(Path().resolve().parent.parent / 'bifacial_radiance' / 'TEMP')\n",
    "\n",
    "timestamp = 4020 # Noon, June 17th.\n",
    "simulationName = 'AgriPV_JS'    # Optionally adding a simulation name when defning RadianceObj\n",
    "\n",
    "#Location\n",
    "lat = 40.1217  # Given for the project site at Colorado\n",
    "lon = -105.1310  # Given for the project site at Colorado\n",
    "\n",
    "# MakeModule Parameters\n",
    "moduletype='PrismSolar'\n",
    "numpanels = 1  # This site have 1 module in Y-direction\n",
    "x = 1  \n",
    "y = 2\n",
    "#xgap = 0.15 # Leaving 15 centimeters between modules on x direction\n",
    "#ygap = 0.10 # Leaving 10 centimeters between modules on y direction\n",
    "zgap = 0 # no gap to torquetube.\n",
    "sensorsy = 6  # this will give 6 sensors per module in y-direction\n",
    "sensorsx = 3   # this will give 3 sensors per module in x-direction\n",
    "\n",
    "torquetube = True\n",
    "axisofrotationTorqueTube = True \n",
    "diameter = 0.15  # 15 cm diameter for the torquetube\n",
    "tubetype = 'square'    # Put the right keyword upon reading the document\n",
    "material = 'black'   # Torque tube of this material (0% reflectivity)\n",
    "\n",
    "# Scene variables\n",
    "nMods = 20\n",
    "nRows = 7\n",
    "hub_height = 1.8 # meters\n",
    "pitch = 5.1816 # meters      # Pitch is the known parameter \n",
    "albedo = 0.2  #'Grass'     # ground albedo\n",
    "gcr = y/pitch\n",
    "\n",
    "\n",
    "cumulativesky = False\n",
    "limit_angle = 60 # tracker rotation limit angle\n",
    "angledelta = 0.01 # we will be doing hourly simulation, we want the angle to be as close to real tracking as possible.\n",
    "backtrack = True "
   ]
  },
  {
   "cell_type": "code",
   "execution_count": 10,
   "id": "95bd8cae",
   "metadata": {},
   "outputs": [],
   "source": [
    "test_folder_fmt = 'Hour_{}' \n",
    "epwfile = r'C:\\Users\\sayala\\Documents\\GitHub\\bifacial_radiance\\bifacial_radiance\\TEMP\\EPWs\\USA_CO_Boulder-Broomfield-Jefferson.County.AP.724699_TMY3.epw'"
   ]
  },
  {
   "cell_type": "markdown",
   "id": "c15854db",
   "metadata": {},
   "source": [
    "# For making a pretty Image"
   ]
  },
  {
   "cell_type": "code",
   "execution_count": null,
   "id": "9b8ec54c",
   "metadata": {},
   "outputs": [],
   "source": [
    "#for idx in range(270, 283):\n",
    "for idx in range(272, 273):\n",
    "\n",
    "    test_folderinner = os.path.join(testfolder, test_folder_fmt.format(f'{idx:04}'))\n",
    "    if not os.path.exists(test_folderinner):\n",
    "        os.makedirs(test_folderinner)\n",
    "\n",
    "    rad_obj = bifacial_radiance.RadianceObj(simulationName,path = test_folderinner)  # Create a RadianceObj 'object'\n",
    "    rad_obj.setGround(albedo) \n",
    "    metdata = rad_obj.readWeatherFile(epwfile, label='center', coerce_year=2021)\n",
    "    solpos = rad_obj.metdata.solpos.iloc[idx]\n",
    "    zen = float(solpos.zenith)\n",
    "    azm = float(solpos.azimuth) - 180\n",
    "    dni = rad_obj.metdata.dni[idx]\n",
    "    dhi = rad_obj.metdata.dhi[idx]\n",
    "    rad_obj.gendaylit(idx)\n",
    "  # rad_obj.gendaylit2manual(dni, dhi, 90 - zen, azm)\n",
    "    #print(rad_obj.metdata.datetime[idx])\n",
    "    tilt = round(rad_obj.getSingleTimestampTrackerAngle(rad_obj.metdata, idx, gcr, limit_angle=65),1)\n",
    "    sceneDict = {'pitch': pitch, 'tilt': tilt, 'azimuth': 90, 'hub_height':hub_height, 'nMods':nMods, 'nRows': nRows}  \n",
    "    scene = rad_obj.makeScene(moduletype=moduletype,sceneDict=sceneDict)\n",
    "    octfile = rad_obj.makeOct()  "
   ]
  },
  {
   "cell_type": "markdown",
   "id": "c9ea4ec1",
   "metadata": {},
   "source": [
    "\n",
    "rvu -vf views\\front.vp -e .0265652 -vp 2 -21 2.5 -vd 0 1 0 AgriPV_JS.oct\n",
    "\n",
    "\n",
    "cd C:\\Users\\sayala\\Documents\\GitHub\\bifacial_radiance\\bifacial_radiance\\TEMP"
   ]
  },
  {
   "cell_type": "markdown",
   "id": "d47847e9",
   "metadata": {},
   "source": [
    "# GHI Calculations from EPW"
   ]
  },
  {
   "cell_type": "code",
   "execution_count": 29,
   "id": "fe74ab01",
   "metadata": {},
   "outputs": [
    {
     "name": "stdout",
     "output_type": "stream",
     "text": [
      " GHI Boulder Monthly May to September Wh/m2: [197035, 206508, 201174, 177165, 146539]\n"
     ]
    }
   ],
   "source": [
    "# BOULDER\n",
    "\n",
    "starts = [2881, 3626, 4346, 5090, 5835]\n",
    "ends = [3621, 4341, 5085, 5829, 6550]\n",
    "\n",
    "ghi_Boulder = []\n",
    "for ii in range(0, len(starts)):\n",
    "    start = starts[ii]\n",
    "    end = ends[ii]\n",
    "    ghi_Boulder.append(metdata.ghi[start:end].sum())\n",
    "print(\" GHI Boulder Monthly May to September Wh/m2:\", ghi_Boulder)\n"
   ]
  },
  {
   "cell_type": "code",
   "execution_count": null,
   "id": "6c65e572",
   "metadata": {},
   "outputs": [],
   "source": []
  },
  {
   "cell_type": "markdown",
   "id": "e8347875",
   "metadata": {},
   "source": [
    "# GHI Calculations with bifacial_radiance raytrace\n",
    "\n",
    "# Warning: Not working currently becuase Gencumsky/readweatherfile not restricting, so all results equal the YEAR Total"
   ]
  },
  {
   "cell_type": "code",
   "execution_count": 6,
   "id": "3a772cd4",
   "metadata": {},
   "outputs": [],
   "source": [
    "import datetime\n",
    "import pandas as pd"
   ]
  },
  {
   "cell_type": "code",
   "execution_count": 25,
   "id": "f29d6419",
   "metadata": {},
   "outputs": [
    {
     "name": "stdout",
     "output_type": "stream",
     "text": [
      "path = C:\\Users\\sayala\\Documents\\GitHub\\bifacial_radiance\\bifacial_radiance\\TEMP\n",
      "Loading albedo, 1 value(s), 0.200 avg\n",
      "1 nonzero albedo values.\n",
      "start: 2021-01-01 01:00:00\n",
      "end: 2021-12-31 23:00:00\n",
      "Saving file EPWs\\epw_temp.csv, # points: 8760\n",
      "Calculating Sun position for center labeled data, at exact timestamp in input Weather File\n",
      "message: There were 4561 sun up hours in this climate file\n",
      "Total Ibh/Lbh: 0.000000\n",
      "Created EMPTYFIELD.oct\n",
      "Linescan in process: FIELDTotal_Front\n",
      "Linescan in process: FIELDTotal_Back\n",
      "Saved: results\\irr_FIELDTotal.csv\n",
      "YEAR TOTAL: 0    1615258.0\n",
      "Name: Wm2Front, dtype: float64\n"
     ]
    }
   ],
   "source": [
    "startdt = datetime.datetime(2021,5,1,1)\n",
    "enddt = datetime.datetime(2021,5,31,23)\n",
    "simulationName = 'EMPTYFIELD'\n",
    "rad_obj = bifacial_radiance.RadianceObj(simulationName, path=testfolder)  # Create a RadianceObj 'object'\n",
    "rad_obj.setGround(albedo) \n",
    "metdata = rad_obj.readWeatherFile(epwfile, label='center', coerce_year=2021)\n",
    "rad_obj.genCumSky()\n",
    "#print(rad_obj.metdata.datetime[idx])\n",
    "sceneDict = {'pitch': pitch, 'tilt': 0, 'azimuth': 90, 'hub_height':-0.2, 'nMods':1, 'nRows': 1}  \n",
    "scene = rad_obj.makeScene(moduletype=moduletype,sceneDict=sceneDict)\n",
    "octfile = rad_obj.makeOct()  \n",
    "analysis = bifacial_radiance.AnalysisObj()\n",
    "frontscan, backscan = analysis.moduleAnalysis(scene, sensorsy=1)\n",
    "frontscan['zstart'] = 0.5\n",
    "frontdict, backdict = analysis.analysis(octfile = octfile, name='FIELDTotal', frontscan=frontscan, backscan=backscan)\n",
    "resname = os.path.join(testfolder, 'results')\n",
    "resname = os.path.join(resname, 'irr_FIELDTotal.csv')\n",
    "data = pd.read_csv(resname)\n",
    "print(\"YEAR TOTAL:\", data['Wm2Front'])"
   ]
  },
  {
   "cell_type": "code",
   "execution_count": 18,
   "id": "db6fe1f4",
   "metadata": {},
   "outputs": [
    {
     "name": "stdout",
     "output_type": "stream",
     "text": [
      "path = C:\\Users\\sayala\\Documents\\GitHub\\bifacial_radiance\\bifacial_radiance\\TEMP\n",
      "Loading albedo, 1 value(s), 0.200 avg\n",
      "1 nonzero albedo values.\n",
      "start: 2021-01-01 01:00:00\n",
      "end: 2021-12-31 23:00:00\n",
      "Saving file EPWs\\epw_temp.csv, # points: 8760\n",
      "Calculating Sun position for center labeled data, at exact timestamp in input Weather File\n",
      "message: There were 4561 sun up hours in this climate file\n",
      "Total Ibh/Lbh: 0.000000\n",
      "Created EMPTYFIELD.oct\n",
      "Linescan in process: FIELDTotal_Front\n",
      "Linescan in process: FIELDTotal_Back\n",
      "Saved: results\\irr_FIELDTotal.csv\n",
      "FIELD TOTAL Season: 0    1626793.0\n",
      "Name: Wm2Front, dtype: float64\n"
     ]
    }
   ],
   "source": [
    "startdt = datetime.datetime(2021,5,1,1)\n",
    "enddt = datetime.datetime(2021,9,30,23)\n",
    "simulationName = 'EMPTYFIELD'\n",
    "rad_obj = bifacial_radiance.RadianceObj(simulationName, path=testfolder)  # Create a RadianceObj 'object'\n",
    "rad_obj.setGround(albedo) \n",
    "metdata = rad_obj.readWeatherFile(epwfile, label='center', coerce_year=2021)\n",
    "rad_obj.genCumSky(startdt=startdt, enddt=enddt)\n",
    "#print(rad_obj.metdata.datetime[idx])\n",
    "sceneDict = {'pitch': pitch, 'tilt': 0, 'azimuth': 90, 'hub_height':-0.2, 'nMods':1, 'nRows': 1}  \n",
    "scene = rad_obj.makeScene(moduletype=moduletype,sceneDict=sceneDict)\n",
    "octfile = rad_obj.makeOct()  \n",
    "analysis = bifacial_radiance.AnalysisObj()\n",
    "frontscan, backscan = analysis.moduleAnalysis(scene, sensorsy=1)\n",
    "frontscan['zstart'] = 0.5\n",
    "frontdict, backdict = analysis.analysis(octfile = octfile, name='FIELDTotal', frontscan=frontscan, backscan=backscan)\n",
    "resname = os.path.join(testfolder, 'results')\n",
    "resname = os.path.join(resname, 'irr_FIELDTotal.csv')\n",
    "data = pd.read_csv(resname)\n",
    "print(\"FIELD TOTAL Season:\", data['Wm2Front'])"
   ]
  },
  {
   "cell_type": "code",
   "execution_count": 19,
   "id": "a5a7e33b",
   "metadata": {},
   "outputs": [
    {
     "name": "stdout",
     "output_type": "stream",
     "text": [
      "path = C:\\Users\\sayala\\Documents\\GitHub\\bifacial_radiance\\bifacial_radiance\\TEMP\n",
      "Loading albedo, 1 value(s), 0.200 avg\n",
      "1 nonzero albedo values.\n",
      "start: 2021-01-01 01:00:00\n",
      "end: 2021-12-31 23:00:00\n",
      "Saving file EPWs\\epw_temp.csv, # points: 8760\n",
      "Calculating Sun position for center labeled data, at exact timestamp in input Weather File\n",
      "message: There were 4561 sun up hours in this climate file\n",
      "Total Ibh/Lbh: 0.000000\n",
      "Created EMPTYFIELD.oct\n",
      "Linescan in process: FIELDTotal_Front\n",
      "Linescan in process: FIELDTotal_Back\n",
      "Saved: results\\irr_FIELDTotal.csv\n",
      "MAY TOTAL Season: 0    1627991.0\n",
      "Name: Wm2Front, dtype: float64\n"
     ]
    }
   ],
   "source": [
    "startdt = datetime.datetime(2021,5,1,1)\n",
    "enddt = datetime.datetime(2021,5,31,23)\n",
    "simulationName = 'EMPTYFIELD'\n",
    "rad_obj = bifacial_radiance.RadianceObj(simulationName, path=testfolder)  # Create a RadianceObj 'object'\n",
    "rad_obj.setGround(albedo) \n",
    "metdata = rad_obj.readWeatherFile(epwfile, label='center', coerce_year=2021)\n",
    "rad_obj.genCumSky(startdt=startdt, enddt=enddt)\n",
    "#print(rad_obj.metdata.datetime[idx])\n",
    "sceneDict = {'pitch': pitch, 'tilt': 0, 'azimuth': 90, 'hub_height':-0.2, 'nMods':1, 'nRows': 1}  \n",
    "scene = rad_obj.makeScene(moduletype=moduletype,sceneDict=sceneDict)\n",
    "octfile = rad_obj.makeOct()  \n",
    "analysis = bifacial_radiance.AnalysisObj()\n",
    "frontscan, backscan = analysis.moduleAnalysis(scene, sensorsy=1)\n",
    "frontscan['zstart'] = 0.5\n",
    "frontdict, backdict = analysis.analysis(octfile = octfile, name='FIELDTotal', frontscan=frontscan, backscan=backscan)\n",
    "resname = os.path.join(testfolder, 'results')\n",
    "resname = os.path.join(resname, 'irr_FIELDTotal.csv')\n",
    "data = pd.read_csv(resname)\n",
    "print(\"MAY TOTAL Season:\", data['Wm2Front'])"
   ]
  },
  {
   "cell_type": "code",
   "execution_count": 22,
   "id": "ab0e930a",
   "metadata": {},
   "outputs": [
    {
     "name": "stdout",
     "output_type": "stream",
     "text": [
      "path = C:\\Users\\sayala\\Documents\\GitHub\\bifacial_radiance\\bifacial_radiance\\TEMP\n",
      "Loading albedo, 1 value(s), 0.200 avg\n",
      "1 nonzero albedo values.\n",
      "start: 2021-01-01 01:00:00\n",
      "end: 2021-12-31 23:00:00\n",
      "Saving file EPWs\\epw_temp.csv, # points: 8760\n",
      "Calculating Sun position for center labeled data, at exact timestamp in input Weather File\n",
      "message: There were 4561 sun up hours in this climate file\n",
      "Total Ibh/Lbh: 0.000000\n",
      "Created EMPTYFIELD.oct\n",
      "Linescan in process: FIELDTotal_Front\n",
      "Linescan in process: FIELDTotal_Back\n",
      "Saved: results\\irr_FIELDTotal.csv\n",
      "June TOTAL Season: 0    1630760.0\n",
      "Name: Wm2Front, dtype: float64\n"
     ]
    }
   ],
   "source": [
    "startdt = datetime.datetime(2021,6,1,1)\n",
    "enddt = datetime.datetime(2021,6,30,23)\n",
    "simulationName = 'EMPTYFIELD'\n",
    "rad_obj = bifacial_radiance.RadianceObj(simulationName, path=testfolder)  # Create a RadianceObj 'object'\n",
    "rad_obj.setGround(albedo) \n",
    "metdata = rad_obj.readWeatherFile(epwfile, label='center', coerce_year=2021)\n",
    "rad_obj.genCumSky(startdt=startdt, enddt=enddt)\n",
    "#print(rad_obj.metdata.datetime[idx])\n",
    "sceneDict = {'pitch': pitch, 'tilt': 0, 'azimuth': 90, 'hub_height':-0.2, 'nMods':1, 'nRows': 1}  \n",
    "scene = rad_obj.makeScene(moduletype=moduletype,sceneDict=sceneDict)\n",
    "octfile = rad_obj.makeOct()  \n",
    "analysis = bifacial_radiance.AnalysisObj()\n",
    "frontscan, backscan = analysis.moduleAnalysis(scene, sensorsy=1)\n",
    "frontscan['zstart'] = 0.5\n",
    "frontdict, backdict = analysis.analysis(octfile = octfile, name='FIELDTotal', frontscan=frontscan, backscan=backscan)\n",
    "resname = os.path.join(testfolder, 'results')\n",
    "resname = os.path.join(resname, 'irr_FIELDTotal.csv')\n",
    "data = pd.read_csv(resname)\n",
    "print(\"June TOTAL Season:\", data['Wm2Front'])"
   ]
  },
  {
   "cell_type": "code",
   "execution_count": 21,
   "id": "08dc53a7",
   "metadata": {},
   "outputs": [
    {
     "name": "stdout",
     "output_type": "stream",
     "text": [
      "path = C:\\Users\\sayala\\Documents\\GitHub\\bifacial_radiance\\bifacial_radiance\\TEMP\n",
      "Loading albedo, 1 value(s), 0.200 avg\n",
      "1 nonzero albedo values.\n",
      "start: 2021-01-01 01:00:00\n",
      "end: 2021-12-31 23:00:00\n",
      "Saving file EPWs\\epw_temp.csv, # points: 8760\n",
      "Calculating Sun position for center labeled data, at exact timestamp in input Weather File\n",
      "message: There were 4561 sun up hours in this climate file\n",
      "Total Ibh/Lbh: 0.000000\n",
      "Created EMPTYFIELD.oct\n",
      "Linescan in process: FIELDTotal_Front\n",
      "Linescan in process: FIELDTotal_Back\n",
      "Saved: results\\irr_FIELDTotal.csv\n",
      "July TOTAL Season: 0    1650217.0\n",
      "Name: Wm2Front, dtype: float64\n"
     ]
    }
   ],
   "source": [
    "startdt = datetime.datetime(2021,7,1,1)\n",
    "enddt = datetime.datetime(2021,7,31,23)\n",
    "simulationName = 'EMPTYFIELD'\n",
    "rad_obj = bifacial_radiance.RadianceObj(simulationName, path=testfolder)  # Create a RadianceObj 'object'\n",
    "rad_obj.setGround(albedo) \n",
    "metdata = rad_obj.readWeatherFile(epwfile, label='center', coerce_year=2021)\n",
    "rad_obj.genCumSky(startdt=startdt, enddt=enddt)\n",
    "#print(rad_obj.metdata.datetime[idx])\n",
    "sceneDict = {'pitch': pitch, 'tilt': 0, 'azimuth': 90, 'hub_height':-0.2, 'nMods':1, 'nRows': 1}  \n",
    "scene = rad_obj.makeScene(moduletype=moduletype,sceneDict=sceneDict)\n",
    "octfile = rad_obj.makeOct()  \n",
    "analysis = bifacial_radiance.AnalysisObj()\n",
    "frontscan, backscan = analysis.moduleAnalysis(scene, sensorsy=1)\n",
    "frontscan['zstart'] = 0.5\n",
    "frontdict, backdict = analysis.analysis(octfile = octfile, name='FIELDTotal', frontscan=frontscan, backscan=backscan)\n",
    "resname = os.path.join(testfolder, 'results')\n",
    "resname = os.path.join(resname, 'irr_FIELDTotal.csv')\n",
    "data = pd.read_csv(resname)\n",
    "print(\"July TOTAL Season:\", data['Wm2Front'])"
   ]
  },
  {
   "cell_type": "code",
   "execution_count": 23,
   "id": "1e0200c7",
   "metadata": {},
   "outputs": [
    {
     "name": "stdout",
     "output_type": "stream",
     "text": [
      "path = C:\\Users\\sayala\\Documents\\GitHub\\bifacial_radiance\\bifacial_radiance\\TEMP\n",
      "Loading albedo, 1 value(s), 0.200 avg\n",
      "1 nonzero albedo values.\n",
      "start: 2021-01-01 01:00:00\n",
      "end: 2021-12-31 23:00:00\n",
      "Saving file EPWs\\epw_temp.csv, # points: 8760\n",
      "Calculating Sun position for center labeled data, at exact timestamp in input Weather File\n",
      "message: There were 4561 sun up hours in this climate file\n",
      "Total Ibh/Lbh: 0.000000\n",
      "Created EMPTYFIELD.oct\n",
      "Linescan in process: FIELDTotal_Front\n",
      "Linescan in process: FIELDTotal_Back\n",
      "Saved: results\\irr_FIELDTotal.csv\n",
      "August TOTAL Season: 0    1637887.0\n",
      "Name: Wm2Front, dtype: float64\n"
     ]
    }
   ],
   "source": [
    "startdt = datetime.datetime(2021,8,1,1)\n",
    "enddt = datetime.datetime(2021,8,31,23)\n",
    "simulationName = 'EMPTYFIELD'\n",
    "rad_obj = bifacial_radiance.RadianceObj(simulationName, path=testfolder)  # Create a RadianceObj 'object'\n",
    "rad_obj.setGround(albedo) \n",
    "metdata = rad_obj.readWeatherFile(epwfile, label='center', coerce_year=2021)\n",
    "rad_obj.genCumSky(startdt=startdt, enddt=enddt)\n",
    "#print(rad_obj.metdata.datetime[idx])\n",
    "sceneDict = {'pitch': pitch, 'tilt': 0, 'azimuth': 90, 'hub_height':-0.2, 'nMods':1, 'nRows': 1}  \n",
    "scene = rad_obj.makeScene(moduletype=moduletype,sceneDict=sceneDict)\n",
    "octfile = rad_obj.makeOct()  \n",
    "analysis = bifacial_radiance.AnalysisObj()\n",
    "frontscan, backscan = analysis.moduleAnalysis(scene, sensorsy=1)\n",
    "frontscan['zstart'] = 0.5\n",
    "frontdict, backdict = analysis.analysis(octfile = octfile, name='FIELDTotal', frontscan=frontscan, backscan=backscan)\n",
    "resname = os.path.join(testfolder, 'results')\n",
    "resname = os.path.join(resname, 'irr_FIELDTotal.csv')\n",
    "data = pd.read_csv(resname)\n",
    "print(\"August TOTAL Season:\", data['Wm2Front'])"
   ]
  },
  {
   "cell_type": "code",
   "execution_count": 24,
   "id": "f44114df",
   "metadata": {},
   "outputs": [
    {
     "name": "stdout",
     "output_type": "stream",
     "text": [
      "path = C:\\Users\\sayala\\Documents\\GitHub\\bifacial_radiance\\bifacial_radiance\\TEMP\n",
      "Loading albedo, 1 value(s), 0.200 avg\n",
      "1 nonzero albedo values.\n",
      "start: 2021-01-01 01:00:00\n",
      "end: 2021-12-31 23:00:00\n",
      "Saving file EPWs\\epw_temp.csv, # points: 8760\n",
      "Calculating Sun position for center labeled data, at exact timestamp in input Weather File\n",
      "message: There were 4561 sun up hours in this climate file\n",
      "Total Ibh/Lbh: 0.000000\n",
      "Created EMPTYFIELD.oct\n",
      "Linescan in process: FIELDTotal_Front\n",
      "Linescan in process: FIELDTotal_Back\n",
      "Saved: results\\irr_FIELDTotal.csv\n",
      "SEPTEMBER TOTAL Season: 0    1621738.0\n",
      "Name: Wm2Front, dtype: float64\n"
     ]
    }
   ],
   "source": [
    "startdt = datetime.datetime(2021,9,1,1)\n",
    "enddt = datetime.datetime(2021,9,30,23)\n",
    "simulationName = 'EMPTYFIELD'\n",
    "rad_obj = bifacial_radiance.RadianceObj(simulationName, path=testfolder)  # Create a RadianceObj 'object'\n",
    "rad_obj.setGround(albedo) \n",
    "metdata = rad_obj.readWeatherFile(epwfile, label='center', coerce_year=2021)\n",
    "rad_obj.genCumSky(startdt=startdt, enddt=enddt)\n",
    "#print(rad_obj.metdata.datetime[idx])\n",
    "sceneDict = {'pitch': pitch, 'tilt': 0, 'azimuth': 90, 'hub_height':-0.2, 'nMods':1, 'nRows': 1}  \n",
    "scene = rad_obj.makeScene(moduletype=moduletype,sceneDict=sceneDict)\n",
    "octfile = rad_obj.makeOct()  \n",
    "analysis = bifacial_radiance.AnalysisObj()\n",
    "frontscan, backscan = analysis.moduleAnalysis(scene, sensorsy=1)\n",
    "frontscan['zstart'] = 0.5\n",
    "frontdict, backdict = analysis.analysis(octfile = octfile, name='FIELDTotal', frontscan=frontscan, backscan=backscan)\n",
    "resname = os.path.join(testfolder, 'results')\n",
    "resname = os.path.join(resname, 'irr_FIELDTotal.csv')\n",
    "data = pd.read_csv(resname)\n",
    "print(\"SEPTEMBER TOTAL Season:\", data['Wm2Front'])"
   ]
  },
  {
   "cell_type": "code",
   "execution_count": null,
   "id": "a76a850b",
   "metadata": {},
   "outputs": [],
   "source": []
  },
  {
   "cell_type": "markdown",
   "id": "4ced3fa9",
   "metadata": {},
   "source": [
    "## COMPILE PUERTO RICO RESULTS"
   ]
  },
  {
   "cell_type": "code",
   "execution_count": 69,
   "id": "e75e49e4",
   "metadata": {},
   "outputs": [
    {
     "name": "stdout",
     "output_type": "stream",
     "text": [
      "start: 1991-01-01 01:00:00\n",
      "end: 1994-12-31 23:00:00\n",
      "Saving file EPWs\\epw_temp.csv, # points: 8760\n",
      "Calculating Sun position for Metdata that is right-labeled  with a delta of -30 mins. i.e. 12 is 11:30 sunpos\n"
     ]
    }
   ],
   "source": [
    "# PUERTO RICO\n",
    "epwfile2 = r'C:\\Users\\sayala\\Documents\\GitHub\\bifacial_radiance\\bifacial_radiance\\TEMP\\PuertoRico\\EPWs\\PRI_Mercedita.AP.785203_TMY3.epw'\n",
    "metdata = rad_obj.readWeatherFile(epwfile2)\n",
    "\n",
    "ghi_PR=[]\n",
    "for ii in range(0, len(starts)):\n",
    "    start = starts[ii]\n",
    "    end = ends[ii]\n",
    "    ghi_PR.append(metdata.ghi[start:end].sum())\n",
    "ghi_PR    \n",
    "\n",
    "puerto_Rico = [179206, 188133, 193847, 191882, 162560]  # Wh/m2\n",
    "puerto_Rico_YEAR = metdata.ghi.sum()  # Wh/m2"
   ]
  },
  {
   "cell_type": "code",
   "execution_count": null,
   "id": "b1ac595e",
   "metadata": {},
   "outputs": [],
   "source": []
  },
  {
   "cell_type": "code",
   "execution_count": 51,
   "id": "acc47810",
   "metadata": {},
   "outputs": [],
   "source": [
    "testfolder = r'C:\\Users\\sayala\\Documents\\GitHub\\bifacial_radiance\\bifacial_radiance\\TEMP\\PuertoRico\\results'\n",
    "lat = lat = 18.202142\n",
    "ft2m = 0.3048\n",
    "y = 1\n",
    "\n",
    "# Loops\n",
    "clearance_heights = np.array([6.0, 8.0, 10.0])* ft2m\n",
    "xgaps = np.array([2, 3, 4]) * ft2m\n",
    "Ds = np.array([2, 3, 4]) * ft2m    # D is a variable that represents the spacing between rows, not-considering the collector areas.\n",
    "tilts = [round(lat), 10]\n"
   ]
  },
  {
   "cell_type": "code",
   "execution_count": null,
   "id": "29f2b1ab",
   "metadata": {},
   "outputs": [],
   "source": []
  },
  {
   "cell_type": "code",
   "execution_count": 62,
   "id": "cea0f0c2",
   "metadata": {},
   "outputs": [],
   "source": [
    "# irr_Coffee_ch_1.8_xgap_0.6_tilt_18_pitch_1.6_Front&Back.csv\n",
    "\n",
    "ch_all = []\n",
    "xgap_all = []\n",
    "tilt_all = []\n",
    "pitch_all = []\n",
    "FrontIrrad = []\n",
    "RearIrrad = []\n",
    "GroundIrrad = []\n",
    "\n",
    "for ch in range (0, len(clearance_heights)):\n",
    "    \n",
    "    clearance_height = clearance_heights[ch]\n",
    "    for xx in range (0, len(xgaps)):\n",
    "        \n",
    "        xgap = xgaps[xx]\n",
    "\n",
    "        for tt in range (0, len(tilts)):\n",
    "        \n",
    "            tilt = tilts[tt]\n",
    "            for dd in range (0, len(Ds)):\n",
    "                pitch = y * np.cos(np.radians(tilt))+Ds[dd]\n",
    "\n",
    "\n",
    "                sim_name = ('irr_Coffee'+'_ch_'+str(round(clearance_height,1))+\n",
    "                                '_xgap_'+str(round(xgap,1))+\\\n",
    "                                '_tilt_'+str(round(tilt,1))+\n",
    "                                '_pitch_'+str(round(pitch,1))+'_Front&Back.csv')\n",
    "\n",
    "                sim_name2 = ('irr_Coffee'+'_ch_'+str(round(clearance_height,1))+\n",
    "                                '_xgap_'+str(round(xgap,1))+\\\n",
    "                                '_tilt_'+str(round(tilt,1))+\n",
    "                                '_pitch_'+str(round(pitch,1))+'_Ground&Back.csv')\n",
    "\n",
    "                ch_all.append(clearance_height)\n",
    "                xgap_all.append(xgap)\n",
    "                tilt_all.append(tilt)\n",
    "                pitch_all.append(pitch)\n",
    "                data = pd.read_csv(os.path.join(testfolder, sim_name))\n",
    "                FrontIrrad.append(data['Wm2Front'].item())\n",
    "                RearIrrad.append(data['Wm2Back'].item())\n",
    "                data = pd.read_csv(os.path.join(testfolder, sim_name2))\n",
    "                GroundIrrad.append(data['Wm2Front'].item())\n"
   ]
  },
  {
   "cell_type": "code",
   "execution_count": 64,
   "id": "c12a8110",
   "metadata": {},
   "outputs": [],
   "source": [
    "ch_all = pd.Series(ch_all, name='clearance_height')\n",
    "xgap_all = pd.Series(xgap_all, name='xgap')\n",
    "tilt_all = pd.Series(tilt_all, name='tilt')\n",
    "pitch_all = pd.Series(pitch_all, name='pitch')\n",
    "FrontIrrad = pd.Series(FrontIrrad, name='FrontIrrad')\n",
    "RearIrrad = pd.Series(RearIrrad, name='RearIrrad')\n",
    "GroundIrrad = pd.Series(GroundIrrad, name='GroundIrrad')\n",
    "\n"
   ]
  },
  {
   "cell_type": "code",
   "execution_count": 77,
   "id": "6185360c",
   "metadata": {},
   "outputs": [
    {
     "data": {
      "text/html": [
       "<div>\n",
       "<style scoped>\n",
       "    .dataframe tbody tr th:only-of-type {\n",
       "        vertical-align: middle;\n",
       "    }\n",
       "\n",
       "    .dataframe tbody tr th {\n",
       "        vertical-align: top;\n",
       "    }\n",
       "\n",
       "    .dataframe thead th {\n",
       "        text-align: right;\n",
       "    }\n",
       "</style>\n",
       "<table border=\"1\" class=\"dataframe\">\n",
       "  <thead>\n",
       "    <tr style=\"text-align: right;\">\n",
       "      <th></th>\n",
       "      <th>clearance_height</th>\n",
       "      <th>xgap</th>\n",
       "      <th>tilt</th>\n",
       "      <th>pitch</th>\n",
       "      <th>FrontIrrad</th>\n",
       "      <th>RearIrrad</th>\n",
       "      <th>GroundIrrad</th>\n",
       "    </tr>\n",
       "  </thead>\n",
       "  <tbody>\n",
       "    <tr>\n",
       "      <th>0</th>\n",
       "      <td>1.8288</td>\n",
       "      <td>0.6096</td>\n",
       "      <td>18</td>\n",
       "      <td>1.560657</td>\n",
       "      <td>2000070.0</td>\n",
       "      <td>267628.8</td>\n",
       "      <td>1118029.0</td>\n",
       "    </tr>\n",
       "    <tr>\n",
       "      <th>1</th>\n",
       "      <td>1.8288</td>\n",
       "      <td>0.6096</td>\n",
       "      <td>18</td>\n",
       "      <td>1.865457</td>\n",
       "      <td>2009647.0</td>\n",
       "      <td>300637.0</td>\n",
       "      <td>1281753.0</td>\n",
       "    </tr>\n",
       "    <tr>\n",
       "      <th>2</th>\n",
       "      <td>1.8288</td>\n",
       "      <td>0.6096</td>\n",
       "      <td>18</td>\n",
       "      <td>2.170257</td>\n",
       "      <td>2012604.0</td>\n",
       "      <td>325479.9</td>\n",
       "      <td>1368239.0</td>\n",
       "    </tr>\n",
       "    <tr>\n",
       "      <th>3</th>\n",
       "      <td>1.8288</td>\n",
       "      <td>0.6096</td>\n",
       "      <td>10</td>\n",
       "      <td>1.594408</td>\n",
       "      <td>1998602.0</td>\n",
       "      <td>274611.8</td>\n",
       "      <td>1133789.0</td>\n",
       "    </tr>\n",
       "    <tr>\n",
       "      <th>4</th>\n",
       "      <td>1.8288</td>\n",
       "      <td>0.6096</td>\n",
       "      <td>10</td>\n",
       "      <td>1.899208</td>\n",
       "      <td>2002028.0</td>\n",
       "      <td>305427.4</td>\n",
       "      <td>1342856.0</td>\n",
       "    </tr>\n",
       "  </tbody>\n",
       "</table>\n",
       "</div>"
      ],
      "text/plain": [
       "   clearance_height    xgap  tilt     pitch  FrontIrrad  RearIrrad  \\\n",
       "0            1.8288  0.6096    18  1.560657   2000070.0   267628.8   \n",
       "1            1.8288  0.6096    18  1.865457   2009647.0   300637.0   \n",
       "2            1.8288  0.6096    18  2.170257   2012604.0   325479.9   \n",
       "3            1.8288  0.6096    10  1.594408   1998602.0   274611.8   \n",
       "4            1.8288  0.6096    10  1.899208   2002028.0   305427.4   \n",
       "\n",
       "   GroundIrrad  \n",
       "0    1118029.0  \n",
       "1    1281753.0  \n",
       "2    1368239.0  \n",
       "3    1133789.0  \n",
       "4    1342856.0  "
      ]
     },
     "execution_count": 77,
     "metadata": {},
     "output_type": "execute_result"
    }
   ],
   "source": [
    "df = pd.concat([ch_all, xgap_all, tilt_all, pitch_all, FrontIrrad, RearIrrad, GroundIrrad], axis=1)\n",
    "df.head()"
   ]
  },
  {
   "cell_type": "code",
   "execution_count": 82,
   "id": "d306cbb6",
   "metadata": {},
   "outputs": [],
   "source": [
    "df[['GroundIrrad_percent_GHI']] = df[['GroundIrrad']]*100/puerto_Rico_YEAR\n",
    "df['FrontIrrad_percent_GHI'] = df['FrontIrrad']*100/puerto_Rico_YEAR\n",
    "df['RearIrrad_percent_GHI'] = df['RearIrrad']*100/puerto_Rico_YEAR\n",
    "df['BifacialGain'] = df['RearIrrad']*0.65*100/df['FrontIrrad']"
   ]
  },
  {
   "cell_type": "code",
   "execution_count": 124,
   "id": "1bd4ce0f",
   "metadata": {},
   "outputs": [
    {
     "name": "stdout",
     "output_type": "stream",
     "text": [
      "55.8368342621305\n",
      "78.38497688728512\n"
     ]
    }
   ],
   "source": [
    "print(df['GroundIrrad_percent_GHI'].min())\n",
    "print(df['GroundIrrad_percent_GHI'].max())"
   ]
  },
  {
   "cell_type": "code",
   "execution_count": 140,
   "id": "298b7733",
   "metadata": {},
   "outputs": [
    {
     "ename": "TypeError",
     "evalue": "'int' object is not subscriptable",
     "output_type": "error",
     "traceback": [
      "\u001b[1;31m---------------------------------------------------------------------------\u001b[0m",
      "\u001b[1;31mTypeError\u001b[0m                                 Traceback (most recent call last)",
      "\u001b[1;32m<ipython-input-140-8c74e8ab2822>\u001b[0m in \u001b[0;36m<module>\u001b[1;34m\u001b[0m\n\u001b[1;32m----> 1\u001b[1;33m \u001b[0mtilt\u001b[0m\u001b[1;33m[\u001b[0m\u001b[1;36m0\u001b[0m\u001b[1;33m]\u001b[0m\u001b[1;33m\u001b[0m\u001b[1;33m\u001b[0m\u001b[0m\n\u001b[0m",
      "\u001b[1;31mTypeError\u001b[0m: 'int' object is not subscriptable"
     ]
    }
   ],
   "source": [
    "#tilt[18, 10]\n",
    "#clearance_heights = [6,8,10]"
   ]
  },
  {
   "cell_type": "code",
   "execution_count": 151,
   "id": "df987ade",
   "metadata": {},
   "outputs": [
    {
     "name": "stderr",
     "output_type": "stream",
     "text": [
      "C:\\ProgramData\\Anaconda3\\lib\\site-packages\\ipykernel_launcher.py:6: SettingWithCopyWarning: \n",
      "A value is trying to be set on a copy of a slice from a DataFrame.\n",
      "Try using .loc[row_indexer,col_indexer] = value instead\n",
      "\n",
      "See the caveats in the documentation: https://pandas.pydata.org/pandas-docs/stable/user_guide/indexing.html#returning-a-view-versus-a-copy\n",
      "  \n",
      "C:\\ProgramData\\Anaconda3\\lib\\site-packages\\ipykernel_launcher.py:7: SettingWithCopyWarning: \n",
      "A value is trying to be set on a copy of a slice from a DataFrame.\n",
      "Try using .loc[row_indexer,col_indexer] = value instead\n",
      "\n",
      "See the caveats in the documentation: https://pandas.pydata.org/pandas-docs/stable/user_guide/indexing.html#returning-a-view-versus-a-copy\n",
      "  import sys\n"
     ]
    },
    {
     "name": "stdout",
     "output_type": "stream",
     "text": [
      "xgap         0.6        0.9        1.2\n",
      "pitch                                 \n",
      "1.6    56.996927  61.772542  66.208633\n",
      "1.9    63.293483  66.704369  71.058353\n",
      "2.2    69.024555  72.255017  75.495508\n"
     ]
    },
    {
     "data": {
      "image/png": "[encoded data removed]",
      "text/plain": [
       "<Figure size 432x288 with 2 Axes>"
      ]
     },
     "metadata": {},
     "output_type": "display_data"
    }
   ],
   "source": [
    "import seaborn as sns \n",
    "import matplotlib.pyplot as plt\n",
    "\n",
    "df2=df.loc[df['tilt']==tilts[1]]\n",
    "df3 = df2.loc[df2['clearance_height']==clearance_heights[2]]\n",
    "df3['pitch']=df3['pitch'].round(1)\n",
    "df3['xgap']=df3['xgap'].round(1)\n",
    "\n",
    "sns.set(font_scale=2) \n",
    "table = df3.pivot('pitch', 'xgap', 'GroundIrrad_percent_GHI')\n",
    "ax = sns.heatmap(table, cmap='hot', vmin = 50, vmax= 100, annot=True)\n",
    "ax.invert_yaxis()\n",
    "print(table)\n",
    "plt.show()"
   ]
  },
  {
   "cell_type": "code",
   "execution_count": null,
   "id": "0102110b",
   "metadata": {},
   "outputs": [],
   "source": []
  },
  {
   "cell_type": "code",
   "execution_count": null,
   "id": "a5e04d26",
   "metadata": {},
   "outputs": [],
   "source": []
  }
 ],
 "metadata": {
  "kernelspec": {
   "display_name": "Python 3",
   "language": "python",
   "name": "python3"
  },
  "language_info": {
   "codemirror_mode": {
    "name": "ipython",
    "version": 3
   },
   "file_extension": ".py",
   "mimetype": "text/x-python",
   "name": "python",
   "nbconvert_exporter": "python",
   "pygments_lexer": "ipython3",
   "version": "3.7.10"
  }
 },
 "nbformat": 4,
 "nbformat_minor": 5
}
