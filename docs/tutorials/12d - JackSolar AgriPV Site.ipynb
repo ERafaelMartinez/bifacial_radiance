{
 "cells": [
  {
   "cell_type": "markdown",
   "id": "4997ec7a",
   "metadata": {},
   "source": [
    "## The Ground Modeling Challenge for AgriPV Application"
   ]
  },
  {
   "cell_type": "markdown",
   "id": "393445a3",
   "metadata": {},
   "source": [
    "### Solution Steps ###\n",
    "- Setup of variables\n",
    "- Generating the scenes\n",
    "- Mapping the ground irradiance"
   ]
  },
  {
   "cell_type": "markdown",
   "id": "e588c612",
   "metadata": {},
   "source": [
    "**Given that this is a 1-HSAT Tracker Routine, the workflow we follow is:**\n",
    "\n",
    "    - set1axis(gets angles)\n",
    "    - makeScene1axis\n",
    "    - gendaylit1axis\n",
    "    - makeoct1axis\n",
    "    - analysis1axis"
   ]
  },
  {
   "cell_type": "markdown",
   "id": "2b900d27",
   "metadata": {},
   "source": [
    "## 1. Load Bifacial Radiance and other essential packages"
   ]
  },
  {
   "cell_type": "code",
   "execution_count": null,
   "id": "c3575599",
   "metadata": {},
   "outputs": [],
   "source": [
    "import bifacial_radiance\n",
    "import numpy as np\n",
    "import os # this operative system to do the relative-path testfolder for this example.\n",
    "import pprint    # We will be pretty-printing the trackerdictionary throughout to show its structure.\n",
    "from pathlib import Path"
   ]
  },
  {
   "cell_type": "markdown",
   "id": "149f51b2",
   "metadata": {},
   "source": [
    "## 2. Define all the system variables"
   ]
  },
  {
   "cell_type": "code",
   "execution_count": null,
   "id": "b6f8ac23",
   "metadata": {},
   "outputs": [],
   "source": [
    "testfolder = str(Path().resolve().parent.parent / 'bifacial_radiance' / 'TEMP')\n",
    "\n",
    "\n",
    "timestamp = 4020 # Noon, June 17th.\n",
    "simulationName = 'AgriPV_JS'    # Optionally adding a simulation name when defning RadianceObj\n",
    "\n",
    "# Surface    \n",
    "#albedo = \" green grass\", which is not one of the default choices in the material list\n",
    "\n",
    "#Location\n",
    "lat = 40.1217  # Given for the project site at Colorado\n",
    "lon = -105.1310  # Given for the project site at Colorado\n",
    "\n",
    "# MakeModule Parameters\n",
    "\n",
    "moduletype='PrismSolar'\n",
    "numpanels = 1  # This site have 1 module in Y-direction\n",
    "x = 1  \n",
    "y = 2\n",
    "#xgap = 0.15 # Leaving 15 centimeters between modules on x direction\n",
    "#ygap = 0.10 # Leaving 10 centimeters between modules on y direction\n",
    "zgap = 0 # no gap to torquetube.\n",
    "sensorsy = 6  # this will give 6 sensors per module in y-direction\n",
    "sensorsx = 3   # this will give 3 sensors per module in x-direction\n",
    "\n",
    "torquetube = True\n",
    "axisofrotationTorqueTube = True \n",
    "diameter = 0.15  # 15 cm diameter for the torquetube\n",
    "tubetype = 'square'    # Put the right keyword upon reading the document\n",
    "material = 'black'   # Torque tube of this material (0% reflectivity)\n",
    "\n",
    "# Scene variables\n",
    "nMods = 30\n",
    "nRows = 7\n",
    "hub_height = 1.8 # meters\n",
    "pitch = 5.1816 # meters      # Pitch is the known parameter \n",
    "albedo = 0.2  #'Grass'     # ground albedo\n",
    "\n",
    "#azimuth_ang=180 # Facing south \n",
    "#axis_azimuth should have a default value of 180\n",
    "\n",
    "cumulativesky = False\n",
    "limit_angle = 60 # tracker rotation limit angle\n",
    "angledelta = 0.01 # we will be doing hourly simulation, we want the angle to be as close to real tracking as possible.\n",
    "backtrack = True "
   ]
  },
  {
   "cell_type": "markdown",
   "id": "1eee88a4",
   "metadata": {},
   "source": [
    "## 3. Create Radiance Object including Albedo and Weather"
   ]
  },
  {
   "cell_type": "code",
   "execution_count": null,
   "id": "daacbe69",
   "metadata": {},
   "outputs": [],
   "source": [
    "demo = bifacial_radiance.RadianceObj(simulationName,path = testfolder)  # Create a RadianceObj 'object'\n",
    "demo.setGround(albedo) \n",
    "epwfile = demo.getEPW(lat, lon) \n",
    "metdata = demo.readEPW(epwfile, coerce_year = 2021)"
   ]
  },
  {
   "cell_type": "markdown",
   "id": "20538d1b",
   "metadata": {},
   "source": [
    "## 4. Make Module"
   ]
  },
  {
   "cell_type": "code",
   "execution_count": null,
   "id": "383a798d",
   "metadata": {},
   "outputs": [],
   "source": [
    "moduleDict = demo.makeModule(name=moduletype, x = x, y =y, numpanels = numpanels, torquetube=torquetube, diameter=diameter, tubetype=tubetype, material=material, \n",
    "                zgap=zgap, axisofrotationTorqueTube=axisofrotationTorqueTube)\n"
   ]
  },
  {
   "cell_type": "markdown",
   "id": "aca69ad8",
   "metadata": {},
   "source": [
    "## 5. Calculate GCR"
   ]
  },
  {
   "cell_type": "code",
   "execution_count": null,
   "id": "9d01b2be",
   "metadata": {},
   "outputs": [],
   "source": [
    "# It's not really necessary for this irradiation simulation since we know the pitch\n",
    "cw = 1  # Collector Width, CW = 1 as given\n",
    "gcr = cw/pitch\n",
    "print(\"GCR:\",gcr)"
   ]
  },
  {
   "cell_type": "markdown",
   "id": "42634ae6",
   "metadata": {},
   "source": [
    "## 6. Generate the Sky for the Tracking Angles"
   ]
  },
  {
   "cell_type": "code",
   "execution_count": null,
   "id": "94aa4d9c",
   "metadata": {
    "scrolled": true
   },
   "outputs": [],
   "source": [
    "startdate = '06/17'     \n",
    "enddate = '06/18' #In this case, we are looking to generate tracking scenarios for one day as opposed to a single hour\n",
    "\n",
    "#trackerdict = demo.gendaylit1axis(startdate = startdate, enddate = enddate); doesn't work independently before using set1axis()\n",
    "\n",
    "trackerdict = demo.set1axis(metdata = metdata, limit_angle = limit_angle, backtrack = backtrack, \n",
    "                            gcr = gcr, cumulativesky = cumulativesky) #in case we wanted trackerdict for the whole year"
   ]
  },
  {
   "cell_type": "code",
   "execution_count": null,
   "id": "1ce62fab",
   "metadata": {},
   "outputs": [],
   "source": [
    "trackerdict = demo.gendaylit1axis(startdate = startdate, enddate = enddate)"
   ]
  },
  {
   "cell_type": "code",
   "execution_count": null,
   "id": "342b9816",
   "metadata": {},
   "outputs": [],
   "source": [
    "#checking our trackdict\n",
    "\n",
    "print (\"\\nTrimmed trackerdict by gendaylit1axis to start and enddate length: %s \" % (len(trackerdict)))\n",
    "print (\"\")\n",
    "trackerkeys = sorted(trackerdict.keys())\n",
    "print (\"Option of hours are: \", trackerkeys)\n",
    "print (\"\")\n",
    "print (\"Contents of trackerdict for sample hour:\")\n",
    "pprint.pprint(trackerdict[trackerkeys[7]])"
   ]
  },
  {
   "cell_type": "markdown",
   "id": "68bb669b",
   "metadata": {},
   "source": [
    "## Make Scene1 Axis"
   ]
  },
  {
   "cell_type": "code",
   "execution_count": null,
   "id": "d8854320",
   "metadata": {},
   "outputs": [],
   "source": [
    "# making the different scenes for the 1-axis tracking for the dates in trackerdict2.\n",
    "\n",
    "sceneDict = {'pitch': pitch,'hub_height':hub_height, 'nMods':nMods, 'nRows': nRows}  "
   ]
  },
  {
   "cell_type": "code",
   "execution_count": null,
   "id": "0a7ca83c",
   "metadata": {},
   "outputs": [],
   "source": [
    "sceneDict"
   ]
  },
  {
   "cell_type": "markdown",
   "id": "2091aaa5",
   "metadata": {},
   "source": [
    "## Make the 1-axis Tracking Scene and Analyse Irradiance on Module"
   ]
  },
  {
   "cell_type": "code",
   "execution_count": null,
   "id": "a5466c75",
   "metadata": {},
   "outputs": [],
   "source": [
    "scene = demo.makeScene1axis(moduletype=moduletype,sceneDict=sceneDict)"
   ]
  },
  {
   "cell_type": "code",
   "execution_count": null,
   "id": "b6f9bab8",
   "metadata": {},
   "outputs": [],
   "source": [
    "# Wrong, because the scene is not defined yet\n",
    "\n",
    "demo.makeOct1axis(singleindex='2021_06_17_12')"
   ]
  },
  {
   "cell_type": "code",
   "execution_count": null,
   "id": "90c1910f",
   "metadata": {},
   "outputs": [],
   "source": [
    "# define the modscanfront dictionary for simulating the ground surface scan instead of module scan\n",
    "#xinc = pitch/(sensorsy-1)\n",
    "modscanfront = {'zstart': 0, 'xstart':0, 'orient': '0 0 -1', 'zinc':0, 'xinc':pitch/(sensorsy-1)}"
   ]
  },
  {
   "cell_type": "code",
   "execution_count": null,
   "id": "116af767",
   "metadata": {},
   "outputs": [],
   "source": [
    "# do the analysis1axis\n",
    "\n",
    "results = demo.analysis1axis(singleindex='2021_06_17_12', modscanfront = modscanfront, sensorsy = sensorsy)\n",
    "print('\\n\\nHourly bifi gain: {:0.3}'.format(sum(demo.Wm2Back) / sum(demo.Wm2Front)))"
   ]
  },
  {
   "cell_type": "markdown",
   "id": "a53a9d7a",
   "metadata": {},
   "source": [
    "## Now we shall simulate for all hours of the day "
   ]
  },
  {
   "cell_type": "code",
   "execution_count": null,
   "id": "4407e28c",
   "metadata": {},
   "outputs": [],
   "source": [
    "#Code-looping for all hours of the day\n",
    "\n",
    "for key in trackerdict.keys():\n",
    "    demo.makeOct1axis(singleindex=key)\n",
    "    results=demo.analysis1axis(singleindex=key, modscanfront = modscanfront, sensorsy = sensorsy)\n",
    "\n",
    "print('Accumulated hourly bifi gain for the day: {:0.3}'.format(sum(demo.Wm2Back) / sum(demo.Wm2Front)))"
   ]
  },
  {
   "cell_type": "code",
   "execution_count": null,
   "id": "1044ea85",
   "metadata": {},
   "outputs": [],
   "source": []
  }
 ],
 "metadata": {
  "kernelspec": {
   "display_name": "Python 3",
   "language": "python",
   "name": "python3"
  },
  "language_info": {
   "codemirror_mode": {
    "name": "ipython",
    "version": 3
   },
   "file_extension": ".py",
   "mimetype": "text/x-python",
   "name": "python",
   "nbconvert_exporter": "python",
   "pygments_lexer": "ipython3",
   "version": "3.8.8"
  }
 },
 "nbformat": 4,
 "nbformat_minor": 5
}
