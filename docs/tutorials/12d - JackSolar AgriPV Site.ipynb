{
 "cells": [
  {
   "cell_type": "markdown",
   "id": "4997ec7a",
   "metadata": {},
   "source": [
    "## The Ground Modeling Challenge for AgriPV Application"
   ]
  },
  {
   "cell_type": "markdown",
   "id": "393445a3",
   "metadata": {},
   "source": [
    "### Solution Steps ###\n",
    "- Setup of variables\n",
    "- Generating the scenes\n",
    "- Mapping the ground irradiance"
   ]
  },
  {
   "cell_type": "markdown",
   "id": "e588c612",
   "metadata": {},
   "source": [
    "**Given that this is a 1-HSAT Tracker Routine, the workflow we follow is:**\n",
    "\n",
    "    - set1axis(gets angles)\n",
    "    - makeScene1axis\n",
    "    - gendaylit1axis\n",
    "    - makeoct1axis\n",
    "    - analysis1axis"
   ]
  },
  {
   "cell_type": "markdown",
   "id": "2b900d27",
   "metadata": {},
   "source": [
    "## 1. Load Bifacial Radiance and other essential packages"
   ]
  },
  {
   "cell_type": "code",
   "execution_count": 1,
   "id": "c3575599",
   "metadata": {},
   "outputs": [],
   "source": [
    "import bifacial_radiance\n",
    "import numpy as np\n",
    "import os # this operative system to do the relative-path testfolder for this example.\n",
    "import pprint    # We will be pretty-printing the trackerdictionary throughout to show its structure.\n",
    "from pathlib import Path"
   ]
  },
  {
   "cell_type": "markdown",
   "id": "149f51b2",
   "metadata": {},
   "source": [
    "## 2. Define all the system variables"
   ]
  },
  {
   "cell_type": "code",
   "execution_count": 2,
   "id": "b6f8ac23",
   "metadata": {},
   "outputs": [],
   "source": [
    "testfolder = str(Path().resolve().parent.parent / 'bifacial_radiance' / 'TEMP')\n",
    "\n",
    "timestamp = 4020 # Noon, June 17th.\n",
    "simulationName = 'AgriPV_JS'    # Optionally adding a simulation name when defning RadianceObj\n",
    "\n",
    "#Location\n",
    "lat = 40.1217  # Given for the project site at Colorado\n",
    "lon = -105.1310  # Given for the project site at Colorado\n",
    "\n",
    "# MakeModule Parameters\n",
    "moduletype='PrismSolar'\n",
    "numpanels = 1  # This site have 1 module in Y-direction\n",
    "x = 1  \n",
    "y = 2\n",
    "#xgap = 0.15 # Leaving 15 centimeters between modules on x direction\n",
    "#ygap = 0.10 # Leaving 10 centimeters between modules on y direction\n",
    "zgap = 0 # no gap to torquetube.\n",
    "sensorsy = 6  # this will give 6 sensors per module in y-direction\n",
    "sensorsx = 3   # this will give 3 sensors per module in x-direction\n",
    "\n",
    "torquetube = True\n",
    "axisofrotationTorqueTube = True \n",
    "diameter = 0.15  # 15 cm diameter for the torquetube\n",
    "tubetype = 'square'    # Put the right keyword upon reading the document\n",
    "material = 'black'   # Torque tube of this material (0% reflectivity)\n",
    "\n",
    "# Scene variables\n",
    "nMods = 20\n",
    "nRows = 7\n",
    "hub_height = 1.8 # meters\n",
    "pitch = 5.1816 # meters      # Pitch is the known parameter \n",
    "albedo = 0.2  #'Grass'     # ground albedo\n",
    "\n",
    "cumulativesky = False\n",
    "limit_angle = 60 # tracker rotation limit angle\n",
    "angledelta = 0.01 # we will be doing hourly simulation, we want the angle to be as close to real tracking as possible.\n",
    "backtrack = True "
   ]
  },
  {
   "cell_type": "markdown",
   "id": "1eee88a4",
   "metadata": {},
   "source": [
    "# Method 1: Gendaylit1axis, Hourly (Cumulativesky = False)"
   ]
  },
  {
   "cell_type": "code",
   "execution_count": 3,
   "id": "daacbe69",
   "metadata": {},
   "outputs": [
    {
     "name": "stdout",
     "output_type": "stream",
     "text": [
      "path = C:\\Users\\sayala\\Documents\\GitHub\\bifacial_radiance\\bifacial_radiance\\TEMP\n",
      "Loading albedo, 1 value(s), 0.200 avg\n",
      "1 nonzero albedo values.\n",
      "Getting weather file: USA_CO_Boulder-Broomfield-Jefferson.County.AP.724699_TMY3.epw\n",
      " ... OK!\n",
      "start: 2021-01-01 01:00:00\n",
      "end: 2021-12-31 23:00:00\n",
      "Saving file EPWs\\epw_temp.csv, # points: 8760\n",
      "Calculating Sun position for Metdata that is right-labeled  with a delta of -30 mins. i.e. 12 is 11:30 sunpos\n"
     ]
    }
   ],
   "source": [
    "demo = bifacial_radiance.RadianceObj(simulationName,path = testfolder)  # Create a RadianceObj 'object'\n",
    "demo.setGround(albedo) \n",
    "epwfile = demo.getEPW(lat, lon) \n",
    "metdata = demo.readEPW(epwfile, coerce_year = 2021)\n",
    "\n",
    "moduleDict = demo.makeModule(name=moduletype, x = x, y =y, numpanels = numpanels, torquetube=torquetube, diameter=diameter, tubetype=tubetype, material=material, \n",
    "                zgap=zgap, axisofrotationTorqueTube=axisofrotationTorqueTube)\n",
    "gcr = moduleDict['sceney']/pitch\n"
   ]
  },
  {
   "cell_type": "code",
   "execution_count": 16,
   "id": "ceef672e",
   "metadata": {},
   "outputs": [
    {
     "name": "stdout",
     "output_type": "stream",
     "text": [
      "Creating ~0 skyfiles.  Takes 1-2 minutes\n",
      "Created 2 skyfiles in /skies/\n"
     ]
    }
   ],
   "source": [
    "startdate = '21_06_17_11'\n",
    "enddate = '21_06_17_12' # '%y_%m_%d_%H'\n",
    "#enddate = '06/18' \n",
    "\n",
    "trackerdict = demo.set1axis(metdata = metdata, limit_angle = limit_angle, backtrack = backtrack, \n",
    "                            gcr = gcr, cumulativesky = cumulativesky) \n",
    "\n",
    "trackerdict = demo.gendaylit1axis(startdate = startdate, enddate = enddate)\n",
    "\n",
    "sceneDict = {'pitch': pitch,'hub_height':hub_height, 'nMods':nMods, 'nRows': nRows}  \n",
    "\n",
    "scene = demo.makeScene1axis(moduletype=moduletype,sceneDict=sceneDict)\n",
    "\n",
    "sensorsx = 2\n",
    "spacingsensorsx = (moduleDict['scenex']+0.1)/(sensorsx+1)\n",
    "startxsensors = (moduleDict['scenex']+0.1)/2-spacingsensorsx\n",
    "\n",
    "sensorsy = 4\n",
    "for key in trackerdict.keys():\n",
    "    demo.makeOct1axis(singleindex=key)\n",
    "\n",
    "    for i in range (0, sensorsx):  \n",
    "        modscanfront = {'zstart': 0, 'xstart':0, 'orient': '0 0 -1', 'zinc':0, 'xinc':pitch/(sensorsy-1),\n",
    "                       'ystart': startxsensors-spacingsensorsx*i}\n",
    "\n",
    "        results = demo.analysis1axis(singleindex=key, customname='_'+str(i)+'_', modscanfront = modscanfront, sensorsy = sensorsy)\n"
   ]
  },
  {
   "cell_type": "markdown",
   "id": "4b6a8cb3",
   "metadata": {},
   "source": [
    "# METHOD 2: FIXED TILT"
   ]
  },
  {
   "cell_type": "code",
   "execution_count": 39,
   "id": "26c73558",
   "metadata": {},
   "outputs": [
    {
     "name": "stdout",
     "output_type": "stream",
     "text": [
      "path = C:\\Users\\sayala\\Documents\\GitHub\\bifacial_radiance\\bifacial_radiance\\TEMP\n",
      "Loading albedo, 1 value(s), 0.200 avg\n",
      "1 nonzero albedo values.\n",
      "start: 2021-01-01 01:00:00\n",
      "end: 2021-12-31 23:00:00\n",
      "Saving file EPWs\\epw_temp.csv, # points: 8760\n",
      "Calculating Sun position for Metdata that is right-labeled  with a delta of -30 mins. i.e. 12 is 11:30 sunpos\n",
      "Sky generated with Gendaylit 2 MANUAL, with DNI: 375.0, DHI: 309.0\n"
     ]
    }
   ],
   "source": [
    "idx=4020\n",
    "rad_obj = bifacial_radiance.RadianceObj(simulationName,path = testfolder)  # Create a RadianceObj 'object'\n",
    "rad_obj.setGround(albedo) \n",
    "metdata = rad_obj.readEPW(epwfile, coerce_year = 2021)\n",
    "solpos = rad_obj.metdata.solpos.iloc[idx]\n",
    "zen = float(solpos.zenith)\n",
    "azm = float(solpos.azimuth) - 180\n",
    "dni = rad_obj.metdata.dni[idx]\n",
    "dhi = rad_obj.metdata.dhi[idx]\n",
    "rad_obj.gendaylit2manual(dni, dhi, 90 - zen, azm)\n",
    "tilt = round(rad_obj.getSingleTimestampTrackerAngle(rad_obj.metdata, idx, gcr, limit_angle=65),1)\n"
   ]
  },
  {
   "cell_type": "code",
   "execution_count": 68,
   "id": "528f4712",
   "metadata": {},
   "outputs": [
    {
     "data": {
      "text/plain": [
       "'irr_Jacksolar_2021_6_17_13_0'"
      ]
     },
     "execution_count": 68,
     "metadata": {},
     "output_type": "execute_result"
    }
   ],
   "source": [
    "foo=rad_obj.metdata.datetime[idx]\n",
    "res_name = \"irr_Jacksolar_\"+str(foo.year)+\"_\"+str(foo.month)+\"_\"+str(foo.day)+\"_\"+str(foo.hour)+\"_\"+str(foo.minute)\n",
    "res_name"
   ]
  },
  {
   "cell_type": "code",
   "execution_count": 45,
   "id": "94aa4d9c",
   "metadata": {
    "scrolled": true
   },
   "outputs": [],
   "source": [
    "sceneDict = {'pitch': pitch, 'tilt': tilt, 'azimuth': 90, 'hub_height':hub_height, 'nMods':nMods, 'nRows': nRows}  \n"
   ]
  },
  {
   "cell_type": "code",
   "execution_count": 46,
   "id": "36f083e0",
   "metadata": {},
   "outputs": [],
   "source": [
    "scene = demo.makeScene(moduletype=moduletype,sceneDict=sceneDict)\n"
   ]
  },
  {
   "cell_type": "code",
   "execution_count": 69,
   "id": "17433a02",
   "metadata": {},
   "outputs": [
    {
     "name": "stdout",
     "output_type": "stream",
     "text": [
      "Created irr_Jacksolar_2021_6_17_13_0.oct\n"
     ]
    }
   ],
   "source": [
    "octfile = demo.makeOct(octname=res_name)  "
   ]
  },
  {
   "cell_type": "code",
   "execution_count": 64,
   "id": "c3e47b0c",
   "metadata": {},
   "outputs": [],
   "source": [
    "sensorsx = 2\n",
    "sensorsy = 4\n",
    "spacingsensorsx = (x+0.01+0.10)/(sensorsx+1)\n",
    "startxsensors = (x+0.01+0.10)/2-spacingsensorsx\n",
    "xinc = pitch/(sensorsy-1)\n",
    "\n",
    "analysis = bifacial_radiance.AnalysisObj()\n",
    "\n",
    "frontscan, backscan = analysis.moduleAnalysis(scene, sensorsy=sensorsy)\n",
    "    "
   ]
  },
  {
   "cell_type": "code",
   "execution_count": 65,
   "id": "1225b7b9",
   "metadata": {},
   "outputs": [
    {
     "data": {
      "text/plain": [
       "{'xstart': 0.31985649241795944,\n",
       " 'ystart': 1.9585561481307686e-17,\n",
       " 'zstart': 1.9342346280554725,\n",
       " 'xinc': -0.6621137663589907,\n",
       " 'yinc': -4.054277523214682e-17,\n",
       " 'zinc': -0.07778049139955544,\n",
       " 'Nx': 1,\n",
       " 'Ny': 2.0,\n",
       " 'Nz': 1,\n",
       " 'orient': '0.117 0.000 -0.993'}"
      ]
     },
     "execution_count": 65,
     "metadata": {},
     "output_type": "execute_result"
    }
   ],
   "source": [
    "frontscan"
   ]
  },
  {
   "cell_type": "code",
   "execution_count": 66,
   "id": "951b5d67",
   "metadata": {},
   "outputs": [
    {
     "name": "stdout",
     "output_type": "stream",
     "text": [
      "Linescan in process: xloc_0_Front\n",
      "Linescan in process: xloc_0_Back\n",
      "Saved: results\\irr_xloc_0.csv\n",
      "Linescan in process: xloc_1_Front\n",
      "Linescan in process: xloc_1_Back\n",
      "Saved: results\\irr_xloc_1.csv\n"
     ]
    }
   ],
   "source": [
    "for senx in range(0,sensorsx):\n",
    "    frontscan['zstart'] = 0\n",
    "    frontscan['xstart'] = 0\n",
    "    frontscan['orient'] = '0 0 -1'\n",
    "    frontscan['zinc'] = 0\n",
    "    frontscan['xinc'] = xinc\n",
    "    frontscan['ystart'] = startxsensors-spacingsensorsx*senx\n",
    "    frontdict, backdict = analysis.analysis(octfile = octfile, name = 'xloc_'+str(senx), \n",
    "                                            frontscan=frontscan, backscan=backscan)"
   ]
  },
  {
   "cell_type": "code",
   "execution_count": null,
   "id": "1044ea85",
   "metadata": {},
   "outputs": [],
   "source": []
  }
 ],
 "metadata": {
  "kernelspec": {
   "display_name": "Python 3",
   "language": "python",
   "name": "python3"
  },
  "language_info": {
   "codemirror_mode": {
    "name": "ipython",
    "version": 3
   },
   "file_extension": ".py",
   "mimetype": "text/x-python",
   "name": "python",
   "nbconvert_exporter": "python",
   "pygments_lexer": "ipython3",
   "version": "3.7.10"
  }
 },
 "nbformat": 4,
 "nbformat_minor": 5
}
