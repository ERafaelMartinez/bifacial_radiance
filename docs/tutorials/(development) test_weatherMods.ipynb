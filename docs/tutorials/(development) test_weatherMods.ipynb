{
 "cells": [
  {
   "cell_type": "code",
   "execution_count": null,
   "metadata": {},
   "outputs": [],
   "source": []
  },
  {
   "cell_type": "code",
   "execution_count": 1,
   "metadata": {},
   "outputs": [],
   "source": [
    "import bifacial_radiance as br\n",
    "import datetime as dt\n",
    "import pandas as pd\n",
    "import numpy as np\n",
    "import os\n",
    "import pvlib"
   ]
  },
  {
   "cell_type": "code",
   "execution_count": 2,
   "metadata": {},
   "outputs": [
    {
     "name": "stdout",
     "output_type": "stream",
     "text": [
      "path = DLT_ME\n"
     ]
    }
   ],
   "source": [
    "simName = 'DLT_ME'\n",
    "test = br.RadianceObj(simName,simName)"
   ]
  },
  {
   "cell_type": "markdown",
   "metadata": {},
   "source": [
    "## A. Read Weather\n",
    "\n",
    "- No start/stop restrictions\n",
    "- coerce year\n",
    "- label = None"
   ]
  },
  {
   "cell_type": "code",
   "execution_count": 3,
   "metadata": {},
   "outputs": [],
   "source": [
    "CSV = r'C:\\users\\mbrown2\\Documents\\GitHub\\internStuff\\weatherFiles\\724666TYA.CSV'\n",
    "TMY = r'C:\\Users\\mbrown2\\Documents\\GitHub\\internStuff\\weatherFiles\\USA_VA_Sterling-Washington.Dulles.Intl.AP.724030_TMY3.epw'"
   ]
  },
  {
   "cell_type": "code",
   "execution_count": 4,
   "metadata": {},
   "outputs": [
    {
     "name": "stdout",
     "output_type": "stream",
     "text": [
      "TMY detected with non-sequential years. Coercing to 2001...\n",
      "start: 2001-01-01 01:00:00\n",
      "end: 2001-12-31 23:00:00\n",
      "Saving file EPWs\\epw_temp.csv, # points: 8760\n",
      "Calculating Sun position for Metdata that is right-labeled  with a delta of -30 mins. i.e. 12 is 11:30 sunpos\n"
     ]
    },
    {
     "ename": "ValueError",
     "evalue": "Input dates must be at 00:00 UTC",
     "output_type": "error",
     "traceback": [
      "\u001b[1;31m---------------------------------------------------------------------------\u001b[0m",
      "\u001b[1;31mValueError\u001b[0m                                Traceback (most recent call last)",
      "\u001b[1;32m<ipython-input-4-56bc842e5de8>\u001b[0m in \u001b[0;36m<module>\u001b[1;34m\u001b[0m\n\u001b[1;32m----> 1\u001b[1;33m \u001b[0mtest\u001b[0m\u001b[1;33m.\u001b[0m\u001b[0mreadWeatherFile\u001b[0m\u001b[1;33m(\u001b[0m\u001b[0mTMY\u001b[0m\u001b[1;33m)\u001b[0m\u001b[1;33m\u001b[0m\u001b[1;33m\u001b[0m\u001b[0m\n\u001b[0m\u001b[0;32m      2\u001b[0m \u001b[1;32mfor\u001b[0m \u001b[0mi\u001b[0m \u001b[1;32min\u001b[0m \u001b[0mtest\u001b[0m\u001b[1;33m.\u001b[0m\u001b[0mmetdata\u001b[0m\u001b[1;33m.\u001b[0m\u001b[0mdatetime\u001b[0m\u001b[1;33m[\u001b[0m\u001b[1;33m:\u001b[0m\u001b[1;36m5\u001b[0m\u001b[1;33m]\u001b[0m\u001b[1;33m:\u001b[0m \u001b[0mprint\u001b[0m\u001b[1;33m(\u001b[0m\u001b[0mi\u001b[0m\u001b[1;33m)\u001b[0m\u001b[1;33m\u001b[0m\u001b[1;33m\u001b[0m\u001b[0m\n\u001b[0;32m      3\u001b[0m \u001b[0mprint\u001b[0m\u001b[1;33m(\u001b[0m\u001b[1;34mf'{len(test.metdata.datetime)} MetData points'\u001b[0m\u001b[1;33m)\u001b[0m\u001b[1;33m\u001b[0m\u001b[1;33m\u001b[0m\u001b[0m\n",
      "\u001b[1;32mc:\\users\\mbrown2\\documents\\github\\bifacial_radiance\\bifacial_radiance\\main.py\u001b[0m in \u001b[0;36mreadWeatherFile\u001b[1;34m(self, weatherFile, starttime, endtime, daydate, label, source, coerce_year)\u001b[0m\n\u001b[0;32m    619\u001b[0m             \u001b[1;32mif\u001b[0m \u001b[0mlabel\u001b[0m \u001b[1;32mis\u001b[0m \u001b[1;32mNone\u001b[0m\u001b[1;33m:\u001b[0m\u001b[1;33m\u001b[0m\u001b[1;33m\u001b[0m\u001b[0m\n\u001b[0;32m    620\u001b[0m                 \u001b[0mlabel\u001b[0m \u001b[1;33m=\u001b[0m \u001b[1;34m'right'\u001b[0m\u001b[1;33m\u001b[0m\u001b[1;33m\u001b[0m\u001b[0m\n\u001b[1;32m--> 621\u001b[1;33m             metdata = self.readEPW(weatherFile, starttime=starttime,\n\u001b[0m\u001b[0;32m    622\u001b[0m                                    \u001b[0mendtime\u001b[0m\u001b[1;33m=\u001b[0m\u001b[0mendtime\u001b[0m\u001b[1;33m,\u001b[0m \u001b[0mdaydate\u001b[0m\u001b[1;33m=\u001b[0m\u001b[0mdaydate\u001b[0m\u001b[1;33m,\u001b[0m \u001b[0mlabel\u001b[0m\u001b[1;33m=\u001b[0m\u001b[0mlabel\u001b[0m\u001b[1;33m,\u001b[0m\u001b[1;33m\u001b[0m\u001b[1;33m\u001b[0m\u001b[0m\n\u001b[0;32m    623\u001b[0m                                    coerce_year=coerce_year)\n",
      "\u001b[1;32mc:\\users\\mbrown2\\documents\\github\\bifacial_radiance\\bifacial_radiance\\main.py\u001b[0m in \u001b[0;36mreadEPW\u001b[1;34m(self, epwfile, hpc, starttime, endtime, daydate, label, coerce_year)\u001b[0m\n\u001b[0;32m    922\u001b[0m             \u001b[0mtmydata_trunc\u001b[0m \u001b[1;33m=\u001b[0m \u001b[0mtmydata_trunc\u001b[0m\u001b[1;33m[\u001b[0m\u001b[0mtmydata_trunc\u001b[0m\u001b[1;33m.\u001b[0m\u001b[0mGHI\u001b[0m \u001b[1;33m>\u001b[0m \u001b[1;36m0\u001b[0m\u001b[1;33m]\u001b[0m\u001b[1;33m\u001b[0m\u001b[1;33m\u001b[0m\u001b[0m\n\u001b[0;32m    923\u001b[0m \u001b[1;33m\u001b[0m\u001b[0m\n\u001b[1;32m--> 924\u001b[1;33m         \u001b[0mself\u001b[0m\u001b[1;33m.\u001b[0m\u001b[0mmetdata\u001b[0m \u001b[1;33m=\u001b[0m \u001b[0mMetObj\u001b[0m\u001b[1;33m(\u001b[0m\u001b[0mtmydata_trunc\u001b[0m\u001b[1;33m,\u001b[0m \u001b[0mmetadata\u001b[0m\u001b[1;33m,\u001b[0m \u001b[0mlabel\u001b[0m \u001b[1;33m=\u001b[0m \u001b[0mlabel\u001b[0m\u001b[1;33m)\u001b[0m\u001b[1;33m\u001b[0m\u001b[1;33m\u001b[0m\u001b[0m\n\u001b[0m\u001b[0;32m    925\u001b[0m \u001b[1;33m\u001b[0m\u001b[0m\n\u001b[0;32m    926\u001b[0m \u001b[1;33m\u001b[0m\u001b[0m\n",
      "\u001b[1;32mc:\\users\\mbrown2\\documents\\github\\bifacial_radiance\\bifacial_radiance\\main.py\u001b[0m in \u001b[0;36m__init__\u001b[1;34m(self, tmydata, metadata, label)\u001b[0m\n\u001b[0;32m   3433\u001b[0m                     print(\"Calculating Sun position for Metdata that is right-labeled \", \n\u001b[0;32m   3434\u001b[0m                           \"with a delta of -30 mins. i.e. 12 is 11:30 sunpos\")\n\u001b[1;32m-> 3435\u001b[1;33m                     \u001b[0msunup\u001b[0m\u001b[1;33m=\u001b[0m \u001b[0mpvlib\u001b[0m\u001b[1;33m.\u001b[0m\u001b[0mirradiance\u001b[0m\u001b[1;33m.\u001b[0m\u001b[0msolarposition\u001b[0m\u001b[1;33m.\u001b[0m\u001b[0msun_rise_set_transit_spa\u001b[0m\u001b[1;33m(\u001b[0m\u001b[0mdatetimetz\u001b[0m\u001b[1;33m,\u001b[0m \u001b[0mlat\u001b[0m\u001b[1;33m,\u001b[0m \u001b[0mlon\u001b[0m\u001b[1;33m)\u001b[0m \u001b[1;31m#new for pvlib >= 0.6.1\u001b[0m\u001b[1;33m\u001b[0m\u001b[1;33m\u001b[0m\u001b[0m\n\u001b[0m\u001b[0;32m   3436\u001b[0m                     \u001b[0msunup\u001b[0m\u001b[1;33m[\u001b[0m\u001b[1;34m'minutedelta'\u001b[0m\u001b[1;33m]\u001b[0m\u001b[1;33m=\u001b[0m \u001b[0mint\u001b[0m\u001b[1;33m(\u001b[0m\u001b[0minterval\u001b[0m\u001b[1;33m.\u001b[0m\u001b[0mseconds\u001b[0m\u001b[1;33m/\u001b[0m\u001b[1;36m2\u001b[0m\u001b[1;33m/\u001b[0m\u001b[1;36m60\u001b[0m\u001b[1;33m)\u001b[0m \u001b[1;31m# default sun angle 30 minutes before timestamp\u001b[0m\u001b[1;33m\u001b[0m\u001b[1;33m\u001b[0m\u001b[0m\n\u001b[0;32m   3437\u001b[0m                     \u001b[1;31m# vector update of minutedelta at sunrise\u001b[0m\u001b[1;33m\u001b[0m\u001b[1;33m\u001b[0m\u001b[1;33m\u001b[0m\u001b[0m\n",
      "\u001b[1;32m~\\Anaconda3\\lib\\site-packages\\pvlib\\solarposition.py\u001b[0m in \u001b[0;36msun_rise_set_transit_spa\u001b[1;34m(times, latitude, longitude, how, delta_t, numthreads)\u001b[0m\n\u001b[0;32m    452\u001b[0m     \u001b[0mdelta_t\u001b[0m \u001b[1;33m=\u001b[0m \u001b[0mdelta_t\u001b[0m \u001b[1;32mor\u001b[0m \u001b[0mspa\u001b[0m\u001b[1;33m.\u001b[0m\u001b[0mcalculate_deltat\u001b[0m\u001b[1;33m(\u001b[0m\u001b[0mtimes\u001b[0m\u001b[1;33m.\u001b[0m\u001b[0myear\u001b[0m\u001b[1;33m,\u001b[0m \u001b[0mtimes\u001b[0m\u001b[1;33m.\u001b[0m\u001b[0mmonth\u001b[0m\u001b[1;33m)\u001b[0m\u001b[1;33m\u001b[0m\u001b[1;33m\u001b[0m\u001b[0m\n\u001b[0;32m    453\u001b[0m \u001b[1;33m\u001b[0m\u001b[0m\n\u001b[1;32m--> 454\u001b[1;33m     transit, sunrise, sunset = spa.transit_sunrise_sunset(\n\u001b[0m\u001b[0;32m    455\u001b[0m         unixtime, lat, lon, delta_t, numthreads)\n\u001b[0;32m    456\u001b[0m \u001b[1;33m\u001b[0m\u001b[0m\n",
      "\u001b[1;32m~\\Anaconda3\\lib\\site-packages\\pvlib\\spa.py\u001b[0m in \u001b[0;36mtransit_sunrise_sunset\u001b[1;34m(dates, lat, lon, delta_t, numthreads)\u001b[0m\n\u001b[0;32m   1181\u001b[0m \u001b[1;33m\u001b[0m\u001b[0m\n\u001b[0;32m   1182\u001b[0m     \u001b[1;32mif\u001b[0m \u001b[1;33m(\u001b[0m\u001b[1;33m(\u001b[0m\u001b[0mdates\u001b[0m \u001b[1;33m%\u001b[0m \u001b[1;36m86400\u001b[0m\u001b[1;33m)\u001b[0m \u001b[1;33m!=\u001b[0m \u001b[1;36m0.0\u001b[0m\u001b[1;33m)\u001b[0m\u001b[1;33m.\u001b[0m\u001b[0many\u001b[0m\u001b[1;33m(\u001b[0m\u001b[1;33m)\u001b[0m\u001b[1;33m:\u001b[0m\u001b[1;33m\u001b[0m\u001b[1;33m\u001b[0m\u001b[0m\n\u001b[1;32m-> 1183\u001b[1;33m         \u001b[1;32mraise\u001b[0m \u001b[0mValueError\u001b[0m\u001b[1;33m(\u001b[0m\u001b[1;34m'Input dates must be at 00:00 UTC'\u001b[0m\u001b[1;33m)\u001b[0m\u001b[1;33m\u001b[0m\u001b[1;33m\u001b[0m\u001b[0m\n\u001b[0m\u001b[0;32m   1184\u001b[0m \u001b[1;33m\u001b[0m\u001b[0m\n\u001b[0;32m   1185\u001b[0m     \u001b[0mutday\u001b[0m \u001b[1;33m=\u001b[0m \u001b[1;33m(\u001b[0m\u001b[0mdates\u001b[0m \u001b[1;33m//\u001b[0m \u001b[1;36m86400\u001b[0m\u001b[1;33m)\u001b[0m \u001b[1;33m*\u001b[0m \u001b[1;36m86400\u001b[0m\u001b[1;33m\u001b[0m\u001b[1;33m\u001b[0m\u001b[0m\n",
      "\u001b[1;31mValueError\u001b[0m: Input dates must be at 00:00 UTC"
     ]
    }
   ],
   "source": [
    "test.readWeatherFile(TMY)\n",
    "for i in test.metdata.datetime[:5]: print(i)\n",
    "print(f'{len(test.metdata.datetime)} MetData points')"
   ]
  },
  {
   "cell_type": "code",
   "execution_count": 8,
   "metadata": {},
   "outputs": [],
   "source": [
    "(tmydata, metadata) = pvlib.iotools.tmy.read_tmy3(filename=CSV)"
   ]
  },
  {
   "cell_type": "code",
   "execution_count": 10,
   "metadata": {},
   "outputs": [
    {
     "data": {
      "text/plain": [
       "Int64Index([1999, 1999, 1999, 1999, 1999, 1999, 1999, 1999, 1999, 1999,\n",
       "            ...\n",
       "            1996, 1996, 1996, 1996, 1996, 1996, 1996, 1996, 1996, 1997],\n",
       "           dtype='int64', length=8760)"
      ]
     },
     "execution_count": 10,
     "metadata": {},
     "output_type": "execute_result"
    }
   ],
   "source": [
    "tmydata.index.year"
   ]
  },
  {
   "cell_type": "code",
   "execution_count": 13,
   "metadata": {},
   "outputs": [
    {
     "data": {
      "text/plain": [
       "Int64Index([1, 2, 3, 4], dtype='int64')"
      ]
     },
     "execution_count": 13,
     "metadata": {},
     "output_type": "execute_result"
    }
   ],
   "source": [
    "fish = np.array([1,2,3,4])\n",
    "fishID = pd.Index(fish)\n",
    "fishID"
   ]
  },
  {
   "cell_type": "markdown",
   "metadata": {},
   "source": [
    "## TO DO:\n",
    "\n",
    "In the generalized case, above call for readWeatherFile effectively reads just 1 day. This is bad. It should be 1 year"
   ]
  },
  {
   "cell_type": "code",
   "execution_count": 4,
   "metadata": {},
   "outputs": [
    {
     "name": "stdout",
     "output_type": "stream",
     "text": [
      "Loading albedo, 1 value(s), 0.084 avg\n",
      "1 nonzero albedo values.\n"
     ]
    }
   ],
   "source": [
    "test.setGround(0.084)\n"
   ]
  },
  {
   "cell_type": "markdown",
   "metadata": {},
   "source": [
    "## B. Read Weather\n",
    "\n",
    "- w/ start/stop restrictions\n",
    "- coerce year\n",
    "- label = 'center'"
   ]
  },
  {
   "cell_type": "code",
   "execution_count": 5,
   "metadata": {},
   "outputs": [
    {
     "name": "stdout",
     "output_type": "stream",
     "text": [
      "Warning: CSV file passed for input. Assuming it is TMY3style format\n",
      "Start and End Time should be \"YY_MM_DD_HH\".\n",
      " Assuming no hour specified in form \"YY_MM_DD\"\n",
      "start: 2021-02-01 01:00:00\n",
      "end: 2021-02-28 23:00:00\n",
      "Saving file EPWs\\tmy3_temp.csv, # points: 8760\n",
      "Calculating Sun position for Metdata that is right-labeled  with a delta of -30 mins. i.e. 12 is 11:30 sunpos\n",
      "2021-02-01 01:00:00\n",
      "2021-02-01 02:00:00\n",
      "2021-02-01 03:00:00\n",
      "2021-02-01 04:00:00\n",
      "2021-02-01 05:00:00\n",
      "671 MetData points\n"
     ]
    }
   ],
   "source": [
    "test.readWeatherFile(CSV, starttime='21_02_01', endtime='21_02_28', coerce_year=2021)\n",
    "for i in test.metdata.datetime[:5]: print(i)\n",
    "print(f'{len(test.metdata.datetime)} MetData points')"
   ]
  },
  {
   "cell_type": "code",
   "execution_count": 6,
   "metadata": {},
   "outputs": [],
   "source": [
    "ALT = r'C:\\Users\\mbrown2\\Documents\\GitHub\\internStuff\\TEMP\\Matt_Test.csv'"
   ]
  },
  {
   "cell_type": "markdown",
   "metadata": {},
   "source": [
    "## C. Read Weather - Sub-Hourly\n",
    "\n",
    "- no start/stop restrictions\n",
    "- delta = 15 min\n",
    "- label = None"
   ]
  },
  {
   "cell_type": "code",
   "execution_count": 7,
   "metadata": {},
   "outputs": [
    {
     "name": "stdout",
     "output_type": "stream",
     "text": [
      "Warning: CSV file passed for input. Assuming it is TMY3style format\n",
      "start: 2019-11-01 01:00:00\n",
      "end: 2020-11-03 23:00:00\n",
      "Saving file EPWs\\tmy3_temp.csv, # points: 33948\n",
      "Interval in weather data is less than 1 hr, calculating Sun position with a delta of - 7\n",
      "If you want no delta for sunposition, run simulation with input variable label='center'\n",
      "2019-11-01 01:00:00\n",
      "2019-11-01 01:15:00\n",
      "2019-11-01 01:30:00\n",
      "2019-11-01 01:45:00\n",
      "2019-11-01 02:00:00\n",
      "33945 MetData points\n"
     ]
    }
   ],
   "source": [
    "test.readWeatherFile(ALT)\n",
    "for i in test.metdata.datetime[:5]: print(i)\n",
    "print(f'{len(test.metdata.datetime)} MetData points')"
   ]
  },
  {
   "cell_type": "markdown",
   "metadata": {},
   "source": [
    "## D. Read Weather - Sub-Hourly\n",
    "\n",
    "- w/ start/stop restrictions"
   ]
  },
  {
   "cell_type": "code",
   "execution_count": 8,
   "metadata": {},
   "outputs": [
    {
     "name": "stdout",
     "output_type": "stream",
     "text": [
      "Warning: CSV file passed for input. Assuming it is TMY3style format\n",
      "Start and End Time should be \"YY_MM_DD_HH\".\n",
      " Assuming no hour specified in form \"YY_MM_DD\"\n",
      "start: 2020-03-01 01:00:00\n",
      "end: 2020-03-31 23:00:00\n",
      "Saving file EPWs\\tmy3_temp.csv, # points: 33948\n",
      "Interval in weather data is less than 1 hr, calculating Sun position with a delta of - 7\n",
      "If you want no delta for sunposition, run simulation with input variable label='center'\n",
      "2020-03-01 01:00:00\n",
      "2020-03-01 01:15:00\n",
      "2020-03-01 01:30:00\n",
      "2020-03-01 01:45:00\n",
      "2020-03-01 02:00:00\n",
      "2941 MetData points\n"
     ]
    }
   ],
   "source": [
    "test.readWeatherFile(ALT, starttime='20_03_01', endtime='20_03_31')\n",
    "for i in test.metdata.datetime[:5]: print(i)\n",
    "print(f'{len(test.metdata.datetime)} MetData points')"
   ]
  },
  {
   "cell_type": "code",
   "execution_count": 9,
   "metadata": {},
   "outputs": [
    {
     "name": "stdout",
     "output_type": "stream",
     "text": [
      "OK!\n",
      "OK 2\n",
      "OK 3\n",
      "2002\n"
     ]
    }
   ],
   "source": [
    "delta1 = dt.timedelta(hours=1)\n",
    "delta2 = dt.timedelta(minutes=15)\n",
    "if delta1 > delta2: print(\"OK!\")\n",
    "\n",
    "dt1 = dt.datetime(2001,11,1,10)\n",
    "dt2 = dt1 + delta1\n",
    "dt3 = dt1 + delta2\n",
    "\n",
    "if (dt2 - dt1) == delta1: print('OK 2')\n",
    "if (dt3 - dt1) == delta2: print('OK 3')\n",
    "\n",
    "longTime = 8760 * delta1\n",
    "dt4 = dt1+longTime\n",
    "print(dt4.year)"
   ]
  },
  {
   "cell_type": "code",
   "execution_count": 10,
   "metadata": {},
   "outputs": [
    {
     "name": "stdout",
     "output_type": "stream",
     "text": [
      "02\n"
     ]
    }
   ],
   "source": [
    "yearTest = str(dt4.year)[-2:]\n",
    "print(yearTest)"
   ]
  },
  {
   "cell_type": "markdown",
   "metadata": {},
   "source": [
    "### Restricting Gencumsky to some hours/days\n",
    "\n",
    "# NOT WORKING"
   ]
  },
  {
   "cell_type": "code",
   "execution_count": null,
   "metadata": {},
   "outputs": [],
   "source": [
    "startdt = datetime.datetime(2021,5,1,1)\n",
    "enddt = datetime.datetime(2021,9,30,23)\n",
    "simulationName = 'EMPTYFIELD'\n",
    "rad_obj = bifacial_radiance.RadianceObj(simulationName, path=testfolder)  # Create a RadianceObj 'object'\n",
    "rad_obj.setGround(albedo) \n",
    "metdata = rad_obj.readWeatherFile(epwfile, label='center', coerce_year=2021)\n",
    "rad_obj.genCumSky(startdt=startdt, enddt=enddt)\n",
    "#print(rad_obj.metdata.datetime[idx])\n",
    "sceneDict = {'pitch': pitch, 'tilt': 0, 'azimuth': 90, 'hub_height':-0.2, 'nMods':1, 'nRows': 1}  \n",
    "scene = rad_obj.makeScene(moduletype=moduletype,sceneDict=sceneDict)\n",
    "octfile = rad_obj.makeOct()  \n",
    "analysis = bifacial_radiance.AnalysisObj()\n",
    "frontscan, backscan = analysis.moduleAnalysis(scene, sensorsy=1)\n",
    "frontscan['zstart'] = 0.5\n",
    "frontdict, backdict = analysis.analysis(octfile = octfile, name='FIELDTotal', frontscan=frontscan, backscan=backscan)\n",
    "resname = os.path.join(testfolder, 'results')\n",
    "resname = os.path.join(resname, 'irr_FIELDTotal.csv')\n",
    "data = pd.read_csv(resname)\n",
    "print(\"FIELD TOTAL Season:\", data['Wm2Front'])"
   ]
  }
 ],
 "metadata": {
  "interpreter": {
   "hash": "38b803f8cb8cb1972b2d79f4214e8335121bba067692a0909a0a113aea9f8bc1"
  },
  "kernelspec": {
   "display_name": "Python 3",
   "language": "python",
   "name": "python3"
  },
  "language_info": {
   "codemirror_mode": {
    "name": "ipython",
    "version": 3
   },
   "file_extension": ".py",
   "mimetype": "text/x-python",
   "name": "python",
   "nbconvert_exporter": "python",
   "pygments_lexer": "ipython3",
   "version": "3.7.10"
  }
 },
 "nbformat": 4,
 "nbformat_minor": 2
}
