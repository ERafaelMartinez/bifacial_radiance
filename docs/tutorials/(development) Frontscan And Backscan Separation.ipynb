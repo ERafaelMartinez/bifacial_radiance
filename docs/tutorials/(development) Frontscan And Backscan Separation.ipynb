{
 "cells": [
  {
   "cell_type": "markdown",
   "id": "bd0a6e05",
   "metadata": {},
   "source": [
    "## Separating Frontscan and Backscan for different number of Sensors"
   ]
  },
  {
   "cell_type": "markdown",
   "id": "bd34faa1",
   "metadata": {},
   "source": [
    "The key ideas here are:\n",
    "\n",
    "- Functions like moduleAnalysis() returns two identically structured dictionaries that contain the keys like xstart, ystart, zstart, xinc, yinc, zinc, Nx, Ny, Nz, orientation. For the function arguments like sensorsy or sensorsx, there is an assumption that those will be equal for both the front and back surface.\n",
    "\n",
    "- We need to develop a separate function, pretty much functionally parallel with moduleAnalysis() to bring out the frontscan and backscan separately.....may be two distinct functions with distinct arguments for frontscan() and backscan()\n",
    "\n",
    "- The new functions will have variables passed on as arguments which can be different for front and back"
   ]
  },
  {
   "cell_type": "code",
   "execution_count": 1,
   "id": "08291374",
   "metadata": {},
   "outputs": [],
   "source": [
    "import bifacial_radiance\n",
    "import numpy as np\n",
    "import os\n",
    "from pathlib import Path\n",
    "\n",
    "testfolder = str(Path().resolve().parent.parent / 'bifacial_radiance' / 'TEMP')"
   ]
  },
  {
   "cell_type": "code",
   "execution_count": 2,
   "id": "153a0e40",
   "metadata": {},
   "outputs": [
    {
     "name": "stdout",
     "output_type": "stream",
     "text": [
      "path = C:\\Users\\sayala\\Documents\\GitHub\\bifacial_radiance\\bifacial_radiance\\TEMP\n"
     ]
    }
   ],
   "source": [
    "demo = bifacial_radiance.RadianceObj('ScanSeparate', testfolder) "
   ]
  },
  {
   "cell_type": "code",
   "execution_count": 3,
   "id": "3cbeaf10",
   "metadata": {},
   "outputs": [],
   "source": [
    "x = 2\n",
    "y = 1\n",
    "xgap = 0.02\n",
    "ygap = 0.15\n",
    "zgap = 0.10\n",
    "numpanels = 1\n",
    "offsetfromaxis = True\n",
    "axisofrotationTorqueTube = True\n",
    "frameParams = None\n",
    "omegaParams = None\n",
    "diam = 0.1"
   ]
  },
  {
   "cell_type": "code",
   "execution_count": 4,
   "id": "c87a51eb",
   "metadata": {},
   "outputs": [],
   "source": [
    "module_type = 'TEST'\n",
    "nMods = 3\n",
    "nRows = 2\n",
    "sceneDict = {'tilt':30, 'pitch':6, 'clearance_height':3,'azimuth':90, 'nMods': nMods, 'nRows': nRows} "
   ]
  },
  {
   "cell_type": "code",
   "execution_count": 5,
   "id": "3bcf7a37",
   "metadata": {},
   "outputs": [
    {
     "name": "stdout",
     "output_type": "stream",
     "text": [
      "Loading albedo, 1 value(s), 0.200 avg\n",
      "1 nonzero albedo values.\n",
      "Getting weather file: USA_VA_Richmond.724010_TMY2.epw\n",
      " ... OK!\n",
      "start: 2021-01-01 01:00:00\n",
      "end: 2021-12-31 23:00:00\n",
      "Saving file EPWs\\epw_temp.csv, # points: 8760\n",
      "Calculating Sun position for Metdata that is right-labeled  with a delta of -30 mins. i.e. 12 is 11:30 sunpos\n"
     ]
    },
    {
     "data": {
      "text/plain": [
       "'skies\\\\sky2_37.5_-77.33_2021_06_17_13_00.rad'"
      ]
     },
     "execution_count": 5,
     "metadata": {},
     "output_type": "execute_result"
    }
   ],
   "source": [
    "demo.setGround(0.2)\n",
    "epwfile = demo.getEPW(lat = 37.5, lon = -77.6)\n",
    "metdata = demo.readWeatherFile(epwfile, coerce_year = 2021)\n",
    "demo.gendaylit(4020)"
   ]
  },
  {
   "cell_type": "code",
   "execution_count": 6,
   "id": "3ec94898",
   "metadata": {},
   "outputs": [
    {
     "name": "stdout",
     "output_type": "stream",
     "text": [
      "\n",
      "Module Name: TEST\n",
      "Pre-existing .rad file objects\\TEST.rad will be overwritten\n",
      "Module TEST updated in module.json\n"
     ]
    },
    {
     "data": {
      "text/plain": [
       "{'x': 2,\n",
       " 'y': 1,\n",
       " 'z': 0.02,\n",
       " 'modulematerial': 'black',\n",
       " 'scenex': 2.02,\n",
       " 'sceney': 1.0,\n",
       " 'scenez': 0.15,\n",
       " 'numpanels': 1,\n",
       " 'bifi': 1,\n",
       " 'text': '! genbox black TEST 2 1 0.02 | xform -t -1.0 -0.5 0.15 -a 1 -t 0 1.15 0\\r\\n! genrev Metal_Grey tube1 t*2.02 0.05 32 | xform -ry 90 -t -1.01 0 0',\n",
       " 'modulefile': 'objects\\\\TEST.rad',\n",
       " 'offsetfromaxis': 0.15,\n",
       " 'xgap': 0.02,\n",
       " 'ygap': 0.15,\n",
       " 'zgap': 0.1,\n",
       " 'cellModule': None,\n",
       " 'torquetube': {'bool': True,\n",
       "  'diameter': 0.1,\n",
       "  'tubetype': 'Round',\n",
       "  'material': 'Metal_Grey'}}"
      ]
     },
     "execution_count": 6,
     "metadata": {},
     "output_type": "execute_result"
    }
   ],
   "source": [
    "demo.makeModule(name=module_type,x=x, y=y, torquetube = True, \n",
    "                    diameter = diam, xgap = xgap, ygap = ygap, zgap = zgap, \n",
    "                    numpanels = numpanels, omegaParams=None,\n",
    "                    axisofrotationTorqueTube=axisofrotationTorqueTube)"
   ]
  },
  {
   "cell_type": "code",
   "execution_count": 7,
   "id": "715ddc04",
   "metadata": {},
   "outputs": [
    {
     "name": "stdout",
     "output_type": "stream",
     "text": [
      "Created ScanSeparate.oct\n"
     ]
    }
   ],
   "source": [
    "scene = demo.makeScene(module_type,sceneDict)\n",
    "octfile = demo.makeOct()\n",
    "analysis = bifacial_radiance.AnalysisObj()  # return an analysis object including the scan dimensions for back irradiance"
   ]
  },
  {
   "cell_type": "code",
   "execution_count": 8,
   "id": "24d577f2",
   "metadata": {},
   "outputs": [],
   "source": [
    "name = 'ModuleScanTest'\n",
    "rowWanted = 1\n",
    "modWanted = 2\n"
   ]
  },
  {
   "cell_type": "code",
   "execution_count": 9,
   "id": "8d132174",
   "metadata": {},
   "outputs": [],
   "source": [
    "\n",
    "sensors_diff = True\n"
   ]
  },
  {
   "cell_type": "markdown",
   "id": "57541ac9",
   "metadata": {},
   "source": [
    "# Test 0 - Same sensors Front and back, xsensors=y"
   ]
  },
  {
   "cell_type": "code",
   "execution_count": 10,
   "id": "f6735903",
   "metadata": {},
   "outputs": [
    {
     "name": "stdout",
     "output_type": "stream",
     "text": [
      "Start shift: None flag: None\n",
      "frontscan {'xstart': 0.22983756729740645, 'ystart': 1.4073492055729158e-17, 'zstart': 3.2397570107138054, 'xinc': -0.28867513459481287, 'yinc': -1.7676253978748448e-17, 'zinc': 0.16666666666666663, 'Nx': 1, 'Ny': 2.0, 'Nz': 1, 'orient': '-0.500 -0.000 -0.866'}\n",
      "backscan {'xstart': 0.21883756729740644, 'ystart': 1.3399936316198115e-17, 'zstart': 3.2207044518305477, 'xinc': -0.28867513459481287, 'yinc': -1.7676253978748448e-17, 'zinc': 0.16666666666666663, 'Nx': 1, 'Ny': 2, 'Nz': 1, 'orient': '0.500 0.000 0.866'} \n",
      "\n",
      "Linescan in process: test0_Front\n",
      "Linescan in process: test0_Back\n",
      "Saved: results\\irr_test0.csv\n",
      "\n",
      "BOTH\n",
      "           x             y         z     rearZ            mattype  \\\n",
      "0  0.229838  1.407349e-17  3.239757  3.220704  a1.0.a0.TEST.6457   \n",
      "1 -0.058838 -3.602762e-18  3.406424  3.387371  a1.0.a0.TEST.6457   \n",
      "\n",
      "             rearMat  Wm2Front   Wm2Back  Back/FrontRatio  \n",
      "0  a1.0.a0.TEST.2310  777.0739  146.4997         0.188527  \n",
      "1  a1.0.a0.TEST.2310  777.2010  152.9882         0.196845  \n"
     ]
    }
   ],
   "source": [
    "name='test0'\n",
    "\n",
    "sensorsy = 2\n",
    "sensorsy_back = 2\n",
    "\n",
    "sensorsx = 1\n",
    "sensorsx_back = 1\n",
    "\n",
    "frontscan, backscan, start_shift, flag_s = analysis.moduleAnalysis(scene, modWanted=None, rowWanted=None,\n",
    "                       sensorsy=sensorsy, sensorsx=sensorsx, frontsurfaceoffset=0.001, backsurfaceoffset=0.001, \n",
    "                       modscanfront=None, modscanback=None, debug=False, sensors_diff = sensors_diff, \n",
    "                       sensorsy_back=sensorsy_back, sensorsx_back=sensorsx_back)\n",
    "\n",
    "print('Start shift:', start_shift, 'flag:', flag_s)\n",
    "print('frontscan', frontscan)\n",
    "print('backscan', backscan, '\\n')\n",
    "\n",
    "frontDict, backDict = analysis.analysis(octfile = octfile, name = name, frontscan = frontscan, \n",
    "                                        backscan = backscan, start_shift = start_shift, flag_s = flag_s)\n",
    "print('\\nBOTH\\n', bifacial_radiance.load.read1Result('results\\irr_'+name+'.csv'))\n"
   ]
  },
  {
   "cell_type": "markdown",
   "id": "fdb50aa3",
   "metadata": {},
   "source": [
    "# Test 1: more sensors on back than front, xsensors=1"
   ]
  },
  {
   "cell_type": "code",
   "execution_count": 11,
   "id": "d23cea80",
   "metadata": {},
   "outputs": [
    {
     "name": "stdout",
     "output_type": "stream",
     "text": [
      "Start shift: None flag: None\n",
      "frontscan {'xstart': 0.22983756729740645, 'ystart': 1.4073492055729158e-17, 'zstart': 3.2397570107138054, 'xinc': -0.28867513459481287, 'yinc': -1.7676253978748448e-17, 'zinc': 0.16666666666666663, 'Nx': 1, 'Ny': 2.0, 'Nz': 1, 'orient': '-0.500 -0.000 -0.866'}\n",
      "backscan {'xstart': 0.3343076211353315, 'ystart': 2.0470437907697492e-17, 'zstart': 3.1540377851638812, 'xinc': -0.17320508075688776, 'yinc': -1.0605752387249071e-17, 'zinc': 0.09999999999999999, 'Nx': 1, 'Ny': 4, 'Nz': 1, 'orient': '0.500 0.000 0.866'} \n",
      "\n",
      "Linescan in process: test1_Front\n",
      "Linescan in process: test1_Back\n",
      "Saved: results\\irr_test1_Front.csv\n",
      "Saved: results\\irr_test1_Back.csv\n",
      "\n",
      "FRONT\n",
      "           x             y         z            mattype       Wm2\n",
      "0  0.229838  1.407349e-17  3.239757  a1.0.a0.TEST.6457  777.5776\n",
      "1 -0.058838 -3.602762e-18  3.406424  a1.0.a0.TEST.6457  777.6735\n",
      "BACK\n",
      "           x             y         z            mattype         Wm2\n",
      "0  0.334308  2.047044e-17  3.154038  a1.0.a0.TEST.2310  157.307533\n",
      "1  0.161103  9.864686e-18  3.254038  a1.0.a0.TEST.2310  134.744500\n",
      "2 -0.012103 -7.410669e-19  3.354038  a1.0.a0.TEST.2310  144.848033\n",
      "3 -0.185308 -1.134682e-17  3.454038  a1.0.a0.TEST.2310  159.124967\n"
     ]
    }
   ],
   "source": [
    "name='test1'\n",
    "\n",
    "sensorsy = 2\n",
    "sensorsy_back = 4\n",
    "\n",
    "sensorsx = 1\n",
    "sensorsx_back = 1\n",
    "\n",
    "\n",
    "frontscan, backscan, start_shift, flag_s = analysis.moduleAnalysis(scene, modWanted=None, rowWanted=None,\n",
    "                       sensorsy=sensorsy, sensorsx=sensorsx, frontsurfaceoffset=0.001, backsurfaceoffset=0.001, \n",
    "                       modscanfront=None, modscanback=None, debug=False, sensors_diff = sensors_diff, \n",
    "                       sensorsy_back=sensorsy_back, sensorsx_back=sensorsx_back)\n",
    "\n",
    "print('Start shift:', start_shift, 'flag:', flag_s)\n",
    "print('frontscan', frontscan)\n",
    "print('backscan', backscan, '\\n')\n",
    "\n",
    "frontDict, backDict = analysis.analysis(octfile = octfile, name = name, frontscan = frontscan, \n",
    "                                        backscan = backscan, start_shift = start_shift, flag_s = flag_s)\n",
    "print('\\nFRONT\\n', bifacial_radiance.load.read1Result('results\\irr_'+name+'_Front.csv'))\n",
    "print('BACK\\n', bifacial_radiance.load.read1Result('results\\irr_'+name+'_Back.csv'))"
   ]
  },
  {
   "cell_type": "markdown",
   "id": "6f800bfd",
   "metadata": {},
   "source": [
    "# Test 2 - Same sensors front and back, xsensors = 2"
   ]
  },
  {
   "cell_type": "code",
   "execution_count": 12,
   "id": "c23e59c9",
   "metadata": {},
   "outputs": [
    {
     "name": "stdout",
     "output_type": "stream",
     "text": [
      "Start shift: -0.6666666666666666 flag: 0\n",
      "frontscan {'xstart': 0.22983756729740645, 'ystart': 0.33333333333333337, 'zstart': 3.2397570107138054, 'xinc': -0.28867513459481287, 'yinc': -1.7676253978748448e-17, 'zinc': 0.16666666666666663, 'Nx': 2, 'Ny': 2.0, 'Nz': 1, 'orient': '-0.500 -0.000 -0.866'}\n",
      "backscan {'xstart': 0.21883756729740644, 'ystart': 0.33333333333333337, 'zstart': 3.2207044518305477, 'xinc': -0.28867513459481287, 'yinc': -1.7676253978748448e-17, 'zinc': 0.16666666666666663, 'Nx': 2, 'Ny': 2, 'Nz': 1, 'orient': '0.500 0.000 0.866'} \n",
      "\n",
      "Linescan in process: test2_Front\n",
      "Linescan in process: test2_Back\n",
      "Saved: results\\irr_test2.csv\n",
      "\n",
      "BOTH\n",
      "           x         y         z     rearZ            mattype  \\\n",
      "0  0.229838  0.333333  3.239757  3.220704  a1.0.a0.TEST.6457   \n",
      "1 -0.058838  0.333333  3.406424  3.387371  a1.0.a0.TEST.6457   \n",
      "2 -0.436829  0.333333  3.239757  3.220704        groundplane   \n",
      "3 -0.725504  0.333333  3.406424  3.387371        groundplane   \n",
      "\n",
      "             rearMat    Wm2Front     Wm2Back  Back/FrontRatio  \n",
      "0  a1.0.a0.TEST.2310  777.468300  145.341667         0.186942  \n",
      "1  a1.0.a0.TEST.2310  777.564600  153.150733         0.196962  \n",
      "2  a1.0.a0.TEST.2310  893.468133  161.760067         0.181047  \n",
      "3                sky  895.116300   63.381340         0.070808  \n"
     ]
    }
   ],
   "source": [
    "name='test2'\n",
    "\n",
    "sensorsy = 2\n",
    "sensorsy_back = 2\n",
    "\n",
    "sensorsx = 2\n",
    "sensorsx_back = 2\n",
    "\n",
    "\n",
    "frontscan, backscan, start_shift, flag_s = analysis.moduleAnalysis(scene, modWanted=None, rowWanted=None,\n",
    "                       sensorsy=sensorsy, sensorsx=sensorsx, frontsurfaceoffset=0.001, backsurfaceoffset=0.001, \n",
    "                       modscanfront=None, modscanback=None, debug=False, sensors_diff = sensors_diff, \n",
    "                       sensorsy_back=sensorsy_back, sensorsx_back=sensorsx_back)\n",
    "\n",
    "print('Start shift:', start_shift, 'flag:', flag_s)\n",
    "print('frontscan', frontscan)\n",
    "print('backscan', backscan, '\\n')\n",
    "\n",
    "frontDict, backDict = analysis.analysis(octfile = octfile, name = name, frontscan = frontscan, \n",
    "                                        backscan = backscan, start_shift = start_shift, flag_s = flag_s)\n",
    "print('\\nBOTH\\n', bifacial_radiance.load.read1Result('results\\irr_'+name+'.csv'))\n"
   ]
  },
  {
   "cell_type": "markdown",
   "id": "687132bd",
   "metadata": {},
   "source": [
    "# Test 3 - Different sensors front and back, xsensors = 2"
   ]
  },
  {
   "cell_type": "code",
   "execution_count": 13,
   "id": "771faf57",
   "metadata": {},
   "outputs": [
    {
     "name": "stdout",
     "output_type": "stream",
     "text": [
      "Start shift: -0.6666666666666666 flag: 0\n",
      "frontscan {'xstart': 0.22983756729740645, 'ystart': 0.33333333333333337, 'zstart': 3.2397570107138054, 'xinc': -0.28867513459481287, 'yinc': -1.7676253978748448e-17, 'zinc': 0.16666666666666663, 'Nx': 2, 'Ny': 2.0, 'Nz': 1, 'orient': '-0.500 -0.000 -0.866'}\n",
      "backscan {'xstart': 0.3343076211353315, 'ystart': 0.33333333333333337, 'zstart': 3.1540377851638812, 'xinc': -0.17320508075688776, 'yinc': -1.0605752387249071e-17, 'zinc': 0.09999999999999999, 'Nx': 2, 'Ny': 4, 'Nz': 1, 'orient': '0.500 0.000 0.866'} \n",
      "\n",
      "Linescan in process: test3_Front\n",
      "Linescan in process: test3_Back\n",
      "Saved: results\\irr_test3_Front.csv\n",
      "Saved: results\\irr_test3_Back.csv\n",
      "\n",
      "FRONT\n",
      "           x         y         z            mattype         Wm2\n",
      "0  0.229838  0.333333  3.239757  a1.0.a0.TEST.6457  777.482400\n",
      "1 -0.058838  0.333333  3.406424  a1.0.a0.TEST.6457  777.579800\n",
      "2 -0.436829  0.333333  3.239757        groundplane  892.676367\n",
      "3 -0.725504  0.333333  3.406424        groundplane  894.437533\n",
      "BACK\n",
      "           x         y         z            mattype         Wm2\n",
      "0  0.334308  0.333333  3.154038  a1.0.a0.TEST.2310  157.199933\n",
      "1  0.161103  0.333333  3.254038  a1.0.a0.TEST.2310  135.400567\n",
      "2 -0.012103  0.333333  3.354038  a1.0.a0.TEST.2310  145.810133\n",
      "3 -0.185308  0.333333  3.454038  a1.0.a0.TEST.2310  158.636500\n",
      "4 -0.332359  0.333333  3.154038  a1.0.a0.TEST.2310  157.986200\n",
      "5 -0.505564  0.333333  3.254038  a1.0.a0.TEST.2310  164.131400\n",
      "6 -0.678769  0.333333  3.354038                sky   63.381340\n",
      "7 -0.851974  0.333333  3.454038                sky   63.381340\n"
     ]
    }
   ],
   "source": [
    "name='test3'\n",
    "\n",
    "sensorsy = 2\n",
    "sensorsy_back = 4\n",
    "\n",
    "sensorsx = 2\n",
    "sensorsx_back = 2\n",
    "\n",
    "frontscan, backscan, start_shift, flag_s = analysis.moduleAnalysis(scene, modWanted=None, rowWanted=None,\n",
    "                       sensorsy=sensorsy, sensorsx=sensorsx, frontsurfaceoffset=0.001, backsurfaceoffset=0.001, \n",
    "                       modscanfront=None, modscanback=None, debug=False, sensors_diff = sensors_diff, \n",
    "                       sensorsy_back=sensorsy_back, sensorsx_back=sensorsx_back)\n",
    "\n",
    "print('Start shift:', start_shift, 'flag:', flag_s)\n",
    "print('frontscan', frontscan)\n",
    "print('backscan', backscan, '\\n')\n",
    "\n",
    "frontDict, backDict = analysis.analysis(octfile = octfile, name = name, frontscan = frontscan, \n",
    "                                        backscan = backscan, start_shift = start_shift, flag_s = flag_s)\n",
    "print('\\nFRONT\\n', bifacial_radiance.load.read1Result('results\\irr_'+name+'_Front.csv'))\n",
    "print('BACK\\n', bifacial_radiance.load.read1Result('results\\irr_'+name+'_Back.csv'))"
   ]
  },
  {
   "cell_type": "markdown",
   "id": "5dd20890",
   "metadata": {},
   "source": [
    "# Test 4 - Different sensors front and back, different xsensors"
   ]
  },
  {
   "cell_type": "code",
   "execution_count": 14,
   "id": "d5a63c09",
   "metadata": {},
   "outputs": [
    {
     "name": "stdout",
     "output_type": "stream",
     "text": [
      "Start shift: -0.6666666666666666 flag: 0\n",
      "frontscan {'xstart': 0.22983756729740645, 'ystart': 0.33333333333333337, 'zstart': 3.2397570107138054, 'xinc': -0.28867513459481287, 'yinc': -1.7676253978748448e-17, 'zinc': 0.16666666666666663, 'Nx': 2, 'Ny': 2.0, 'Nz': 1, 'orient': '-0.500 -0.000 -0.866'}\n",
      "backscan {'xstart': 0.3343076211353315, 'ystart': 0.6, 'zstart': 3.1540377851638812, 'xinc': -0.17320508075688776, 'yinc': -1.0605752387249071e-17, 'zinc': 0.09999999999999999, 'Nx': 4, 'Ny': 4, 'Nz': 1, 'orient': '0.500 0.000 0.866'} \n",
      "\n",
      "Linescan in process: test4_Front\n",
      "Linescan in process: test4_Back\n",
      "Saved: results\\irr_test4_Front.csv\n",
      "Saved: results\\irr_test4_Back.csv\n",
      "\n",
      "FRONT\n",
      "           x         y         z            mattype         Wm2\n",
      "0  0.229838  0.333333  3.239757  a1.0.a0.TEST.6457  777.645000\n",
      "1 -0.058838  0.333333  3.406424  a1.0.a0.TEST.6457  777.770300\n",
      "2 -0.436829  0.333333  3.239757        groundplane  893.056000\n",
      "3 -0.725504  0.333333  3.406424        groundplane  894.835733\n",
      "BACK\n",
      "            x    y         z            mattype         Wm2\n",
      "0   0.334308  0.6  3.154038  a1.0.a0.TEST.2310  156.407833\n",
      "1   0.161103  0.6  3.254038  a1.0.a0.TEST.2310  134.130533\n",
      "2  -0.012103  0.6  3.354038  a1.0.a0.TEST.2310  145.011900\n",
      "3  -0.185308  0.6  3.454038  a1.0.a0.TEST.2310  158.526833\n",
      "4  -0.332359  0.6  3.154038  a1.0.a0.TEST.2310  157.739200\n",
      "5  -0.505564  0.6  3.254038  a1.0.a0.TEST.2310  163.118967\n",
      "6  -0.678769  0.6  3.354038                sky   63.381340\n",
      "7  -0.851974  0.6  3.454038                sky   63.381340\n",
      "8  -0.999026  0.6  3.154038                sky   63.381340\n",
      "9  -1.172231  0.6  3.254038                sky   63.381340\n",
      "10 -1.345436  0.6  3.354038                sky   63.381340\n",
      "11 -1.518641  0.6  3.454038                sky   63.381340\n",
      "12 -1.665692  0.6  3.154038                sky   63.381340\n",
      "13 -1.838897  0.6  3.254038                sky   63.381340\n",
      "14 -2.012103  0.6  3.354038                sky   63.381340\n",
      "15 -2.185308  0.6  3.454038                sky   63.381340\n"
     ]
    }
   ],
   "source": [
    "name='test4'\n",
    "\n",
    "sensorsy = 2\n",
    "sensorsy_back = 4\n",
    "\n",
    "sensorsx = 2\n",
    "sensorsx_back = 4\n",
    "\n",
    "frontscan, backscan, start_shift, flag_s = analysis.moduleAnalysis(scene, modWanted=None, rowWanted=None,\n",
    "                       sensorsy=sensorsy, sensorsx=sensorsx, frontsurfaceoffset=0.001, backsurfaceoffset=0.001, \n",
    "                       modscanfront=None, modscanback=None, debug=False, sensors_diff = sensors_diff, \n",
    "                       sensorsy_back=sensorsy_back, sensorsx_back=sensorsx_back)\n",
    "\n",
    "print('Start shift:', start_shift, 'flag:', flag_s)\n",
    "print('frontscan', frontscan)\n",
    "print('backscan', backscan, '\\n')\n",
    "\n",
    "frontDict, backDict = analysis.analysis(octfile = octfile, name = name, frontscan = frontscan, \n",
    "                                        backscan = backscan, start_shift = start_shift, flag_s = flag_s)\n",
    "print('\\nFRONT\\n', bifacial_radiance.load.read1Result('results\\irr_'+name+'_Front.csv'))\n",
    "print('BACK\\n', bifacial_radiance.load.read1Result('results\\irr_'+name+'_Back.csv'))"
   ]
  },
  {
   "cell_type": "code",
   "execution_count": null,
   "id": "669d0aee",
   "metadata": {},
   "outputs": [],
   "source": []
  }
 ],
 "metadata": {
  "kernelspec": {
   "display_name": "Python 3",
   "language": "python",
   "name": "python3"
  },
  "language_info": {
   "codemirror_mode": {
    "name": "ipython",
    "version": 3
   },
   "file_extension": ".py",
   "mimetype": "text/x-python",
   "name": "python",
   "nbconvert_exporter": "python",
   "pygments_lexer": "ipython3",
   "version": "3.7.10"
  }
 },
 "nbformat": 4,
 "nbformat_minor": 5
}
