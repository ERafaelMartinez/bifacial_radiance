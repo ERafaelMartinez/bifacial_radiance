{
 "cells": [
  {
   "cell_type": "markdown",
   "id": "bd0a6e05",
   "metadata": {},
   "source": [
    "## Separating Frontscan and Backscan for different number of Sensors"
   ]
  },
  {
   "cell_type": "markdown",
   "id": "bd34faa1",
   "metadata": {},
   "source": [
    "The key ideas here are:\n",
    "\n",
    "- Functions like moduleAnalysis() returns two identically structured dictionaries that contain the keys like xstart, ystart, zstart, xinc, yinc, zinc, Nx, Ny, Nz, orientation. For the function arguments like sensorsy or sensorsx, there is an assumption that those will be equal for both the front and back surface.\n",
    "\n",
    "- We need to develop a separate function, pretty much functionally parallel with moduleAnalysis() to bring out the frontscan and backscan separately.....may be two distinct functions with distinct arguments for frontscan() and backscan()\n",
    "\n",
    "- The new functions will have variables passed on as arguments which can be different for front and back"
   ]
  },
  {
   "cell_type": "code",
   "execution_count": 1,
   "id": "08291374",
   "metadata": {},
   "outputs": [],
   "source": [
    "import bifacial_radiance\n",
    "import numpy as np\n",
    "import os\n",
    "from pathlib import Path\n",
    "\n",
    "testfolder = str(Path().resolve().parent.parent / 'bifacial_radiance' / 'TEMP')"
   ]
  },
  {
   "cell_type": "code",
   "execution_count": 2,
   "id": "153a0e40",
   "metadata": {},
   "outputs": [
    {
     "name": "stdout",
     "output_type": "stream",
     "text": [
      "path = C:\\Users\\sarefeen\\Documents\\GitHub\\bifacial_radiance\\bifacial_radiance\\TEMP\n"
     ]
    }
   ],
   "source": [
    "demo = bifacial_radiance.RadianceObj('ScanSeparate', testfolder) "
   ]
  },
  {
   "cell_type": "code",
   "execution_count": 3,
   "id": "3cbeaf10",
   "metadata": {},
   "outputs": [],
   "source": [
    "x = 2\n",
    "y = 1\n",
    "xgap = 0.02\n",
    "ygap = 0.15\n",
    "zgap = 0.10\n",
    "numpanels = 1\n",
    "offsetfromaxis = True\n",
    "Ny = numpanels\n",
    "axisofrotationTorqueTube = True\n",
    "frameParams = None\n",
    "omegaParams = None\n",
    "diam = 0.1"
   ]
  },
  {
   "cell_type": "code",
   "execution_count": 4,
   "id": "c87a51eb",
   "metadata": {},
   "outputs": [],
   "source": [
    "module_type = 'TEST'\n",
    "nMods = 3\n",
    "nRows = 2\n",
    "sceneDict = {'tilt':0, 'pitch':6, 'clearance_height':3,'azimuth':90, 'nMods': nMods, 'nRows': nRows} "
   ]
  },
  {
   "cell_type": "code",
   "execution_count": 5,
   "id": "3bcf7a37",
   "metadata": {},
   "outputs": [
    {
     "name": "stdout",
     "output_type": "stream",
     "text": [
      "Loading albedo, 1 value(s), 0.200 avg\n",
      "1 nonzero albedo values.\n",
      "Getting weather file: USA_VA_Richmond.Intl.AP.724010_TMY.epw\n",
      " ... OK!\n",
      "start: 2021-01-01 01:00:00\n",
      "end: 2021-12-31 23:00:00\n",
      "Saving file EPWs\\epw_temp.csv, # points: 8760\n",
      "Calculating Sun position for Metdata that is right-labeled  with a delta of -30 mins. i.e. 12 is 11:30 sunpos\n"
     ]
    },
    {
     "data": {
      "text/plain": [
       "'skies\\\\sky2_37.5_-77.33_2021_06_17_13_00.rad'"
      ]
     },
     "execution_count": 5,
     "metadata": {},
     "output_type": "execute_result"
    }
   ],
   "source": [
    "demo.setGround(0.2)\n",
    "epwfile = demo.getEPW(lat = 37.5, lon = -77.6)\n",
    "metdata = demo.readWeatherFile(epwfile, coerce_year = 2021)\n",
    "demo.gendaylit(4020)"
   ]
  },
  {
   "cell_type": "code",
   "execution_count": 6,
   "id": "3ec94898",
   "metadata": {},
   "outputs": [
    {
     "name": "stdout",
     "output_type": "stream",
     "text": [
      "\n",
      "Module Name: TEST\n",
      "Pre-existing .rad file objects\\TEST.rad will be overwritten\n",
      "Module TEST updated in module.json\n"
     ]
    },
    {
     "data": {
      "text/plain": [
       "{'x': 2,\n",
       " 'y': 1,\n",
       " 'z': 0.02,\n",
       " 'modulematerial': 'black',\n",
       " 'scenex': 2.02,\n",
       " 'sceney': 1.0,\n",
       " 'scenez': 0.15,\n",
       " 'numpanels': 1,\n",
       " 'bifi': 1,\n",
       " 'text': '! genbox black TEST 2 1 0.02 | xform -t -1.0 -0.5 0.15 -a 1 -t 0 1.15 0\\r\\n! genrev Metal_Grey tube1 t*2.02 0.05 32 | xform -ry 90 -t -1.01 0 0',\n",
       " 'modulefile': 'objects\\\\TEST.rad',\n",
       " 'offsetfromaxis': 0.15,\n",
       " 'xgap': 0.02,\n",
       " 'ygap': 0.15,\n",
       " 'zgap': 0.1,\n",
       " 'cellModule': None,\n",
       " 'torquetube': {'bool': True,\n",
       "  'diameter': 0.1,\n",
       "  'tubetype': 'Round',\n",
       "  'material': 'Metal_Grey'}}"
      ]
     },
     "execution_count": 6,
     "metadata": {},
     "output_type": "execute_result"
    }
   ],
   "source": [
    "demo.makeModule(name=module_type,x=x, y=y, torquetube = True, \n",
    "                    diameter = diam, xgap = xgap, ygap = ygap, zgap = zgap, \n",
    "                    numpanels = Ny, omegaParams=None,\n",
    "                    axisofrotationTorqueTube=axisofrotationTorqueTube)"
   ]
  },
  {
   "cell_type": "code",
   "execution_count": 7,
   "id": "715ddc04",
   "metadata": {},
   "outputs": [
    {
     "name": "stdout",
     "output_type": "stream",
     "text": [
      "Created ScanSeparate.oct\n"
     ]
    }
   ],
   "source": [
    "scene = demo.makeScene(module_type,sceneDict)\n",
    "octfile = demo.makeOct()\n",
    "analysis = bifacial_radiance.AnalysisObj()  # return an analysis object including the scan dimensions for back irradiance"
   ]
  },
  {
   "cell_type": "code",
   "execution_count": 8,
   "id": "24d577f2",
   "metadata": {},
   "outputs": [],
   "source": [
    "name = 'ModuleScanTest'\n",
    "rowWanted = 1\n",
    "modWanted = 2\n",
    "sensorsy = 2\n",
    "sensorsx = 3"
   ]
  },
  {
   "cell_type": "code",
   "execution_count": 9,
   "id": "8d132174",
   "metadata": {},
   "outputs": [],
   "source": [
    "sensors_diff = True\n",
    "sensorsx_back = 3\n",
    "sensorsy_back = 4"
   ]
  },
  {
   "cell_type": "code",
   "execution_count": 10,
   "id": "d23cea80",
   "metadata": {},
   "outputs": [],
   "source": [
    "frontscan, backscan, start_shift, flag_s = analysis.moduleAnalysis(scene, modWanted=None, rowWanted=None,\n",
    "                       sensorsy=sensorsy, sensorsx=sensorsx, frontsurfaceoffset=0.001, backsurfaceoffset=0.001, \n",
    "                       modscanfront=None, modscanback=None, debug=False, sensors_diff = sensors_diff, \n",
    "                       sensorsy_back=sensorsy_back, sensorsx_back=sensorsx_back)"
   ]
  },
  {
   "cell_type": "code",
   "execution_count": 11,
   "id": "f6735903",
   "metadata": {},
   "outputs": [
    {
     "data": {
      "text/plain": [
       "-0.5"
      ]
     },
     "execution_count": 11,
     "metadata": {},
     "output_type": "execute_result"
    }
   ],
   "source": [
    "start_shift"
   ]
  },
  {
   "cell_type": "code",
   "execution_count": 12,
   "id": "c23e59c9",
   "metadata": {},
   "outputs": [
    {
     "data": {
      "text/plain": [
       "0"
      ]
     },
     "execution_count": 12,
     "metadata": {},
     "output_type": "execute_result"
    }
   ],
   "source": [
    "flag_s"
   ]
  },
  {
   "cell_type": "code",
   "execution_count": null,
   "id": "261b2111",
   "metadata": {},
   "outputs": [],
   "source": [
    "backscan"
   ]
  },
  {
   "cell_type": "code",
   "execution_count": 13,
   "id": "402b4992",
   "metadata": {},
   "outputs": [
    {
     "name": "stdout",
     "output_type": "stream",
     "text": [
      "Linescan in process: ModuleScanTest_Front\n",
      "Linescan in process: ModuleScanTest_Back\n",
      "Saved: results\\irr_ModuleScanTest_Front.csv\n",
      "Saved: results\\irr_ModuleScanTest_Back.csv\n"
     ]
    }
   ],
   "source": [
    "frontDict, backDict = analysis.analysis(octfile = octfile, name = name, frontscan = frontscan, backscan = backscan, start_shift = start_shift, flag_s = flag_s)"
   ]
  },
  {
   "cell_type": "code",
   "execution_count": null,
   "id": "92e927e7",
   "metadata": {},
   "outputs": [],
   "source": []
  }
 ],
 "metadata": {
  "kernelspec": {
   "display_name": "Python 3",
   "language": "python",
   "name": "python3"
  },
  "language_info": {
   "codemirror_mode": {
    "name": "ipython",
    "version": 3
   },
   "file_extension": ".py",
   "mimetype": "text/x-python",
   "name": "python",
   "nbconvert_exporter": "python",
   "pygments_lexer": "ipython3",
   "version": "3.8.8"
  }
 },
 "nbformat": 4,
 "nbformat_minor": 5
}
