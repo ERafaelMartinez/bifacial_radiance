{
 "cells": [
  {
   "cell_type": "markdown",
   "id": "bd0a6e05",
   "metadata": {},
   "source": [
    "## Separating Frontscan and Backscan for different number of Sensors"
   ]
  },
  {
   "cell_type": "markdown",
   "id": "bd34faa1",
   "metadata": {},
   "source": [
    "The key ideas here are:\n",
    "\n",
    "- Functions like moduleAnalysis() returns two identically structured dictionaries that contain the keys like xstart, ystart, zstart, xinc, yinc, zinc, Nx, Ny, Nz, orientation. For the function arguments like sensorsy or sensorsx, there is an assumption that those will be equal for both the front and back surface.\n",
    "\n",
    "- We need to develop a separate function, pretty much functionally parallel with moduleAnalysis() to bring out the frontscan and backscan separately.....may be two distinct functions with distinct arguments for frontscan() and backscan()\n",
    "\n",
    "- The new functions will have variables passed on as arguments which can be different for front and back"
   ]
  },
  {
   "cell_type": "code",
   "execution_count": 1,
   "id": "08291374",
   "metadata": {},
   "outputs": [],
   "source": [
    "import bifacial_radiance\n",
    "import numpy as np\n",
    "import os\n",
    "from pathlib import Path\n",
    "\n",
    "testfolder = str(Path().resolve().parent.parent / 'bifacial_radiance' / 'TEMP')"
   ]
  },
  {
   "cell_type": "code",
   "execution_count": 2,
   "id": "153a0e40",
   "metadata": {},
   "outputs": [
    {
     "name": "stdout",
     "output_type": "stream",
     "text": [
      "path = C:\\Users\\sarefeen\\Documents\\GitHub\\bifacial_radiance\\bifacial_radiance\\TEMP\n"
     ]
    }
   ],
   "source": [
    "demo = bifacial_radiance.RadianceObj('ScanSeparate', testfolder) "
   ]
  },
  {
   "cell_type": "code",
   "execution_count": 3,
   "id": "3cbeaf10",
   "metadata": {},
   "outputs": [],
   "source": [
    "x = 2\n",
    "y = 1\n",
    "xgap = 0.02\n",
    "ygap = 0.15\n",
    "zgap = 0.10\n",
    "numpanels = 1\n",
    "offsetfromaxis = True\n",
    "Ny = numpanels\n",
    "axisofrotationTorqueTube = True\n",
    "frameParams = None\n",
    "omegaParams = None\n",
    "diam = 0.1"
   ]
  },
  {
   "cell_type": "code",
   "execution_count": 4,
   "id": "c87a51eb",
   "metadata": {},
   "outputs": [],
   "source": [
    "module_type = 'TEST'\n",
    "nMods = 3\n",
    "nRows = 2\n",
    "sceneDict = {'tilt':0, 'pitch':6, 'clearance_height':3,'azimuth':90, 'nMods': nMods, 'nRows': nRows} "
   ]
  },
  {
   "cell_type": "code",
   "execution_count": 5,
   "id": "3bcf7a37",
   "metadata": {},
   "outputs": [
    {
     "name": "stdout",
     "output_type": "stream",
     "text": [
      "Loading albedo, 1 value(s), 0.200 avg\n",
      "1 nonzero albedo values.\n",
      "Getting weather file: USA_VA_Richmond.Intl.AP.724010_TMY.epw\n",
      " ... OK!\n",
      "start: 2021-01-01 01:00:00\n",
      "end: 2021-12-31 23:00:00\n",
      "Saving file EPWs\\epw_temp.csv, # points: 8760\n",
      "Calculating Sun position for Metdata that is right-labeled  with a delta of -30 mins. i.e. 12 is 11:30 sunpos\n"
     ]
    },
    {
     "data": {
      "text/plain": [
       "'skies\\\\sky2_37.5_-77.33_2021_06_17_13_00.rad'"
      ]
     },
     "execution_count": 5,
     "metadata": {},
     "output_type": "execute_result"
    }
   ],
   "source": [
    "demo.setGround(0.2)\n",
    "epwfile = demo.getEPW(lat = 37.5, lon = -77.6)\n",
    "metdata = demo.readWeatherFile(epwfile, coerce_year = 2021)\n",
    "demo.gendaylit(4020)"
   ]
  },
  {
   "cell_type": "code",
   "execution_count": 6,
   "id": "3ec94898",
   "metadata": {},
   "outputs": [
    {
     "name": "stdout",
     "output_type": "stream",
     "text": [
      "\n",
      "Module Name: TEST\n",
      "Module TEST updated in module.json\n"
     ]
    },
    {
     "data": {
      "text/plain": [
       "{'x': 2,\n",
       " 'y': 1,\n",
       " 'z': 0.02,\n",
       " 'modulematerial': 'black',\n",
       " 'scenex': 2.02,\n",
       " 'sceney': 1.0,\n",
       " 'scenez': 0.15,\n",
       " 'numpanels': 1,\n",
       " 'bifi': 1,\n",
       " 'text': '! genbox black TEST 2 1 0.02 | xform -t -1.0 -0.5 0.15 -a 1 -t 0 1.15 0\\r\\n! genrev Metal_Grey tube1 t*2.02 0.05 32 | xform -ry 90 -t -1.01 0 0',\n",
       " 'modulefile': 'objects\\\\TEST.rad',\n",
       " 'offsetfromaxis': 0.15,\n",
       " 'xgap': 0.02,\n",
       " 'ygap': 0.15,\n",
       " 'zgap': 0.1,\n",
       " 'cellModule': None,\n",
       " 'torquetube': {'bool': True,\n",
       "  'diameter': 0.1,\n",
       "  'tubetype': 'Round',\n",
       "  'material': 'Metal_Grey'}}"
      ]
     },
     "execution_count": 6,
     "metadata": {},
     "output_type": "execute_result"
    }
   ],
   "source": [
    "demo.makeModule(name=module_type,x=x, y=y, torquetube = True, \n",
    "                    diameter = diam, xgap = xgap, ygap = ygap, zgap = zgap, \n",
    "                    numpanels = Ny, omegaParams=None,\n",
    "                    axisofrotationTorqueTube=axisofrotationTorqueTube)"
   ]
  },
  {
   "cell_type": "code",
   "execution_count": 7,
   "id": "715ddc04",
   "metadata": {},
   "outputs": [
    {
     "name": "stdout",
     "output_type": "stream",
     "text": [
      "Created ScanSeparate.oct\n"
     ]
    }
   ],
   "source": [
    "scene = demo.makeScene(module_type,sceneDict)\n",
    "octfile = demo.makeOct()\n",
    "analysis = bifacial_radiance.AnalysisObj()  # return an analysis object including the scan dimensions for back irradiance"
   ]
  },
  {
   "cell_type": "code",
   "execution_count": 9,
   "id": "24d577f2",
   "metadata": {},
   "outputs": [],
   "source": [
    "name = 'ModuleScanTest'\n",
    "rowWanted = 1\n",
    "modWanted = 2\n",
    "sensorsy = 2\n",
    "sensorsx = 3"
   ]
  },
  {
   "cell_type": "code",
   "execution_count": 10,
   "id": "8d132174",
   "metadata": {},
   "outputs": [],
   "source": [
    "sensors_diff = True\n",
    "sensorsx_back = 3\n",
    "sensorsy_back = 3"
   ]
  },
  {
   "cell_type": "code",
   "execution_count": 12,
   "id": "d23cea80",
   "metadata": {},
   "outputs": [],
   "source": [
    "frontscan, backscan = analysis.moduleAnalysis(scene, modWanted=None, rowWanted=None,\n",
    "                       sensorsy=9.0, sensorsx=1.0, frontsurfaceoffset=0.001, backsurfaceoffset=0.001, \n",
    "                       modscanfront=None, modscanback=None, debug=False, sensors_diff = sensors_diff, \n",
    "                       sensorsy_back=sensorsy_back, sensorsx_back=sensorsx_back)"
   ]
  },
  {
   "cell_type": "code",
   "execution_count": 13,
   "id": "c23e59c9",
   "metadata": {},
   "outputs": [
    {
     "data": {
      "text/plain": [
       "{'xstart': 0.4,\n",
       " 'ystart': 2.4492935982947065e-17,\n",
       " 'zstart': 3.171,\n",
       " 'xinc': -0.1,\n",
       " 'yinc': -6.123233995736766e-18,\n",
       " 'zinc': 0.0,\n",
       " 'Nx': 1.0,\n",
       " 'Ny': 9.0,\n",
       " 'Nz': 1,\n",
       " 'orient': '-0.000 -0.000 -1.000'}"
      ]
     },
     "execution_count": 13,
     "metadata": {},
     "output_type": "execute_result"
    }
   ],
   "source": [
    "frontscan"
   ]
  },
  {
   "cell_type": "code",
   "execution_count": 14,
   "id": "261b2111",
   "metadata": {},
   "outputs": [
    {
     "data": {
      "text/plain": [
       "{'xstart': 0.25,\n",
       " 'ystart': 0.5,\n",
       " 'zstart': 3.149,\n",
       " 'xinc': -0.25,\n",
       " 'yinc': -1.5308084989341915e-17,\n",
       " 'zinc': 0.0,\n",
       " 'Nx': 3,\n",
       " 'Ny': 3,\n",
       " 'Nz': 1,\n",
       " 'orient': '0.000 0.000 1.000'}"
      ]
     },
     "execution_count": 14,
     "metadata": {},
     "output_type": "execute_result"
    }
   ],
   "source": [
    "backscan"
   ]
  },
  {
   "cell_type": "code",
   "execution_count": 18,
   "id": "402b4992",
   "metadata": {},
   "outputs": [
    {
     "name": "stdout",
     "output_type": "stream",
     "text": [
      "Linescan in process: ModuleScanTest_Front\n",
      "Linescan in process: ModuleScanTest_Back\n",
      "Saved: results\\irr_ModuleScanTest.csv\n"
     ]
    }
   ],
   "source": [
    "frontDict, backDict = analysis.analysis(octfile = octfile, name = name, frontscan = frontscan, backscan = backscan)"
   ]
  },
  {
   "cell_type": "code",
   "execution_count": 19,
   "id": "654bb2cb",
   "metadata": {},
   "outputs": [
    {
     "data": {
      "text/plain": [
       "{'Wm2': [605.7191,\n",
       "  605.7256,\n",
       "  605.7269,\n",
       "  605.7283,\n",
       "  605.7296,\n",
       "  605.7309,\n",
       "  605.7323,\n",
       "  605.7335,\n",
       "  605.7349],\n",
       " 'x': [0.4, 0.3, 0.2, 0.1, 0.0, -0.1, -0.2, -0.3, -0.4],\n",
       " 'y': [2.449294e-17,\n",
       "  1.83697e-17,\n",
       "  1.224647e-17,\n",
       "  6.123234e-18,\n",
       "  0.0,\n",
       "  -6.123234e-18,\n",
       "  -1.224647e-17,\n",
       "  -1.83697e-17,\n",
       "  -2.449294e-17],\n",
       " 'z': [3.171, 3.171, 3.171, 3.171, 3.171, 3.171, 3.171, 3.171, 3.171],\n",
       " 'r': [605.7191,\n",
       "  605.7256,\n",
       "  605.7269,\n",
       "  605.7283,\n",
       "  605.7296,\n",
       "  605.7309,\n",
       "  605.7323,\n",
       "  605.7335,\n",
       "  605.7349],\n",
       " 'g': [605.7191,\n",
       "  605.7256,\n",
       "  605.7269,\n",
       "  605.7283,\n",
       "  605.7296,\n",
       "  605.7309,\n",
       "  605.7323,\n",
       "  605.7335,\n",
       "  605.7349],\n",
       " 'b': [605.7191,\n",
       "  605.7256,\n",
       "  605.7269,\n",
       "  605.7283,\n",
       "  605.7296,\n",
       "  605.7309,\n",
       "  605.7323,\n",
       "  605.7335,\n",
       "  605.7349],\n",
       " 'mattype': ['a1.0.a0.TEST.6457',\n",
       "  'a1.0.a0.TEST.6457',\n",
       "  'a1.0.a0.TEST.6457',\n",
       "  'a1.0.a0.TEST.6457',\n",
       "  'a1.0.a0.TEST.6457',\n",
       "  'a1.0.a0.TEST.6457',\n",
       "  'a1.0.a0.TEST.6457',\n",
       "  'a1.0.a0.TEST.6457',\n",
       "  'a1.0.a0.TEST.6457'],\n",
       " 'title': 'ModuleScanTest_Front'}"
      ]
     },
     "execution_count": 19,
     "metadata": {},
     "output_type": "execute_result"
    }
   ],
   "source": [
    "frontDict"
   ]
  },
  {
   "cell_type": "code",
   "execution_count": 20,
   "id": "9a6b80e9",
   "metadata": {},
   "outputs": [
    {
     "data": {
      "text/plain": [
       "{'Wm2': [102.17203333333333,\n",
       "  85.87816,\n",
       "  101.72896666666666,\n",
       "  102.17186666666667,\n",
       "  85.87799333333334,\n",
       "  101.72946666666667,\n",
       "  102.17186666666667,\n",
       "  85.87799333333334,\n",
       "  101.72946666666667],\n",
       " 'x': [0.25, 0.0, -0.25, 0.25, 0.0, -0.25, 0.25, 0.0, -0.25],\n",
       " 'y': [0.5, 0.5, 0.5, 0.5, 0.5, 0.5, 0.5, 0.5, 0.5],\n",
       " 'z': [3.149, 3.149, 3.149, 3.149, 3.149, 3.149, 3.149, 3.149, 3.149],\n",
       " 'r': [102.1427,\n",
       "  85.84342,\n",
       "  101.6999,\n",
       "  102.1426,\n",
       "  85.84325,\n",
       "  101.7004,\n",
       "  102.1426,\n",
       "  85.84325,\n",
       "  101.7004],\n",
       " 'g': [102.1726,\n",
       "  85.87881,\n",
       "  101.7295,\n",
       "  102.1724,\n",
       "  85.87865,\n",
       "  101.73,\n",
       "  102.1724,\n",
       "  85.87865,\n",
       "  101.73],\n",
       " 'b': [102.2008,\n",
       "  85.91225,\n",
       "  101.7575,\n",
       "  102.2006,\n",
       "  85.91208,\n",
       "  101.758,\n",
       "  102.2006,\n",
       "  85.91208,\n",
       "  101.758],\n",
       " 'mattype': ['a1.0.a0.TEST.2310',\n",
       "  'a1.0.a0.TEST.2310',\n",
       "  'a1.0.a0.TEST.2310',\n",
       "  'a1.0.a0.TEST.2310',\n",
       "  'a1.0.a0.TEST.2310',\n",
       "  'a1.0.a0.TEST.2310',\n",
       "  'a1.0.a0.TEST.2310',\n",
       "  'a1.0.a0.TEST.2310',\n",
       "  'a1.0.a0.TEST.2310'],\n",
       " 'title': 'ModuleScanTest_Back'}"
      ]
     },
     "execution_count": 20,
     "metadata": {},
     "output_type": "execute_result"
    }
   ],
   "source": [
    "backDict"
   ]
  },
  {
   "cell_type": "code",
   "execution_count": 21,
   "id": "eb7d0b8a",
   "metadata": {},
   "outputs": [
    {
     "data": {
      "text/plain": [
       "9"
      ]
     },
     "execution_count": 21,
     "metadata": {},
     "output_type": "execute_result"
    }
   ],
   "source": [
    "len(frontDict['Wm2'])"
   ]
  },
  {
   "cell_type": "code",
   "execution_count": 22,
   "id": "ebc0b749",
   "metadata": {},
   "outputs": [
    {
     "data": {
      "text/plain": [
       "9"
      ]
     },
     "execution_count": 22,
     "metadata": {},
     "output_type": "execute_result"
    }
   ],
   "source": [
    "len(backDict['Wm2'])"
   ]
  },
  {
   "cell_type": "code",
   "execution_count": null,
   "id": "f2b1870c",
   "metadata": {},
   "outputs": [],
   "source": [
    "linepts = analysis._linePtsMakeDict(front_dict)"
   ]
  },
  {
   "cell_type": "code",
   "execution_count": null,
   "id": "aa932ef2",
   "metadata": {},
   "outputs": [],
   "source": [
    "linepts"
   ]
  },
  {
   "cell_type": "code",
   "execution_count": null,
   "id": "5db716d3",
   "metadata": {},
   "outputs": [],
   "source": [
    "hpc = False\n",
    "accuracy = 'low'\n",
    "plotflag = None\n",
    "frontDict = analysis._irrPlot(octfile, linepts, name+'_Front',\n",
    "                                    plotflag=plotflag, accuracy=accuracy, hpc = hpc)"
   ]
  },
  {
   "cell_type": "code",
   "execution_count": null,
   "id": "5bb6711b",
   "metadata": {},
   "outputs": [],
   "source": [
    "frontDict"
   ]
  },
  {
   "cell_type": "code",
   "execution_count": null,
   "id": "e56a4868",
   "metadata": {},
   "outputs": [],
   "source": [
    "#bottom view.\n",
    "linepts = analysis._linePtsMakeDict(back_dict)\n",
    "backDict = analysis._irrPlot(octfile, linepts, name+'_Back',\n",
    "                                   plotflag=plotflag, accuracy=accuracy, hpc = hpc)"
   ]
  },
  {
   "cell_type": "code",
   "execution_count": null,
   "id": "cd5962a7",
   "metadata": {},
   "outputs": [],
   "source": [
    "backDict"
   ]
  },
  {
   "cell_type": "code",
   "execution_count": null,
   "id": "cc95d95b",
   "metadata": {},
   "outputs": [],
   "source": [
    "data = frontDict\n",
    "data_sub = {key:data[key] for key in ['x', 'y', 'z', 'r', 'g', 'b', 'Wm2', 'mattype']}"
   ]
  },
  {
   "cell_type": "code",
   "execution_count": null,
   "id": "8122696e",
   "metadata": {},
   "outputs": [],
   "source": [
    "data_sub"
   ]
  },
  {
   "cell_type": "code",
   "execution_count": null,
   "id": "8738e976",
   "metadata": {},
   "outputs": [],
   "source": [
    "data_back = backDict"
   ]
  },
  {
   "cell_type": "code",
   "execution_count": null,
   "id": "31a4c784",
   "metadata": {},
   "outputs": [],
   "source": [
    "data_sub_back = {key:data_back[key] for key in ['x', 'y', 'z', 'r', 'g', 'b', 'Wm2', 'mattype']}"
   ]
  },
  {
   "cell_type": "code",
   "execution_count": null,
   "id": "89957b29",
   "metadata": {},
   "outputs": [],
   "source": [
    "data_sub_back"
   ]
  },
  {
   "cell_type": "code",
   "execution_count": null,
   "id": "a3f5b79a",
   "metadata": {},
   "outputs": [],
   "source": [
    "frontDict"
   ]
  },
  {
   "cell_type": "code",
   "execution_count": null,
   "id": "a720a5f6",
   "metadata": {},
   "outputs": [],
   "source": [
    "frontscan_test = analysis._irrPlot(octfile = octfile, linepts = linepts)"
   ]
  },
  {
   "cell_type": "code",
   "execution_count": null,
   "id": "8909da46",
   "metadata": {},
   "outputs": [],
   "source": [
    "analysis._saveResults(frontscan_test)"
   ]
  },
  {
   "cell_type": "code",
   "execution_count": null,
   "id": "4fa266bc",
   "metadata": {},
   "outputs": [],
   "source": [
    "def _saveResults(self, data, reardata=None, savefile=None, RGB = False):\n",
    "        \"\"\"\n",
    "    Function to save output from _irrPlot\n",
    "    If rearvals is passed in, back ratio is saved\n",
    "\n",
    "    Returns\n",
    "    --------\n",
    "    savefile : str\n",
    "        If set to None, will write to default .csv filename in results folder.\n",
    "    \"\"\"\n",
    "\n",
    "    if savefile is None:\n",
    "        savefile = data['title'] + '.csv'\n",
    "    # make dataframe from results\n",
    "\n",
    "    if RGB:\n",
    "        data_sub = {key:data[key] for key in ['x', 'y', 'z', 'r', 'g', 'b', 'Wm2', 'mattype']}\n",
    "        self.R = data['r']\n",
    "        self.G = data['g']\n",
    "        self.B = data['b']\n",
    "        self.x = data['x']\n",
    "        self.y = data['y']\n",
    "        self.z = data['z']\n",
    "        self.mattype = data['mattype']\n",
    "    else:\n",
    "        data_sub = {key:data[key] for key in ['x', 'y', 'z', 'Wm2', 'mattype']}\n",
    "        self.x = data['x']\n",
    "        self.y = data['y']\n",
    "        self.z = data['z']\n",
    "        self.mattype = data['mattype']\n",
    "\n",
    "    if reardata is not None:\n",
    "        self.rearX = reardata['x']\n",
    "        self.rearY = reardata['y']\n",
    "        self.rearMat = reardata['mattype']\n",
    "        data_sub['rearMat'] = self.rearMat\n",
    "        self.rearZ = reardata['z']\n",
    "        data_sub['rearZ'] = self.rearZ\n",
    "        self.Wm2Front = data_sub.pop('Wm2')\n",
    "        data_sub['Wm2Front'] = self.Wm2Front\n",
    "        self.Wm2Back = reardata['Wm2']\n",
    "        data_sub['Wm2Back'] = self.Wm2Back\n",
    "        self.backRatio = [x/(y+.001) for x,y in zip(reardata['Wm2'],data['Wm2'])] # add 1mW/m2 to avoid dividebyzero\n",
    "        data_sub['Back/FrontRatio'] = self.backRatio\n",
    "\n",
    "        if RGB:\n",
    "            self.rearR = reardata['r']\n",
    "            data_sub['rearR'] = self.rearR\n",
    "            self.rearG = reardata['g']\n",
    "            data_sub['rearG'] = self.rearG\n",
    "            self.rearB = reardata['b']\n",
    "            data_sub['rearB'] = self.rearB\n",
    "\n",
    "            df = pd.DataFrame.from_dict(data_sub)\n",
    "            df.reindex(columns=['x','y','z','rearZ','mattype','rearMat',\n",
    "                                'Wm2Front','Wm2Back','Back/FrontRatio',\n",
    "                                'R','G','B', 'rearR','rearG','rearB'])\n",
    "            df.to_csv(os.path.join(\"results\", savefile), sep = ',',\n",
    "                                 index = False) # new in 0.2.3\n",
    "\n",
    "        else:\n",
    "            df = pd.DataFrame.from_dict(data_sub)\n",
    "            df.to_csv(os.path.join(\"results\", savefile), sep = ',',\n",
    "                      columns = ['x','y','z','rearZ','mattype','rearMat',\n",
    "                                 'Wm2Front','Wm2Back','Back/FrontRatio'],\n",
    "                                 index = False) # new in 0.2.3\n",
    "\n",
    "    else:\n",
    "        if RGB:\n",
    "            df = pd.DataFrame.from_dict(data_sub)\n",
    "            df.to_csv(os.path.join(\"results\", savefile), sep = ',',\n",
    "                      columns = ['x','y','z', 'mattype','Wm2', 'R', 'G', 'B'], index = False)\n",
    "        else:\n",
    "            df = pd.DataFrame.from_dict(data_sub)\n",
    "            df.to_csv(os.path.join(\"results\", savefile), sep = ',',\n",
    "                      columns = ['x','y','z', 'mattype','Wm2'], index = False)\n",
    "\n",
    "    print('Saved: %s'%(os.path.join(\"results\", savefile)))\n",
    "    return os.path.join(\"results\", savefile)"
   ]
  },
  {
   "cell_type": "code",
   "execution_count": null,
   "id": "d6b74f4c",
   "metadata": {},
   "outputs": [],
   "source": [
    "def module_analysis(as is, sensormismatch = None):\n",
    "    if sensormismatch is not None:\n",
    "        do differently for front and back\n",
    "        name_front, name_back\n",
    "        # will need different inputs for sensorsy_front, sensorsx_front, sensorsy_back, sensorsX_back\n",
    "        # This will create two different dictionaries for frontscan and backscan\n",
    "    return frontscan, backscan #as dictionary\n",
    "\n",
    "def analysis:\n",
    "    if len(frontscan_[key] != len(backscan.keys()):\n",
    "        linepts_front = \n",
    "        linepts_back = \n",
    "        frontDict = _irrPlot(linepts_front,...)\n",
    "        backDict = _irrPlot(linepts_back,...)\n",
    "        \n",
    "        saveResults(data = frontDict, reardata = None, savefile = name_front)\n",
    "        saveResults(data = backDict, reardata = None, savefile = name_back)\n",
    "        \n",
    "        \n"
   ]
  },
  {
   "cell_type": "code",
   "execution_count": null,
   "id": "92e927e7",
   "metadata": {},
   "outputs": [],
   "source": []
  }
 ],
 "metadata": {
  "kernelspec": {
   "display_name": "Python 3",
   "language": "python",
   "name": "python3"
  },
  "language_info": {
   "codemirror_mode": {
    "name": "ipython",
    "version": 3
   },
   "file_extension": ".py",
   "mimetype": "text/x-python",
   "name": "python",
   "nbconvert_exporter": "python",
   "pygments_lexer": "ipython3",
   "version": "3.8.8"
  }
 },
 "nbformat": 4,
 "nbformat_minor": 5
}
