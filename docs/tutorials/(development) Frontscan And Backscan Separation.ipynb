{
 "cells": [
  {
   "cell_type": "markdown",
   "id": "bd0a6e05",
   "metadata": {},
   "source": [
    "## Separating Frontscan and Backscan for different number of Sensors"
   ]
  },
  {
   "cell_type": "markdown",
   "id": "bd34faa1",
   "metadata": {},
   "source": [
    "The key ideas here are:\n",
    "\n",
    "- Functions like moduleAnalysis() returns two identically structured dictionaries that contain the keys like xstart, ystart, zstart, xinc, yinc, zinc, Nx, Ny, Nz, orientation. For the function arguments like sensorsy or sensorsx, there is an assumption that those will be equal for both the front and back surface.\n",
    "\n",
    "- We need to develop a separate function, pretty much functionally parallel with moduleAnalysis() to bring out the frontscan and backscan separately.....may be two distinct functions with distinct arguments for frontscan() and backscan()\n",
    "\n",
    "- The new functions will have variables passed on as arguments which can be different for front and back"
   ]
  },
  {
   "cell_type": "code",
   "execution_count": 1,
   "id": "08291374",
   "metadata": {},
   "outputs": [],
   "source": [
    "import bifacial_radiance\n",
    "import numpy as np\n",
    "import os\n",
    "from pathlib import Path\n",
    "\n",
    "testfolder = str(Path().resolve().parent.parent / 'bifacial_radiance' / 'TEMP')"
   ]
  },
  {
   "cell_type": "code",
   "execution_count": 2,
   "id": "153a0e40",
   "metadata": {},
   "outputs": [
    {
     "name": "stdout",
     "output_type": "stream",
     "text": [
      "path = C:\\Users\\sayala\\Documents\\GitHub\\bifacial_radiance\\bifacial_radiance\\TEMP\n"
     ]
    }
   ],
   "source": [
    "demo = bifacial_radiance.RadianceObj('ScanSeparate', testfolder) "
   ]
  },
  {
   "cell_type": "code",
   "execution_count": 3,
   "id": "3cbeaf10",
   "metadata": {},
   "outputs": [],
   "source": [
    "x = 2\n",
    "y = 1\n",
    "xgap = 0.02\n",
    "ygap = 0.15\n",
    "zgap = 0.10\n",
    "numpanels = 1\n",
    "offsetfromaxis = True\n",
    "axisofrotationTorqueTube = True\n",
    "frameParams = None\n",
    "omegaParams = None\n",
    "diam = 0.1"
   ]
  },
  {
   "cell_type": "code",
   "execution_count": 4,
   "id": "c87a51eb",
   "metadata": {},
   "outputs": [],
   "source": [
    "module_type = 'TEST'\n",
    "nMods = 3\n",
    "nRows = 2\n",
    "sceneDict = {'tilt':90, 'pitch':6, 'clearance_height':3,'azimuth':120, 'nMods': nMods, 'nRows': nRows} "
   ]
  },
  {
   "cell_type": "code",
   "execution_count": 5,
   "id": "3bcf7a37",
   "metadata": {},
   "outputs": [
    {
     "name": "stdout",
     "output_type": "stream",
     "text": [
      "Loading albedo, 1 value(s), 0.200 avg\n",
      "1 nonzero albedo values.\n",
      "Getting weather file: USA_VA_Richmond.724010_TMY2.epw\n",
      " ... OK!\n",
      "start: 2021-01-01 01:00:00\n",
      "end: 2021-12-31 23:00:00\n",
      "Saving file EPWs\\epw_temp.csv, # points: 8760\n",
      "Calculating Sun position for Metdata that is right-labeled  with a delta of -30 mins. i.e. 12 is 11:30 sunpos\n"
     ]
    },
    {
     "data": {
      "text/plain": [
       "'skies\\\\sky2_37.5_-77.33_2021_06_17_13_00.rad'"
      ]
     },
     "execution_count": 5,
     "metadata": {},
     "output_type": "execute_result"
    }
   ],
   "source": [
    "demo.setGround(0.2)\n",
    "epwfile = demo.getEPW(lat = 37.5, lon = -77.6)\n",
    "metdata = demo.readWeatherFile(epwfile, coerce_year = 2021)\n",
    "demo.gendaylit(4020)"
   ]
  },
  {
   "cell_type": "code",
   "execution_count": 6,
   "id": "3ec94898",
   "metadata": {},
   "outputs": [
    {
     "name": "stdout",
     "output_type": "stream",
     "text": [
      "\n",
      "Module Name: TEST\n",
      "Pre-existing .rad file objects\\TEST.rad will be overwritten\n",
      "Module TEST updated in module.json\n"
     ]
    },
    {
     "data": {
      "text/plain": [
       "{'x': 2,\n",
       " 'y': 1,\n",
       " 'z': 0.02,\n",
       " 'modulematerial': 'black',\n",
       " 'scenex': 2.02,\n",
       " 'sceney': 1.0,\n",
       " 'scenez': 0.15,\n",
       " 'numpanels': 1,\n",
       " 'bifi': 1,\n",
       " 'text': '! genbox black TEST 2 1 0.02 | xform -t -1.0 -0.5 0.15 -a 1 -t 0 1.15 0\\r\\n! genrev Metal_Grey tube1 t*2.02 0.05 32 | xform -ry 90 -t -1.01 0 0',\n",
       " 'modulefile': 'objects\\\\TEST.rad',\n",
       " 'offsetfromaxis': 0.15,\n",
       " 'xgap': 0.02,\n",
       " 'ygap': 0.15,\n",
       " 'zgap': 0.1,\n",
       " 'cellModule': None,\n",
       " 'torquetube': {'bool': True,\n",
       "  'diameter': 0.1,\n",
       "  'tubetype': 'Round',\n",
       "  'material': 'Metal_Grey'}}"
      ]
     },
     "execution_count": 6,
     "metadata": {},
     "output_type": "execute_result"
    }
   ],
   "source": [
    "demo.makeModule(name=module_type,x=x, y=y, torquetube = True, \n",
    "                    diameter = diam, xgap = xgap, ygap = ygap, zgap = zgap, \n",
    "                    numpanels = numpanels, omegaParams=None,\n",
    "                    axisofrotationTorqueTube=axisofrotationTorqueTube)"
   ]
  },
  {
   "cell_type": "code",
   "execution_count": 7,
   "id": "715ddc04",
   "metadata": {},
   "outputs": [
    {
     "name": "stdout",
     "output_type": "stream",
     "text": [
      "Created ScanSeparate.oct\n"
     ]
    }
   ],
   "source": [
    "scene = demo.makeScene(module_type,sceneDict)\n",
    "octfile = demo.makeOct()\n",
    "analysis = bifacial_radiance.AnalysisObj()  # return an analysis object including the scan dimensions for back irradiance"
   ]
  },
  {
   "cell_type": "code",
   "execution_count": 8,
   "id": "24d577f2",
   "metadata": {},
   "outputs": [],
   "source": [
    "name = 'ModuleScanTest'\n",
    "rowWanted = 1\n",
    "modWanted = 2\n"
   ]
  },
  {
   "cell_type": "markdown",
   "id": "6f800bfd",
   "metadata": {},
   "source": [
    "# Test 2 - Same sensors front and back, xsensors = 2"
   ]
  },
  {
   "cell_type": "code",
   "execution_count": 9,
   "id": "c23e59c9",
   "metadata": {},
   "outputs": [
    {
     "name": "stdout",
     "output_type": "stream",
     "text": [
      "0.33333333333333315 0.5773502691896257 -0.03762888150278526 -0.363175134594813\n",
      "frontscan {'xstart': -0.03762888150278526, 'ystart': -0.363175134594813, 'zstart': 3.1833333333333336, 'xinc': -1.7676253978748448e-17, 'yinc': 1.0205389992894605e-17, 'zinc': 0.3333333333333333, 'sx_xinc': 0.33333333333333315, 'sx_yinc': 0.5773502691896257, 'sx_zinc': 0.0, 'Nx': 2, 'Ny': 2, 'Nz': 1, 'orient': '-0.866 0.500 -0.000'}\n",
      "backscan {'xstart': -0.03762888150278526, 'ystart': -0.363175134594813, 'zstart': 3.1833333333333336, 'xinc': -1.7676253978748448e-17, 'yinc': 1.0205389992894605e-17, 'zinc': 0.3333333333333333, 'sx_xinc': 0.33333333333333315, 'sx_yinc': 0.5773502691896257, 'sx_zinc': 0.0, 'Nx': 2, 'Ny': 2.0, 'Nz': 1, 'orient': '0.866 -0.500 0.000'} \n",
      "\n",
      "Linescan in process: test2_Front\n",
      "Linescan in process: test2_Back\n",
      "Saved: results\\irr_test2.csv\n",
      "\n",
      "BOTH\n",
      "           x         y         z     rearZ            mattype  \\\n",
      "0 -0.037629 -0.363175  3.183333  3.183333  a1.1.a0.TEST.6457   \n",
      "1 -0.037629 -0.363175  3.516667  3.516667  a1.1.a0.TEST.6457   \n",
      "2  0.295704  0.214175  3.183333  3.183333  a1.1.a0.TEST.6457   \n",
      "3  0.295704  0.214175  3.516667  3.516667  a1.1.a0.TEST.6457   \n",
      "\n",
      "             rearMat    Wm2Front     Wm2Back  Back/FrontRatio  \n",
      "0  a1.0.a0.TEST.2310  217.115667  157.639733         0.726060  \n",
      "1  a1.0.a0.TEST.2310  217.692933  193.626200         0.889442  \n",
      "2  a1.0.a0.TEST.2310  217.183867  157.842867         0.726767  \n",
      "3  a1.0.a0.TEST.2310  217.296033  193.473867         0.890366  \n"
     ]
    }
   ],
   "source": [
    "name='test2'\n",
    "\n",
    "sensorsy_front = 2\n",
    "sensorsy_back = 2\n",
    "\n",
    "sensorsx_front = 2\n",
    "sensorsx_back = 2\n",
    "\n",
    "\n",
    "frontscan, backscan = analysis.moduleAnalysis(scene, modWanted=None, rowWanted=None,\n",
    "                       sensorsy_back=sensorsy_back, sensorsx_back=sensorsx_back, frontsurfaceoffset=0.001, \n",
    "                        backsurfaceoffset=0.001, \n",
    "                       modscanfront=None, modscanback=None, debug=False, \n",
    "                       sensorsy_front=sensorsy_front, sensorsx_front=sensorsx_front)\n",
    "\n",
    "print('frontscan', frontscan)\n",
    "print('backscan', backscan, '\\n')\n",
    "\n",
    "frontDict, backDict = analysis.analysis(octfile = octfile, name = name, frontscan = frontscan, \n",
    "                                        backscan = backscan)\n",
    "\n",
    "\n",
    "print('\\nBOTH\\n', bifacial_radiance.load.read1Result('results\\irr_'+name+'.csv'))\n"
   ]
  },
  {
   "cell_type": "markdown",
   "id": "57541ac9",
   "metadata": {},
   "source": [
    "# Test 0 - Same sensors Front and back, xsensors=y"
   ]
  },
  {
   "cell_type": "code",
   "execution_count": null,
   "id": "f6735903",
   "metadata": {},
   "outputs": [],
   "source": [
    "name='test0'\n",
    "\n",
    "sensorsy_front = 2\n",
    "sensorsy_back = 2\n",
    "\n",
    "sensorsx_front = 1\n",
    "sensorsx_back = 1\n",
    "\n",
    "frontscan, backscan = analysis.moduleAnalysis(scene, modWanted=None, rowWanted=None,\n",
    "                       sensorsy_back=sensorsy_back, sensorsx_back=sensorsx_back, frontsurfaceoffset=0.001, \n",
    "                        backsurfaceoffset=0.001, \n",
    "                       modscanfront=None, modscanback=None, debug=False, \n",
    "                       sensorsy_front=sensorsy_front, sensorsx_front=sensorsx_front)\n",
    "\n",
    "print('frontscan', frontscan)\n",
    "print('backscan', backscan, '\\n')\n",
    "\n",
    "frontDict, backDict = analysis.analysis(octfile = octfile, name = name, frontscan = frontscan, \n",
    "                                        backscan = backscan)\n",
    "print('\\nBOTH\\n', bifacial_radiance.load.read1Result('results\\irr_'+name+'.csv'))\n"
   ]
  },
  {
   "cell_type": "markdown",
   "id": "fdb50aa3",
   "metadata": {},
   "source": [
    "# Test 1: more sensors on back than front, xsensors=1"
   ]
  },
  {
   "cell_type": "code",
   "execution_count": null,
   "id": "d23cea80",
   "metadata": {},
   "outputs": [],
   "source": [
    "name='test1'\n",
    "\n",
    "sensorsy_front = 2\n",
    "sensorsy_back = 4\n",
    "\n",
    "sensorsx_front = 1\n",
    "sensorsx_back = 1\n",
    "\n",
    "\n",
    "frontscan, backscan = analysis.moduleAnalysis(scene, modWanted=None, rowWanted=None,\n",
    "                       sensorsy_back=sensorsy_back, sensorsx_back=sensorsx_back, frontsurfaceoffset=0.001, \n",
    "                        backsurfaceoffset=0.001, \n",
    "                       modscanfront=None, modscanback=None, debug=False, \n",
    "                       sensorsy_front=sensorsy_front, sensorsx_front=sensorsx_front)\n",
    "\n",
    "print('frontscan', frontscan)\n",
    "print('backscan', backscan, '\\n')\n",
    "\n",
    "frontDict, backDict = analysis.analysis(octfile = octfile, name = name, frontscan = frontscan, \n",
    "                                        backscan = backscan)\n",
    "\n",
    "print('\\nFRONT\\n', bifacial_radiance.load.read1Result('results\\irr_'+name+'_Front.csv'))\n",
    "print('BACK\\n', bifacial_radiance.load.read1Result('results\\irr_'+name+'_Back.csv'))"
   ]
  },
  {
   "cell_type": "markdown",
   "id": "687132bd",
   "metadata": {},
   "source": [
    "# Test 3 - Different sensors front and back, xsensors = 2"
   ]
  },
  {
   "cell_type": "code",
   "execution_count": null,
   "id": "771faf57",
   "metadata": {},
   "outputs": [],
   "source": [
    "name='test3'\n",
    "\n",
    "sensorsy_front = 2\n",
    "sensorsy_back = 4\n",
    "\n",
    "sensorsx_front = 2\n",
    "sensorsx_back = 2\n",
    "\n",
    "frontscan, backscan = analysis.moduleAnalysis(scene, modWanted=None, rowWanted=None,\n",
    "                       sensorsy_back=sensorsy_back, sensorsx_back=sensorsx_back, frontsurfaceoffset=0.001, \n",
    "                        backsurfaceoffset=0.001, \n",
    "                       modscanfront=None, modscanback=None, debug=False, \n",
    "                       sensorsy_front=sensorsy_front, sensorsx_front=sensorsx_front)\n",
    "\n",
    "print('frontscan', frontscan)\n",
    "print('backscan', backscan, '\\n')\n",
    "\n",
    "frontDict, backDict = analysis.analysis(octfile = octfile, name = name, frontscan = frontscan, \n",
    "                                        backscan = backscan)\n",
    "\n",
    "print('\\nFRONT\\n', bifacial_radiance.load.read1Result('results\\irr_'+name+'_Front.csv'))\n",
    "print('BACK\\n', bifacial_radiance.load.read1Result('results\\irr_'+name+'_Back.csv'))"
   ]
  },
  {
   "cell_type": "markdown",
   "id": "5dd20890",
   "metadata": {},
   "source": [
    "# Test 4 - Different sensors front and back, different xsensors"
   ]
  },
  {
   "cell_type": "code",
   "execution_count": null,
   "id": "d5a63c09",
   "metadata": {},
   "outputs": [],
   "source": [
    "name='test4'\n",
    "\n",
    "sensorsy_front = 2\n",
    "sensorsy_back = 4\n",
    "\n",
    "sensorsx_front = 2\n",
    "sensorsx_back = 4\n",
    "\n",
    "frontscan, backscan, start_shift, flag_s = analysis.moduleAnalysis(scene, modWanted=None, rowWanted=None,\n",
    "                       sensorsy=sensorsy, sensorsx=sensorsx, frontsurfaceoffset=0.001, backsurfaceoffset=0.001, \n",
    "                       modscanfront=None, modscanback=None, debug=False, sensors_diff = sensors_diff, \n",
    "                       sensorsy_back=sensorsy_back, sensorsx_back=sensorsx_back)\n",
    "\n",
    "print('Start shift:', start_shift, 'flag:', flag_s)\n",
    "print('frontscan', frontscan)\n",
    "print('backscan', backscan, '\\n')\n",
    "\n",
    "frontDict, backDict = analysis.analysis(octfile = octfile, name = name, frontscan = frontscan, \n",
    "                                        backscan = backscan, start_shift = start_shift, flag_s = flag_s)\n",
    "print('\\nFRONT\\n', bifacial_radiance.load.read1Result('results\\irr_'+name+'_Front.csv'))\n",
    "print('BACK\\n', bifacial_radiance.load.read1Result('results\\irr_'+name+'_Back.csv'))"
   ]
  },
  {
   "cell_type": "code",
   "execution_count": null,
   "id": "669d0aee",
   "metadata": {},
   "outputs": [],
   "source": []
  }
 ],
 "metadata": {
  "kernelspec": {
   "display_name": "Python 3",
   "language": "python",
   "name": "python3"
  },
  "language_info": {
   "codemirror_mode": {
    "name": "ipython",
    "version": 3
   },
   "file_extension": ".py",
   "mimetype": "text/x-python",
   "name": "python",
   "nbconvert_exporter": "python",
   "pygments_lexer": "ipython3",
   "version": "3.7.10"
  }
 },
 "nbformat": 4,
 "nbformat_minor": 5
}
