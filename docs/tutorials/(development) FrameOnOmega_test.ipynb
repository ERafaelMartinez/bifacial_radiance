{
 "cells": [
  {
   "cell_type": "markdown",
   "id": "d44f4591",
   "metadata": {},
   "source": [
    "## Simulating Frames on top of Omega ##"
   ]
  },
  {
   "cell_type": "markdown",
   "id": "64a16fcd",
   "metadata": {},
   "source": [
    "## Scripting the Omega-Frame Test"
   ]
  },
  {
   "cell_type": "markdown",
   "id": "c5b9aaed",
   "metadata": {},
   "source": [
    "\n",
    "![Folder Structure](../images_wiki/makeModule_ComplexGeometry.PNG)\n"
   ]
  },
  {
   "cell_type": "code",
   "execution_count": 2,
   "id": "c271da43",
   "metadata": {},
   "outputs": [
    {
     "name": "stdout",
     "output_type": "stream",
     "text": [
      "Your simulation will be stored in C:\\Users\\sayala\\Documents\\GitHub\\bifacial_radiance\\bifacial_radiance\\TEMP\\makeModTests\n"
     ]
    }
   ],
   "source": [
    "import bifacial_radiance\n",
    "\n",
    "import os\n",
    "from pathlib import Path\n",
    "\n",
    "testfolder = str(Path().resolve().parent.parent / 'bifacial_radiance' / 'TEMP' / 'makeModTests')\n",
    "\n",
    "if not os.path.exists(testfolder):\n",
    "    os.makedirs(testfolder)\n",
    "    \n",
    "print (\"Your simulation will be stored in %s\" % testfolder)\n"
   ]
  },
  {
   "cell_type": "code",
   "execution_count": 4,
   "id": "27db56a8",
   "metadata": {},
   "outputs": [
    {
     "name": "stdout",
     "output_type": "stream",
     "text": [
      "path = C:\\Users\\sayala\\Documents\\GitHub\\bifacial_radiance\\bifacial_radiance\\TEMP\\makeModTests\n",
      "\n",
      "Module Name: TEST\n",
      "Module TEST updated in module.json\n"
     ]
    }
   ],
   "source": [
    "demo = bifacial_radiance.RadianceObj('Sim1', testfolder) \n",
    "#generating sky\n",
    "\n",
    "\n",
    "x = 2\n",
    "y = 1\n",
    "xgap = 0.02\n",
    "ygap = 0.15\n",
    "zgap = 0.3\n",
    "numpanels = 2\n",
    "offsetfromaxis = True\n",
    "\n",
    "module_type = 'TEST'\n",
    "frameParams = {'frame_material' : 'Metal_Grey', \n",
    "               'frame_thickness' : 0.05,\n",
    "               'frame_z' : 0.06,\n",
    "               'nSides_frame' : 4,\n",
    "               'frame_width' : 0.08}\n",
    "\n",
    "\n",
    "omegaParams = {'omega_material': 'litesoil',\n",
    "                'x_omega1' : 0.4,\n",
    "                'mod_overlap' : 0.25,\n",
    "                'y_omega' : 1.5,\n",
    "                'x_omega3' : 0.25,\n",
    "                'omega_thickness' : 0.05,\n",
    "                'inverted' : False}\n",
    "\n",
    "mymod = demo.makeModule(name=module_type,x=x, y=y, xgap = xgap, ygap = ygap, zgap = zgap, \n",
    "                torquetube = True, diameter = 0.3, axisofrotationTorqueTube=False,\n",
    "                numpanels = numpanels, \n",
    "                frameParams=frameParams, omegaParams=omegaParams)\n",
    "                \n",
    "\n",
    "\n"
   ]
  },
  {
   "cell_type": "code",
   "execution_count": 5,
   "id": "bfffdc78",
   "metadata": {},
   "outputs": [
    {
     "name": "stdout",
     "output_type": "stream",
     "text": [
      "Loading albedo, 1 value(s), 0.200 avg\n",
      "1 nonzero albedo values.\n",
      "Getting weather file: USA_VA_Richmond.Intl.AP.724010_TMY.epw\n",
      " ... OK!\n",
      "start: 2021-01-01 01:00:00\n",
      "end: 2021-12-31 23:00:00\n",
      "Saving file EPWs\\epw_temp.csv, # points: 8760\n",
      "Calculating Sun position for Metdata that is right-labeled  with a delta of -30 mins. i.e. 12 is 11:30 sunpos\n",
      "Created Sim1.oct\n"
     ]
    },
    {
     "data": {
      "text/plain": [
       "'Sim1.oct'"
      ]
     },
     "execution_count": 5,
     "metadata": {},
     "output_type": "execute_result"
    }
   ],
   "source": [
    "demo.setGround(0.2)\n",
    "epwfile = demo.getEPW(lat = 37.5, lon = -77.6)\n",
    "metdata = demo.readWeatherFile(epwfile, coerce_year = 2021)\n",
    "demo.gendaylit(4020)\n",
    "\n",
    "nMods = 1\n",
    "nRows = 1\n",
    "sceneDict = {'tilt':0, 'pitch':3, 'clearance_height':3,'azimuth':90, 'nMods': nMods, 'nRows': nRows} \n",
    "scene = demo.makeScene(module_type,sceneDict)\n",
    "demo.makeOct()"
   ]
  },
  {
   "cell_type": "markdown",
   "id": "71ea72f0",
   "metadata": {},
   "source": [
    "# rvu -vp -7 0 3 -vd 1 0 0 Sim1.oct\n",
    "\n",
    "# rvu -vp 0 -5 3 -vd 0 1 0 Sim1.oct"
   ]
  },
  {
   "cell_type": "code",
   "execution_count": null,
   "id": "b141c407",
   "metadata": {},
   "outputs": [],
   "source": []
  },
  {
   "cell_type": "markdown",
   "id": "3c34b029",
   "metadata": {},
   "source": [
    "# OLD CODE"
   ]
  },
  {
   "cell_type": "code",
   "execution_count": 1,
   "id": "3a66e5a5",
   "metadata": {},
   "outputs": [
    {
     "name": "stdout",
     "output_type": "stream",
     "text": [
      "Your simulation will be stored in C:\\Users\\sarefeen\\Documents\\RadianceScenes\\Omega\n"
     ]
    }
   ],
   "source": [
    "import os\n",
    "from pathlib import Path\n",
    "\n",
    "testfolder = r'C:\\Users\\sarefeen\\Documents\\RadianceScenes\\Omega'  \n",
    "\n",
    "print (\"Your simulation will be stored in %s\" % testfolder)"
   ]
  },
  {
   "cell_type": "code",
   "execution_count": 2,
   "id": "653aefc6",
   "metadata": {},
   "outputs": [],
   "source": [
    "import bifacial_radiance"
   ]
  },
  {
   "cell_type": "code",
   "execution_count": 3,
   "id": "606387ed",
   "metadata": {},
   "outputs": [
    {
     "name": "stdout",
     "output_type": "stream",
     "text": [
      "path = C:\\Users\\sarefeen\\Documents\\RadianceScenes\\Omega\n"
     ]
    }
   ],
   "source": [
    "demo = bifacial_radiance.RadianceObj('bifacial_example_omegatest',str(testfolder)) "
   ]
  },
  {
   "cell_type": "code",
   "execution_count": 4,
   "id": "4780f53d",
   "metadata": {},
   "outputs": [
    {
     "name": "stdout",
     "output_type": "stream",
     "text": [
      "Loading albedo, 1 value(s), 0.620 avg\n",
      "1 nonzero albedo values.\n"
     ]
    }
   ],
   "source": [
    "albedo = 0.62\n",
    "demo.setGround(albedo)"
   ]
  },
  {
   "cell_type": "code",
   "execution_count": 5,
   "id": "eb3ef010",
   "metadata": {},
   "outputs": [
    {
     "name": "stdout",
     "output_type": "stream",
     "text": [
      "Getting weather file: USA_VA_Richmond.Intl.AP.724010_TMY.epw\n",
      " ... OK!\n"
     ]
    }
   ],
   "source": [
    "epwfile = demo.getEPW(lat = 37.5, lon = -77.6)"
   ]
  },
  {
   "cell_type": "code",
   "execution_count": 6,
   "id": "71ee9f46",
   "metadata": {},
   "outputs": [
    {
     "name": "stdout",
     "output_type": "stream",
     "text": [
      "start: 2021-01-01 01:00:00\n",
      "end: 2021-12-31 23:00:00\n",
      "Saving file EPWs\\epw_temp.csv, # points: 8760\n",
      "Calculating Sun position for Metdata that is right-labeled  with a delta of -30 mins. i.e. 12 is 11:30 sunpos\n"
     ]
    }
   ],
   "source": [
    "metdata = demo.readWeatherFile(epwfile, coerce_year = 2021)"
   ]
  },
  {
   "cell_type": "code",
   "execution_count": 7,
   "id": "b2044dc9",
   "metadata": {},
   "outputs": [
    {
     "data": {
      "text/plain": [
       "'skies\\\\sky2_37.5_-77.33_2021_06_17_13_00.rad'"
      ]
     },
     "execution_count": 7,
     "metadata": {},
     "output_type": "execute_result"
    }
   ],
   "source": [
    "#generating sky\n",
    "demo.gendaylit(4020)"
   ]
  },
  {
   "cell_type": "markdown",
   "id": "381512c7",
   "metadata": {},
   "source": [
    "The possible workflow:\n",
    "\n",
    "before making the module we need to know:\n",
    "- whether the the module is framed or not\n",
    "- if the frame is 2-sided or all-sided (if 2-sided, along x or y)\n",
    "- The other frameParams (frame thickness, height, leg length, leg height)\n",
    "- if there is an omega or not\n",
    "- if there is, what are the omegaParams (might also include the omega type...A or n OR V or u)\n",
    "- How the presence/absence of Frames/omega matters the other parameters or variables like offsetfromaxis etc.\n",
    "- how to handle the dependencies of the variables those were being used only during the makemodule function (numpanels)?"
   ]
  },
  {
   "cell_type": "code",
   "execution_count": 8,
   "id": "d1d37ce9",
   "metadata": {},
   "outputs": [],
   "source": [
    "frameParams = {}\n",
    "frameParams['frame_material'] = 'Metal_Grey'\n",
    "frameParams['frame_thickness'] = 0.05\n",
    "frameParams['frame_height'] = 0.06\n",
    "frameParams['nSides_frame'] = 4\n",
    "frameParams['frame_width'] = 0.08"
   ]
  },
  {
   "cell_type": "code",
   "execution_count": 9,
   "id": "736044a4",
   "metadata": {},
   "outputs": [
    {
     "data": {
      "text/plain": [
       "{'frame_material': 'Metal_Grey',\n",
       " 'frame_thickness': 0.05,\n",
       " 'frame_height': 0.06,\n",
       " 'nSides_frame': 4,\n",
       " 'frame_width': 0.08}"
      ]
     },
     "execution_count": 9,
     "metadata": {},
     "output_type": "execute_result"
    }
   ],
   "source": [
    "frameParams"
   ]
  },
  {
   "cell_type": "code",
   "execution_count": 10,
   "id": "4656fe5a",
   "metadata": {},
   "outputs": [],
   "source": [
    "x = 2\n",
    "y = 1\n",
    "xgap = 0.02\n",
    "ygap = 0.05\n",
    "zgap = 0.5\n",
    "numpanels = 2\n",
    "offsetfromaxis = True\n",
    "Ny = numpanels"
   ]
  },
  {
   "cell_type": "code",
   "execution_count": 11,
   "id": "1cef2368",
   "metadata": {},
   "outputs": [],
   "source": [
    "#the subfunction that makes the frames\n",
    "def _makeFrames (frameParams, x,y, ygap, numpanels, rotframe = False):\n",
    "            \n",
    "    if frameParams['frame_material']:\n",
    "        frame_material = frameParams['frame_material'] \n",
    "    else:\n",
    "        frame_material = 'Metal_Grey'\n",
    "    if frameParams['frame_thickness']:\n",
    "        f_thickness = frameParams['frame_thickness'] \n",
    "    else:\n",
    "        f_thickness = 0.05\n",
    "    if frameParams['frame_height']:\n",
    "        f_height = frameParams['frame_height'] \n",
    "    else:\n",
    "        f_height = 0.06\n",
    "    if frameParams['nSides_frame']:\n",
    "        n_frame = frameParams['nSides_frame']  \n",
    "    else:\n",
    "        n_frame = 4\n",
    "    if frameParams['frame_width']:\n",
    "        fl_x = frameParams['frame_width']-f_thickness\n",
    "    else:\n",
    "        fl_x = 0.05\n",
    "    if x>y and n_frame==2:\n",
    "        x_temp,y_temp = y,x\n",
    "        rotframe = True\n",
    "        frame_y = x\n",
    "    else:\n",
    "        x_temp,y_temp = x,y\n",
    "        frame_y = y\n",
    "\n",
    "\n",
    "    Ny = numpanels\n",
    "    ygap = 0.05\n",
    "    y_half = (y*Ny/2)+(ygap*(Ny-1)/2)\n",
    "\n",
    "    #nameframes\n",
    "    nameframe1 = 'frameside'\n",
    "    nameframe2 = 'frameleg'\n",
    "    \n",
    "    # taking care of lengths and translation points\n",
    "    # The pieces are same and symmetrical for west and east\n",
    "\n",
    "\n",
    "    #frame sides\n",
    "    few_x = f_thickness\n",
    "    few_y = frame_y\n",
    "    few_z = f_height\n",
    "\n",
    "    fw_xt = -x_temp/2\n",
    "    fe_xt = x_temp/2-f_thickness\n",
    "    few_yt = -y_half\n",
    "    few_zt = -f_height\n",
    "\n",
    "    #frame legs for east-west \n",
    "\n",
    "    flw_xt = -x_temp/2 + f_thickness\n",
    "    fle_xt = x_temp/2 - f_thickness-fl_x\n",
    "    flew_yt = -y_half\n",
    "    flew_zt = -f_height\n",
    "\n",
    "\n",
    "    #pieces for the shorter side (north-south in this case)\n",
    "\n",
    "    #filler\n",
    "\n",
    "    fns_x = x_temp-2*f_thickness\n",
    "    fns_y = f_thickness\n",
    "    fns_z = f_height-f_thickness\n",
    "\n",
    "    fns_xt = -x_temp/2+f_thickness\n",
    "    fn_yt = -y_half+y-f_thickness\n",
    "    fs_yt = -y_half\n",
    "    fns_zt = -f_height+f_thickness\n",
    "\n",
    "    # the filler legs\n",
    "\n",
    "    filleg_x = x_temp-2*f_thickness-2*fl_x\n",
    "    filleg_y = f_thickness + fl_x\n",
    "    filleg_z = f_thickness\n",
    "\n",
    "    filleg_xt = -x_temp/2+f_thickness+fl_x\n",
    "    fillegn_yt = -y_half+y-f_thickness-fl_x\n",
    "    fillegs_yt = -y_half\n",
    "    filleg_zt = -f_height\n",
    "\n",
    "\n",
    "    # making frames: west side\n",
    "\n",
    "    frame_text = '\\r\\n! genbox {} {} {} {} {} | xform -t {} {} {}'.format(frame_material, nameframe1, few_x, few_y, few_z, fw_xt, few_yt, few_zt) \n",
    "    frame_text += ' -a {} -t 0 {} 0'.format(Ny, y_temp+ygap)\n",
    "    if rotframe:\n",
    "        frame_text +='| xform -rz 90'\n",
    "\n",
    "\n",
    "    frame_text += '\\r\\n! genbox {} {} {} {} {} | xform -t {} {} {}'.format(frame_material, nameframe2, fl_x, frame_y, f_thickness, flw_xt, flew_yt, flew_zt)\n",
    "    frame_text += ' -a {} -t 0 {} 0'.format(Ny, y_temp+ygap)\n",
    "    if rotframe:\n",
    "        frame_text +='| xform -rz 90'\n",
    "\n",
    "    # making frames: east side\n",
    "\n",
    "    frame_text += '\\r\\n! genbox {} {} {} {} {} | xform -t {} {} {}'.format(frame_material, nameframe1, few_x, few_y, few_z, fe_xt, few_yt, few_zt) \n",
    "    frame_text += ' -a {} -t 0 {} 0'.format(Ny, y_temp+ygap)\n",
    "    if rotframe:\n",
    "        frame_text +='| xform -rz 90'\n",
    "\n",
    "    frame_text += '\\r\\n! genbox {} {} {} {} {} | xform -t {} {} {}'.format(frame_material, nameframe2, fl_x, frame_y, f_thickness, fle_xt, flew_yt, flew_zt)\n",
    "    frame_text += ' -a {} -t 0 {} 0'.format(Ny, y_temp+ygap)\n",
    "    if rotframe:\n",
    "        frame_text +='| xform -rz 90'\n",
    "\n",
    "    if n_frame == 4:\n",
    "        #making frames: north side\n",
    "\n",
    "        frame_text += '\\r\\n! genbox {} {} {} {} {} | xform -t {} {} {}'.format(frame_material, nameframe1, fns_x, fns_y, fns_z, fns_xt, fn_yt, fns_zt) \n",
    "        frame_text += ' -a {} -t 0 {} 0'.format(Ny, y+ygap)\n",
    "\n",
    "\n",
    "        frame_text += '\\r\\n! genbox {} {} {} {} {} | xform -t {} {} {}'.format(frame_material, nameframe2, filleg_x, filleg_y, filleg_z, filleg_xt, fillegn_yt, filleg_zt)\n",
    "        frame_text += ' -a {} -t 0 {} 0'.format(Ny, y+ygap)\n",
    "\n",
    "        #making frames: south side\n",
    "\n",
    "        frame_text += '\\r\\n! genbox {} {} {} {} {} | xform -t {} {} {}'.format(frame_material, nameframe1, fns_x, fns_y, fns_z, fns_xt, fs_yt, fns_zt) \n",
    "        frame_text += ' -a {} -t 0 {} 0'.format(Ny, y+ygap)\n",
    "\n",
    "        frame_text += '\\r\\n! genbox {} {} {} {} {} | xform -t {} {} {}'.format(frame_material, nameframe2, filleg_x, filleg_y, filleg_z, filleg_xt, fillegs_yt, filleg_zt)\n",
    "        frame_text += ' -a {} -t 0 {} 0'.format(Ny, y+ygap)\n",
    "\n",
    "\n",
    "    return frame_text"
   ]
  },
  {
   "cell_type": "code",
   "execution_count": 12,
   "id": "607cabc0",
   "metadata": {},
   "outputs": [],
   "source": [
    "frametext = _makeFrames(frameParams, x,y, ygap, numpanels, rotframe = False)"
   ]
  },
  {
   "cell_type": "code",
   "execution_count": 13,
   "id": "d64a1df8",
   "metadata": {},
   "outputs": [
    {
     "data": {
      "text/plain": [
       "'\\r\\n! genbox Metal_Grey frameside 0.05 1 0.06 | xform -t -1.0 -1.025 -0.06 -a 2 -t 0 1.05 0\\r\\n! genbox Metal_Grey frameleg 0.03 1 0.05 | xform -t -0.95 -1.025 -0.06 -a 2 -t 0 1.05 0\\r\\n! genbox Metal_Grey frameside 0.05 1 0.06 | xform -t 0.95 -1.025 -0.06 -a 2 -t 0 1.05 0\\r\\n! genbox Metal_Grey frameleg 0.03 1 0.05 | xform -t 0.9199999999999999 -1.025 -0.06 -a 2 -t 0 1.05 0\\r\\n! genbox Metal_Grey frameside 1.9 0.05 0.009999999999999995 | xform -t -0.95 -0.07499999999999991 -0.009999999999999995 -a 2 -t 0 1.05 0\\r\\n! genbox Metal_Grey frameleg 1.8399999999999999 0.08 0.05 | xform -t -0.9199999999999999 -0.10499999999999991 -0.06 -a 2 -t 0 1.05 0\\r\\n! genbox Metal_Grey frameside 1.9 0.05 0.009999999999999995 | xform -t -0.95 -1.025 -0.009999999999999995 -a 2 -t 0 1.05 0\\r\\n! genbox Metal_Grey frameleg 1.8399999999999999 0.08 0.05 | xform -t -0.9199999999999999 -1.025 -0.06 -a 2 -t 0 1.05 0'"
      ]
     },
     "execution_count": 13,
     "metadata": {},
     "output_type": "execute_result"
    }
   ],
   "source": [
    "frametext"
   ]
  },
  {
   "cell_type": "code",
   "execution_count": 14,
   "id": "aa80e775",
   "metadata": {},
   "outputs": [],
   "source": [
    "if frametext != '':\n",
    "    frame = True"
   ]
  },
  {
   "cell_type": "code",
   "execution_count": 15,
   "id": "2d19c14f",
   "metadata": {},
   "outputs": [
    {
     "data": {
      "text/plain": [
       "True"
      ]
     },
     "execution_count": 15,
     "metadata": {},
     "output_type": "execute_result"
    }
   ],
   "source": [
    "frame"
   ]
  },
  {
   "cell_type": "code",
   "execution_count": 16,
   "id": "ea1fb2b2",
   "metadata": {},
   "outputs": [],
   "source": [
    "omegaParams = {}\n",
    "omegaParams['omega_material'] = 'litesoil'\n",
    "omegaParams['x_omega1'] = 0.4\n",
    "omegaParams['z_omega1'] = 0.05\n",
    "omegaParams['mod_overlap'] = 0.25\n",
    "omegaParams['y_omega'] = 1.5\n",
    "omegaParams['x_omega2'] = 0.05\n",
    "omegaParams['z_omega2'] = 0.5\n",
    "omegaParams['x_omega3'] = 0.25\n",
    "omegaParams['z_omega3'] = 0.05\n",
    "omegaParams['inverted'] = False\n",
    "\n",
    "#names\n",
    "name1 = 'mod_adj'\n",
    "name2 = 'verti'\n",
    "name3 = 'tt_adj'"
   ]
  },
  {
   "cell_type": "code",
   "execution_count": 17,
   "id": "3f26feb2",
   "metadata": {},
   "outputs": [
    {
     "data": {
      "text/plain": [
       "{'omega_material': 'litesoil',\n",
       " 'x_omega1': 0.4,\n",
       " 'z_omega1': 0.05,\n",
       " 'mod_overlap': 0.25,\n",
       " 'y_omega': 1.5,\n",
       " 'x_omega2': 0.05,\n",
       " 'z_omega2': 0.5,\n",
       " 'x_omega3': 0.25,\n",
       " 'z_omega3': 0.05,\n",
       " 'inverted': False}"
      ]
     },
     "execution_count": 17,
     "metadata": {},
     "output_type": "execute_result"
    }
   ],
   "source": [
    "omegaParams"
   ]
  },
  {
   "cell_type": "code",
   "execution_count": 20,
   "id": "73668737",
   "metadata": {},
   "outputs": [],
   "source": [
    "def _makeOmega(omegaParams, x, y, xgap, zgap):\n",
    "        \n",
    "    if omegaParams['omega_material']:\n",
    "        omega_material = omegaParams['omega_material'] \n",
    "    else:\n",
    "        omega_material = 'Metal_Grey'\n",
    "    if omegaParams['x_omega1']:\n",
    "        x_omega1 = omegaParams['x_omega1'] \n",
    "    else:\n",
    "        x_omega1 = xgap*0.5*0.6\n",
    "    if omegaParams['y_omega']:\n",
    "        y_omega = omegaParams['y_omega'] \n",
    "    else:\n",
    "        y_omega = y/2\n",
    "    if omegaParams['mod_overlap']:\n",
    "        mod_overlap = omegaParams['mod_overlap'] \n",
    "    else:\n",
    "        mod_overlap = x_omega1*0.6\n",
    "    if omegaParams['z_omega1']:\n",
    "        z_omega1 = omegaParams['z_omega1']  \n",
    "    else:\n",
    "        z_omega1 = zgap*0.1 \n",
    "    if omegaParams['x_omega2']:\n",
    "        x_omega2 = omegaParams['x_omega2']\n",
    "    else:\n",
    "        x_omega2 = xgap*0.5*0.1\n",
    "    z_omega2 = zgap\n",
    "    if omegaParams['x_omega3']:\n",
    "        x_omega3 = omegaParams['x_omega3'] \n",
    "    else:\n",
    "        x_omega3 = xgap*0.5*0.3\n",
    "    if omegaParams['z_omega3']:\n",
    "        z_omega3 = omegaParams['z_omega3']\n",
    "    else:\n",
    "        z_omega3 = zgap*0.1  \n",
    "    if omegaParams['inverted']:\n",
    "        inverted = omegaParams['inverted']\n",
    "    else:\n",
    "        inverted = False\n",
    "\n",
    "    #naming the omega pieces\n",
    "\n",
    "    name1 = 'mod_adj'\n",
    "    name2 = 'verti'\n",
    "    name3 = 'tt_adj'\n",
    "\n",
    "\n",
    "    # defining the module adjacent member of omega\n",
    "    x_translate1 = -x/2 - x_omega1 + mod_overlap\n",
    "    y_translate = -y_omega/2 #common for all the pieces\n",
    "    z_translate1 = -z_omega1\n",
    "\n",
    "    #defining the vertical (zgap) member of the omega\n",
    "    x_translate2 = x_translate1\n",
    "    z_translate2 = -z_omega2\n",
    "\n",
    "    #defining the torquetube adjacent member of omega\n",
    "    x_translate3 = x_translate1-x_omega3\n",
    "    z_translate3 = z_translate2\n",
    "    \n",
    "    # In presence of frame, the z-translates have to shift\n",
    "    \n",
    "    if frame == True:\n",
    "        frame_height = frameParams['frame_height']\n",
    "        z_translate1 += -frame_height\n",
    "        z_translate2 += -frame_height\n",
    "        z_translate3 += -frame_height\n",
    "\n",
    "    # for this code, only the translations need to be shifted for the inverted omega\n",
    "\n",
    "    if inverted == True:\n",
    "        # shifting the non-inv omega shape of west as inv omega shape of east\n",
    "        x_translate1_inv_east = x/2-mod_overlap\n",
    "        x_shift_east = x_translate1_inv_east - x_translate1\n",
    "\n",
    "        # shifting the non-inv omega shape of west as inv omega shape of east\n",
    "        x_translate1_inv_west = -x_translate1_inv_east - x_omega1\n",
    "        x_shift_west = -x_translate1_inv_west + (-x_translate1-x_omega1)\n",
    "\n",
    "        #customizing the East side of the module for omega_inverted\n",
    "\n",
    "        custom_text = '\\r\\n! genbox {} {} {} {} {} | xform -t {} {} {}'.format(omega_material, name1, x_omega1, y_omega, z_omega1, x_translate1_inv_east, y_translate, z_translate1) \n",
    "        custom_text += '\\r\\n! genbox {} {} {} {} {} | xform -t {} {} {}'.format(omega_material, name2, x_omega2, y_omega, z_omega2, x_translate2 + x_shift_east, y_translate, z_translate2)\n",
    "        custom_text += '\\r\\n! genbox {} {} {} {} {} | xform -t {} {} {}'.format(omega_material, name3, x_omega3, y_omega, z_omega3, x_translate3 + x_shift_east, y_translate, z_translate3)\n",
    "\n",
    "        #customizing the West side of the module for omega_inverted\n",
    "\n",
    "        custom_text += '\\r\\n! genbox {} {} {} {} {} | xform -t {} {} {}'.format(omega_material, name1, x_omega1, y_omega, z_omega1, x_translate1_inv_west, y_translate, z_translate1) \n",
    "        custom_text += '\\r\\n! genbox {} {} {} {} {} | xform -t {} {} {}'.format(omega_material, name2, x_omega2, y_omega, z_omega2, -x_translate2-x_omega2 -x_shift_west, y_translate, z_translate2)\n",
    "        custom_text += '\\r\\n! genbox {} {} {} {} {} | xform -t {} {} {}'.format(omega_material, name3, x_omega3, y_omega, z_omega3, -x_translate3-x_omega3 - x_shift_west, y_translate, z_translate3)\n",
    "\n",
    "        omega2omega_x = -x_translate1_inv_east*2\n",
    "\n",
    "    else:\n",
    "\n",
    "        #customizing the West side of the module for omega\n",
    "\n",
    "        omegatext = '\\r\\n! genbox {} {} {} {} {} | xform -t {} {} {}'.format(omega_material, name1, x_omega1, y_omega, z_omega1, x_translate1, y_translate, z_translate1) \n",
    "        omegatext += '\\r\\n! genbox {} {} {} {} {} | xform -t {} {} {}'.format(omega_material, name2, x_omega2, y_omega, z_omega2, x_translate2, y_translate, z_translate2)\n",
    "        omegatext += '\\r\\n! genbox {} {} {} {} {} | xform -t {} {} {}'.format(omega_material, name3, x_omega3, y_omega, z_omega3, x_translate3, y_translate, z_translate3)\n",
    "\n",
    "        #customizing the East side of the module for omega\n",
    "\n",
    "        omegatext += '\\r\\n! genbox {} {} {} {} {} | xform -t {} {} {}'.format(omega_material, name1, x_omega1, y_omega, z_omega1, -x_translate1-x_omega1, y_translate, z_translate1) \n",
    "        omegatext += '\\r\\n! genbox {} {} {} {} {} | xform -t {} {} {}'.format(omega_material, name2, x_omega2, y_omega, z_omega2, -x_translate2-x_omega2, y_translate, z_translate2)\n",
    "        omegatext += '\\r\\n! genbox {} {} {} {} {} | xform -t {} {} {}'.format(omega_material, name3, x_omega3, y_omega, z_omega3, -x_translate3-x_omega3, y_translate, z_translate3)\n",
    "\n",
    "        omega2omega_x = -x_translate3*2\n",
    "        \n",
    "    return omega2omega_x,omegatext"
   ]
  },
  {
   "cell_type": "code",
   "execution_count": 21,
   "id": "741a1fbf",
   "metadata": {},
   "outputs": [],
   "source": [
    "scene_x, omegatext = _makeOmega(omegaParams, x, y, xgap, zgap)"
   ]
  },
  {
   "cell_type": "code",
   "execution_count": 22,
   "id": "8bd3361d",
   "metadata": {},
   "outputs": [
    {
     "data": {
      "text/plain": [
       "'\\r\\n! genbox litesoil mod_adj 0.4 1.5 0.05 | xform -t -1.15 -0.75 -0.11\\r\\n! genbox litesoil verti 0.05 1.5 0.5 | xform -t -1.15 -0.75 -0.56\\r\\n! genbox litesoil tt_adj 0.25 1.5 0.05 | xform -t -1.4 -0.75 -0.56\\r\\n! genbox litesoil mod_adj 0.4 1.5 0.05 | xform -t 0.7499999999999999 -0.75 -0.11\\r\\n! genbox litesoil verti 0.05 1.5 0.5 | xform -t 1.0999999999999999 -0.75 -0.56\\r\\n! genbox litesoil tt_adj 0.25 1.5 0.05 | xform -t 1.15 -0.75 -0.56'"
      ]
     },
     "execution_count": 22,
     "metadata": {},
     "output_type": "execute_result"
    }
   ],
   "source": [
    "omegatext"
   ]
  },
  {
   "cell_type": "code",
   "execution_count": 23,
   "id": "4dd29885",
   "metadata": {},
   "outputs": [],
   "source": [
    "customtext = frametext+omegatext"
   ]
  },
  {
   "cell_type": "code",
   "execution_count": 24,
   "id": "90c941cd",
   "metadata": {},
   "outputs": [
    {
     "name": "stdout",
     "output_type": "stream",
     "text": [
      "\n",
      "Module Name: Prism_Solar_Bi60_landscape\n",
      "Pre-existing .rad file objects\\Prism_Solar_Bi60_landscape.rad will be overwritten\n",
      "Module Prism Solar Bi60 landscape updated in module.json\n"
     ]
    },
    {
     "data": {
      "text/plain": [
       "{'x': 2,\n",
       " 'y': 1,\n",
       " 'z': 0.02,\n",
       " 'modulematerial': 'black',\n",
       " 'scenex': 2.02,\n",
       " 'sceney': 2.05,\n",
       " 'scenez': 0.65,\n",
       " 'numpanels': 2,\n",
       " 'bifi': 1,\n",
       " 'text': '! genbox black Prism_Solar_Bi60_landscape 2 1 0.02 | xform -t -1.0 -1.025 0 -a 2 -t 0 1.05 0\\r\\n! genrev Metal_Grey tube1 t*2.02 0.15 32 | xform -ry 90 -t -1.01 0 -0.65\\r\\n! genbox Metal_Grey frameside 0.05 1 0.06 | xform -t -1.0 -1.025 -0.06 -a 2 -t 0 1.05 0\\r\\n! genbox Metal_Grey frameleg 0.03 1 0.05 | xform -t -0.95 -1.025 -0.06 -a 2 -t 0 1.05 0\\r\\n! genbox Metal_Grey frameside 0.05 1 0.06 | xform -t 0.95 -1.025 -0.06 -a 2 -t 0 1.05 0\\r\\n! genbox Metal_Grey frameleg 0.03 1 0.05 | xform -t 0.9199999999999999 -1.025 -0.06 -a 2 -t 0 1.05 0\\r\\n! genbox Metal_Grey frameside 1.9 0.05 0.009999999999999995 | xform -t -0.95 -0.07499999999999991 -0.009999999999999995 -a 2 -t 0 1.05 0\\r\\n! genbox Metal_Grey frameleg 1.8399999999999999 0.08 0.05 | xform -t -0.9199999999999999 -0.10499999999999991 -0.06 -a 2 -t 0 1.05 0\\r\\n! genbox Metal_Grey frameside 1.9 0.05 0.009999999999999995 | xform -t -0.95 -1.025 -0.009999999999999995 -a 2 -t 0 1.05 0\\r\\n! genbox Metal_Grey frameleg 1.8399999999999999 0.08 0.05 | xform -t -0.9199999999999999 -1.025 -0.06 -a 2 -t 0 1.05 0\\r\\n! genbox litesoil mod_adj 0.4 1.5 0.05 | xform -t -1.15 -0.75 -0.11\\r\\n! genbox litesoil verti 0.05 1.5 0.5 | xform -t -1.15 -0.75 -0.56\\r\\n! genbox litesoil tt_adj 0.25 1.5 0.05 | xform -t -1.4 -0.75 -0.56\\r\\n! genbox litesoil mod_adj 0.4 1.5 0.05 | xform -t 0.7499999999999999 -0.75 -0.11\\r\\n! genbox litesoil verti 0.05 1.5 0.5 | xform -t 1.0999999999999999 -0.75 -0.56\\r\\n! genbox litesoil tt_adj 0.25 1.5 0.05 | xform -t 1.15 -0.75 -0.56',\n",
       " 'modulefile': 'objects\\\\Prism_Solar_Bi60_landscape.rad',\n",
       " 'offsetfromaxis': 0,\n",
       " 'xgap': 0.02,\n",
       " 'ygap': 0.05,\n",
       " 'zgap': 0.5,\n",
       " 'cellModule': None,\n",
       " 'torquetube': {'bool': True,\n",
       "  'diameter': 0.3,\n",
       "  'tubetype': 'Round',\n",
       "  'material': 'Metal_Grey'}}"
      ]
     },
     "execution_count": 24,
     "metadata": {},
     "output_type": "execute_result"
    }
   ],
   "source": [
    "module_type = 'Prism Solar Bi60 landscape' \n",
    "demo.makeModule(name=module_type,x=x, y=y, torquetube = True, diameter = 0.3, xgap = xgap, ygap = ygap, zgap = zgap, numpanels = Ny, customtext = customtext, axisofrotationTorqueTube=False)"
   ]
  },
  {
   "cell_type": "code",
   "execution_count": 25,
   "id": "3dff2327",
   "metadata": {},
   "outputs": [],
   "source": [
    "nMods = 1\n",
    "nRows = 1\n",
    "sceneDict = {'tilt':0, 'pitch':3, 'clearance_height':3,'azimuth':90, 'nMods': nMods, 'nRows': nRows} "
   ]
  },
  {
   "cell_type": "code",
   "execution_count": 26,
   "id": "e52ad589",
   "metadata": {},
   "outputs": [],
   "source": [
    "scene = demo.makeScene(module_type,sceneDict)"
   ]
  },
  {
   "cell_type": "code",
   "execution_count": 27,
   "id": "ba28f9ec",
   "metadata": {},
   "outputs": [
    {
     "name": "stdout",
     "output_type": "stream",
     "text": [
      "Created bifacial_example_omegatest.oct\n"
     ]
    }
   ],
   "source": [
    "octfile = demo.makeOct()"
   ]
  },
  {
   "cell_type": "markdown",
   "id": "13e88c54",
   "metadata": {},
   "source": [
    "#rvu command from tutorial 1\n",
    "rvu -vf views\\front.vp -e .01 bifacial_example_omegatest.oct\n",
    "\n",
    "rvu -vp 2.5 0 3 -vd -1 0 0 bifacial_example_omegatest.oct\n",
    "\n",
    "rvu -vp 2.5 0 3 -vd 0 1 0 bifacial_example_omegatest.oct\n"
   ]
  }
 ],
 "metadata": {
  "kernelspec": {
   "display_name": "Python 3",
   "language": "python",
   "name": "python3"
  },
  "language_info": {
   "codemirror_mode": {
    "name": "ipython",
    "version": 3
   },
   "file_extension": ".py",
   "mimetype": "text/x-python",
   "name": "python",
   "nbconvert_exporter": "python",
   "pygments_lexer": "ipython3",
   "version": "3.7.10"
  }
 },
 "nbformat": 4,
 "nbformat_minor": 5
}
