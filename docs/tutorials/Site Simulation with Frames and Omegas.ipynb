{
 "cells": [
  {
   "cell_type": "code",
   "execution_count": 148,
   "id": "8e7b34b9",
   "metadata": {},
   "outputs": [],
   "source": [
    "import bifacial_radiance"
   ]
  },
  {
   "cell_type": "code",
   "execution_count": 149,
   "id": "9bb881db",
   "metadata": {},
   "outputs": [],
   "source": [
    "simulationname = 'OmegaTestField'"
   ]
  },
  {
   "cell_type": "code",
   "execution_count": 150,
   "id": "9e1cc522",
   "metadata": {},
   "outputs": [],
   "source": [
    "testfolder = r'C:\\Users\\sarefeen\\Documents\\RadianceScenes\\Temp'"
   ]
  },
  {
   "cell_type": "code",
   "execution_count": 151,
   "id": "92de1f9d",
   "metadata": {},
   "outputs": [],
   "source": [
    "TMYtoread = r'C:\\Users\\sarefeen\\Documents\\RadianceScenes\\Temp\\SRRL_WeatherFile_TMY3_60_2020.csv'"
   ]
  },
  {
   "cell_type": "code",
   "execution_count": 152,
   "id": "cb79c40e",
   "metadata": {},
   "outputs": [
    {
     "data": {
      "text/plain": [
       "'C:\\\\Users\\\\sarefeen\\\\Documents\\\\RadianceScenes\\\\Temp\\\\SRRL_WeatherFile_TMY3_60_2020.csv'"
      ]
     },
     "execution_count": 152,
     "metadata": {},
     "output_type": "execute_result"
    }
   ],
   "source": [
    "TMYtoread\n"
   ]
  },
  {
   "cell_type": "code",
   "execution_count": 153,
   "id": "2c742048",
   "metadata": {},
   "outputs": [],
   "source": [
    "import pandas as pd\n",
    "weatherfile = pd.read_csv(TMYtoread, header = 1)"
   ]
  },
  {
   "cell_type": "code",
   "execution_count": 154,
   "id": "0f7c6b10",
   "metadata": {},
   "outputs": [
    {
     "data": {
      "text/html": [
       "<div>\n",
       "<style scoped>\n",
       "    .dataframe tbody tr th:only-of-type {\n",
       "        vertical-align: middle;\n",
       "    }\n",
       "\n",
       "    .dataframe tbody tr th {\n",
       "        vertical-align: top;\n",
       "    }\n",
       "\n",
       "    .dataframe thead th {\n",
       "        text-align: right;\n",
       "    }\n",
       "</style>\n",
       "<table border=\"1\" class=\"dataframe\">\n",
       "  <thead>\n",
       "    <tr style=\"text-align: right;\">\n",
       "      <th></th>\n",
       "      <th>Date (MM/DD/YYYY)</th>\n",
       "      <th>Time (HH:MM)</th>\n",
       "      <th>Wspd (m/s)</th>\n",
       "      <th>Dry-bulb (C)</th>\n",
       "      <th>DHI (W/m^2)</th>\n",
       "      <th>DNI (W/m^2)</th>\n",
       "      <th>GHI (W/m^2)</th>\n",
       "      <th>Alb (unitless)</th>\n",
       "    </tr>\n",
       "  </thead>\n",
       "  <tbody>\n",
       "    <tr>\n",
       "      <th>0</th>\n",
       "      <td>1/1/2020</td>\n",
       "      <td>01:00</td>\n",
       "      <td>5.467867</td>\n",
       "      <td>7.227683</td>\n",
       "      <td>0.000000</td>\n",
       "      <td>0.039632</td>\n",
       "      <td>0.0</td>\n",
       "      <td>0.0</td>\n",
       "    </tr>\n",
       "    <tr>\n",
       "      <th>1</th>\n",
       "      <td>1/1/2020</td>\n",
       "      <td>02:00</td>\n",
       "      <td>2.529017</td>\n",
       "      <td>6.917350</td>\n",
       "      <td>0.006899</td>\n",
       "      <td>0.000000</td>\n",
       "      <td>0.0</td>\n",
       "      <td>0.0</td>\n",
       "    </tr>\n",
       "    <tr>\n",
       "      <th>2</th>\n",
       "      <td>1/1/2020</td>\n",
       "      <td>03:00</td>\n",
       "      <td>3.874633</td>\n",
       "      <td>7.216600</td>\n",
       "      <td>0.000000</td>\n",
       "      <td>0.000000</td>\n",
       "      <td>0.0</td>\n",
       "      <td>0.0</td>\n",
       "    </tr>\n",
       "    <tr>\n",
       "      <th>3</th>\n",
       "      <td>1/1/2020</td>\n",
       "      <td>04:00</td>\n",
       "      <td>3.819000</td>\n",
       "      <td>7.436917</td>\n",
       "      <td>0.000000</td>\n",
       "      <td>0.000000</td>\n",
       "      <td>0.0</td>\n",
       "      <td>0.0</td>\n",
       "    </tr>\n",
       "    <tr>\n",
       "      <th>4</th>\n",
       "      <td>1/1/2020</td>\n",
       "      <td>05:00</td>\n",
       "      <td>4.129133</td>\n",
       "      <td>7.872650</td>\n",
       "      <td>0.000000</td>\n",
       "      <td>0.000000</td>\n",
       "      <td>0.0</td>\n",
       "      <td>0.0</td>\n",
       "    </tr>\n",
       "  </tbody>\n",
       "</table>\n",
       "</div>"
      ],
      "text/plain": [
       "  Date (MM/DD/YYYY) Time (HH:MM)  Wspd (m/s)  Dry-bulb (C)  DHI (W/m^2)  \\\n",
       "0          1/1/2020        01:00    5.467867      7.227683     0.000000   \n",
       "1          1/1/2020        02:00    2.529017      6.917350     0.006899   \n",
       "2          1/1/2020        03:00    3.874633      7.216600     0.000000   \n",
       "3          1/1/2020        04:00    3.819000      7.436917     0.000000   \n",
       "4          1/1/2020        05:00    4.129133      7.872650     0.000000   \n",
       "\n",
       "   DNI (W/m^2)  GHI (W/m^2)  Alb (unitless)  \n",
       "0     0.039632          0.0             0.0  \n",
       "1     0.000000          0.0             0.0  \n",
       "2     0.000000          0.0             0.0  \n",
       "3     0.000000          0.0             0.0  \n",
       "4     0.000000          0.0             0.0  "
      ]
     },
     "execution_count": 154,
     "metadata": {},
     "output_type": "execute_result"
    }
   ],
   "source": [
    "weatherfile.head()"
   ]
  },
  {
   "cell_type": "code",
   "execution_count": 22,
   "id": "64066eae",
   "metadata": {},
   "outputs": [],
   "source": [
    "wf2 = weatherfile[weatherfile['DNI (W/m^2)'] == weatherfile['DNI (W/m^2)'].max()]"
   ]
  },
  {
   "cell_type": "code",
   "execution_count": 144,
   "id": "f050ded1",
   "metadata": {},
   "outputs": [],
   "source": [
    "wf3 = weatherfile[weatherfile['Date (MM/DD/YYYY)']== '4/29/2020']"
   ]
  },
  {
   "cell_type": "code",
   "execution_count": 145,
   "id": "97a7656c",
   "metadata": {},
   "outputs": [],
   "source": [
    "y = wf3['DNI (W/m^2)']\n",
    "x = wf3['Time (HH:MM)']"
   ]
  },
  {
   "cell_type": "code",
   "execution_count": 147,
   "id": "bf332b29",
   "metadata": {},
   "outputs": [
    {
     "data": {
      "text/plain": [
       "([0,\n",
       "  1,\n",
       "  2,\n",
       "  3,\n",
       "  4,\n",
       "  5,\n",
       "  6,\n",
       "  7,\n",
       "  8,\n",
       "  9,\n",
       "  10,\n",
       "  11,\n",
       "  12,\n",
       "  13,\n",
       "  14,\n",
       "  15,\n",
       "  16,\n",
       "  17,\n",
       "  18,\n",
       "  19,\n",
       "  20,\n",
       "  21,\n",
       "  22],\n",
       " [Text(0, 0, ''),\n",
       "  Text(0, 0, ''),\n",
       "  Text(0, 0, ''),\n",
       "  Text(0, 0, ''),\n",
       "  Text(0, 0, ''),\n",
       "  Text(0, 0, ''),\n",
       "  Text(0, 0, ''),\n",
       "  Text(0, 0, ''),\n",
       "  Text(0, 0, ''),\n",
       "  Text(0, 0, ''),\n",
       "  Text(0, 0, ''),\n",
       "  Text(0, 0, ''),\n",
       "  Text(0, 0, ''),\n",
       "  Text(0, 0, ''),\n",
       "  Text(0, 0, ''),\n",
       "  Text(0, 0, ''),\n",
       "  Text(0, 0, ''),\n",
       "  Text(0, 0, ''),\n",
       "  Text(0, 0, ''),\n",
       "  Text(0, 0, ''),\n",
       "  Text(0, 0, ''),\n",
       "  Text(0, 0, ''),\n",
       "  Text(0, 0, '')])"
      ]
     },
     "execution_count": 147,
     "metadata": {},
     "output_type": "execute_result"
    },
    {
     "data": {
      "image/png": "[encoded data removed]",
      "text/plain": [
       "<Figure size 432x288 with 1 Axes>"
      ]
     },
     "metadata": {
      "needs_background": "light"
     },
     "output_type": "display_data"
    }
   ],
   "source": [
    "import matplotlib.pyplot as plt\n",
    "plt.plot(x,y)\n",
    "plt.xticks(rotation = 45)"
   ]
  },
  {
   "cell_type": "code",
   "execution_count": 71,
   "id": "3dbfea49",
   "metadata": {},
   "outputs": [
    {
     "data": {
      "text/html": [
       "<div>\n",
       "<style scoped>\n",
       "    .dataframe tbody tr th:only-of-type {\n",
       "        vertical-align: middle;\n",
       "    }\n",
       "\n",
       "    .dataframe tbody tr th {\n",
       "        vertical-align: top;\n",
       "    }\n",
       "\n",
       "    .dataframe thead th {\n",
       "        text-align: right;\n",
       "    }\n",
       "</style>\n",
       "<table border=\"1\" class=\"dataframe\">\n",
       "  <thead>\n",
       "    <tr style=\"text-align: right;\">\n",
       "      <th></th>\n",
       "      <th>Date (MM/DD/YYYY)</th>\n",
       "      <th>Time (HH:MM)</th>\n",
       "      <th>Wspd (m/s)</th>\n",
       "      <th>Dry-bulb (C)</th>\n",
       "      <th>DHI (W/m^2)</th>\n",
       "      <th>DNI (W/m^2)</th>\n",
       "      <th>GHI (W/m^2)</th>\n",
       "      <th>Alb (unitless)</th>\n",
       "    </tr>\n",
       "  </thead>\n",
       "  <tbody>\n",
       "    <tr>\n",
       "      <th>1990</th>\n",
       "      <td>3/28/2020</td>\n",
       "      <td>13:00</td>\n",
       "      <td>5.982717</td>\n",
       "      <td>5.863217</td>\n",
       "      <td>80.602627</td>\n",
       "      <td>1064.340833</td>\n",
       "      <td>922.1741</td>\n",
       "      <td>0.183133</td>\n",
       "    </tr>\n",
       "  </tbody>\n",
       "</table>\n",
       "</div>"
      ],
      "text/plain": [
       "     Date (MM/DD/YYYY) Time (HH:MM)  Wspd (m/s)  Dry-bulb (C)  DHI (W/m^2)  \\\n",
       "1990         3/28/2020        13:00    5.982717      5.863217    80.602627   \n",
       "\n",
       "      DNI (W/m^2)  GHI (W/m^2)  Alb (unitless)  \n",
       "1990  1064.340833     922.1741        0.183133  "
      ]
     },
     "execution_count": 71,
     "metadata": {},
     "output_type": "execute_result"
    }
   ],
   "source": [
    "wf2"
   ]
  },
  {
   "cell_type": "code",
   "execution_count": 29,
   "id": "ca01cc9d",
   "metadata": {},
   "outputs": [
    {
     "data": {
      "text/plain": [
       "11781.073852"
      ]
     },
     "execution_count": 29,
     "metadata": {},
     "output_type": "execute_result"
    }
   ],
   "source": [
    "weatherfile.groupby('Date (MM/DD/YYYY)')['DNI (W/m^2)'].sum().max()"
   ]
  },
  {
   "cell_type": "code",
   "execution_count": 155,
   "id": "6e386109",
   "metadata": {},
   "outputs": [],
   "source": [
    "moduletype='Framed_Panel'\n",
    "numpanels = 1  \n",
    "x = 1  \n",
    "y = 2\n",
    "lat=39.742 # NREL SSRL location\n",
    "lon=-105.179 # NREL SSRL location\n",
    "elev=1829\n",
    "timezone=-7\n",
    "axis_tilt=0\n",
    "axis_azimuth=180\n",
    "limit_angle=60\n",
    "backtrack=True \n",
    "gcr=0.35\n",
    "angledelta=0.01\n",
    "numpanels=1\n",
    "torquetube=True\n",
    "diameter = 0.130175        # 5 1/8 in\n",
    "torqueTubeMaterial='Metal_Grey'\n",
    "tubetype='Round'\n",
    "\n",
    "# for torquetube, the simulation \n",
    "axisofrotationTorqueTube = False\n",
    "hub_height = 1.35    # This is what we've been using but I measured 0.927 to torquetube...\n",
    "xgap = 0.01    # 1 cm\n",
    "zgap = 0.05    # 1 inch of arm, + 1 3/16 of panel width on average ~ 0.055 m\n",
    "pitch=5.7      # distance between rows\n",
    "\n",
    "# this is something I shall need to change to have better simulation resolution at the edge\n",
    "sensorsy = 9"
   ]
  },
  {
   "cell_type": "code",
   "execution_count": 156,
   "id": "04b180a1",
   "metadata": {},
   "outputs": [],
   "source": [
    "# TorqueTube Parameters\n",
    "axisofrotationTorqueTube=False\n",
    "torqueTube = True\n",
    "cellLevelModule = False"
   ]
  },
  {
   "cell_type": "code",
   "execution_count": 157,
   "id": "f1e86742",
   "metadata": {},
   "outputs": [],
   "source": [
    "albedo = 0.2  #'grass'     # ground albedo\n",
    "# nMods = 20 \n",
    "# nRows = 10 \n",
    "\n",
    "#this change is for smalling the simulation\n",
    "\n",
    "nMods = 1 \n",
    "nRows = 1 \n",
    "\n",
    "cumulativesky = False"
   ]
  },
  {
   "cell_type": "code",
   "execution_count": 158,
   "id": "a4c30e72",
   "metadata": {},
   "outputs": [
    {
     "name": "stdout",
     "output_type": "stream",
     "text": [
      "path = C:\\Users\\sarefeen\\Documents\\RadianceScenes\\Temp\n"
     ]
    }
   ],
   "source": [
    "demo = bifacial_radiance.RadianceObj(simulationname, path = testfolder)  # Create a RadianceObj 'object'"
   ]
  },
  {
   "cell_type": "code",
   "execution_count": 169,
   "id": "b0ca4213",
   "metadata": {},
   "outputs": [
    {
     "name": "stdout",
     "output_type": "stream",
     "text": [
      "\n",
      "Module Name: Framed_Panel\n",
      "Pre-existing .rad file objects\\Framed_Panel.rad will be overwritten\n",
      "Postion 1 Offsetfromaxis: 0\n",
      "Module Framed_Panel updated in module.json\n"
     ]
    }
   ],
   "source": [
    "frameParams = {'frame_material' : 'Metal_Grey', \n",
    "               'frame_thickness' : 0.003,\n",
    "               'frame_z' : 0.03,\n",
    "               'nSides_frame' : 4,\n",
    "               'frame_width' : 0.05}\n",
    "\n",
    "\n",
    "omegaParams = {'omega_material': 'litesoil',\n",
    "                'x_omega1' : 0.08,\n",
    "                'mod_overlap' : 0.03,\n",
    "                'y_omega' : 0.75,\n",
    "                'x_omega3' : 0.02,\n",
    "                'omega_thickness' : 0.01,\n",
    "                'inverted' : False}\n",
    "moduleDict=demo.makeModule(name=moduletype,x=x,y=y,numpanels = numpanels, xgap=xgap, zgap=zgap,\n",
    "                            torquetube=torquetube, diameter=diameter, tubetype=tubetype, material=torqueTubeMaterial,\n",
    "                            axisofrotationTorqueTube=axisofrotationTorqueTube, omegaParams = None, frameParams = None)"
   ]
  },
  {
   "cell_type": "code",
   "execution_count": 170,
   "id": "335c01f2",
   "metadata": {},
   "outputs": [
    {
     "name": "stdout",
     "output_type": "stream",
     "text": [
      "Warning: CSV file passed for input. Assuming it is TMY3style format\n",
      "start: 2020-01-01 01:00:00\n",
      "end: 2020-12-30 23:00:00\n",
      "Saving file EPWs\\tmy3_temp.csv, # points: 8372\n",
      "Calculating Sun position for Metdata that is right-labeled  with a delta of -30 mins. i.e. 12 is 11:30 sunpos\n"
     ]
    },
    {
     "name": "stderr",
     "output_type": "stream",
     "text": [
      "C:\\Users\\sarefeen\\Anaconda3\\lib\\site-packages\\pvlib\\solarposition.py:448: FutureWarning: casting datetime64[ns, UTC] values to int64 with .astype(...) is deprecated and will raise in a future version. Use .view(...) instead.\n",
      "  unixtime = np.array(utcday.astype(np.int64)/10**9)\n"
     ]
    },
    {
     "name": "stdout",
     "output_type": "stream",
     "text": [
      " Assigned Albedo from metdata.albedo\n",
      "Warning: albedo values greater than 1 or less than 0. Constraining to [0..1]\n",
      "Loading albedo, 8372 value(s), 0.247 avg\n",
      "4662 nonzero albedo values.\n"
     ]
    },
    {
     "name": "stderr",
     "output_type": "stream",
     "text": [
      "C:\\Users\\sarefeen\\Anaconda3\\lib\\site-packages\\pvlib\\solarposition.py:368: FutureWarning: casting datetime64[ns, pytz.FixedOffset(-420)] values to int64 with .astype(...) is deprecated and will raise in a future version. Use .view(...) instead.\n",
      "  unixtime = np.array(time.astype(np.int64)/10**9)\n"
     ]
    }
   ],
   "source": [
    "metdata = demo.readWeatherFile(TMYtoread)\n",
    "demo.setGround() \n",
    "sceneDict = {'pitch': pitch,'hub_height':hub_height, 'nMods':nMods, 'nRows': nRows, 'sceney':y}  \n",
    "trackerdict = demo.set1axis(metdata = metdata, limit_angle = limit_angle, backtrack = backtrack, \n",
    "                            gcr = gcr, cumulativesky = cumulativesky)"
   ]
  },
  {
   "cell_type": "code",
   "execution_count": 171,
   "id": "82eacb42",
   "metadata": {},
   "outputs": [
    {
     "name": "stdout",
     "output_type": "stream",
     "text": [
      "Creating ~0 skyfiles.  Takes 1-2 minutes\n",
      "Created 1 skyfiles in /skies/\n",
      "\n",
      "Making ~1 .rad files for gendaylit 1-axis workflow (this takes a minute..)\n",
      "1 Radfiles created in /objects/\n",
      "\n",
      "Making 1 octfiles in root directory.\n",
      "Created 1axis_20_01_01_12_00.oct\n"
     ]
    }
   ],
   "source": [
    "# Restricting run to one day for speed, 'MM_DD_HH'\n",
    "startdate = '20_01_01_12'      \n",
    "enddate = '20_01_01_12'\n",
    "trackerdict = demo.gendaylit1axis(startdate = startdate, enddate = enddate) \n",
    "trackerdict = demo.makeScene1axis(moduletype = moduletype, sceneDict = sceneDict) \n",
    "trackerdict = demo.makeOct1axis()\n",
    "\n",
    "# find the frontscan and backscan with the desired ystart value and then input them for function analysis1axis\n",
    "#results = demo.analysis1axis(modWanted=16, rowWanted=3, sensorsy=sensorsy)"
   ]
  },
  {
   "cell_type": "code",
   "execution_count": 173,
   "id": "5e765df1",
   "metadata": {
    "scrolled": true
   },
   "outputs": [
    {
     "data": {
      "text/plain": [
       "{'metdata': <bifacial_radiance.main.MetObj at 0x24b454fcfa0>,\n",
       " 'data': {},\n",
       " 'path': 'C:\\\\Users\\\\sarefeen\\\\Documents\\\\RadianceScenes\\\\Temp',\n",
       " 'name': '20_01_01_12_00',\n",
       " 'materialfiles': ['materials\\\\ground.rad'],\n",
       " 'skyfiles': ['skies\\\\sky2_39.742_-105.179_2020_01_01_12_00.rad'],\n",
       " 'radfiles': [],\n",
       " 'octfile': '1axis_20_01_01_12_00.oct',\n",
       " 'Wm2Front': array([924.4227    , 924.523     , 924.6247    , 924.7264    ,\n",
       "        924.8283    , 829.35757667, 809.57584333, 822.29544333,\n",
       "        832.96334333]),\n",
       " 'Wm2Back': array([247.4833    , 246.91586033, 246.26824467, 245.686622  ,\n",
       "        132.78183467, 141.845628  , 144.30461467, 147.26458833,\n",
       "        147.85806567]),\n",
       " 'backRatio': array([0.35513476, 0.35508959, 0.35504413, 0.35499898, 0.19166731,\n",
       "        0.22089821, 0.21882797, 0.21549653, 0.21195787]),\n",
       " 'nMods': 1,\n",
       " 'nRows': 1,\n",
       " 'nowstr': '2021-08-17_103710',\n",
       " 'basename': 'OmegaTestField',\n",
       " 'moduleDict': {'x': 1,\n",
       "  'y': 2,\n",
       "  'z': 0.02,\n",
       "  'modulematerial': 'black',\n",
       "  'scenex': 1.01,\n",
       "  'sceney': 2.0,\n",
       "  'scenez': 0.1150875,\n",
       "  'numpanels': 1,\n",
       "  'bifi': 1,\n",
       "  'text': '! genbox black Framed_Panel 1 2 0.02 | xform -t -0.5 -1.0 0 -a 1 -t 0 2.0 0\\r\\n! genrev Metal_Grey tube1 t*1.01 0.0650875 32 | xform -ry 90 -t -0.505 0 -0.11508750000000001',\n",
       "  'modulefile': 'objects\\\\Framed_Panel.rad',\n",
       "  'offsetfromaxis': 0,\n",
       "  'xgap': 0.01,\n",
       "  'ygap': 0.0,\n",
       "  'zgap': 0.05,\n",
       "  'cellModule': None,\n",
       "  'torquetube': {'bool': True,\n",
       "   'diameter': 0.130175,\n",
       "   'tubetype': 'Round',\n",
       "   'material': 'Metal_Grey'}},\n",
       " 'epwfile': 'EPWs\\\\tmy3_temp.csv',\n",
       " 'ground': <bifacial_radiance.main.GroundObj at 0x24b468589a0>,\n",
       " 'trackerdict': {'20_01_01_12_00': {'surf_azm': 90.0,\n",
       "   'surf_tilt': 16.9,\n",
       "   'theta': -16.9,\n",
       "   'ghi': 116.14659333333331,\n",
       "   'dhi': 118.86741,\n",
       "   'skyfile': 'skies\\\\sky2_39.742_-105.179_2020_01_01_12_00.rad',\n",
       "   'clearance_height': 1.0592978064017475,\n",
       "   'radfile': 'objects\\\\1axis20_01_01_12_00__C_1.05930_rtr_5.70000_tilt_16.90000_1modsx1rows_origin0,0.rad',\n",
       "   'scene': <bifacial_radiance.main.SceneObj at 0x24b452a05b0>,\n",
       "   'octfile': '1axis_20_01_01_12_00.oct',\n",
       "   'AnalysisObj': <bifacial_radiance.main.AnalysisObj at 0x24b44fc0790>,\n",
       "   'Wm2Front': [115.5653,\n",
       "    115.58,\n",
       "    115.5948,\n",
       "    115.60949999999998,\n",
       "    115.6243,\n",
       "    91.66064666666666,\n",
       "    92.62963333333333,\n",
       "    95.68621666666667,\n",
       "    97.49581333333333],\n",
       "   'Wm2Back': [41.04161,\n",
       "    41.04161,\n",
       "    41.04161,\n",
       "    41.04161,\n",
       "    22.16159,\n",
       "    20.247893333333334,\n",
       "    20.270173333333332,\n",
       "    20.620263333333334,\n",
       "    20.665216666666666],\n",
       "   'backRatio': [0.3551347581431611,\n",
       "    0.3550895908497071,\n",
       "    0.35504412790084067,\n",
       "    0.3549989836563288,\n",
       "    0.1916673081064438,\n",
       "    0.2208982062799512,\n",
       "    0.21882796871733215,\n",
       "    0.2154965318425502,\n",
       "    0.2119578677511648]}},\n",
       " 'cumulativesky': False,\n",
       " 'hub_height': 1.35}"
      ]
     },
     "execution_count": 173,
     "metadata": {},
     "output_type": "execute_result"
    }
   ],
   "source": [
    "demo.__dict__"
   ]
  },
  {
   "cell_type": "code",
   "execution_count": 174,
   "id": "aaad138a",
   "metadata": {},
   "outputs": [
    {
     "data": {
      "text/plain": [
       "16.9"
      ]
     },
     "execution_count": 174,
     "metadata": {},
     "output_type": "execute_result"
    }
   ],
   "source": [
    "demo.trackerdict['20_01_01_12_00']['surf_tilt']"
   ]
  },
  {
   "cell_type": "code",
   "execution_count": 172,
   "id": "681933cb",
   "metadata": {},
   "outputs": [
    {
     "name": "stdout",
     "output_type": "stream",
     "text": [
      "Linescan in process: 1axis_20_01_01_12_00_WITHOUT_pos_0_Front\n",
      "Linescan in process: 1axis_20_01_01_12_00_WITHOUT_pos_0_Back\n",
      "Saved: results\\irr_1axis_20_01_01_12_00_WITHOUT_pos_0.csv\n",
      "Index: 20_01_01_12_00. Wm2Front: 115.6273. Wm2Back: 20.09651259259259\n",
      "Saving a cumulative-results file in the main simulation folder.This adds up by sensor location the irradiance over all hours or configurations considered.\n",
      "Warning: This file saving routine does not clean results, so if your setup has ygaps, or 2+modules or torque tubes, doing a deeper cleaning and working with the individual results files in the results folder is highly suggested.\n",
      "\n",
      "Saving Cumulative results\n",
      "Saved: cumulative_results__WITHOUT_pos_0.csv\n",
      "Linescan in process: 1axis_20_01_01_12_00_WITHOUT_pos_1_Front\n",
      "Linescan in process: 1axis_20_01_01_12_00_WITHOUT_pos_1_Back\n",
      "Saved: results\\irr_1axis_20_01_01_12_00_WITHOUT_pos_1.csv\n",
      "Index: 20_01_01_12_00. Wm2Front: 106.16068999999999. Wm2Back: 29.792397407407407\n",
      "Saving a cumulative-results file in the main simulation folder.This adds up by sensor location the irradiance over all hours or configurations considered.\n",
      "Warning: This file saving routine does not clean results, so if your setup has ygaps, or 2+modules or torque tubes, doing a deeper cleaning and working with the individual results files in the results folder is highly suggested.\n",
      "\n",
      "Saving Cumulative results\n",
      "Saved: cumulative_results__WITHOUT_pos_1.csv\n"
     ]
    },
    {
     "data": {
      "text/plain": [
       "'\\nirr_1axis_08_05_09_pos_0\\nirr_1axis_08_05_10_pos_0\\nirr_1axis_08_05_11_pos_0\\n\\nirr_1axis_08_05_09_pos_1\\nirr_1axis_08_05_10_pos_1\\nirr_1axis_08_05_11_pos_1\\nirr_1axis_08_05_09_pos_2\\nirr_1axis_08_05_10_pos_2\\nirr_1axis_08_05_11_pos_2\\n'"
      ]
     },
     "execution_count": 172,
     "metadata": {},
     "output_type": "execute_result"
    }
   ],
   "source": [
    "scanpoints = int(0.05/0.005)     # sample 5 cm from the edge, with a resolution of 0.005 mm \n",
    "frame_thickness = 0.01\n",
    "modscanBack = {}\n",
    "for ii in range(0, 2):\n",
    "    modscanBack['ystart']  = x/2.0 - (frame_thickness + 0.001) - 0.005*ii # (adding frame thicknes plus 1 mm so it does not overlay exactly) \n",
    "    result = demo.analysis1axis(modscanfront=modscanBack, modscanback=modscanBack, relative = False, customname='_WITHOUT_'+'pos_'+str(ii))\n",
    "\n",
    "\n",
    "'''\n",
    "irr_1axis_08_05_09_pos_0\n",
    "irr_1axis_08_05_10_pos_0\n",
    "irr_1axis_08_05_11_pos_0\n",
    "\n",
    "irr_1axis_08_05_09_pos_1\n",
    "irr_1axis_08_05_10_pos_1\n",
    "irr_1axis_08_05_11_pos_1\n",
    "irr_1axis_08_05_09_pos_2\n",
    "irr_1axis_08_05_10_pos_2\n",
    "irr_1axis_08_05_11_pos_2\n",
    "'''"
   ]
  },
  {
   "cell_type": "code",
   "execution_count": null,
   "id": "4c306eff",
   "metadata": {},
   "outputs": [],
   "source": []
  }
 ],
 "metadata": {
  "kernelspec": {
   "display_name": "Python 3",
   "language": "python",
   "name": "python3"
  },
  "language_info": {
   "codemirror_mode": {
    "name": "ipython",
    "version": 3
   },
   "file_extension": ".py",
   "mimetype": "text/x-python",
   "name": "python",
   "nbconvert_exporter": "python",
   "pygments_lexer": "ipython3",
   "version": "3.8.8"
  }
 },
 "nbformat": 4,
 "nbformat_minor": 5
}
