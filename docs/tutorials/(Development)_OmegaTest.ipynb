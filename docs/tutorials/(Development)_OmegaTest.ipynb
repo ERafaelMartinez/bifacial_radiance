{
 "cells": [
  {
   "cell_type": "markdown",
   "id": "d44f4591",
   "metadata": {},
   "source": [
    "## Simulating Omega in Bigger Scale ##"
   ]
  },
  {
   "cell_type": "code",
   "execution_count": null,
   "id": "ab44a853",
   "metadata": {},
   "outputs": [],
   "source": []
  },
  {
   "cell_type": "markdown",
   "id": "64a16fcd",
   "metadata": {},
   "source": [
    "## Scripting the Omega Test"
   ]
  },
  {
   "cell_type": "code",
   "execution_count": 99,
   "id": "3a66e5a5",
   "metadata": {},
   "outputs": [
    {
     "name": "stdout",
     "output_type": "stream",
     "text": [
      "Your simulation will be stored in C:\\Users\\sarefeen\\Documents\\RadianceScenes\\Omega\n"
     ]
    }
   ],
   "source": [
    "import os\n",
    "from pathlib import Path\n",
    "\n",
    "testfolder = r'C:\\Users\\sarefeen\\Documents\\RadianceScenes\\Omega'  \n",
    "\n",
    "print (\"Your simulation will be stored in %s\" % testfolder)"
   ]
  },
  {
   "cell_type": "code",
   "execution_count": 100,
   "id": "653aefc6",
   "metadata": {},
   "outputs": [],
   "source": [
    "import bifacial_radiance"
   ]
  },
  {
   "cell_type": "code",
   "execution_count": 101,
   "id": "606387ed",
   "metadata": {},
   "outputs": [
    {
     "name": "stdout",
     "output_type": "stream",
     "text": [
      "path = C:\\Users\\sarefeen\\Documents\\RadianceScenes\\Omega\n"
     ]
    }
   ],
   "source": [
    "demo = bifacial_radiance.RadianceObj('bifacial_example_omegatest',str(testfolder)) "
   ]
  },
  {
   "cell_type": "code",
   "execution_count": 102,
   "id": "4780f53d",
   "metadata": {},
   "outputs": [
    {
     "name": "stdout",
     "output_type": "stream",
     "text": [
      "Loading albedo, 1 value(s), 0.620 avg\n",
      "1 nonzero albedo values.\n"
     ]
    }
   ],
   "source": [
    "albedo = 0.62\n",
    "demo.setGround(albedo)"
   ]
  },
  {
   "cell_type": "code",
   "execution_count": 103,
   "id": "eb3ef010",
   "metadata": {},
   "outputs": [
    {
     "name": "stdout",
     "output_type": "stream",
     "text": [
      "Getting weather file: USA_VA_Richmond.Intl.AP.724010_TMY.epw\n",
      " ... OK!\n"
     ]
    }
   ],
   "source": [
    "epwfile = demo.getEPW(lat = 37.5, lon = -77.6)"
   ]
  },
  {
   "cell_type": "code",
   "execution_count": 104,
   "id": "71ee9f46",
   "metadata": {},
   "outputs": [
    {
     "name": "stdout",
     "output_type": "stream",
     "text": [
      "start: 2021-01-01 00:00:00\n",
      "end: 2021-12-31 23:00:00\n",
      "Saving file EPWs\\epw_temp.csv, # points: 8760\n",
      "Calculating Sun position for Metdata that is right-labeled  with a delta of -30 mins. i.e. 12 is 11:30 sunpos\n"
     ]
    }
   ],
   "source": [
    "metdata = demo.readEPW(epwfile, coerce_year = 2021)"
   ]
  },
  {
   "cell_type": "code",
   "execution_count": 105,
   "id": "b2044dc9",
   "metadata": {},
   "outputs": [
    {
     "data": {
      "text/plain": [
       "'skies\\\\sky2_37.5_-77.33_2021_06_17_13_00.rad'"
      ]
     },
     "execution_count": 105,
     "metadata": {},
     "output_type": "execute_result"
    }
   ],
   "source": [
    "#generating sky\n",
    "demo.gendaylit(4020)"
   ]
  },
  {
   "cell_type": "code",
   "execution_count": 106,
   "id": "18dde55e",
   "metadata": {},
   "outputs": [],
   "source": [
    "# mod_adj_piece\n",
    "\n",
    "x,y,z = 1,2,0 #module parameters\n",
    "\n",
    "x_omega1 = 0.4 #assuming 10 cm\n",
    "mod_overlap = 0.2 # assuming 3 cm overlap\n",
    "y_omega = 1.5\n",
    "z_omega1 = 0.05\n",
    "#x_start_m = -x/2 + mod_overlap \n",
    "x_translate1 = -x/2 - x_omega1 + mod_overlap\n",
    "y_translate = -y_omega/2 #common for all the pieces\n",
    "z_translate1 = -z_omega1\n",
    "x_size_1 = x_omega1\n",
    "y_size_1 = y_omega\n",
    "z_size_1 = z_omega1 #assumed for nominal thickness"
   ]
  },
  {
   "cell_type": "code",
   "execution_count": 107,
   "id": "9847b4f4",
   "metadata": {},
   "outputs": [],
   "source": [
    "# vertical piece\n",
    "x_omega2 = 0.05\n",
    "z_omega2 = 0.5 #assuming 50 cm\n",
    "# z_mod_thickness = 0.02 #2 cm thickness for module\n",
    "x_size_2 = x_omega2\n",
    "# z_start = -z_mod_thickness\n",
    "x_translate2 = x_translate1\n",
    "z_translate2 = -z_omega2\n",
    "z_size_2 = z_omega2\n",
    "y_size_2 = y_omega\n"
   ]
  },
  {
   "cell_type": "code",
   "execution_count": 108,
   "id": "ba8ed3e0",
   "metadata": {},
   "outputs": [],
   "source": [
    "# TT_adj_piece\n",
    "\n",
    "x_omega3 = 0.25\n",
    "z_omega3 = 0.05\n",
    "#x_start_tt = -x/2 - x_omega3 -x_omega1 + mod_overlap\n",
    "#x_end_tt = -x/2 - x_omega/2 + mod_overlap - x_omega/2\n",
    "#x_end_tt = -x/2 - x_omega1 - x_omega3\n",
    "x_size_3 = x_omega3\n",
    "y_size_3 = y_omega\n",
    "z_size_3 = z_omega3 #assumed for nominal thickness\n",
    "\n",
    "x_translate3 = x_translate1-x_omega3\n",
    "z_translate3 = z_translate2\n"
   ]
  },
  {
   "cell_type": "code",
   "execution_count": 109,
   "id": "711256c0",
   "metadata": {},
   "outputs": [],
   "source": [
    "#making the geometry\n",
    "\n",
    "x,y,z = 1,2,0\n",
    "name1 = 'mod_adj'\n",
    "name2 = 'verti'\n",
    "name3 = 'tt_adj'\n",
    "offsetfromaxis = True\n",
    "omega_material = 'litesoil'\n",
    "\n",
    "#customizing the West side of the module for omega\n",
    "\n",
    "#Trying to make the regular frame\n",
    "\n",
    "frame_x = x/10\n",
    "frame_y = \n",
    "\n",
    "custom_text = '\\r\\n! genbox {} {} {} {} {} | xform -t {} {} {}'.format(omega_material, name1, x_size_1, y_size_1, z_size_1, x_translate1, y_translate, z_translate1) \n",
    "custom_text = '\\r\\n! genbox {} {} {} {} {} | xform -t {} {} {}'.format(omega_material, name1, x_size_1, y_size_1, z_size_1, x_translate1, y_translate, z_translate1) \n",
    "\n",
    "\n",
    "custom_text = '\\r\\n! genbox {} {} {} {} {} | xform -t {} {} {}'.format(omega_material, name1, x_size_1, y_size_1, z_size_1, x_translate1, y_translate, z_translate1) \n",
    "custom_text += '\\r\\n! genbox {} {} {} {} {} | xform -t {} {} {}'.format(omega_material, name2, x_size_2, y_size_2, z_size_2, x_translate2, y_translate, z_translate2)\n",
    "custom_text += '\\r\\n! genbox {} {} {} {} {} | xform -t {} {} {}'.format(omega_material, name3, x_size_3, y_size_3, z_size_3, x_translate3, y_translate, z_translate3)\n",
    "\n",
    "#customizing the East side of the module for omega\n",
    "\n",
    "custom_text += '\\r\\n! genbox {} {} {} {} {} | xform -t {} {} {}'.format(omega_material, name1, x_size_1, y_size_1, z_size_1, -x_translate1-x_omega1, y_translate, z_translate1) \n",
    "custom_text += '\\r\\n! genbox {} {} {} {} {} | xform -t {} {} {}'.format(omega_material, name2, x_size_2, y_size_2, z_size_2, -x_translate2-x_omega2, y_translate, z_translate2)\n",
    "custom_text += '\\r\\n! genbox {} {} {} {} {} | xform -t {} {} {}'.format(omega_material, name3, x_size_3, y_size_3, z_size_3, -x_translate3-x_omega3, y_translate, z_translate3)\n",
    "\n",
    "\n",
    "#custom_text = '! genbox black CenterMarker 0.1 0.1 4 | xform -t -0.05 -0.05 0'\n",
    "#text +='| xform -t {} {} {} '.format(-x/2.0, (-yNy/2.0)-(ygap(Ny-1)/2.0), offsetfromaxis) \n",
    "#text += '-a {} -t 0 {} 0'.format(Ny, y+ygap) \n",
    "\n",
    "# have to find out how pipe and -a changes the structure\n"
   ]
  },
  {
   "cell_type": "code",
   "execution_count": null,
   "id": "d5c48ed2",
   "metadata": {},
   "outputs": [],
   "source": [
    "# creating the inverted omega scenario\n",
    "\n",
    "# shifting the non-inv omega shape of west as inv omega shape of east\n",
    "x_translate1_inv_east = x/2-mod_overlap\n",
    "x_shift_east = x_translate1_inv_east - x_translate1\n",
    "\n",
    "# shifting the non-inv omega shape of west as inv omega shape of east\n",
    "x_translate1_inv_west = -x_translate1_east - x_omega1\n",
    "x_shift_west = -x_translate1_inv_west + (-x_translate1-x_omega1)\n",
    "\n"
   ]
  },
  {
   "cell_type": "code",
   "execution_count": null,
   "id": "2de3b450",
   "metadata": {},
   "outputs": [],
   "source": [
    "#customizing the East side of the module for omega_inverted\n",
    "\n",
    "custom_text = '\\r\\n! genbox {} {} {} {} {} | xform -t {} {} {}'.format(omega_material, name1, x_size_1, y_size_1, z_size_1, x_translate1_inv_east, y_translate, z_translate1) \n",
    "custom_text += '\\r\\n! genbox {} {} {} {} {} | xform -t {} {} {}'.format(omega_material, name2, x_size_2, y_size_2, z_size_2, x_translate2 + x_shift_east, y_translate, z_translate2)\n",
    "custom_text += '\\r\\n! genbox {} {} {} {} {} | xform -t {} {} {}'.format(omega_material, name3, x_size_3, y_size_3, z_size_3, x_translate3 + x_shift_east, y_translate, z_translate3)\n",
    "\n",
    "#customizing the West side of the module for omega\n",
    "\n",
    "custom_text += '\\r\\n! genbox {} {} {} {} {} | xform -t {} {} {}'.format(omega_material, name1, x_size_1, y_size_1, z_size_1, x_translate1_inv_west, y_translate, z_translate1) \n",
    "custom_text += '\\r\\n! genbox {} {} {} {} {} | xform -t {} {} {}'.format(omega_material, name2, x_size_2, y_size_2, z_size_2, -x_translate2-x_omega2 -x_shift_west, y_translate, z_translate2)\n",
    "custom_text += '\\r\\n! genbox {} {} {} {} {} | xform -t {} {} {}'.format(omega_material, name3, x_size_3, y_size_3, z_size_3, -x_translate3-x_omega3 - x_shift_west, y_translate, z_translate3)\n"
   ]
  },
  {
   "cell_type": "code",
   "execution_count": 110,
   "id": "90c941cd",
   "metadata": {},
   "outputs": [
    {
     "name": "stdout",
     "output_type": "stream",
     "text": [
      "\n",
      "Module Name: Prism_Solar_Bi60_landscape\n",
      "Pre-existing .rad file objects\\Prism_Solar_Bi60_landscape.rad will be overwritten\n",
      "Module Prism Solar Bi60 landscape updated in module.json\n"
     ]
    },
    {
     "data": {
      "text/plain": [
       "{'x': 1,\n",
       " 'y': 2,\n",
       " 'z': 0.02,\n",
       " 'modulematerial': 'black',\n",
       " 'scenex': 1.05,\n",
       " 'sceney': 2.0,\n",
       " 'scenez': 0.65,\n",
       " 'numpanels': 1,\n",
       " 'bifi': 1,\n",
       " 'text': '! genbox black Prism_Solar_Bi60_landscape 1 2 0.02 | xform -t -0.5 -1.0 0 -a 1 -t 0 2.05 0\\r\\n! genrev Metal_Grey tube1 t*1.05 0.15 32 | xform -ry 90 -t -0.525 0 -0.65\\r\\n! genbox litesoil mod_adj 0.4 1.5 0.05 | xform -t -0.7 -0.75 -0.05\\r\\n! genbox litesoil verti 0.05 1.5 0.5 | xform -t -0.7 -0.75 -0.5\\r\\n! genbox litesoil tt_adj 0.25 1.5 0.05 | xform -t -0.95 -0.75 -0.5\\r\\n! genbox litesoil mod_adj 0.4 1.5 0.05 | xform -t 0.29999999999999993 -0.75 -0.05\\r\\n! genbox litesoil verti 0.05 1.5 0.5 | xform -t 0.6499999999999999 -0.75 -0.5\\r\\n! genbox litesoil tt_adj 0.25 1.5 0.05 | xform -t 0.7 -0.75 -0.5',\n",
       " 'modulefile': 'objects\\\\Prism_Solar_Bi60_landscape.rad',\n",
       " 'offsetfromaxis': 0,\n",
       " 'xgap': 0.05,\n",
       " 'ygap': 0.05,\n",
       " 'zgap': 0.5,\n",
       " 'cellModule': None,\n",
       " 'torquetube': {'bool': True,\n",
       "  'diameter': 0.3,\n",
       "  'tubetype': 'Round',\n",
       "  'material': 'Metal_Grey'}}"
      ]
     },
     "execution_count": 110,
     "metadata": {},
     "output_type": "execute_result"
    }
   ],
   "source": [
    "xgap = 0.05\n",
    "ygap = 0.05\n",
    "zgap = 0.5\n",
    "\n",
    "module_type = 'Prism Solar Bi60 landscape' \n",
    "demo.makeModule(name=module_type,x=x, y=y, torquetube = True, diameter = 0.3, xgap = xgap, ygap = ygap, zgap = zgap, customtext = custom_text, axisofrotationTorqueTube=False)"
   ]
  },
  {
   "cell_type": "code",
   "execution_count": 111,
   "id": "3dff2327",
   "metadata": {},
   "outputs": [],
   "source": [
    "nMods = 1\n",
    "nRows = 1\n",
    "sceneDict = {'tilt':0, 'pitch':3, 'clearance_height':3,'azimuth':90, 'nMods': nMods, 'nRows': nRows} "
   ]
  },
  {
   "cell_type": "code",
   "execution_count": 112,
   "id": "e52ad589",
   "metadata": {},
   "outputs": [],
   "source": [
    "scene = demo.makeScene(module_type,sceneDict)"
   ]
  },
  {
   "cell_type": "code",
   "execution_count": 113,
   "id": "ba28f9ec",
   "metadata": {},
   "outputs": [
    {
     "name": "stdout",
     "output_type": "stream",
     "text": [
      "Created bifacial_example_omegatest.oct\n"
     ]
    }
   ],
   "source": [
    "octfile = demo.makeOct()"
   ]
  },
  {
   "cell_type": "code",
   "execution_count": null,
   "id": "8aefbfe6",
   "metadata": {},
   "outputs": [],
   "source": [
    "# custom object example from tutorial 4\n",
    "name='MyMarker'\n",
    "text='! genbox green CenterMarker 0.1 0.1 4 | xform -t -0.05 -0.05 0'\n",
    "customObject = demo.makeCustomObject(name,text)"
   ]
  },
  {
   "cell_type": "code",
   "execution_count": null,
   "id": "f2ff23df",
   "metadata": {},
   "outputs": [],
   "source": [
    "# custom object example from tutorial 4\n",
    "demo.appendtoScene(scene.radfiles, customObject, '!xform -rz 0')\n",
    "# makeOct combines all of the ground, sky and object files into a .oct file.\n",
    "octfile = demo.makeOct(demo.getfilelist())"
   ]
  },
  {
   "cell_type": "code",
   "execution_count": null,
   "id": "f579cf4d",
   "metadata": {},
   "outputs": [],
   "source": [
    "#rvu command from tutorial 1\n",
    "rvu -vf views\\front.vp -e .01 bifacial_example_omegatest.oct\n",
    "\n",
    "rvu -vp 2.5 0 3 -vd -1 0 0 bifacial_example_omegatest.oct\n",
    "\n",
    "rvu -vp 2.5 0 3 -vd 0 1 0 bifacial_example_omegatest.oct\n"
   ]
  },
  {
   "cell_type": "markdown",
   "id": "8d3d5a35",
   "metadata": {},
   "source": []
  }
 ],
 "metadata": {
  "kernelspec": {
   "display_name": "Python 3",
   "language": "python",
   "name": "python3"
  },
  "language_info": {
   "codemirror_mode": {
    "name": "ipython",
    "version": 3
   },
   "file_extension": ".py",
   "mimetype": "text/x-python",
   "name": "python",
   "nbconvert_exporter": "python",
   "pygments_lexer": "ipython3",
   "version": "3.8.8"
  }
 },
 "nbformat": 4,
 "nbformat_minor": 5
}
