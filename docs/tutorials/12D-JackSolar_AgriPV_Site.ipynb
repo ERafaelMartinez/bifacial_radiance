{
 "cells": [
  {
   "cell_type": "markdown",
   "id": "4997ec7a",
   "metadata": {},
   "source": [
    "## The Ground Modeling Challenge for AgriPV Application"
   ]
  },
  {
   "cell_type": "markdown",
   "id": "43958c48",
   "metadata": {},
   "source": [
    "<img src=\"MicrosoftTeams-image.png\">"
   ]
  },
  {
   "cell_type": "markdown",
   "id": "393445a3",
   "metadata": {},
   "source": [
    "### Solution Steps ###\n",
    "- Setup of variables\n",
    "- Generating the scenes\n",
    "- Mapping the ground irradiance"
   ]
  },
  {
   "cell_type": "markdown",
   "id": "2b900d27",
   "metadata": {},
   "source": [
    "## 1. Load Bifacial Radiance and other essential packages"
   ]
  },
  {
   "cell_type": "code",
   "execution_count": 1,
   "id": "c3575599",
   "metadata": {},
   "outputs": [],
   "source": [
    "import bifacial_radiance\n",
    "import numpy as np\n",
    "import os # this operative system to do teh relative-path testfolder for this example.\n",
    "import pprint    # We will be pretty-printing the trackerdictionary throughout to show its structure.\n",
    "from pathlib import Path"
   ]
  },
  {
   "cell_type": "markdown",
   "id": "149f51b2",
   "metadata": {},
   "source": [
    "## 2. Define all the system variables"
   ]
  },
  {
   "cell_type": "code",
   "execution_count": null,
   "id": "b6f8ac23",
   "metadata": {},
   "outputs": [],
   "source": [
    "testfolder = str(Path().resolve().parent.parent / 'bifacial_radiance' / 'TEMP')\n",
    "\n",
    "\n",
    "timestamp = 4020 # Noon, June 17th.\n",
    "simulationName = 'GroundChallenge'    # Optionally adding a simulation name when defning RadianceObj\n",
    "\n",
    "# Surface    \n",
    "#albedo = \" green grass\", which is not one of the default choices in the material list\n",
    "\n",
    "#Location\n",
    "lat = 40.1217  # Given for the project site at Colorado\n",
    "lon = -105.1310  # Given for the project site at Colorado\n",
    "\n",
    "# MakeModule Parameters\n",
    "\n",
    "moduletype='PrismSolar'\n",
    "#numpanels = 1  # This site have 1 module in Y-direction\n",
    "x = 1  \n",
    "y = 2\n",
    "#xgap = 0.15 # Leaving 15 centimeters between modules on x direction\n",
    "#ygap = 0.10 # Leaving 10 centimeters between modules on y direction\n",
    "zgap = 0 # no gap to torquetube.\n",
    "sensorsy = 6  # this will give 6 sensors per module in y-direction\n",
    "sensorsx = 3   # this will give 3 sensors per module in x-direction\n",
    "\n",
    "torquetube = True\n",
    "axisofrotationTorqueTube = True \n",
    "diameter = 0.15  # 15 cm diameter for the torquetube\n",
    "tubetype = 'square'    # Put the right keyword upon reading the document\n",
    "material = 'black'   # Torque tube of this material (0% reflectivity)\n",
    "\n",
    "# Scene variables\n",
    "nMods = 30\n",
    "nRows = 7\n",
    "hub_height = 1.8 # meters\n",
    "pitch = 5.1816 # meters      # Pitch is the known parameter \n",
    "albedo = 0.2  #'Grass'     # ground albedo\n",
    "\n",
    "#azimuth_ang=180 # Facing south \n",
    "#axis_azimuth should have a default value of 180\n",
    "#tilt = 40 # tilt is not given; lat of the site taken as the tilt\n",
    "\n",
    "# for ground irradiation simulation should we consider 2*pitch+y-length of panel?\n",
    "\n",
    "# Traking parameters\n",
    "cumulativesky = False\n",
    "limit_angle = 60 # tracker rotation limit angle\n",
    "angledelta = 0.01 # we will be doing hourly simulation, we want the angle to be as close to real tracking as possible.\n",
    "backtrack = True "
   ]
  },
  {
   "cell_type": "markdown",
   "id": "1eee88a4",
   "metadata": {},
   "source": [
    "## 3. Create Radiance Object including Albedo and Weather"
   ]
  },
  {
   "cell_type": "code",
   "execution_count": null,
   "id": "daacbe69",
   "metadata": {},
   "outputs": [],
   "source": [
    "demo = RadianceObj(simulationname,path = testfolder)  # Create a RadianceObj 'object'\n",
    "demo.setGround(albedo) \n",
    "epwfile = demo.getEPW(lat, lon) \n",
    "metdata = demo.readEPW(epwfile)"
   ]
  },
  {
   "cell_type": "markdown",
   "id": "20538d1b",
   "metadata": {},
   "source": [
    "## 4. Make Module"
   ]
  },
  {
   "cell_type": "code",
   "execution_count": null,
   "id": "383a798d",
   "metadata": {},
   "outputs": [],
   "source": [
    "moduleDict = demo.makeModule(name=moduletype, torquetube=torquetube, diameter=diameter, tubetype=tubetype, material=material, \n",
    "                zgap=zgap, axisofrotationTorqueTube=axisofrotationTorqueTube)\n",
    "\n",
    "#sceneDict = {'tilt':tilt,'pitch': pitch,'hub_height':hub_height,'module_type':moduletype, 'nMods': nMods, 'nRows': nRows}  \n",
    "#scene = demo.makeScene(moduletype=moduletype, sceneDict=sceneDict) #makeScene creates a .rad file with 20 modules per row, 7 rows.\n",
    "#octfile = demo.makeOct(demo.getfilelist())  # makeOct combines all of the ground, sky and object fil|es into a .oct file.\n"
   ]
  },
  {
   "cell_type": "markdown",
   "id": "85d3b3fe",
   "metadata": {},
   "source": [
    "At this point we could use the gendaylit() function for the single timestamp and generate the oct file as below:"
   ]
  },
  {
   "cell_type": "code",
   "execution_count": null,
   "id": "898d4fda",
   "metadata": {},
   "outputs": [],
   "source": [
    "# Now let's run the example\n",
    "\n",
    "demo = RadianceObj(simulationname,path = testfolder)  # Create a RadianceObj 'object'\n",
    "demo.setGround(albedo) \n",
    "epwfile = demo.getEPW(lat, lon) \n",
    "metdata = demo.readEPW(epwfile)\n",
    "demo.gendaylit(timestamp)  # We are simulating only one hour at a time. \n",
    "\n",
    "sceneDict = {'pitch': pitch,'hub_height':hub_height,'module_type':moduletype, 'nMods': nMods, 'nRows': nRows}  \n",
    "scene = demo.makeScene(moduletype=moduletype, sceneDict=sceneDict) #makeScene creates a .rad file with 30 modules per row, 7 rows.\n",
    "octfile = demo.makeOct(demo.getfilelist())  # makeOct combines all of the ground, sky and object fil|es into a .oct file."
   ]
  },
  {
   "cell_type": "markdown",
   "id": "aca69ad8",
   "metadata": {},
   "source": [
    "## 5. Calculate GCR"
   ]
  },
  {
   "cell_type": "code",
   "execution_count": null,
   "id": "9d01b2be",
   "metadata": {},
   "outputs": [],
   "source": [
    "cw = 1  # Collector Width, CW = 1 as given\n",
    "gcr = cw/pitch\n",
    "print(\"GCR:\",gcr)"
   ]
  },
  {
   "cell_type": "markdown",
   "id": "42634ae6",
   "metadata": {},
   "source": [
    "## 6. Generate the Sky for the Tracking Angles"
   ]
  },
  {
   "cell_type": "code",
   "execution_count": null,
   "id": "94aa4d9c",
   "metadata": {},
   "outputs": [],
   "source": [
    "startdate = '06/17'     \n",
    "enddate = '06/17' #In this case, we are looking to generate tracking scenarios for one day as opposed to a single hour\n",
    "trackerdict = demo.gendaylit1axis(startdate=startdate, enddate=enddate)\n",
    "# By the documentation, in gendaylit workflow the set1axis() function would also return a trackerdict\n"
   ]
  },
  {
   "cell_type": "code",
   "execution_count": null,
   "id": "342b9816",
   "metadata": {},
   "outputs": [],
   "source": [
    "#checking our trackdict\n",
    "\n",
    "print (\"\\nTrimmed trackerdict by gendaylit1axis to start and enddate length: %s \" % (len(trackerdict)))\n",
    "print (\"\")\n",
    "trackerkeys = sorted(trackerdict.keys())\n",
    "print (\"Option of hours are: \", trackerkeys)\n",
    "print (\"\")\n",
    "print (\"Contents of trackerdict for sample hour:\")\n",
    "pprint.pprint(trackerdict[trackerkeys[5]])"
   ]
  },
  {
   "cell_type": "markdown",
   "id": "68bb669b",
   "metadata": {},
   "source": [
    "## Make Scene1 Axis"
   ]
  },
  {
   "cell_type": "code",
   "execution_count": null,
   "id": "d8854320",
   "metadata": {},
   "outputs": [],
   "source": [
    "# making the different scenes for the 1-axis tracking for the dates in trackerdict2.\n",
    "\n",
    "sceneDict = {'pitch': pitch,'hub_height':hub_height, 'nMods':nMods, 'nRows': nRows}  "
   ]
  },
  {
   "cell_type": "markdown",
   "id": "2091aaa5",
   "metadata": {},
   "source": [
    "## Make the 1-axis Tracking Scene"
   ]
  },
  {
   "cell_type": "code",
   "execution_count": null,
   "id": "8984efe9",
   "metadata": {},
   "outputs": [],
   "source": [
    "#demo.set1axis(limit_angle = limit_angle, backtrack = backtrack, gcr = gcr, cumulativesky = cumulativesky)\n",
    "demo.gendaylit1axis(startdate=startdate, enddate=enddate)\n",
    "demo.makeScene1axis(moduletype=moduletype,sceneDict=sceneDict) #makeScene creates a .rad file with 20 modules per row, 7 rows.\n",
    "demo.makeOct1axis()\n",
    "demo.analysis1axis()"
   ]
  },
  {
   "cell_type": "markdown",
   "id": "9ea78d9a",
   "metadata": {},
   "source": [
    "Analysis of Ground Irradiance"
   ]
  },
  {
   "cell_type": "code",
   "execution_count": null,
   "id": "c15e0fc4",
   "metadata": {},
   "outputs": [],
   "source": [
    "analysis = AnalysisObj(octfile, demo.name)  # return an analysis object including the scan dimensions for back irradiance\n",
    "sensorsy = 6\n",
    "frontscan, backscan = analysis.moduleAnalysis(scene, sensorsy=sensorsy)"
   ]
  },
  {
   "cell_type": "code",
   "execution_count": null,
   "id": "99b7a530",
   "metadata": {},
   "outputs": [],
   "source": [
    "groundscan = frontscan"
   ]
  },
  {
   "cell_type": "code",
   "execution_count": null,
   "id": "ade23477",
   "metadata": {},
   "outputs": [],
   "source": [
    "# This is where we are going to tweak\n",
    "\n",
    "groundscan['zstart'] = 0  # setting it 0 cm from the ground since we are simulating for ground surface irradiation\n",
    "groundscan['zinc'] = 0   # no tilt necessary. \n",
    "groundscan['yinc'] = pitch/(sensorsy-1)   # no tilt necessary. \n",
    "groundscan"
   ]
  },
  {
   "cell_type": "code",
   "execution_count": null,
   "id": "51c1c78d",
   "metadata": {},
   "outputs": [],
   "source": [
    "analysis.analysis(octfile, simulationname+\"_groundscan\", groundscan, backscan)  # compare the back vs front irradiance\n",
    "#Question: Should it be analysis1axis() instead?"
   ]
  },
  {
   "cell_type": "code",
   "execution_count": null,
   "id": "137ad5e8",
   "metadata": {},
   "outputs": [],
   "source": [
    "analysis.Wm2Front"
   ]
  },
  {
   "cell_type": "code",
   "execution_count": null,
   "id": "6637487e",
   "metadata": {},
   "outputs": [],
   "source": [
    "demo.makeOct1axis(singleindex='06_17_12')\n",
    "results = demo.analysis1axis(singleindex='06_17_12')\n",
    "print('\\n\\nHourly bifi gain: {:0.3}'.format(sum(demo.Wm2Back) / sum(demo.Wm2Front)))"
   ]
  },
  {
   "cell_type": "markdown",
   "id": "6009e927",
   "metadata": {},
   "source": [
    "### Code-looping for all hours of the day"
   ]
  },
  {
   "cell_type": "code",
   "execution_count": null,
   "id": "5fb16b57",
   "metadata": {},
   "outputs": [],
   "source": [
    "# If we are showing the result for the single hour\n",
    "print (\"\\n Contents of trackerdict for sample hour after analysis1axis: \")\n",
    "pprint.pprint(trackerdict[trackerkeys[5]])\n",
    "\n",
    "# If we are showing the result for the single hour in better detail\n",
    "pprint.pprint(trackerdict[trackerkeys[5]]['AnalysisObj'].__dict__)\n",
    "\n",
    "# If we are looping for all the hours\n",
    "\n",
    "for key in trackerdict.keys():\n",
    "    demo.makeOct1axis(singleindex=key)\n",
    "    results=demo.analysis1axis(singleindex=key)\n",
    "\n",
    "print('Accumulated hourly bifi gain for the day: {:0.3}'.format(sum(demo.Wm2Back) / sum(demo.Wm2Front)))"
   ]
  }
 ],
 "metadata": {
  "kernelspec": {
   "display_name": "Python 3",
   "language": "python",
   "name": "python3"
  },
  "language_info": {
   "codemirror_mode": {
    "name": "ipython",
    "version": 3
   },
   "file_extension": ".py",
   "mimetype": "text/x-python",
   "name": "python",
   "nbconvert_exporter": "python",
   "pygments_lexer": "ipython3",
   "version": "3.8.8"
  }
 },
 "nbformat": 4,
 "nbformat_minor": 5
}
