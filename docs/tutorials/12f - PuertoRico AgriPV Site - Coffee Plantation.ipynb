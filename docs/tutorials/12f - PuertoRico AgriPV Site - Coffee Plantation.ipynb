{
 "cells": [
  {
   "cell_type": "markdown",
   "id": "4997ec7a",
   "metadata": {},
   "source": [
    "## 12d - JackSolar AgriPV Site"
   ]
  },
  {
   "cell_type": "markdown",
   "id": "393445a3",
   "metadata": {},
   "source": [
    "May September (idx 2881 : 6552)\n",
    "\n",
    "Configuration A:\n",
    "<li>Under 6 ft panels : 1.8288m\n",
    "<li>Hub height: 6 ft   : 1.8288m  \n",
    "\n",
    "    \n",
    "Configuration B:\n",
    "<li>8 ft panels : 2.4384m\n",
    "<li>Hub height 8 ft : 2.4384m\n",
    "\n",
    "Module x = 3 ft\n",
    "    \n",
    "Row-to-row spacing: 17 ft --> 5.1816\n",
    "\n",
    "torquetube: square, diam 15 cm, zgap = 0\n",
    "modules on portrait\n",
    "albedo = green grass\n",
    " \n",
    "COMPARE TO:\n",
    "Open air (no panels)\n"
   ]
  },
  {
   "cell_type": "code",
   "execution_count": 52,
   "id": "cd3730bb",
   "metadata": {},
   "outputs": [
    {
     "data": {
      "text/plain": [
       "0.47058823529411764"
      ]
     },
     "execution_count": 52,
     "metadata": {},
     "output_type": "execute_result"
    }
   ],
   "source": [
    "gcr = 8/17\n",
    "gcr"
   ]
  },
  {
   "cell_type": "markdown",
   "id": "e588c612",
   "metadata": {},
   "source": [
    "** Two Methods: **\n",
    "    - Hourly with Fixed tilt, getTrackerAngle to update tilt of tracker\n",
    "    - Hourly with gendaylit1axis\n",
    "    - Cumulatively with gencumsky1axis\n"
   ]
  },
  {
   "cell_type": "markdown",
   "id": "2b900d27",
   "metadata": {},
   "source": [
    "## 1. Load Bifacial Radiance and other essential packages"
   ]
  },
  {
   "cell_type": "code",
   "execution_count": 1,
   "id": "c3575599",
   "metadata": {},
   "outputs": [],
   "source": [
    "import bifacial_radiance\n",
    "import numpy as np\n",
    "import os # this operative system to do the relative-path testfolder for this example.\n",
    "import pprint    # We will be pretty-printing the trackerdictionary throughout to show its structure.\n",
    "from pathlib import Path\n",
    "import datetime"
   ]
  },
  {
   "cell_type": "markdown",
   "id": "149f51b2",
   "metadata": {},
   "source": [
    "## 2. Define all the system variables"
   ]
  },
  {
   "cell_type": "code",
   "execution_count": 2,
   "id": "b6f8ac23",
   "metadata": {},
   "outputs": [],
   "source": [
    "testfolder = str(Path().resolve().parent.parent / 'bifacial_radiance' / 'TEMP')\n",
    "\n",
    "timestamp = 4020 # Noon, June 17th.\n",
    "simulationName = 'Coffee_Plantation'    # Optionally adding a simulation name when defning RadianceObj\n",
    "\n",
    "#Location\n",
    "lat = 18.202142 \n",
    "lon = -66.759187\n",
    "\n",
    "moduletype='PrismSolar'\n",
    "numpanels = 1  # This site have 1 module in Y-direction\n",
    "x = 1  \n",
    "y = 2\n",
    "\n",
    "torquetube = False\n",
    "\n",
    "# Scene variables\n",
    "nMods = 20\n",
    "nRows = 7\n",
    "hub_height = 1.8 # meters\n",
    "pitch = 5.1816 # meters      # Pitch is the known parameter \n",
    "albedo = 0.2  #'Grass'     # ground albedo\n",
    "gcr = y/pitch\n",
    "\n",
    "cumulativesky = True\n"
   ]
  },
  {
   "cell_type": "code",
   "execution_count": null,
   "id": "c0a77709",
   "metadata": {},
   "outputs": [],
   "source": [
    "epwfile = demo.getEPW(lat, lon) "
   ]
  },
  {
   "cell_type": "code",
   "execution_count": null,
   "id": "38982d4f",
   "metadata": {},
   "outputs": [],
   "source": [
    "startdt = datetime.datetime(2021,5,1,1)\n",
    "enddt = datetime.datetime(2021,9,30,23)\n"
   ]
  },
  {
   "cell_type": "code",
   "execution_count": null,
   "id": "233b5e8d",
   "metadata": {},
   "outputs": [],
   "source": [
    "heights = \n"
   ]
  },
  {
   "cell_type": "code",
   "execution_count": null,
   "id": "4a16b963",
   "metadata": {},
   "outputs": [],
   "source": [
    "rad_obj = bifacial_radiance.RadianceObj(simulationName,path = test_folderinner)  # Create a RadianceObj 'object'\n",
    "rad_obj.setGround(albedo) \n",
    "    \n",
    "\n",
    "simulationName = 'EMPTYFIELD'\n",
    "rad_obj = bifacial_radiance.RadianceObj(simulationName,path = test_folderinner)  # Create a RadianceObj 'object'\n",
    "rad_obj.setGround(albedo) \n",
    "metdata = rad_obj.readWeatherFile(epwfile, label='center', coerce_year=2021)\n",
    "rad_obj.genCumSky(startdt=startdt, enddt=enddt)\n",
    "#print(rad_obj.metdata.datetime[idx])\n",
    "sceneDict = {'pitch': pitch, 'tilt': 0, 'azimuth': 90, 'hub_height':-0.2, 'nMods':1, 'nRows': 1}  \n",
    "scene = rad_obj.makeScene(moduletype=moduletype,sceneDict=sceneDict)\n",
    "octfile = rad_obj.makeOct()  \n",
    "analysis = bifacial_radiance.AnalysisObj()\n",
    "frontscan, backscan = analysis.moduleAnalysis(scene, sensorsy=1)\n",
    "frontscan['zstart'] = 0.5\n",
    "frontdict, backdict = analysis.analysis(octfile = octfile, name='FIELDTotal', frontscan=frontscan, backscan=backscan)"
   ]
  },
  {
   "cell_type": "code",
   "execution_count": 10,
   "id": "ba58e807",
   "metadata": {},
   "outputs": [
    {
     "data": {
      "text/plain": [
       "'Hour_{}'"
      ]
     },
     "execution_count": 10,
     "metadata": {},
     "output_type": "execute_result"
    }
   ],
   "source": [
    "test_folder_fmt"
   ]
  },
  {
   "cell_type": "code",
   "execution_count": 32,
   "id": "d400f529",
   "metadata": {},
   "outputs": [
    {
     "data": {
      "text/plain": [
       "101.97222222222223"
      ]
     },
     "execution_count": 32,
     "metadata": {},
     "output_type": "execute_result"
    }
   ],
   "source": [
    "indices = np.array(list(range(2881, 6552)))\n",
    "len(indices)/36"
   ]
  },
  {
   "cell_type": "code",
   "execution_count": 11,
   "id": "3813af8f",
   "metadata": {},
   "outputs": [
    {
     "data": {
      "text/plain": [
       "282"
      ]
     },
     "execution_count": 11,
     "metadata": {},
     "output_type": "execute_result"
    }
   ],
   "source": [
    "idx"
   ]
  },
  {
   "cell_type": "code",
   "execution_count": 9,
   "id": "9926bd0e",
   "metadata": {},
   "outputs": [
    {
     "data": {
      "text/plain": [
       "'Hour_0282'"
      ]
     },
     "execution_count": 9,
     "metadata": {},
     "output_type": "execute_result"
    }
   ],
   "source": [
    "test_folder_fmt.format(f'{idx:04}')"
   ]
  },
  {
   "cell_type": "code",
   "execution_count": 19,
   "id": "8f7d32e6",
   "metadata": {},
   "outputs": [
    {
     "data": {
      "text/plain": [
       "'irr_1axis_Hour_0044.pkl'"
      ]
     },
     "execution_count": 19,
     "metadata": {},
     "output_type": "execute_result"
    }
   ],
   "source": [
    "resfmt = 'irr_1axis_Hour_{}.pkl'.format(f'{i:04}')\n",
    "resfmt"
   ]
  },
  {
   "cell_type": "code",
   "execution_count": 17,
   "id": "f11a6b3e",
   "metadata": {},
   "outputs": [
    {
     "data": {
      "text/plain": [
       "'irr_1axis_Hour_0044.pkl'"
      ]
     },
     "execution_count": 17,
     "metadata": {},
     "output_type": "execute_result"
    }
   ],
   "source": [
    "i=44\n",
    "resfmt = 'irr_1axis_Hour_{}.pkl'\n",
    "compfile = resfmt.format(f'{i:04}')\n",
    "compfile"
   ]
  },
  {
   "cell_type": "code",
   "execution_count": 8,
   "id": "5f063d3c",
   "metadata": {},
   "outputs": [
    {
     "name": "stdout",
     "output_type": "stream",
     "text": [
      "path = C:\\Users\\sayala\\Documents\\GitHub\\bifacial_radiance\\bifacial_radiance\\TEMP\\Hour_0270\n",
      "Making path: images\n",
      "Making path: objects\n",
      "Making path: results\n",
      "Making path: skies\n",
      "Making path: EPWs\n",
      "Making path: materials\n",
      "Loading albedo, 1 value(s), 0.200 avg\n",
      "1 nonzero albedo values.\n",
      "start: 2021-01-01 01:00:00\n",
      "end: 2021-12-31 23:00:00\n",
      "Saving file EPWs\\epw_temp.csv, # points: 8760\n",
      "Calculating Sun position for center labeled data, at exact timestamp in input Weather File\n",
      "Missing files, skipping...\n",
      "path = C:\\Users\\sayala\\Documents\\GitHub\\bifacial_radiance\\bifacial_radiance\\TEMP\\Hour_0271\n",
      "Making path: images\n",
      "Making path: results\n",
      "Making path: skies\n",
      "Making path: EPWs\n",
      "Making path: materials\n",
      "Loading albedo, 1 value(s), 0.200 avg\n",
      "1 nonzero albedo values.\n",
      "start: 2021-01-01 01:00:00\n",
      "end: 2021-12-31 23:00:00\n",
      "Saving file EPWs\\epw_temp.csv, # points: 8760\n",
      "Calculating Sun position for center labeled data, at exact timestamp in input Weather File\n",
      "Created AgriPV_JS.oct\n",
      "path = C:\\Users\\sayala\\Documents\\GitHub\\bifacial_radiance\\bifacial_radiance\\TEMP\\Hour_0272\n",
      "Loading albedo, 1 value(s), 0.200 avg\n",
      "1 nonzero albedo values.\n",
      "start: 2021-01-01 01:00:00\n",
      "end: 2021-12-31 23:00:00\n",
      "Saving file EPWs\\epw_temp.csv, # points: 8760\n",
      "Calculating Sun position for center labeled data, at exact timestamp in input Weather File\n",
      "Created AgriPV_JS.oct\n",
      "path = C:\\Users\\sayala\\Documents\\GitHub\\bifacial_radiance\\bifacial_radiance\\TEMP\\Hour_0273\n",
      "Making path: images\n",
      "Making path: objects\n",
      "Making path: results\n",
      "Making path: skies\n",
      "Making path: EPWs\n",
      "Making path: materials\n",
      "Loading albedo, 1 value(s), 0.200 avg\n",
      "1 nonzero albedo values.\n",
      "start: 2021-01-01 01:00:00\n",
      "end: 2021-12-31 23:00:00\n",
      "Saving file EPWs\\epw_temp.csv, # points: 8760\n",
      "Calculating Sun position for center labeled data, at exact timestamp in input Weather File\n",
      "Created AgriPV_JS.oct\n",
      "path = C:\\Users\\sayala\\Documents\\GitHub\\bifacial_radiance\\bifacial_radiance\\TEMP\\Hour_0274\n",
      "Making path: images\n",
      "Making path: objects\n",
      "Making path: results\n",
      "Making path: skies\n",
      "Making path: EPWs\n",
      "Making path: materials\n",
      "Loading albedo, 1 value(s), 0.200 avg\n",
      "1 nonzero albedo values.\n",
      "start: 2021-01-01 01:00:00\n",
      "end: 2021-12-31 23:00:00\n",
      "Saving file EPWs\\epw_temp.csv, # points: 8760\n",
      "Calculating Sun position for center labeled data, at exact timestamp in input Weather File\n",
      "Created AgriPV_JS.oct\n",
      "path = C:\\Users\\sayala\\Documents\\GitHub\\bifacial_radiance\\bifacial_radiance\\TEMP\\Hour_0275\n",
      "Making path: images\n",
      "Making path: objects\n",
      "Making path: results\n",
      "Making path: skies\n",
      "Making path: EPWs\n",
      "Making path: materials\n",
      "Loading albedo, 1 value(s), 0.200 avg\n",
      "1 nonzero albedo values.\n",
      "start: 2021-01-01 01:00:00\n",
      "end: 2021-12-31 23:00:00\n",
      "Saving file EPWs\\epw_temp.csv, # points: 8760\n",
      "Calculating Sun position for center labeled data, at exact timestamp in input Weather File\n",
      "Created AgriPV_JS.oct\n",
      "path = C:\\Users\\sayala\\Documents\\GitHub\\bifacial_radiance\\bifacial_radiance\\TEMP\\Hour_0276\n",
      "Making path: images\n",
      "Making path: objects\n",
      "Making path: results\n",
      "Making path: skies\n",
      "Making path: EPWs\n",
      "Making path: materials\n",
      "Loading albedo, 1 value(s), 0.200 avg\n",
      "1 nonzero albedo values.\n",
      "start: 2021-01-01 01:00:00\n",
      "end: 2021-12-31 23:00:00\n",
      "Saving file EPWs\\epw_temp.csv, # points: 8760\n",
      "Calculating Sun position for center labeled data, at exact timestamp in input Weather File\n",
      "Created AgriPV_JS.oct\n",
      "path = C:\\Users\\sayala\\Documents\\GitHub\\bifacial_radiance\\bifacial_radiance\\TEMP\\Hour_0277\n",
      "Making path: images\n",
      "Making path: objects\n",
      "Making path: results\n",
      "Making path: skies\n",
      "Making path: EPWs\n",
      "Making path: materials\n",
      "Loading albedo, 1 value(s), 0.200 avg\n",
      "1 nonzero albedo values.\n",
      "start: 2021-01-01 01:00:00\n",
      "end: 2021-12-31 23:00:00\n",
      "Saving file EPWs\\epw_temp.csv, # points: 8760\n",
      "Calculating Sun position for center labeled data, at exact timestamp in input Weather File\n",
      "Created AgriPV_JS.oct\n",
      "path = C:\\Users\\sayala\\Documents\\GitHub\\bifacial_radiance\\bifacial_radiance\\TEMP\\Hour_0278\n",
      "Making path: images\n",
      "Making path: objects\n",
      "Making path: results\n",
      "Making path: skies\n",
      "Making path: EPWs\n",
      "Making path: materials\n",
      "Loading albedo, 1 value(s), 0.200 avg\n",
      "1 nonzero albedo values.\n",
      "start: 2021-01-01 01:00:00\n",
      "end: 2021-12-31 23:00:00\n",
      "Saving file EPWs\\epw_temp.csv, # points: 8760\n",
      "Calculating Sun position for center labeled data, at exact timestamp in input Weather File\n",
      "Created AgriPV_JS.oct\n",
      "path = C:\\Users\\sayala\\Documents\\GitHub\\bifacial_radiance\\bifacial_radiance\\TEMP\\Hour_0279\n",
      "Making path: images\n",
      "Making path: objects\n",
      "Making path: results\n",
      "Making path: skies\n",
      "Making path: EPWs\n",
      "Making path: materials\n",
      "Loading albedo, 1 value(s), 0.200 avg\n",
      "1 nonzero albedo values.\n",
      "start: 2021-01-01 01:00:00\n",
      "end: 2021-12-31 23:00:00\n",
      "Saving file EPWs\\epw_temp.csv, # points: 8760\n",
      "Calculating Sun position for center labeled data, at exact timestamp in input Weather File\n",
      "Created AgriPV_JS.oct\n",
      "path = C:\\Users\\sayala\\Documents\\GitHub\\bifacial_radiance\\bifacial_radiance\\TEMP\\Hour_0280\n",
      "Making path: images\n",
      "Making path: objects\n",
      "Making path: results\n",
      "Making path: skies\n",
      "Making path: EPWs\n",
      "Making path: materials\n",
      "Loading albedo, 1 value(s), 0.200 avg\n",
      "1 nonzero albedo values.\n",
      "start: 2021-01-01 01:00:00\n",
      "end: 2021-12-31 23:00:00\n",
      "Saving file EPWs\\epw_temp.csv, # points: 8760\n",
      "Calculating Sun position for center labeled data, at exact timestamp in input Weather File\n",
      "Warning: negative sun elevation at 2021-01-12 17:00:00.  Re-calculated elevation: 5.2\n",
      "Created AgriPV_JS.oct\n",
      "path = C:\\Users\\sayala\\Documents\\GitHub\\bifacial_radiance\\bifacial_radiance\\TEMP\\Hour_0281\n",
      "Making path: images\n",
      "Making path: objects\n",
      "Making path: results\n",
      "Making path: skies\n",
      "Making path: EPWs\n",
      "Making path: materials\n",
      "Loading albedo, 1 value(s), 0.200 avg\n",
      "1 nonzero albedo values.\n",
      "start: 2021-01-01 01:00:00\n",
      "end: 2021-12-31 23:00:00\n",
      "Saving file EPWs\\epw_temp.csv, # points: 8760\n",
      "Calculating Sun position for center labeled data, at exact timestamp in input Weather File\n",
      "Missing files, skipping...\n",
      "path = C:\\Users\\sayala\\Documents\\GitHub\\bifacial_radiance\\bifacial_radiance\\TEMP\\Hour_0282\n",
      "Making path: images\n",
      "Making path: objects\n",
      "Making path: results\n",
      "Making path: skies\n",
      "Making path: EPWs\n",
      "Making path: materials\n",
      "Loading albedo, 1 value(s), 0.200 avg\n",
      "1 nonzero albedo values.\n",
      "start: 2021-01-01 01:00:00\n",
      "end: 2021-12-31 23:00:00\n",
      "Saving file EPWs\\epw_temp.csv, # points: 8760\n",
      "Calculating Sun position for center labeled data, at exact timestamp in input Weather File\n",
      "Missing files, skipping...\n"
     ]
    }
   ],
   "source": [
    "test_folder_fmt = 'Hour_{}'\n",
    "epwfile = r'C:\\Users\\sayala\\Documents\\GitHub\\bifacial_radiance\\bifacial_radiance\\TEMP\\EPWs\\USA_CO_Boulder-Broomfield-Jefferson.County.AP.724699_TMY3.epw'\n",
    "\n",
    "for idx in range(270, 283):\n",
    "#for idx in range(272, 273):\n",
    "\n",
    "    test_folderinner = os.path.join(testfolder, test_folder_fmt.format(f'{idx:04}'))\n",
    "    if not os.path.exists(test_folderinner):\n",
    "        os.makedirs(test_folderinner)\n",
    "\n",
    "    rad_obj = bifacial_radiance.RadianceObj(simulationName,path = test_folderinner)  # Create a RadianceObj 'object'\n",
    "    rad_obj.setGround(albedo) \n",
    "    metdata = rad_obj.readWeatherFile(epwfile, label='center', coerce_year=2021)\n",
    "    solpos = rad_obj.metdata.solpos.iloc[idx]\n",
    "    zen = float(solpos.zenith)\n",
    "    azm = float(solpos.azimuth) - 180\n",
    "    dni = rad_obj.metdata.dni[idx]\n",
    "    dhi = rad_obj.metdata.dhi[idx]\n",
    "    rad_obj.gendaylit(idx)\n",
    "  # rad_obj.gendaylit2manual(dni, dhi, 90 - zen, azm)\n",
    "    #print(rad_obj.metdata.datetime[idx])\n",
    "    tilt = round(rad_obj.getSingleTimestampTrackerAngle(rad_obj.metdata, idx, gcr, limit_angle=65),1)\n",
    "    sceneDict = {'pitch': pitch, 'tilt': tilt, 'azimuth': 90, 'hub_height':hub_height, 'nMods':nMods, 'nRows': nRows}  \n",
    "    scene = rad_obj.makeScene(moduletype=moduletype,sceneDict=sceneDict)\n",
    "    octfile = rad_obj.makeOct()  \n",
    "\n"
   ]
  },
  {
   "cell_type": "code",
   "execution_count": 7,
   "id": "f8be99b9",
   "metadata": {},
   "outputs": [
    {
     "data": {
      "text/plain": [
       "'C:\\\\Users\\\\sayala\\\\Documents\\\\GitHub\\\\bifacial_radiance\\\\bifacial_radiance\\\\TEMP\\\\Hour_0272'"
      ]
     },
     "execution_count": 7,
     "metadata": {},
     "output_type": "execute_result"
    }
   ],
   "source": [
    "test_folderinner"
   ]
  },
  {
   "cell_type": "code",
   "execution_count": null,
   "id": "aad1ce53",
   "metadata": {},
   "outputs": [],
   "source": [
    "rad_obj.gendaylit(idx)\n",
    "octfile = rad_obj.makeOct()  \n"
   ]
  },
  {
   "cell_type": "code",
   "execution_count": null,
   "id": "68c7a955",
   "metadata": {},
   "outputs": [],
   "source": []
  },
  {
   "cell_type": "markdown",
   "id": "40e7bf34",
   "metadata": {},
   "source": [
    "\n",
    "rvu -vf views\\front.vp -e .0265652 -vp 2 -21 2.5 -vd 0 1 0 AgriPV_JS.oct\n",
    "\n",
    "\n",
    "cd C:\\Users\\sayala\\Documents\\GitHub\\bifacial_radiance\\bifacial_radiance\\TEMP"
   ]
  },
  {
   "cell_type": "code",
   "execution_count": 20,
   "id": "a1e0b2e3",
   "metadata": {},
   "outputs": [],
   "source": [
    "# Ground Irradiance on panels"
   ]
  },
  {
   "cell_type": "code",
   "execution_count": 25,
   "id": "ee9701af",
   "metadata": {},
   "outputs": [],
   "source": [
    "import datetime"
   ]
  },
  {
   "cell_type": "code",
   "execution_count": 27,
   "id": "972e2d79",
   "metadata": {},
   "outputs": [
    {
     "name": "stdout",
     "output_type": "stream",
     "text": [
      "path = C:\\Users\\sayala\\Documents\\GitHub\\bifacial_radiance\\bifacial_radiance\\TEMP\\Hour_0282\n",
      "Loading albedo, 1 value(s), 0.200 avg\n",
      "1 nonzero albedo values.\n",
      "start: 2021-01-01 01:00:00\n",
      "end: 2021-12-31 23:00:00\n",
      "Saving file EPWs\\epw_temp.csv, # points: 8760\n",
      "Calculating Sun position for center labeled data, at exact timestamp in input Weather File\n",
      "message: There were 4561 sun up hours in this climate file\n",
      "Total Ibh/Lbh: 0.000000\n",
      "Created EMPTYFIELD.oct\n",
      "Linescan in process: FIELDTotal_Front\n",
      "Linescan in process: FIELDTotal_Back\n",
      "Saved: results\\irr_FIELDTotal.csv\n"
     ]
    }
   ],
   "source": []
  },
  {
   "cell_type": "code",
   "execution_count": 36,
   "id": "e9469da4",
   "metadata": {},
   "outputs": [],
   "source": [
    "import pandas as pd"
   ]
  },
  {
   "cell_type": "code",
   "execution_count": 54,
   "id": "b30ad36b",
   "metadata": {},
   "outputs": [],
   "source": [
    "resname = os.path.join(test_folderinner, 'results')\n",
    "resname = os.path.join(resname, 'irr_FIELDTotal.csv')\n",
    "data = pd.read_csv(resname)\n"
   ]
  },
  {
   "cell_type": "code",
   "execution_count": 55,
   "id": "0632d4a9",
   "metadata": {},
   "outputs": [
    {
     "data": {
      "text/plain": [
       "0    1626907.0\n",
       "Name: Wm2Front, dtype: float64"
      ]
     },
     "execution_count": 55,
     "metadata": {},
     "output_type": "execute_result"
    }
   ],
   "source": [
    "data['Wm2Front']"
   ]
  },
  {
   "cell_type": "code",
   "execution_count": 46,
   "id": "011eb75e",
   "metadata": {},
   "outputs": [],
   "source": [
    "A = []\n",
    "B = []\n",
    "A.append(4)\n",
    "A.append(4)\n",
    "A.append(14)\n",
    "B.append(4)\n",
    "B.append(3)\n",
    "B.append(15)\n",
    "\n",
    "data=pd.DataFrame([A,B]).T\n",
    "data.columns=['name','age']"
   ]
  },
  {
   "cell_type": "code",
   "execution_count": 49,
   "id": "8dd1e83a",
   "metadata": {},
   "outputs": [],
   "source": [
    "ASDF = True"
   ]
  },
  {
   "cell_type": "markdown",
   "id": "1eee88a4",
   "metadata": {},
   "source": [
    "# Method 1: Gendaylit1axis, Hourly (Cumulativesky = False)"
   ]
  },
  {
   "cell_type": "code",
   "execution_count": null,
   "id": "ceef672e",
   "metadata": {},
   "outputs": [],
   "source": [
    "demo = bifacial_radiance.RadianceObj(simulationName,path = testfolder)  # Create a RadianceObj 'object'\n",
    "demo.setGround(albedo) \n",
    "epwfile = demo.getEPW(lat, lon) \n",
    "metdata = demo.readEPW(epwfile, coerce_year = 2021)\n",
    "moduleDict = demo.makeModule(name=moduletype, x = x, y =y, numpanels = numpanels, torquetube=torquetube, diameter=diameter, tubetype=tubetype, material=material, \n",
    "                zgap=zgap, axisofrotationTorqueTube=axisofrotationTorqueTube)\n"
   ]
  },
  {
   "cell_type": "code",
   "execution_count": null,
   "id": "9993e909",
   "metadata": {},
   "outputs": [],
   "source": [
    "startdate = '21_06_17_11'\n",
    "enddate = '21_06_17_12' # '%y_%m_%d_%H'\n",
    "#enddate = '06/18' \n",
    "\n",
    "trackerdict = demo.set1axis(metdata = metdata, limit_angle = limit_angle, backtrack = backtrack, \n",
    "                            gcr = gcr, cumulativesky = cumulativesky) \n",
    "\n",
    "trackerdict = demo.gendaylit1axis(startdate = startdate, enddate = enddate)\n",
    "\n",
    "sceneDict = {'pitch': pitch,'hub_height':hub_height, 'nMods':nMods, 'nRows': nRows}  \n",
    "\n",
    "scene = demo.makeScene1axis(moduletype=moduletype,sceneDict=sceneDict)\n"
   ]
  },
  {
   "cell_type": "code",
   "execution_count": null,
   "id": "7d76ebe5",
   "metadata": {},
   "outputs": [],
   "source": [
    "import matplotlib.pyplot as plt"
   ]
  },
  {
   "cell_type": "code",
   "execution_count": null,
   "id": "2ec01685",
   "metadata": {},
   "outputs": [],
   "source": [
    "plt.plot(demo.metdata.dni[270:282])\n"
   ]
  },
  {
   "cell_type": "code",
   "execution_count": null,
   "id": "cb2bab5f",
   "metadata": {},
   "outputs": [],
   "source": [
    "len(demo.metdata.dhi)"
   ]
  },
  {
   "cell_type": "code",
   "execution_count": null,
   "id": "70bd619e",
   "metadata": {},
   "outputs": [],
   "source": []
  },
  {
   "cell_type": "code",
   "execution_count": null,
   "id": "20437808",
   "metadata": {},
   "outputs": [],
   "source": []
  },
  {
   "cell_type": "code",
   "execution_count": null,
   "id": "2ee01b3f",
   "metadata": {},
   "outputs": [],
   "source": []
  },
  {
   "cell_type": "code",
   "execution_count": null,
   "id": "bb888c2c",
   "metadata": {},
   "outputs": [],
   "source": [
    "startdate = '21_06_17_11'\n",
    "enddate = '21_06_17_12' # '%y_%m_%d_%H'\n",
    "#enddate = '06/18' \n",
    "\n",
    "trackerdict = demo.set1axis(metdata = metdata, limit_angle = limit_angle, backtrack = backtrack, \n",
    "                            gcr = gcr, cumulativesky = cumulativesky) \n",
    "\n",
    "trackerdict = demo.gendaylit1axis(startdate = startdate, enddate = enddate)\n",
    "\n",
    "sceneDict = {'pitch': pitch,'hub_height':hub_height, 'nMods':nMods, 'nRows': nRows}  \n",
    "\n",
    "scene = demo.makeScene1axis(moduletype=moduletype,sceneDict=sceneDict)\n",
    "\n",
    "sensorsx = 2\n",
    "spacingsensorsx = (moduleDict['scenex']+0.1)/(sensorsx+1)\n",
    "startxsensors = (moduleDict['scenex']+0.1)/2-spacingsensorsx\n",
    "\n",
    "sensorsy = 4\n",
    "for key in trackerdict.keys():\n",
    "    demo.makeOct1axis(singleindex=key)\n",
    "\n",
    "    for i in range (0, sensorsx):  \n",
    "        modscanfront = {'zstart': 0, 'xstart':0, 'orient': '0 0 -1', 'zinc':0, 'xinc':pitch/(sensorsy-1),\n",
    "                       'ystart': startxsensors-spacingsensorsx*i}\n",
    "\n",
    "        results = demo.analysis1axis(singleindex=key, customname='_'+str(i)+'_', modscanfront = modscanfront, sensorsy = sensorsy)\n"
   ]
  },
  {
   "cell_type": "markdown",
   "id": "4b6a8cb3",
   "metadata": {},
   "source": [
    "# METHOD 2: FIXED TILT"
   ]
  },
  {
   "cell_type": "code",
   "execution_count": null,
   "id": "13fb4337",
   "metadata": {},
   "outputs": [],
   "source": [
    "plt.plot(demo.metdata.datetime[270:282], demo.metdata.dni[270:282])\n"
   ]
  },
  {
   "cell_type": "code",
   "execution_count": null,
   "id": "26c73558",
   "metadata": {},
   "outputs": [],
   "source": [
    "for idx in range(270, 283):\n",
    "    testfolder = \n",
    "    rad_obj = bifacial_radiance.RadianceObj(simulationName,path = testfolder)  # Create a RadianceObj 'object'\n",
    "    rad_obj.setGround(albedo) \n",
    "    metdata = rad_obj.readEPW(epwfile, 'center', coerce_year=2021)\n",
    "    solpos = rad_obj.metdata.solpos.iloc[idx]\n",
    "    zen = float(solpos.zenith)\n",
    "    azm = float(solpos.azimuth) - 180\n",
    "    dni = rad_obj.metdata.dni[idx]\n",
    "    dhi = rad_obj.metdata.dhi[idx]\n",
    "    rad_obj.gendaylit2manual(dni, dhi, 90 - zen, azm)\n",
    "    print(rad_obj.metdata.datetime[idx])\n",
    "    tilt = round(rad_obj.getSingleTimestampTrackerAngle(rad_obj.metdata, idx, gcr, limit_angle=65),1)\n",
    "    print(tilt)"
   ]
  },
  {
   "cell_type": "code",
   "execution_count": null,
   "id": "528f4712",
   "metadata": {},
   "outputs": [],
   "source": [
    "foo=rad_obj.metdata.datetime[idx]\n",
    "res_name = \"irr_Jacksolar_\"+str(foo.year)+\"_\"+str(foo.month)+\"_\"+str(foo.day)+\"_\"+str(foo.hour)+\"_\"+str(foo.minute)\n",
    "res_name"
   ]
  },
  {
   "cell_type": "code",
   "execution_count": null,
   "id": "94aa4d9c",
   "metadata": {
    "scrolled": true
   },
   "outputs": [],
   "source": [
    "sceneDict = {'pitch': pitch, 'tilt': tilt, 'azimuth': 90, 'hub_height':hub_height, 'nMods':nMods, 'nRows': nRows}  \n"
   ]
  },
  {
   "cell_type": "code",
   "execution_count": null,
   "id": "36f083e0",
   "metadata": {},
   "outputs": [],
   "source": [
    "scene = demo.makeScene(moduletype=moduletype,sceneDict=sceneDict)\n"
   ]
  },
  {
   "cell_type": "code",
   "execution_count": null,
   "id": "17433a02",
   "metadata": {},
   "outputs": [],
   "source": [
    "octfile = demo.makeOct(octname=res_name)  "
   ]
  },
  {
   "cell_type": "code",
   "execution_count": null,
   "id": "c3e47b0c",
   "metadata": {},
   "outputs": [],
   "source": [
    "sensorsx = 2\n",
    "sensorsy = 4\n",
    "spacingsensorsx = (x+0.01+0.10)/(sensorsx+1)\n",
    "startxsensors = (x+0.01+0.10)/2-spacingsensorsx\n",
    "xinc = pitch/(sensorsy-1)\n",
    "\n",
    "analysis = bifacial_radiance.AnalysisObj()\n",
    "\n",
    "frontscan, backscan = analysis.moduleAnalysis(scene, sensorsy=sensorsy)\n",
    "    "
   ]
  },
  {
   "cell_type": "code",
   "execution_count": null,
   "id": "1225b7b9",
   "metadata": {},
   "outputs": [],
   "source": [
    "frontscan"
   ]
  },
  {
   "cell_type": "code",
   "execution_count": null,
   "id": "8cfc4a93",
   "metadata": {},
   "outputs": [],
   "source": []
  },
  {
   "cell_type": "code",
   "execution_count": null,
   "id": "951b5d67",
   "metadata": {},
   "outputs": [],
   "source": [
    "for senx in range(0,sensorsx):\n",
    "    frontscan['zstart'] = 0\n",
    "    frontscan['xstart'] = 0\n",
    "    frontscan['orient'] = '0 0 -1'\n",
    "    frontscan['zinc'] = 0\n",
    "    frontscan['xinc'] = xinc\n",
    "    frontscan['ystart'] = startxsensors-spacingsensorsx*senx\n",
    "    frontdict, backdict = analysis.analysis(octfile = octfile, name = 'xloc_'+str(senx), \n",
    "                                            frontscan=frontscan, backscan=backscan)"
   ]
  },
  {
   "cell_type": "code",
   "execution_count": null,
   "id": "9df4fd6e",
   "metadata": {},
   "outputs": [],
   "source": [
    "# TESTING SOMETHING"
   ]
  },
  {
   "cell_type": "code",
   "execution_count": null,
   "id": "d641e3e4",
   "metadata": {},
   "outputs": [],
   "source": [
    "demo = bifacial_radiance.RadianceObj(simulationName,path = testfolder)  # Create a RadianceObj 'object'\n",
    "demo.setGround(albedo) \n",
    "epwfile = demo.getEPW(lat, lon) \n"
   ]
  },
  {
   "cell_type": "code",
   "execution_count": null,
   "id": "1044ea85",
   "metadata": {},
   "outputs": [],
   "source": [
    "startdate = '21_06_17_11'\n",
    "enddate = '21_06_17_12'\n",
    "\n",
    "metdata = demo.readWeatherFile(epwfile, starttime=startdate, endtime=enddate, coerce_year = 2021)\n",
    "metdata.solpos"
   ]
  },
  {
   "cell_type": "code",
   "execution_count": null,
   "id": "ec8eabc7",
   "metadata": {},
   "outputs": [],
   "source": [
    "startdate = '21_06_17_11'\n",
    "enddate = '21_06_17_11'\n",
    "\n",
    "metdata = demo.readWeatherFile(epwfile, starttime=startdate, endtime=enddate, coerce_year = 2021)\n",
    "metdata.solpos"
   ]
  },
  {
   "cell_type": "code",
   "execution_count": null,
   "id": "7140f3ea",
   "metadata": {},
   "outputs": [],
   "source": [
    "metdata"
   ]
  },
  {
   "cell_type": "code",
   "execution_count": null,
   "id": "903c45fd",
   "metadata": {},
   "outputs": [],
   "source": [
    "trackerdict = demo.set1axis(cumulativesky=False)\n",
    "\n"
   ]
  },
  {
   "cell_type": "code",
   "execution_count": null,
   "id": "13ba6b04",
   "metadata": {},
   "outputs": [],
   "source": [
    "trackerdict"
   ]
  },
  {
   "cell_type": "code",
   "execution_count": null,
   "id": "3a01c0f7",
   "metadata": {},
   "outputs": [],
   "source": [
    "time = metdata.datetime[0]\n",
    "time"
   ]
  },
  {
   "cell_type": "code",
   "execution_count": null,
   "id": "4fdd3913",
   "metadata": {},
   "outputs": [],
   "source": [
    "filename = time.strftime('%y_%m_%d_%H_%M')\n",
    "filename"
   ]
  },
  {
   "cell_type": "code",
   "execution_count": null,
   "id": "9f27828a",
   "metadata": {},
   "outputs": [],
   "source": [
    "metdata.ghi[0]\n",
    "metdata.tracker_theta[0]"
   ]
  },
  {
   "cell_type": "code",
   "execution_count": null,
   "id": "9f8ff17d",
   "metadata": {},
   "outputs": [],
   "source": [
    "skyfile = demo.gendaylit(metdata=metdata,timeindex=0)\n",
    "skyfile"
   ]
  },
  {
   "cell_type": "code",
   "execution_count": null,
   "id": "f9c52283",
   "metadata": {},
   "outputs": [],
   "source": [
    "trackerdict.keys()"
   ]
  },
  {
   "cell_type": "code",
   "execution_count": null,
   "id": "88ee0ef6",
   "metadata": {},
   "outputs": [],
   "source": [
    "trackerdict[filename]"
   ]
  },
  {
   "cell_type": "code",
   "execution_count": null,
   "id": "ba455200",
   "metadata": {},
   "outputs": [],
   "source": [
    "trackerdict = demo.gendaylit1axis()"
   ]
  },
  {
   "cell_type": "code",
   "execution_count": null,
   "id": "d338e389",
   "metadata": {},
   "outputs": [],
   "source": [
    "sceneDict = {'pitch': pitch, 'tilt': 30, 'azimuth': 90, 'hub_height':hub_height, 'nMods':nMods, 'nRows': nRows}  "
   ]
  },
  {
   "cell_type": "code",
   "execution_count": null,
   "id": "ebfc22cf",
   "metadata": {},
   "outputs": [],
   "source": [
    "trackerdict = demo.makeScene1axis(trackerdict=trackerdict, moduletype=moduletype, sceneDict=sceneDict)"
   ]
  },
  {
   "cell_type": "code",
   "execution_count": null,
   "id": "84386c97",
   "metadata": {},
   "outputs": [],
   "source": [
    "startdate = '21_06_17_11'\n",
    "enddate = '21_06_17_12'"
   ]
  }
 ],
 "metadata": {
  "kernelspec": {
   "display_name": "Python 3",
   "language": "python",
   "name": "python3"
  },
  "language_info": {
   "codemirror_mode": {
    "name": "ipython",
    "version": 3
   },
   "file_extension": ".py",
   "mimetype": "text/x-python",
   "name": "python",
   "nbconvert_exporter": "python",
   "pygments_lexer": "ipython3",
   "version": "3.7.10"
  }
 },
 "nbformat": 4,
 "nbformat_minor": 5
}
