{
 "cells": [
  {
   "cell_type": "markdown",
   "id": "561d5c6c",
   "metadata": {},
   "source": [
    "# Variety of Routines\n",
    "\n",
    "This journals explores the different ways \n",
    "\n",
    "<b> 1. Fixed tilt routine for fixed tilt systems </b>\n",
    "* makeScene\n",
    "* gendaylit   or gencumsky\n",
    "* makeoct\n",
    "* analysis\n",
    "\n",
    "\n",
    "<b> 2. Tracker Routine for 1-HSAT </b>\n",
    "* set1axis          (gets angles)\n",
    "* makeScene1axis            \n",
    "* gendaylit1axis   or gencumsky1axis\n",
    "* makeoct1axis\n",
    "* analysis1axis\n",
    "\n",
    "\n",
    "<b> 3. Fixtilt tilt routine for a 1-HSAT, 1 single timestamp</b>\n",
    "* gettrackerangle\n",
    "* makeScene\n",
    "* gendaylit or gencumsky\n",
    "* makeoct\n",
    "* analysis"
   ]
  },
  {
   "cell_type": "markdown",
   "id": "7ae5aeb0",
   "metadata": {},
   "source": [
    "# Fixed tilt routine for fixed tilt systems"
   ]
  },
  {
   "cell_type": "markdown",
   "id": "8a411cf3",
   "metadata": {},
   "source": [
    "#### A. Gendaylit: Probably looping over IDX"
   ]
  },
  {
   "cell_type": "code",
   "execution_count": null,
   "id": "4d9fe4dc",
   "metadata": {},
   "outputs": [],
   "source": [
    "idx = 4020"
   ]
  },
  {
   "cell_type": "code",
   "execution_count": 2,
   "id": "2b9b740e",
   "metadata": {},
   "outputs": [],
   "source": [
    "#Main Variables needed throughout\n",
    "albedo = 0.6\n",
    "sim_general_name = 'bifacial_example'\n",
    "lat = 37.5\n",
    "lon = -77.6\n",
    "epwfile = r'C:\\Users\\sayala\\Documents\\RadianceScenes\\HPC_Test\\USA_VA_Richmond.Intl.AP.724010_TMY.epw'\n",
    "testfolder = r'C:\\Users\\sayala\\Documents\\RadianceScenes\\HPC_Test\\Routine1' \n",
    "moduletype = 'Prism Solar Bi60 landscape'\n",
    "\n",
    "tilt = 10\n",
    "pitch = 3\n",
    "clearance_height = 0.2\n",
    "azimuth = 90\n",
    "nMods = 20\n",
    "nRows = 7\n",
    "hpc = True"
   ]
  },
  {
   "cell_type": "code",
   "execution_count": null,
   "id": "dc5de95e",
   "metadata": {},
   "outputs": [],
   "source": [
    "import bifacial_radiance\n",
    "\n",
    "sim_name = sim_general_name+'_'+str(idx)\n",
    "demo = bifacial_radiance.RadianceObj(sim_name,str(testfolder))  \n",
    "demo.setGround(albedo)\n",
    "metdata = demo.readWeatherFile(epwfile) \n",
    "demo.gendaylit(idx)\n",
    "sceneDict = {'tilt':tilt,'pitch':pitch,'clearance_height':clearance_height,'azimuth':azimuth, 'nMods': nMods, 'nRows': nRows} \n",
    "scene = demo.makeScene(moduletype=moduletype,sceneDict=sceneDict, hpc=hpc, radname = sim_name)\n",
    "octfile = demo.makeOct(octname = demo.basename , hpc=hpc)  \n",
    "analysis = bifacial_radiance.AnalysisObj(octfile=octfile, name=sim_name)\n",
    "frontscan, backscan = analysis.moduleAnalysis(scene=scene)\n",
    "analysis.analysis(octfile, name=sim_name, frontscan=frontscan, backscan=backscan)\n"
   ]
  },
  {
   "cell_type": "markdown",
   "id": "28bab3fe",
   "metadata": {},
   "source": [
    "#### B. Gencumsky: Probably looping over something in the Geometry"
   ]
  },
  {
   "cell_type": "code",
   "execution_count": null,
   "id": "0ed3424e",
   "metadata": {},
   "outputs": [],
   "source": [
    "tilt = 30"
   ]
  },
  {
   "cell_type": "code",
   "execution_count": null,
   "id": "d761f408",
   "metadata": {},
   "outputs": [],
   "source": [
    "#Main Variables needed throughout\n",
    "albedo = 0.6\n",
    "sim_general_name = 'bifacial_example'\n",
    "lat = 37.5\n",
    "lon = -77.6\n",
    "epwfile = r'C:\\Users\\sayala\\Documents\\RadianceScenes\\HPC_Test\\USA_VA_Richmond.Intl.AP.724010_TMY.epw'\n",
    "testfolder = r'C:\\Users\\sayala\\Documents\\RadianceScenes\\HPC_Test\\Routine1' \n",
    "moduletype = 'Prism Solar Bi60 landscape'\n",
    "\n",
    "tilt = 10\n",
    "pitch = 3\n",
    "clearance_height = 0.2\n",
    "azimuth = 90\n",
    "nMods = 20\n",
    "nRows = 7\n",
    "hpc = True"
   ]
  },
  {
   "cell_type": "code",
   "execution_count": null,
   "id": "8485e849",
   "metadata": {},
   "outputs": [],
   "source": [
    "import bifacial_radiance\n",
    "\n",
    "sim_name = sim_general_name+'_'+str(tilt)\n",
    "demo = bifacial_radiance.RadianceObj(sim_name,str(testfolder))  \n",
    "demo.setGround(albedo)\n",
    "metdata = demo.readWeatherFile(epwfile) \n",
    "demo.genCumSky(savefile = sim_name)\n",
    "sceneDict = {'tilt':tilt,'pitch':pitch,'clearance_height':clearance_height,'azimuth':azimuth, 'nMods': nMods, 'nRows': nRows} \n",
    "scene = demo.makeScene(moduletype=moduletype,sceneDict=sceneDict, hpc=hpc, radname = sim_name)\n",
    "octfile = demo.makeOct(octname = demo.basename , hpc=hoc)  \n",
    "analysis = bifacial_radiance.AnalysisObj(octfile=octfile, name=sim_name)\n",
    "frontscan, backscan = analysis.moduleAnalysis(scene=scene)\n",
    "analysis.analysis(octfile, name=sim_name, frontscan=frontscan, backscan=backscan)\n"
   ]
  },
  {
   "cell_type": "markdown",
   "id": "bae9321b",
   "metadata": {},
   "source": [
    "#### C. Option: Gencumsky segmented ...."
   ]
  },
  {
   "cell_type": "code",
   "execution_count": null,
   "id": "59b10f10",
   "metadata": {},
   "outputs": [],
   "source": [
    "# ADD LATER"
   ]
  },
  {
   "cell_type": "markdown",
   "id": "e16648d8",
   "metadata": {},
   "source": [
    "<a id='step2'></a>"
   ]
  },
  {
   "cell_type": "markdown",
   "id": "6775de88",
   "metadata": {},
   "source": [
    "## 2. Tracker Routine for 1-HSAT"
   ]
  },
  {
   "cell_type": "markdown",
   "id": "42eaceb0",
   "metadata": {},
   "source": [
    "#### Gendaylit1axis, looping over hours"
   ]
  },
  {
   "cell_type": "code",
   "execution_count": 5,
   "id": "92da4854",
   "metadata": {},
   "outputs": [],
   "source": [
    "#Main Variables needed throughout\n",
    "albedo = 0.6\n",
    "sim_general_name = 'bifacial_example'\n",
    "lat = 37.5\n",
    "lon = -77.6\n",
    "epwfile = r'C:\\Users\\sayala\\Documents\\RadianceScenes\\HPC_Test\\USA_VA_Richmond.Intl.AP.724010_TMY.epw'\n",
    "testfolder = r'C:\\Users\\sayala\\Documents\\RadianceScenes\\HPC_Test\\Routine1' \n",
    "moduletype = 'Prism Solar Bi60 landscape'\n",
    "\n",
    "hub_height = 0.2\n",
    "nMods = 20\n",
    "nRows = 7\n",
    "hpc = True\n",
    "\n",
    "limit_angle = 60\n",
    "backtrack = True\n",
    "gcr = 0.35\n",
    "angledelta = 0.01\n",
    "\n",
    "starttime = '21_11_06_10'# 'YY_MM_DD_HH'\n",
    "endtime = starttime\n",
    "cumulativesky = False\n"
   ]
  },
  {
   "cell_type": "code",
   "execution_count": 86,
   "id": "497cf13d",
   "metadata": {},
   "outputs": [
    {
     "name": "stdout",
     "output_type": "stream",
     "text": [
      "path = C:\\Users\\sayala\\Documents\\RadianceScenes\\HPC_Test\\Routine1\n",
      "Loading albedo, 1 value(s), 0.600 avg\n",
      "1 nonzero albedo values.\n"
     ]
    },
    {
     "ename": "ValueError",
     "evalue": "time data '05_01_00_01' does not match format '%y_%m_%d_%H' (match)",
     "output_type": "error",
     "traceback": [
      "\u001b[1;31m---------------------------------------------------------------------------\u001b[0m",
      "\u001b[1;31mTypeError\u001b[0m                                 Traceback (most recent call last)",
      "\u001b[1;32mC:\\ProgramData\\Anaconda3\\lib\\site-packages\\pandas\\core\\tools\\datetimes.py\u001b[0m in \u001b[0;36m_convert_listlike_datetimes\u001b[1;34m(arg, format, name, tz, unit, errors, infer_datetime_format, dayfirst, yearfirst, exact)\u001b[0m\n\u001b[0;32m    455\u001b[0m             \u001b[1;32mtry\u001b[0m\u001b[1;33m:\u001b[0m\u001b[1;33m\u001b[0m\u001b[1;33m\u001b[0m\u001b[0m\n\u001b[1;32m--> 456\u001b[1;33m                 \u001b[0mvalues\u001b[0m\u001b[1;33m,\u001b[0m \u001b[0mtz\u001b[0m \u001b[1;33m=\u001b[0m \u001b[0mconversion\u001b[0m\u001b[1;33m.\u001b[0m\u001b[0mdatetime_to_datetime64\u001b[0m\u001b[1;33m(\u001b[0m\u001b[0marg\u001b[0m\u001b[1;33m)\u001b[0m\u001b[1;33m\u001b[0m\u001b[1;33m\u001b[0m\u001b[0m\n\u001b[0m\u001b[0;32m    457\u001b[0m                 \u001b[0mdta\u001b[0m \u001b[1;33m=\u001b[0m \u001b[0mDatetimeArray\u001b[0m\u001b[1;33m(\u001b[0m\u001b[0mvalues\u001b[0m\u001b[1;33m,\u001b[0m \u001b[0mdtype\u001b[0m\u001b[1;33m=\u001b[0m\u001b[0mtz_to_dtype\u001b[0m\u001b[1;33m(\u001b[0m\u001b[0mtz\u001b[0m\u001b[1;33m)\u001b[0m\u001b[1;33m)\u001b[0m\u001b[1;33m\u001b[0m\u001b[1;33m\u001b[0m\u001b[0m\n",
      "\u001b[1;32mpandas\\_libs\\tslibs\\conversion.pyx\u001b[0m in \u001b[0;36mpandas._libs.tslibs.conversion.datetime_to_datetime64\u001b[1;34m()\u001b[0m\n",
      "\u001b[1;31mTypeError\u001b[0m: Unrecognized value type: <class 'str'>",
      "\nDuring handling of the above exception, another exception occurred:\n",
      "\u001b[1;31mValueError\u001b[0m                                Traceback (most recent call last)",
      "\u001b[1;32m<ipython-input-86-8523abf0fea1>\u001b[0m in \u001b[0;36m<module>\u001b[1;34m\u001b[0m\n\u001b[0;32m      4\u001b[0m \u001b[0mdemo\u001b[0m \u001b[1;33m=\u001b[0m \u001b[0mbifacial_radiance\u001b[0m\u001b[1;33m.\u001b[0m\u001b[0mRadianceObj\u001b[0m\u001b[1;33m(\u001b[0m\u001b[0msim_name\u001b[0m\u001b[1;33m,\u001b[0m \u001b[0mpath\u001b[0m\u001b[1;33m=\u001b[0m\u001b[0mtestfolder\u001b[0m\u001b[1;33m)\u001b[0m\u001b[1;33m\u001b[0m\u001b[1;33m\u001b[0m\u001b[0m\n\u001b[0;32m      5\u001b[0m \u001b[0mdemo\u001b[0m\u001b[1;33m.\u001b[0m\u001b[0msetGround\u001b[0m\u001b[1;33m(\u001b[0m\u001b[0malbedo\u001b[0m\u001b[1;33m)\u001b[0m\u001b[1;33m\u001b[0m\u001b[1;33m\u001b[0m\u001b[0m\n\u001b[1;32m----> 6\u001b[1;33m \u001b[0mmetdata\u001b[0m \u001b[1;33m=\u001b[0m \u001b[0mdemo\u001b[0m\u001b[1;33m.\u001b[0m\u001b[0mreadWeatherFile\u001b[0m\u001b[1;33m(\u001b[0m\u001b[0mepwfile\u001b[0m\u001b[1;33m,\u001b[0m \u001b[0mcoerce_year\u001b[0m\u001b[1;33m=\u001b[0m\u001b[1;36m2021\u001b[0m\u001b[1;33m,\u001b[0m \u001b[0mdaydate\u001b[0m\u001b[1;33m=\u001b[0m\u001b[1;34m'05_01'\u001b[0m\u001b[1;33m)\u001b[0m\u001b[1;33m\u001b[0m\u001b[1;33m\u001b[0m\u001b[0m\n\u001b[0m\u001b[0;32m      7\u001b[0m \u001b[0msceneDict\u001b[0m \u001b[1;33m=\u001b[0m \u001b[1;33m{\u001b[0m\u001b[1;34m'gcr'\u001b[0m\u001b[1;33m:\u001b[0m\u001b[0mgcr\u001b[0m\u001b[1;33m,\u001b[0m\u001b[1;34m'hub_height'\u001b[0m\u001b[1;33m:\u001b[0m\u001b[0mhub_height\u001b[0m\u001b[1;33m,\u001b[0m \u001b[1;34m'nMods'\u001b[0m\u001b[1;33m:\u001b[0m \u001b[0mnMods\u001b[0m\u001b[1;33m,\u001b[0m \u001b[1;34m'nRows'\u001b[0m\u001b[1;33m:\u001b[0m \u001b[0mnRows\u001b[0m\u001b[1;33m}\u001b[0m\u001b[1;33m\u001b[0m\u001b[1;33m\u001b[0m\u001b[0m\n\u001b[0;32m      8\u001b[0m \u001b[0mtrackerdict\u001b[0m \u001b[1;33m=\u001b[0m \u001b[0mdemo\u001b[0m\u001b[1;33m.\u001b[0m\u001b[0mset1axis\u001b[0m\u001b[1;33m(\u001b[0m\u001b[0mlimit_angle\u001b[0m \u001b[1;33m=\u001b[0m \u001b[0mlimit_angle\u001b[0m\u001b[1;33m,\u001b[0m \u001b[0mbacktrack\u001b[0m \u001b[1;33m=\u001b[0m \u001b[0mbacktrack\u001b[0m\u001b[1;33m,\u001b[0m \u001b[0mgcr\u001b[0m \u001b[1;33m=\u001b[0m \u001b[0mgcr\u001b[0m\u001b[1;33m,\u001b[0m \u001b[0mcumulativesky\u001b[0m \u001b[1;33m=\u001b[0m \u001b[0mcumulativesky\u001b[0m\u001b[1;33m)\u001b[0m\u001b[1;33m\u001b[0m\u001b[1;33m\u001b[0m\u001b[0m\n",
      "\u001b[1;32mc:\\users\\sayala\\documents\\github\\bifacial_radiance\\bifacial_radiance\\main.py\u001b[0m in \u001b[0;36mreadWeatherFile\u001b[1;34m(self, weatherFile, starttime, endtime, daydate, label, source, coerce_year)\u001b[0m\n\u001b[0;32m    621\u001b[0m             metdata = self.readEPW(weatherFile, starttime=starttime,\n\u001b[0;32m    622\u001b[0m                                    \u001b[0mendtime\u001b[0m\u001b[1;33m=\u001b[0m\u001b[0mendtime\u001b[0m\u001b[1;33m,\u001b[0m \u001b[0mdaydate\u001b[0m\u001b[1;33m=\u001b[0m\u001b[0mdaydate\u001b[0m\u001b[1;33m,\u001b[0m \u001b[0mlabel\u001b[0m\u001b[1;33m=\u001b[0m\u001b[0mlabel\u001b[0m\u001b[1;33m,\u001b[0m\u001b[1;33m\u001b[0m\u001b[1;33m\u001b[0m\u001b[0m\n\u001b[1;32m--> 623\u001b[1;33m                                    coerce_year=coerce_year)\n\u001b[0m\u001b[0;32m    624\u001b[0m         \u001b[1;32melse\u001b[0m\u001b[1;33m:\u001b[0m\u001b[1;33m\u001b[0m\u001b[1;33m\u001b[0m\u001b[0m\n\u001b[0;32m    625\u001b[0m             \u001b[1;32mif\u001b[0m \u001b[0msource\u001b[0m \u001b[1;32mis\u001b[0m \u001b[1;32mNone\u001b[0m\u001b[1;33m:\u001b[0m\u001b[1;33m\u001b[0m\u001b[1;33m\u001b[0m\u001b[0m\n",
      "\u001b[1;32mc:\\users\\sayala\\documents\\github\\bifacial_radiance\\bifacial_radiance\\main.py\u001b[0m in \u001b[0;36mreadEPW\u001b[1;34m(self, epwfile, hpc, starttime, endtime, daydate, label, coerce_year)\u001b[0m\n\u001b[0;32m    921\u001b[0m \u001b[1;33m\u001b[0m\u001b[0m\n\u001b[0;32m    922\u001b[0m         tmydata_trunc = self._saveTempTMY(tmydata,filename=tempTMYtitle, \n\u001b[1;32m--> 923\u001b[1;33m                                           starttime=starttime, endtime=endtime, coerce_year=coerce_year)\n\u001b[0m\u001b[0;32m    924\u001b[0m         \u001b[1;32mif\u001b[0m \u001b[0mdaydate\u001b[0m \u001b[1;32mis\u001b[0m \u001b[1;32mnot\u001b[0m \u001b[1;32mNone\u001b[0m\u001b[1;33m:\u001b[0m  \u001b[1;31m# also remove GHI = 0 for HPC daydate call.\u001b[0m\u001b[1;33m\u001b[0m\u001b[1;33m\u001b[0m\u001b[0m\n\u001b[0;32m    925\u001b[0m             \u001b[0mtmydata_trunc\u001b[0m \u001b[1;33m=\u001b[0m \u001b[0mtmydata_trunc\u001b[0m\u001b[1;33m[\u001b[0m\u001b[0mtmydata_trunc\u001b[0m\u001b[1;33m.\u001b[0m\u001b[0mGHI\u001b[0m \u001b[1;33m>\u001b[0m \u001b[1;36m0\u001b[0m\u001b[1;33m]\u001b[0m\u001b[1;33m\u001b[0m\u001b[1;33m\u001b[0m\u001b[0m\n",
      "\u001b[1;32mc:\\users\\sayala\\documents\\github\\bifacial_radiance\\bifacial_radiance\\main.py\u001b[0m in \u001b[0;36m_saveTempTMY\u001b[1;34m(self, tmydata, filename, starttime, endtime, coerce_year)\u001b[0m\n\u001b[0;32m    710\u001b[0m         \u001b[0mi\u001b[0m\u001b[1;33m.\u001b[0m\u001b[0mindex\u001b[0m \u001b[1;33m=\u001b[0m \u001b[0mi\u001b[0m\u001b[1;33m\u001b[0m\u001b[1;33m\u001b[0m\u001b[0m\n\u001b[0;32m    711\u001b[0m         \u001b[0mtmydata\u001b[0m\u001b[1;33m.\u001b[0m\u001b[0mindex\u001b[0m \u001b[1;33m=\u001b[0m \u001b[0mi\u001b[0m\u001b[1;33m\u001b[0m\u001b[1;33m\u001b[0m\u001b[0m\n\u001b[1;32m--> 712\u001b[1;33m         \u001b[0mstartdt\u001b[0m \u001b[1;33m=\u001b[0m \u001b[0mpd\u001b[0m\u001b[1;33m.\u001b[0m\u001b[0mto_datetime\u001b[0m\u001b[1;33m(\u001b[0m\u001b[0mstarttime\u001b[0m\u001b[1;33m,\u001b[0m \u001b[0mformat\u001b[0m\u001b[1;33m=\u001b[0m\u001b[1;34m'%y_%m_%d_%H'\u001b[0m\u001b[1;33m)\u001b[0m\u001b[1;33m\u001b[0m\u001b[1;33m\u001b[0m\u001b[0m\n\u001b[0m\u001b[0;32m    713\u001b[0m         \u001b[0menddt\u001b[0m \u001b[1;33m=\u001b[0m \u001b[0mpd\u001b[0m\u001b[1;33m.\u001b[0m\u001b[0mto_datetime\u001b[0m\u001b[1;33m(\u001b[0m\u001b[0mendtime\u001b[0m\u001b[1;33m,\u001b[0m \u001b[0mformat\u001b[0m\u001b[1;33m=\u001b[0m\u001b[1;34m'%y_%m_%d_%H'\u001b[0m\u001b[1;33m)\u001b[0m\u001b[1;33m\u001b[0m\u001b[1;33m\u001b[0m\u001b[0m\n\u001b[0;32m    714\u001b[0m         \u001b[0mprint\u001b[0m\u001b[1;33m(\u001b[0m\u001b[1;34mf'start: {startdt}\\nend: {enddt}'\u001b[0m\u001b[1;33m)\u001b[0m\u001b[1;33m\u001b[0m\u001b[1;33m\u001b[0m\u001b[0m\n",
      "\u001b[1;32mC:\\ProgramData\\Anaconda3\\lib\\site-packages\\pandas\\core\\tools\\datetimes.py\u001b[0m in \u001b[0;36mto_datetime\u001b[1;34m(arg, errors, dayfirst, yearfirst, utc, format, exact, unit, infer_datetime_format, origin, cache)\u001b[0m\n\u001b[0;32m    830\u001b[0m             \u001b[0mresult\u001b[0m \u001b[1;33m=\u001b[0m \u001b[0mconvert_listlike\u001b[0m\u001b[1;33m(\u001b[0m\u001b[0marg\u001b[0m\u001b[1;33m,\u001b[0m \u001b[0mformat\u001b[0m\u001b[1;33m)\u001b[0m\u001b[1;33m\u001b[0m\u001b[1;33m\u001b[0m\u001b[0m\n\u001b[0;32m    831\u001b[0m     \u001b[1;32melse\u001b[0m\u001b[1;33m:\u001b[0m\u001b[1;33m\u001b[0m\u001b[1;33m\u001b[0m\u001b[0m\n\u001b[1;32m--> 832\u001b[1;33m         \u001b[0mresult\u001b[0m \u001b[1;33m=\u001b[0m \u001b[0mconvert_listlike\u001b[0m\u001b[1;33m(\u001b[0m\u001b[0mnp\u001b[0m\u001b[1;33m.\u001b[0m\u001b[0marray\u001b[0m\u001b[1;33m(\u001b[0m\u001b[1;33m[\u001b[0m\u001b[0marg\u001b[0m\u001b[1;33m]\u001b[0m\u001b[1;33m)\u001b[0m\u001b[1;33m,\u001b[0m \u001b[0mformat\u001b[0m\u001b[1;33m)\u001b[0m\u001b[1;33m[\u001b[0m\u001b[1;36m0\u001b[0m\u001b[1;33m]\u001b[0m\u001b[1;33m\u001b[0m\u001b[1;33m\u001b[0m\u001b[0m\n\u001b[0m\u001b[0;32m    833\u001b[0m \u001b[1;33m\u001b[0m\u001b[0m\n\u001b[0;32m    834\u001b[0m     \u001b[1;32mreturn\u001b[0m \u001b[0mresult\u001b[0m\u001b[1;33m\u001b[0m\u001b[1;33m\u001b[0m\u001b[0m\n",
      "\u001b[1;32mC:\\ProgramData\\Anaconda3\\lib\\site-packages\\pandas\\core\\tools\\datetimes.py\u001b[0m in \u001b[0;36m_convert_listlike_datetimes\u001b[1;34m(arg, format, name, tz, unit, errors, infer_datetime_format, dayfirst, yearfirst, exact)\u001b[0m\n\u001b[0;32m    458\u001b[0m                 \u001b[1;32mreturn\u001b[0m \u001b[0mDatetimeIndex\u001b[0m\u001b[1;33m.\u001b[0m\u001b[0m_simple_new\u001b[0m\u001b[1;33m(\u001b[0m\u001b[0mdta\u001b[0m\u001b[1;33m,\u001b[0m \u001b[0mname\u001b[0m\u001b[1;33m=\u001b[0m\u001b[0mname\u001b[0m\u001b[1;33m)\u001b[0m\u001b[1;33m\u001b[0m\u001b[1;33m\u001b[0m\u001b[0m\n\u001b[0;32m    459\u001b[0m             \u001b[1;32mexcept\u001b[0m \u001b[1;33m(\u001b[0m\u001b[0mValueError\u001b[0m\u001b[1;33m,\u001b[0m \u001b[0mTypeError\u001b[0m\u001b[1;33m)\u001b[0m\u001b[1;33m:\u001b[0m\u001b[1;33m\u001b[0m\u001b[1;33m\u001b[0m\u001b[0m\n\u001b[1;32m--> 460\u001b[1;33m                 \u001b[1;32mraise\u001b[0m \u001b[0me\u001b[0m\u001b[1;33m\u001b[0m\u001b[1;33m\u001b[0m\u001b[0m\n\u001b[0m\u001b[0;32m    461\u001b[0m \u001b[1;33m\u001b[0m\u001b[0m\n\u001b[0;32m    462\u001b[0m     \u001b[1;32mif\u001b[0m \u001b[0mresult\u001b[0m \u001b[1;32mis\u001b[0m \u001b[1;32mNone\u001b[0m\u001b[1;33m:\u001b[0m\u001b[1;33m\u001b[0m\u001b[1;33m\u001b[0m\u001b[0m\n",
      "\u001b[1;32mC:\\ProgramData\\Anaconda3\\lib\\site-packages\\pandas\\core\\tools\\datetimes.py\u001b[0m in \u001b[0;36m_convert_listlike_datetimes\u001b[1;34m(arg, format, name, tz, unit, errors, infer_datetime_format, dayfirst, yearfirst, exact)\u001b[0m\n\u001b[0;32m    422\u001b[0m                 \u001b[1;32mtry\u001b[0m\u001b[1;33m:\u001b[0m\u001b[1;33m\u001b[0m\u001b[1;33m\u001b[0m\u001b[0m\n\u001b[0;32m    423\u001b[0m                     result, timezones = array_strptime(\n\u001b[1;32m--> 424\u001b[1;33m                         \u001b[0marg\u001b[0m\u001b[1;33m,\u001b[0m \u001b[0mformat\u001b[0m\u001b[1;33m,\u001b[0m \u001b[0mexact\u001b[0m\u001b[1;33m=\u001b[0m\u001b[0mexact\u001b[0m\u001b[1;33m,\u001b[0m \u001b[0merrors\u001b[0m\u001b[1;33m=\u001b[0m\u001b[0merrors\u001b[0m\u001b[1;33m\u001b[0m\u001b[1;33m\u001b[0m\u001b[0m\n\u001b[0m\u001b[0;32m    425\u001b[0m                     )\n\u001b[0;32m    426\u001b[0m                     \u001b[1;32mif\u001b[0m \u001b[1;34m\"%Z\"\u001b[0m \u001b[1;32min\u001b[0m \u001b[0mformat\u001b[0m \u001b[1;32mor\u001b[0m \u001b[1;34m\"%z\"\u001b[0m \u001b[1;32min\u001b[0m \u001b[0mformat\u001b[0m\u001b[1;33m:\u001b[0m\u001b[1;33m\u001b[0m\u001b[1;33m\u001b[0m\u001b[0m\n",
      "\u001b[1;32mpandas\\_libs\\tslibs\\strptime.pyx\u001b[0m in \u001b[0;36mpandas._libs.tslibs.strptime.array_strptime\u001b[1;34m()\u001b[0m\n",
      "\u001b[1;31mValueError\u001b[0m: time data '05_01_00_01' does not match format '%y_%m_%d_%H' (match)"
     ]
    }
   ],
   "source": [
    "import bifacial_radiance\n",
    "\n",
    "sim_name = sim_general_name + starttime\n",
    "demo = bifacial_radiance.RadianceObj(sim_name, path=testfolder)  \n",
    "demo.setGround(albedo) \n",
    "metdata = demo.readWeatherFile(epwfile, coerce_year=2021, daydate='05_01')  \n",
    "sceneDict = {'gcr':gcr,'hub_height':hub_height, 'nMods': nMods, 'nRows': nRows}  \n",
    "trackerdict = demo.set1axis(limit_angle = limit_angle, backtrack = backtrack, gcr = gcr, cumulativesky = cumulativesky)\n"
   ]
  },
  {
   "cell_type": "code",
   "execution_count": 80,
   "id": "376f8457",
   "metadata": {},
   "outputs": [
    {
     "ename": "ValueError",
     "evalue": "time data '21_05_00_01' does not match format '%y_%m_%d_%H' (match)",
     "output_type": "error",
     "traceback": [
      "\u001b[1;31m---------------------------------------------------------------------------\u001b[0m",
      "\u001b[1;31mTypeError\u001b[0m                                 Traceback (most recent call last)",
      "\u001b[1;32mC:\\ProgramData\\Anaconda3\\lib\\site-packages\\pandas\\core\\tools\\datetimes.py\u001b[0m in \u001b[0;36m_convert_listlike_datetimes\u001b[1;34m(arg, format, name, tz, unit, errors, infer_datetime_format, dayfirst, yearfirst, exact)\u001b[0m\n\u001b[0;32m    455\u001b[0m             \u001b[1;32mtry\u001b[0m\u001b[1;33m:\u001b[0m\u001b[1;33m\u001b[0m\u001b[1;33m\u001b[0m\u001b[0m\n\u001b[1;32m--> 456\u001b[1;33m                 \u001b[0mvalues\u001b[0m\u001b[1;33m,\u001b[0m \u001b[0mtz\u001b[0m \u001b[1;33m=\u001b[0m \u001b[0mconversion\u001b[0m\u001b[1;33m.\u001b[0m\u001b[0mdatetime_to_datetime64\u001b[0m\u001b[1;33m(\u001b[0m\u001b[0marg\u001b[0m\u001b[1;33m)\u001b[0m\u001b[1;33m\u001b[0m\u001b[1;33m\u001b[0m\u001b[0m\n\u001b[0m\u001b[0;32m    457\u001b[0m                 \u001b[0mdta\u001b[0m \u001b[1;33m=\u001b[0m \u001b[0mDatetimeArray\u001b[0m\u001b[1;33m(\u001b[0m\u001b[0mvalues\u001b[0m\u001b[1;33m,\u001b[0m \u001b[0mdtype\u001b[0m\u001b[1;33m=\u001b[0m\u001b[0mtz_to_dtype\u001b[0m\u001b[1;33m(\u001b[0m\u001b[0mtz\u001b[0m\u001b[1;33m)\u001b[0m\u001b[1;33m)\u001b[0m\u001b[1;33m\u001b[0m\u001b[1;33m\u001b[0m\u001b[0m\n",
      "\u001b[1;32mpandas\\_libs\\tslibs\\conversion.pyx\u001b[0m in \u001b[0;36mpandas._libs.tslibs.conversion.datetime_to_datetime64\u001b[1;34m()\u001b[0m\n",
      "\u001b[1;31mTypeError\u001b[0m: Unrecognized value type: <class 'str'>",
      "\nDuring handling of the above exception, another exception occurred:\n",
      "\u001b[1;31mValueError\u001b[0m                                Traceback (most recent call last)",
      "\u001b[1;32m<ipython-input-80-dc94b2e704c6>\u001b[0m in \u001b[0;36m<module>\u001b[1;34m\u001b[0m\n\u001b[1;32m----> 1\u001b[1;33m \u001b[0mmetdata\u001b[0m \u001b[1;33m=\u001b[0m \u001b[0mdemo\u001b[0m\u001b[1;33m.\u001b[0m\u001b[0mreadWeatherFile\u001b[0m\u001b[1;33m(\u001b[0m\u001b[0mepwfile\u001b[0m\u001b[1;33m,\u001b[0m \u001b[0mcoerce_year\u001b[0m\u001b[1;33m=\u001b[0m\u001b[1;36m2021\u001b[0m\u001b[1;33m,\u001b[0m \u001b[0mdaydate\u001b[0m\u001b[1;33m=\u001b[0m\u001b[1;34m'21_05_22'\u001b[0m\u001b[1;33m)\u001b[0m\u001b[1;33m\u001b[0m\u001b[1;33m\u001b[0m\u001b[0m\n\u001b[0m\u001b[0;32m      2\u001b[0m \u001b[0msceneDict\u001b[0m \u001b[1;33m=\u001b[0m \u001b[1;33m{\u001b[0m\u001b[1;34m'gcr'\u001b[0m\u001b[1;33m:\u001b[0m\u001b[0mgcr\u001b[0m\u001b[1;33m,\u001b[0m\u001b[1;34m'hub_height'\u001b[0m\u001b[1;33m:\u001b[0m\u001b[0mhub_height\u001b[0m\u001b[1;33m,\u001b[0m \u001b[1;34m'nMods'\u001b[0m\u001b[1;33m:\u001b[0m \u001b[0mnMods\u001b[0m\u001b[1;33m,\u001b[0m \u001b[1;34m'nRows'\u001b[0m\u001b[1;33m:\u001b[0m \u001b[0mnRows\u001b[0m\u001b[1;33m}\u001b[0m\u001b[1;33m\u001b[0m\u001b[1;33m\u001b[0m\u001b[0m\n\u001b[0;32m      3\u001b[0m \u001b[0mtrackerdict\u001b[0m \u001b[1;33m=\u001b[0m \u001b[0mdemo\u001b[0m\u001b[1;33m.\u001b[0m\u001b[0mset1axis\u001b[0m\u001b[1;33m(\u001b[0m\u001b[0mlimit_angle\u001b[0m \u001b[1;33m=\u001b[0m \u001b[0mlimit_angle\u001b[0m\u001b[1;33m,\u001b[0m \u001b[0mbacktrack\u001b[0m \u001b[1;33m=\u001b[0m \u001b[0mbacktrack\u001b[0m\u001b[1;33m,\u001b[0m \u001b[0mgcr\u001b[0m \u001b[1;33m=\u001b[0m \u001b[0mgcr\u001b[0m\u001b[1;33m,\u001b[0m \u001b[0mcumulativesky\u001b[0m \u001b[1;33m=\u001b[0m \u001b[0mcumulativesky\u001b[0m\u001b[1;33m)\u001b[0m\u001b[1;33m\u001b[0m\u001b[1;33m\u001b[0m\u001b[0m\n",
      "\u001b[1;32mc:\\users\\sayala\\documents\\github\\bifacial_radiance\\bifacial_radiance\\main.py\u001b[0m in \u001b[0;36mreadWeatherFile\u001b[1;34m(self, weatherFile, starttime, endtime, daydate, label, source, coerce_year)\u001b[0m\n\u001b[0;32m    621\u001b[0m             metdata = self.readEPW(weatherFile, starttime=starttime,\n\u001b[0;32m    622\u001b[0m                                    \u001b[0mendtime\u001b[0m\u001b[1;33m=\u001b[0m\u001b[0mendtime\u001b[0m\u001b[1;33m,\u001b[0m \u001b[0mdaydate\u001b[0m\u001b[1;33m=\u001b[0m\u001b[0mdaydate\u001b[0m\u001b[1;33m,\u001b[0m \u001b[0mlabel\u001b[0m\u001b[1;33m=\u001b[0m\u001b[0mlabel\u001b[0m\u001b[1;33m,\u001b[0m\u001b[1;33m\u001b[0m\u001b[1;33m\u001b[0m\u001b[0m\n\u001b[1;32m--> 623\u001b[1;33m                                    coerce_year=coerce_year)\n\u001b[0m\u001b[0;32m    624\u001b[0m         \u001b[1;32melse\u001b[0m\u001b[1;33m:\u001b[0m\u001b[1;33m\u001b[0m\u001b[1;33m\u001b[0m\u001b[0m\n\u001b[0;32m    625\u001b[0m             \u001b[1;32mif\u001b[0m \u001b[0msource\u001b[0m \u001b[1;32mis\u001b[0m \u001b[1;32mNone\u001b[0m\u001b[1;33m:\u001b[0m\u001b[1;33m\u001b[0m\u001b[1;33m\u001b[0m\u001b[0m\n",
      "\u001b[1;32mc:\\users\\sayala\\documents\\github\\bifacial_radiance\\bifacial_radiance\\main.py\u001b[0m in \u001b[0;36mreadEPW\u001b[1;34m(self, epwfile, hpc, starttime, endtime, daydate, label, coerce_year)\u001b[0m\n\u001b[0;32m    921\u001b[0m \u001b[1;33m\u001b[0m\u001b[0m\n\u001b[0;32m    922\u001b[0m         tmydata_trunc = self._saveTempTMY(tmydata,filename=tempTMYtitle, \n\u001b[1;32m--> 923\u001b[1;33m                                           starttime=starttime, endtime=endtime, coerce_year=coerce_year)\n\u001b[0m\u001b[0;32m    924\u001b[0m         \u001b[1;32mif\u001b[0m \u001b[0mdaydate\u001b[0m \u001b[1;32mis\u001b[0m \u001b[1;32mnot\u001b[0m \u001b[1;32mNone\u001b[0m\u001b[1;33m:\u001b[0m  \u001b[1;31m# also remove GHI = 0 for HPC daydate call.\u001b[0m\u001b[1;33m\u001b[0m\u001b[1;33m\u001b[0m\u001b[0m\n\u001b[0;32m    925\u001b[0m             \u001b[0mtmydata_trunc\u001b[0m \u001b[1;33m=\u001b[0m \u001b[0mtmydata_trunc\u001b[0m\u001b[1;33m[\u001b[0m\u001b[0mtmydata_trunc\u001b[0m\u001b[1;33m.\u001b[0m\u001b[0mGHI\u001b[0m \u001b[1;33m>\u001b[0m \u001b[1;36m0\u001b[0m\u001b[1;33m]\u001b[0m\u001b[1;33m\u001b[0m\u001b[1;33m\u001b[0m\u001b[0m\n",
      "\u001b[1;32mc:\\users\\sayala\\documents\\github\\bifacial_radiance\\bifacial_radiance\\main.py\u001b[0m in \u001b[0;36m_saveTempTMY\u001b[1;34m(self, tmydata, filename, starttime, endtime, coerce_year)\u001b[0m\n\u001b[0;32m    710\u001b[0m         \u001b[0mi\u001b[0m\u001b[1;33m.\u001b[0m\u001b[0mindex\u001b[0m \u001b[1;33m=\u001b[0m \u001b[0mi\u001b[0m\u001b[1;33m\u001b[0m\u001b[1;33m\u001b[0m\u001b[0m\n\u001b[0;32m    711\u001b[0m         \u001b[0mtmydata\u001b[0m\u001b[1;33m.\u001b[0m\u001b[0mindex\u001b[0m \u001b[1;33m=\u001b[0m \u001b[0mi\u001b[0m\u001b[1;33m\u001b[0m\u001b[1;33m\u001b[0m\u001b[0m\n\u001b[1;32m--> 712\u001b[1;33m         \u001b[0mstartdt\u001b[0m \u001b[1;33m=\u001b[0m \u001b[0mpd\u001b[0m\u001b[1;33m.\u001b[0m\u001b[0mto_datetime\u001b[0m\u001b[1;33m(\u001b[0m\u001b[0mstarttime\u001b[0m\u001b[1;33m,\u001b[0m \u001b[0mformat\u001b[0m\u001b[1;33m=\u001b[0m\u001b[1;34m'%y_%m_%d_%H'\u001b[0m\u001b[1;33m)\u001b[0m\u001b[1;33m\u001b[0m\u001b[1;33m\u001b[0m\u001b[0m\n\u001b[0m\u001b[0;32m    713\u001b[0m         \u001b[0menddt\u001b[0m \u001b[1;33m=\u001b[0m \u001b[0mpd\u001b[0m\u001b[1;33m.\u001b[0m\u001b[0mto_datetime\u001b[0m\u001b[1;33m(\u001b[0m\u001b[0mendtime\u001b[0m\u001b[1;33m,\u001b[0m \u001b[0mformat\u001b[0m\u001b[1;33m=\u001b[0m\u001b[1;34m'%y_%m_%d_%H'\u001b[0m\u001b[1;33m)\u001b[0m\u001b[1;33m\u001b[0m\u001b[1;33m\u001b[0m\u001b[0m\n\u001b[0;32m    714\u001b[0m         \u001b[0mprint\u001b[0m\u001b[1;33m(\u001b[0m\u001b[1;34mf'start: {startdt}\\nend: {enddt}'\u001b[0m\u001b[1;33m)\u001b[0m\u001b[1;33m\u001b[0m\u001b[1;33m\u001b[0m\u001b[0m\n",
      "\u001b[1;32mC:\\ProgramData\\Anaconda3\\lib\\site-packages\\pandas\\core\\tools\\datetimes.py\u001b[0m in \u001b[0;36mto_datetime\u001b[1;34m(arg, errors, dayfirst, yearfirst, utc, format, exact, unit, infer_datetime_format, origin, cache)\u001b[0m\n\u001b[0;32m    830\u001b[0m             \u001b[0mresult\u001b[0m \u001b[1;33m=\u001b[0m \u001b[0mconvert_listlike\u001b[0m\u001b[1;33m(\u001b[0m\u001b[0marg\u001b[0m\u001b[1;33m,\u001b[0m \u001b[0mformat\u001b[0m\u001b[1;33m)\u001b[0m\u001b[1;33m\u001b[0m\u001b[1;33m\u001b[0m\u001b[0m\n\u001b[0;32m    831\u001b[0m     \u001b[1;32melse\u001b[0m\u001b[1;33m:\u001b[0m\u001b[1;33m\u001b[0m\u001b[1;33m\u001b[0m\u001b[0m\n\u001b[1;32m--> 832\u001b[1;33m         \u001b[0mresult\u001b[0m \u001b[1;33m=\u001b[0m \u001b[0mconvert_listlike\u001b[0m\u001b[1;33m(\u001b[0m\u001b[0mnp\u001b[0m\u001b[1;33m.\u001b[0m\u001b[0marray\u001b[0m\u001b[1;33m(\u001b[0m\u001b[1;33m[\u001b[0m\u001b[0marg\u001b[0m\u001b[1;33m]\u001b[0m\u001b[1;33m)\u001b[0m\u001b[1;33m,\u001b[0m \u001b[0mformat\u001b[0m\u001b[1;33m)\u001b[0m\u001b[1;33m[\u001b[0m\u001b[1;36m0\u001b[0m\u001b[1;33m]\u001b[0m\u001b[1;33m\u001b[0m\u001b[1;33m\u001b[0m\u001b[0m\n\u001b[0m\u001b[0;32m    833\u001b[0m \u001b[1;33m\u001b[0m\u001b[0m\n\u001b[0;32m    834\u001b[0m     \u001b[1;32mreturn\u001b[0m \u001b[0mresult\u001b[0m\u001b[1;33m\u001b[0m\u001b[1;33m\u001b[0m\u001b[0m\n",
      "\u001b[1;32mC:\\ProgramData\\Anaconda3\\lib\\site-packages\\pandas\\core\\tools\\datetimes.py\u001b[0m in \u001b[0;36m_convert_listlike_datetimes\u001b[1;34m(arg, format, name, tz, unit, errors, infer_datetime_format, dayfirst, yearfirst, exact)\u001b[0m\n\u001b[0;32m    458\u001b[0m                 \u001b[1;32mreturn\u001b[0m \u001b[0mDatetimeIndex\u001b[0m\u001b[1;33m.\u001b[0m\u001b[0m_simple_new\u001b[0m\u001b[1;33m(\u001b[0m\u001b[0mdta\u001b[0m\u001b[1;33m,\u001b[0m \u001b[0mname\u001b[0m\u001b[1;33m=\u001b[0m\u001b[0mname\u001b[0m\u001b[1;33m)\u001b[0m\u001b[1;33m\u001b[0m\u001b[1;33m\u001b[0m\u001b[0m\n\u001b[0;32m    459\u001b[0m             \u001b[1;32mexcept\u001b[0m \u001b[1;33m(\u001b[0m\u001b[0mValueError\u001b[0m\u001b[1;33m,\u001b[0m \u001b[0mTypeError\u001b[0m\u001b[1;33m)\u001b[0m\u001b[1;33m:\u001b[0m\u001b[1;33m\u001b[0m\u001b[1;33m\u001b[0m\u001b[0m\n\u001b[1;32m--> 460\u001b[1;33m                 \u001b[1;32mraise\u001b[0m \u001b[0me\u001b[0m\u001b[1;33m\u001b[0m\u001b[1;33m\u001b[0m\u001b[0m\n\u001b[0m\u001b[0;32m    461\u001b[0m \u001b[1;33m\u001b[0m\u001b[0m\n\u001b[0;32m    462\u001b[0m     \u001b[1;32mif\u001b[0m \u001b[0mresult\u001b[0m \u001b[1;32mis\u001b[0m \u001b[1;32mNone\u001b[0m\u001b[1;33m:\u001b[0m\u001b[1;33m\u001b[0m\u001b[1;33m\u001b[0m\u001b[0m\n",
      "\u001b[1;32mC:\\ProgramData\\Anaconda3\\lib\\site-packages\\pandas\\core\\tools\\datetimes.py\u001b[0m in \u001b[0;36m_convert_listlike_datetimes\u001b[1;34m(arg, format, name, tz, unit, errors, infer_datetime_format, dayfirst, yearfirst, exact)\u001b[0m\n\u001b[0;32m    422\u001b[0m                 \u001b[1;32mtry\u001b[0m\u001b[1;33m:\u001b[0m\u001b[1;33m\u001b[0m\u001b[1;33m\u001b[0m\u001b[0m\n\u001b[0;32m    423\u001b[0m                     result, timezones = array_strptime(\n\u001b[1;32m--> 424\u001b[1;33m                         \u001b[0marg\u001b[0m\u001b[1;33m,\u001b[0m \u001b[0mformat\u001b[0m\u001b[1;33m,\u001b[0m \u001b[0mexact\u001b[0m\u001b[1;33m=\u001b[0m\u001b[0mexact\u001b[0m\u001b[1;33m,\u001b[0m \u001b[0merrors\u001b[0m\u001b[1;33m=\u001b[0m\u001b[0merrors\u001b[0m\u001b[1;33m\u001b[0m\u001b[1;33m\u001b[0m\u001b[0m\n\u001b[0m\u001b[0;32m    425\u001b[0m                     )\n\u001b[0;32m    426\u001b[0m                     \u001b[1;32mif\u001b[0m \u001b[1;34m\"%Z\"\u001b[0m \u001b[1;32min\u001b[0m \u001b[0mformat\u001b[0m \u001b[1;32mor\u001b[0m \u001b[1;34m\"%z\"\u001b[0m \u001b[1;32min\u001b[0m \u001b[0mformat\u001b[0m\u001b[1;33m:\u001b[0m\u001b[1;33m\u001b[0m\u001b[1;33m\u001b[0m\u001b[0m\n",
      "\u001b[1;32mpandas\\_libs\\tslibs\\strptime.pyx\u001b[0m in \u001b[0;36mpandas._libs.tslibs.strptime.array_strptime\u001b[1;34m()\u001b[0m\n",
      "\u001b[1;31mValueError\u001b[0m: time data '21_05_00_01' does not match format '%y_%m_%d_%H' (match)"
     ]
    }
   ],
   "source": [
    "metdata = demo.readWeatherFile(epwfile, coerce_year=2021, daydate='21_05_22')  \n",
    "sceneDict = {'gcr':gcr,'hub_height':hub_height, 'nMods': nMods, 'nRows': nRows}  \n",
    "trackerdict = demo.set1axis(limit_angle = limit_angle, backtrack = backtrack, gcr = gcr, cumulativesky = cumulativesky)\n"
   ]
  },
  {
   "cell_type": "code",
   "execution_count": 41,
   "id": "a301ae6d",
   "metadata": {},
   "outputs": [],
   "source": [
    "foodict = {k: v for k, v in trackerdict.items() if k.startswith('21_'+day_date)}\n"
   ]
  },
  {
   "cell_type": "code",
   "execution_count": 47,
   "id": "d4c5c719",
   "metadata": {},
   "outputs": [
    {
     "data": {
      "text/plain": [
       "{'21_01_03_08_00': {'surf_azm': 90.0,\n",
       "  'surf_tilt': 4.82,\n",
       "  'theta': -4.82,\n",
       "  'ghi': 25,\n",
       "  'dhi': 25},\n",
       " '21_01_03_09_00': {'surf_azm': 90.0,\n",
       "  'surf_tilt': 26.47,\n",
       "  'theta': -26.47,\n",
       "  'ghi': 156,\n",
       "  'dhi': 125},\n",
       " '21_01_03_10_00': {'surf_azm': 90.0,\n",
       "  'surf_tilt': 60.0,\n",
       "  'theta': -60.0,\n",
       "  'ghi': 284,\n",
       "  'dhi': 144},\n",
       " '21_01_03_11_00': {'surf_azm': 90.0,\n",
       "  'surf_tilt': 43.76,\n",
       "  'theta': -43.76,\n",
       "  'ghi': 381,\n",
       "  'dhi': 129},\n",
       " '21_01_03_12_00': {'surf_azm': 90.0,\n",
       "  'surf_tilt': 20.03,\n",
       "  'theta': -20.03,\n",
       "  'ghi': 433,\n",
       "  'dhi': 103},\n",
       " '21_01_03_13_00': {'surf_azm': 270.0,\n",
       "  'surf_tilt': 7.4,\n",
       "  'theta': 7.4,\n",
       "  'ghi': 454,\n",
       "  'dhi': 65},\n",
       " '21_01_03_14_00': {'surf_azm': 270.0,\n",
       "  'surf_tilt': 33.32,\n",
       "  'theta': 33.32,\n",
       "  'ghi': 398,\n",
       "  'dhi': 44},\n",
       " '21_01_03_15_00': {'surf_azm': 270.0,\n",
       "  'surf_tilt': 54.23,\n",
       "  'theta': 54.23,\n",
       "  'ghi': 274,\n",
       "  'dhi': 57},\n",
       " '21_01_03_16_00': {'surf_azm': 270.0,\n",
       "  'surf_tilt': 52.16,\n",
       "  'theta': 52.16,\n",
       "  'ghi': 145,\n",
       "  'dhi': 67},\n",
       " '21_01_03_17_00': {'surf_azm': 270.0,\n",
       "  'surf_tilt': 11.2,\n",
       "  'theta': 11.2,\n",
       "  'ghi': 18,\n",
       "  'dhi': 17}}"
      ]
     },
     "execution_count": 47,
     "metadata": {},
     "output_type": "execute_result"
    }
   ],
   "source": [
    "foodict"
   ]
  },
  {
   "cell_type": "code",
   "execution_count": 43,
   "id": "a18c43f3",
   "metadata": {},
   "outputs": [
    {
     "data": {
      "text/plain": [
       "{'21_01_03_08_00': {'surf_azm': 90.0,\n",
       "  'surf_tilt': 4.82,\n",
       "  'theta': -4.82,\n",
       "  'ghi': 25,\n",
       "  'dhi': 25},\n",
       " '21_01_03_09_00': {'surf_azm': 90.0,\n",
       "  'surf_tilt': 26.47,\n",
       "  'theta': -26.47,\n",
       "  'ghi': 156,\n",
       "  'dhi': 125},\n",
       " '21_01_03_10_00': {'surf_azm': 90.0,\n",
       "  'surf_tilt': 60.0,\n",
       "  'theta': -60.0,\n",
       "  'ghi': 284,\n",
       "  'dhi': 144},\n",
       " '21_01_03_11_00': {'surf_azm': 90.0,\n",
       "  'surf_tilt': 43.76,\n",
       "  'theta': -43.76,\n",
       "  'ghi': 381,\n",
       "  'dhi': 129},\n",
       " '21_01_03_12_00': {'surf_azm': 90.0,\n",
       "  'surf_tilt': 20.03,\n",
       "  'theta': -20.03,\n",
       "  'ghi': 433,\n",
       "  'dhi': 103},\n",
       " '21_01_03_13_00': {'surf_azm': 270.0,\n",
       "  'surf_tilt': 7.4,\n",
       "  'theta': 7.4,\n",
       "  'ghi': 454,\n",
       "  'dhi': 65},\n",
       " '21_01_03_14_00': {'surf_azm': 270.0,\n",
       "  'surf_tilt': 33.32,\n",
       "  'theta': 33.32,\n",
       "  'ghi': 398,\n",
       "  'dhi': 44},\n",
       " '21_01_03_15_00': {'surf_azm': 270.0,\n",
       "  'surf_tilt': 54.23,\n",
       "  'theta': 54.23,\n",
       "  'ghi': 274,\n",
       "  'dhi': 57},\n",
       " '21_01_03_16_00': {'surf_azm': 270.0,\n",
       "  'surf_tilt': 52.16,\n",
       "  'theta': 52.16,\n",
       "  'ghi': 145,\n",
       "  'dhi': 67},\n",
       " '21_01_03_17_00': {'surf_azm': 270.0,\n",
       "  'surf_tilt': 11.2,\n",
       "  'theta': 11.2,\n",
       "  'ghi': 18,\n",
       "  'dhi': 17}}"
      ]
     },
     "execution_count": 43,
     "metadata": {},
     "output_type": "execute_result"
    }
   ],
   "source": [
    "foodict"
   ]
  },
  {
   "cell_type": "code",
   "execution_count": 53,
   "id": "17318224",
   "metadata": {},
   "outputs": [
    {
     "data": {
      "text/plain": [
       "'21_01_03_17_00'"
      ]
     },
     "execution_count": 53,
     "metadata": {},
     "output_type": "execute_result"
    }
   ],
   "source": [
    "enddate"
   ]
  },
  {
   "cell_type": "code",
   "execution_count": 55,
   "id": "1089a0ac",
   "metadata": {},
   "outputs": [
    {
     "ename": "ValueError",
     "evalue": "unconverted data remains: _00",
     "output_type": "error",
     "traceback": [
      "\u001b[1;31m---------------------------------------------------------------------------\u001b[0m",
      "\u001b[1;31mValueError\u001b[0m                                Traceback (most recent call last)",
      "\u001b[1;32m<ipython-input-55-7134b8225308>\u001b[0m in \u001b[0;36m<module>\u001b[1;34m\u001b[0m\n\u001b[0;32m      1\u001b[0m \u001b[1;32mimport\u001b[0m \u001b[0mdatetime\u001b[0m \u001b[1;32mas\u001b[0m \u001b[0mdt\u001b[0m\u001b[1;33m\u001b[0m\u001b[1;33m\u001b[0m\u001b[0m\n\u001b[1;32m----> 2\u001b[1;33m \u001b[0mstartindex\u001b[0m \u001b[1;33m=\u001b[0m \u001b[0mlist\u001b[0m\u001b[1;33m(\u001b[0m\u001b[0mmetdata\u001b[0m\u001b[1;33m.\u001b[0m\u001b[0mdatetime\u001b[0m\u001b[1;33m)\u001b[0m\u001b[1;33m.\u001b[0m\u001b[0mindex\u001b[0m\u001b[1;33m(\u001b[0m\u001b[0mdt\u001b[0m\u001b[1;33m.\u001b[0m\u001b[0mdatetime\u001b[0m\u001b[1;33m.\u001b[0m\u001b[0mstrptime\u001b[0m\u001b[1;33m(\u001b[0m\u001b[0mstartdate\u001b[0m\u001b[1;33m,\u001b[0m\u001b[1;34m'%y_%m_%d_%H'\u001b[0m\u001b[1;33m)\u001b[0m\u001b[1;33m)\u001b[0m\u001b[1;33m\u001b[0m\u001b[1;33m\u001b[0m\u001b[0m\n\u001b[0m\u001b[0;32m      3\u001b[0m \u001b[0mstartindex\u001b[0m\u001b[1;33m\u001b[0m\u001b[1;33m\u001b[0m\u001b[0m\n",
      "\u001b[1;32mC:\\ProgramData\\Anaconda3\\lib\\_strptime.py\u001b[0m in \u001b[0;36m_strptime_datetime\u001b[1;34m(cls, data_string, format)\u001b[0m\n\u001b[0;32m    575\u001b[0m     \"\"\"Return a class cls instance based on the input string and the\n\u001b[0;32m    576\u001b[0m     format string.\"\"\"\n\u001b[1;32m--> 577\u001b[1;33m     \u001b[0mtt\u001b[0m\u001b[1;33m,\u001b[0m \u001b[0mfraction\u001b[0m\u001b[1;33m,\u001b[0m \u001b[0mgmtoff_fraction\u001b[0m \u001b[1;33m=\u001b[0m \u001b[0m_strptime\u001b[0m\u001b[1;33m(\u001b[0m\u001b[0mdata_string\u001b[0m\u001b[1;33m,\u001b[0m \u001b[0mformat\u001b[0m\u001b[1;33m)\u001b[0m\u001b[1;33m\u001b[0m\u001b[1;33m\u001b[0m\u001b[0m\n\u001b[0m\u001b[0;32m    578\u001b[0m     \u001b[0mtzname\u001b[0m\u001b[1;33m,\u001b[0m \u001b[0mgmtoff\u001b[0m \u001b[1;33m=\u001b[0m \u001b[0mtt\u001b[0m\u001b[1;33m[\u001b[0m\u001b[1;33m-\u001b[0m\u001b[1;36m2\u001b[0m\u001b[1;33m:\u001b[0m\u001b[1;33m]\u001b[0m\u001b[1;33m\u001b[0m\u001b[1;33m\u001b[0m\u001b[0m\n\u001b[0;32m    579\u001b[0m     \u001b[0margs\u001b[0m \u001b[1;33m=\u001b[0m \u001b[0mtt\u001b[0m\u001b[1;33m[\u001b[0m\u001b[1;33m:\u001b[0m\u001b[1;36m6\u001b[0m\u001b[1;33m]\u001b[0m \u001b[1;33m+\u001b[0m \u001b[1;33m(\u001b[0m\u001b[0mfraction\u001b[0m\u001b[1;33m,\u001b[0m\u001b[1;33m)\u001b[0m\u001b[1;33m\u001b[0m\u001b[1;33m\u001b[0m\u001b[0m\n",
      "\u001b[1;32mC:\\ProgramData\\Anaconda3\\lib\\_strptime.py\u001b[0m in \u001b[0;36m_strptime\u001b[1;34m(data_string, format)\u001b[0m\n\u001b[0;32m    360\u001b[0m     \u001b[1;32mif\u001b[0m \u001b[0mlen\u001b[0m\u001b[1;33m(\u001b[0m\u001b[0mdata_string\u001b[0m\u001b[1;33m)\u001b[0m \u001b[1;33m!=\u001b[0m \u001b[0mfound\u001b[0m\u001b[1;33m.\u001b[0m\u001b[0mend\u001b[0m\u001b[1;33m(\u001b[0m\u001b[1;33m)\u001b[0m\u001b[1;33m:\u001b[0m\u001b[1;33m\u001b[0m\u001b[1;33m\u001b[0m\u001b[0m\n\u001b[0;32m    361\u001b[0m         raise ValueError(\"unconverted data remains: %s\" %\n\u001b[1;32m--> 362\u001b[1;33m                           data_string[found.end():])\n\u001b[0m\u001b[0;32m    363\u001b[0m \u001b[1;33m\u001b[0m\u001b[0m\n\u001b[0;32m    364\u001b[0m     \u001b[0miso_year\u001b[0m \u001b[1;33m=\u001b[0m \u001b[0myear\u001b[0m \u001b[1;33m=\u001b[0m \u001b[1;32mNone\u001b[0m\u001b[1;33m\u001b[0m\u001b[1;33m\u001b[0m\u001b[0m\n",
      "\u001b[1;31mValueError\u001b[0m: unconverted data remains: _00"
     ]
    }
   ],
   "source": [
    "import datetime as dt \n",
    "startindex = list(metdata.datetime).index(dt.datetime.strptime(startdate,'%y_%m_%d_%H'))\n",
    "startindex"
   ]
  },
  {
   "cell_type": "code",
   "execution_count": 72,
   "id": "672a64ad",
   "metadata": {},
   "outputs": [
    {
     "data": {
      "text/plain": [
       "'21_01_03_17'"
      ]
     },
     "execution_count": 72,
     "metadata": {},
     "output_type": "execute_result"
    }
   ],
   "source": [
    "enddate"
   ]
  },
  {
   "cell_type": "code",
   "execution_count": 78,
   "id": "3ce52bf8",
   "metadata": {},
   "outputs": [
    {
     "data": {
      "text/plain": [
       "55"
      ]
     },
     "execution_count": 78,
     "metadata": {},
     "output_type": "execute_result"
    }
   ],
   "source": [
    "startindex = list(metdata.datetime).index(dt.datetime.strptime(startdate,'%y_%m_%d_%H'))\n",
    "startindex"
   ]
  },
  {
   "cell_type": "code",
   "execution_count": null,
   "id": "28924679",
   "metadata": {},
   "outputs": [],
   "source": []
  },
  {
   "cell_type": "code",
   "execution_count": 75,
   "id": "26c91782",
   "metadata": {},
   "outputs": [
    {
     "name": "stdout",
     "output_type": "stream",
     "text": [
      "Creating ~4380 skyfiles.  Takes 1-2 minutes\n"
     ]
    },
    {
     "ename": "KeyError",
     "evalue": "'21_01_01_08_00'",
     "output_type": "error",
     "traceback": [
      "\u001b[1;31m---------------------------------------------------------------------------\u001b[0m",
      "\u001b[1;31mKeyError\u001b[0m                                  Traceback (most recent call last)",
      "\u001b[1;32m<ipython-input-75-5ba150fdd73a>\u001b[0m in \u001b[0;36m<module>\u001b[1;34m\u001b[0m\n\u001b[0;32m      1\u001b[0m \u001b[0mstartdate\u001b[0m \u001b[1;33m=\u001b[0m \u001b[0mlist\u001b[0m\u001b[1;33m(\u001b[0m\u001b[0mfoodict\u001b[0m\u001b[1;33m.\u001b[0m\u001b[0mkeys\u001b[0m\u001b[1;33m(\u001b[0m\u001b[1;33m)\u001b[0m\u001b[1;33m)\u001b[0m\u001b[1;33m[\u001b[0m\u001b[1;36m0\u001b[0m\u001b[1;33m]\u001b[0m\u001b[1;33m[\u001b[0m\u001b[1;33m:\u001b[0m\u001b[1;33m-\u001b[0m\u001b[1;36m3\u001b[0m\u001b[1;33m]\u001b[0m\u001b[1;33m\u001b[0m\u001b[1;33m\u001b[0m\u001b[0m\n\u001b[0;32m      2\u001b[0m \u001b[0menddate\u001b[0m \u001b[1;33m=\u001b[0m \u001b[0mlist\u001b[0m\u001b[1;33m(\u001b[0m\u001b[0mfoodict\u001b[0m\u001b[1;33m.\u001b[0m\u001b[0mkeys\u001b[0m\u001b[1;33m(\u001b[0m\u001b[1;33m)\u001b[0m\u001b[1;33m)\u001b[0m\u001b[1;33m[\u001b[0m\u001b[1;33m-\u001b[0m\u001b[1;36m1\u001b[0m\u001b[1;33m]\u001b[0m\u001b[1;33m[\u001b[0m\u001b[1;33m:\u001b[0m\u001b[1;33m-\u001b[0m\u001b[1;36m3\u001b[0m\u001b[1;33m]\u001b[0m\u001b[1;33m\u001b[0m\u001b[1;33m\u001b[0m\u001b[0m\n\u001b[1;32m----> 3\u001b[1;33m \u001b[0mtrackerdict\u001b[0m \u001b[1;33m=\u001b[0m \u001b[0mdemo\u001b[0m\u001b[1;33m.\u001b[0m\u001b[0mgendaylit1axis\u001b[0m\u001b[1;33m(\u001b[0m\u001b[0mtrackerdict\u001b[0m \u001b[1;33m=\u001b[0m \u001b[0mfoodict\u001b[0m\u001b[1;33m,\u001b[0m \u001b[0mstartdate\u001b[0m \u001b[1;33m=\u001b[0m \u001b[0mstartdate\u001b[0m\u001b[1;33m,\u001b[0m \u001b[0menddate\u001b[0m \u001b[1;33m=\u001b[0m \u001b[0menddate\u001b[0m\u001b[1;33m,\u001b[0m \u001b[0mhpc\u001b[0m\u001b[1;33m=\u001b[0m\u001b[1;32mTrue\u001b[0m\u001b[1;33m)\u001b[0m\u001b[1;33m\u001b[0m\u001b[1;33m\u001b[0m\u001b[0m\n\u001b[0m\u001b[0;32m      4\u001b[0m \u001b[0mtrackerdict\u001b[0m\u001b[1;33m\u001b[0m\u001b[1;33m\u001b[0m\u001b[0m\n",
      "\u001b[1;32mc:\\users\\sayala\\documents\\github\\bifacial_radiance\\bifacial_radiance\\main.py\u001b[0m in \u001b[0;36mgendaylit1axis\u001b[1;34m(self, metdata, trackerdict, startdate, enddate, debug, hpc)\u001b[0m\n\u001b[0;32m   1529\u001b[0m                 \u001b[0mskyfile\u001b[0m \u001b[1;33m=\u001b[0m \u001b[0mself\u001b[0m\u001b[1;33m.\u001b[0m\u001b[0mgendaylit\u001b[0m\u001b[1;33m(\u001b[0m\u001b[0mmetdata\u001b[0m\u001b[1;33m=\u001b[0m\u001b[0mmetdata\u001b[0m\u001b[1;33m,\u001b[0m\u001b[0mtimeindex\u001b[0m\u001b[1;33m=\u001b[0m\u001b[0mi\u001b[0m\u001b[1;33m,\u001b[0m \u001b[0mdebug\u001b[0m\u001b[1;33m=\u001b[0m\u001b[0mdebug\u001b[0m\u001b[1;33m)\u001b[0m\u001b[1;33m\u001b[0m\u001b[1;33m\u001b[0m\u001b[0m\n\u001b[0;32m   1530\u001b[0m                 \u001b[1;31m# trackerdict2 reduces the dict to only the range specified.\u001b[0m\u001b[1;33m\u001b[0m\u001b[1;33m\u001b[0m\u001b[1;33m\u001b[0m\u001b[0m\n\u001b[1;32m-> 1531\u001b[1;33m                 \u001b[0mtrackerdict2\u001b[0m\u001b[1;33m[\u001b[0m\u001b[0mfilename\u001b[0m\u001b[1;33m]\u001b[0m \u001b[1;33m=\u001b[0m \u001b[0mtrackerdict\u001b[0m\u001b[1;33m[\u001b[0m\u001b[0mfilename\u001b[0m\u001b[1;33m]\u001b[0m\u001b[1;33m\u001b[0m\u001b[1;33m\u001b[0m\u001b[0m\n\u001b[0m\u001b[0;32m   1532\u001b[0m                 \u001b[0mtrackerdict2\u001b[0m\u001b[1;33m[\u001b[0m\u001b[0mfilename\u001b[0m\u001b[1;33m]\u001b[0m\u001b[1;33m[\u001b[0m\u001b[1;34m'skyfile'\u001b[0m\u001b[1;33m]\u001b[0m \u001b[1;33m=\u001b[0m \u001b[0mskyfile\u001b[0m\u001b[1;33m\u001b[0m\u001b[1;33m\u001b[0m\u001b[0m\n\u001b[0;32m   1533\u001b[0m                 \u001b[0mcount\u001b[0m \u001b[1;33m+=\u001b[0m\u001b[1;36m1\u001b[0m\u001b[1;33m\u001b[0m\u001b[1;33m\u001b[0m\u001b[0m\n",
      "\u001b[1;31mKeyError\u001b[0m: '21_01_01_08_00'"
     ]
    }
   ],
   "source": [
    "startdate = list(foodict.keys())[0][:-3]\n",
    "enddate = list(foodict.keys())[-1][:-3]\n",
    "trackerdict = demo.gendaylit1axis(trackerdict = foodict, startdate = startdate, enddate = enddate, hpc=True)\n",
    "trackerdict"
   ]
  },
  {
   "cell_type": "code",
   "execution_count": null,
   "id": "0dc20ad2",
   "metadata": {},
   "outputs": [],
   "source": [
    "trackerdict = demo.makeScene1axis(moduletype=moduletype,sceneDict=sceneDict, cumulativesky=cumulativesky, hpc=hpc) #makeScene creates a .rad file with 20 modules per row, 7 rows.\n",
    "trackerdict = demo.makeOct1axis(customname = sim_name, hpc=hpc)\n",
    "demo.analysis1axis(customname = sim_name, hpc=hpc)\n",
    "\n"
   ]
  },
  {
   "cell_type": "markdown",
   "id": "a45ba6ad",
   "metadata": {},
   "source": [
    "#### GencumSky1axis, looping over tracker_angles"
   ]
  },
  {
   "cell_type": "code",
   "execution_count": null,
   "id": "d2273463",
   "metadata": {},
   "outputs": [],
   "source": [
    "#Main Variables needed throughout\n",
    "albedo = 0.6\n",
    "sim_general_name = 'bifacial_example'\n",
    "lat = 37.5\n",
    "lon = -77.6\n",
    "epwfile = r'C:\\Users\\sayala\\Documents\\RadianceScenes\\HPC_Test\\USA_VA_Richmond.Intl.AP.724010_TMY.epw'\n",
    "testfolder = r'C:\\Users\\sayala\\Documents\\RadianceScenes\\HPC_Test\\Routine1' \n",
    "moduletype = 'Prism Solar Bi60 landscape'\n",
    "\n",
    "hub_height = 0.2\n",
    "nMods = 20\n",
    "nRows = 7\n",
    "hpc = True\n",
    "\n",
    "limit_angle = 60\n",
    "backtrack = True\n",
    "gcr = 0.35\n",
    "angledelta = 0.01\n",
    "\n",
    "starttime = '2021_11_06_10'# 'YY_MM_DD_HH'\n",
    "endtime = starttime\n",
    "cumulativesky = True\n"
   ]
  },
  {
   "cell_type": "code",
   "execution_count": 7,
   "id": "b13e0e70",
   "metadata": {},
   "outputs": [],
   "source": [
    "theta = str(20)"
   ]
  },
  {
   "cell_type": "code",
   "execution_count": null,
   "id": "03f05f7a",
   "metadata": {},
   "outputs": [],
   "source": [
    "import bifacial_radiance\n",
    "\n",
    "sim_name = sim_general_name + theta\n",
    "demo = bifacial_radiance.RadianceObj(simulationName, path=testfolder)  \n",
    "demo.setGround(albedo) \n",
    "metdata = demo.readWeatherFile(epwfile, starttime=starttime, endttime=endttime, coerce_year=2021)  \n",
    "sceneDict = {'gcr':gcr,'hub_height':hub_height, 'nMods': nMods, 'nRows': nRows}  \n",
    "trackerdict =demo.set1axis(limit_angle = limit_angle, backtrack = backtrack, gcr = gcr, cumulativesky = cumulativesky)\n",
    "trackerdict = demo.genCumSky1axis()\n",
    "trackerdict = demo.makeScene1axis(trackerdict = trackerdict[tetha], moduletype=moduletype,sceneDict=sceneDict, cumulativesky=cumulativesky, hpc=hpc) #makeScene creates a .rad file with 20 modules per row, 7 rows.\n",
    "trackerdict = demo.makeOct1axis(customname = sim_name, hpc=hpc)\n",
    "demo.analysis1axis(customname = sim_name, hpc=hpc)\n",
    "\n"
   ]
  },
  {
   "cell_type": "code",
   "execution_count": null,
   "id": "0cb91ff2",
   "metadata": {},
   "outputs": [],
   "source": []
  },
  {
   "cell_type": "code",
   "execution_count": null,
   "id": "0d7b3f7a",
   "metadata": {},
   "outputs": [],
   "source": []
  },
  {
   "cell_type": "code",
   "execution_count": null,
   "id": "d1ddfe9c",
   "metadata": {},
   "outputs": [],
   "source": []
  },
  {
   "cell_type": "code",
   "execution_count": null,
   "id": "afbc71ca",
   "metadata": {},
   "outputs": [],
   "source": []
  },
  {
   "cell_type": "code",
   "execution_count": null,
   "id": "1c0e4a11",
   "metadata": {},
   "outputs": [],
   "source": []
  }
 ],
 "metadata": {
  "kernelspec": {
   "display_name": "Python 3",
   "language": "python",
   "name": "python3"
  },
  "language_info": {
   "codemirror_mode": {
    "name": "ipython",
    "version": 3
   },
   "file_extension": ".py",
   "mimetype": "text/x-python",
   "name": "python",
   "nbconvert_exporter": "python",
   "pygments_lexer": "ipython3",
   "version": "3.7.10"
  }
 },
 "nbformat": 4,
 "nbformat_minor": 5
}
