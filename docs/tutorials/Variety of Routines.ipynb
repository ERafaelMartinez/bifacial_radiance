{
 "cells": [
  {
   "cell_type": "markdown",
   "id": "561d5c6c",
   "metadata": {},
   "source": [
    "# Variety of Routines\n",
    "\n",
    "This journals explores the different ways \n",
    "\n",
    "<b> 1. Fixed tilt routine for fixed tilt systems </b>\n",
    "* makeScene\n",
    "* gendaylit   or gencumsky\n",
    "* makeoct\n",
    "* analysis\n",
    "\n",
    "\n",
    "<b> 2. Tracker Routine for 1-HSAT </b>\n",
    "* set1axis          (gets angles)\n",
    "* makeScene1axis            \n",
    "* gendaylit1axis   or gencumsky1axis\n",
    "* makeoct1axis\n",
    "* analysis1axis\n",
    "\n",
    "\n",
    "<b> 3. Fixtilt tilt routine for a 1-HSAT, 1 single timestamp</b>\n",
    "* gettrackerangle\n",
    "* makeScene\n",
    "* gendaylit or gencumsky\n",
    "* makeoct\n",
    "* analysis"
   ]
  },
  {
   "cell_type": "markdown",
   "id": "7ae5aeb0",
   "metadata": {},
   "source": [
    "# Fixed tilt routine for fixed tilt systems"
   ]
  },
  {
   "cell_type": "markdown",
   "id": "8a411cf3",
   "metadata": {},
   "source": [
    "#### A. Gendaylit: Probably looping over IDX"
   ]
  },
  {
   "cell_type": "code",
   "execution_count": null,
   "id": "4d9fe4dc",
   "metadata": {},
   "outputs": [],
   "source": [
    "idx = 4020"
   ]
  },
  {
   "cell_type": "code",
   "execution_count": 2,
   "id": "2b9b740e",
   "metadata": {},
   "outputs": [],
   "source": [
    "#Main Variables needed throughout\n",
    "albedo = 0.6\n",
    "sim_general_name = 'bifacial_example'\n",
    "lat = 37.5\n",
    "lon = -77.6\n",
    "epwfile = r'C:\\Users\\sayala\\Documents\\RadianceScenes\\HPC_Test\\USA_VA_Richmond.Intl.AP.724010_TMY.epw'\n",
    "testfolder = r'C:\\Users\\sayala\\Documents\\RadianceScenes\\HPC_Test\\Routine1' \n",
    "moduletype = 'Prism Solar Bi60 landscape'\n",
    "\n",
    "tilt = 10\n",
    "pitch = 3\n",
    "clearance_height = 0.2\n",
    "azimuth = 90\n",
    "nMods = 20\n",
    "nRows = 7\n",
    "hpc = True"
   ]
  },
  {
   "cell_type": "code",
   "execution_count": null,
   "id": "dc5de95e",
   "metadata": {},
   "outputs": [],
   "source": [
    "import bifacial_radiance\n",
    "\n",
    "sim_name = sim_general_name+'_'+str(_idx)\n",
    "demo = bifacial_radiance.RadianceObj(sim_name,str(testfolder))  \n",
    "demo.setGround(albedo)\n",
    "metdata = demo.readWeatherFile(epwfile) \n",
    "demo.gendaylit(idx)\n",
    "sceneDict = {'tilt':tilt,'pitch':pitch,'clearance_height':clearance_height,'azimuth':azimuth, 'nMods': nMods, 'nRows': nRows} \n",
    "scene = demo.makeScene(moduletype=moduletype,sceneDict=sceneDict, hpc=hpc, radname = sim_name)\n",
    "octfile = demo.makeOct(octname = demo.basename , hpc=hpc)  \n",
    "analysis = bifacial_radiance.AnalysisObj(octfile=octfile, name=sim_name)\n",
    "frontscan, backscan = analysis.moduleAnalysis(scene=scene)\n",
    "analysis.analysis(octfile, name=sim_name, frontscan=frontscan, backscan=backscan)\n"
   ]
  },
  {
   "cell_type": "markdown",
   "id": "28bab3fe",
   "metadata": {},
   "source": [
    "#### B. Gencumsky: Probably looping over something in the Geometry"
   ]
  },
  {
   "cell_type": "code",
   "execution_count": null,
   "id": "0ed3424e",
   "metadata": {},
   "outputs": [],
   "source": [
    "tilt = 30"
   ]
  },
  {
   "cell_type": "code",
   "execution_count": null,
   "id": "d761f408",
   "metadata": {},
   "outputs": [],
   "source": [
    "#Main Variables needed throughout\n",
    "albedo = 0.6\n",
    "sim_general_name = 'bifacial_example'\n",
    "lat = 37.5\n",
    "lon = -77.6\n",
    "epwfile = r'C:\\Users\\sayala\\Documents\\RadianceScenes\\HPC_Test\\USA_VA_Richmond.Intl.AP.724010_TMY.epw'\n",
    "testfolder = r'C:\\Users\\sayala\\Documents\\RadianceScenes\\HPC_Test\\Routine1' \n",
    "moduletype = 'Prism Solar Bi60 landscape'\n",
    "\n",
    "tilt = 10\n",
    "pitch = 3\n",
    "clearance_height = 0.2\n",
    "azimuth = 90\n",
    "nMods = 20\n",
    "nRows = 7\n",
    "hpc = True"
   ]
  },
  {
   "cell_type": "code",
   "execution_count": null,
   "id": "8485e849",
   "metadata": {},
   "outputs": [],
   "source": [
    "import bifacial_radiance\n",
    "\n",
    "sim_name = sim_general_name+'_'+str(tilt)\n",
    "demo = bifacial_radiance.RadianceObj(sim_name,str(testfolder))  \n",
    "demo.setGround(albedo)\n",
    "metdata = demo.readWeatherFile(epwfile) \n",
    "demo.genCumSky(savefile = sim_name)\n",
    "sceneDict = {'tilt':tilt,'pitch':pitch,'clearance_height':clearance_height,'azimuth':azimuth, 'nMods': nMods, 'nRows': nRows} \n",
    "scene = demo.makeScene(moduletype=moduletype,sceneDict=sceneDict, hpc=hoc, radname = sim_name)\n",
    "octfile = demo.makeOct(octname = demo.basename , hpc=hoc)  \n",
    "analysis = bifacial_radiance.AnalysisObj(octfile=octfile, name=sim_name)\n",
    "frontscan, backscan = analysis.moduleAnalysis(scene=scene)\n",
    "analysis.analysis(octfile, name=sim_name, frontscan=frontscan, backscan=backscan)\n"
   ]
  },
  {
   "cell_type": "markdown",
   "id": "bae9321b",
   "metadata": {},
   "source": [
    "#### C. Option: Gencumsky segmented ...."
   ]
  },
  {
   "cell_type": "code",
   "execution_count": null,
   "id": "59b10f10",
   "metadata": {},
   "outputs": [],
   "source": [
    "# ADD LATER"
   ]
  },
  {
   "cell_type": "markdown",
   "id": "e16648d8",
   "metadata": {},
   "source": [
    "<a id='step2'></a>"
   ]
  },
  {
   "cell_type": "markdown",
   "id": "6775de88",
   "metadata": {},
   "source": [
    "## 2. Tracker Routine for 1-HSAT"
   ]
  },
  {
   "cell_type": "markdown",
   "id": "42eaceb0",
   "metadata": {},
   "source": [
    "#### Gendaylit1axis, looping over hours"
   ]
  },
  {
   "cell_type": "code",
   "execution_count": null,
   "id": "92da4854",
   "metadata": {},
   "outputs": [],
   "source": [
    "#Main Variables needed throughout\n",
    "albedo = 0.6\n",
    "sim_general_name = 'bifacial_example'\n",
    "lat = 37.5\n",
    "lon = -77.6\n",
    "epwfile = r'C:\\Users\\sayala\\Documents\\RadianceScenes\\HPC_Test\\USA_VA_Richmond.Intl.AP.724010_TMY.epw'\n",
    "testfolder = r'C:\\Users\\sayala\\Documents\\RadianceScenes\\HPC_Test\\Routine1' \n",
    "moduletype = 'Prism Solar Bi60 landscape'\n",
    "\n",
    "hub_height = 0.2\n",
    "nMods = 20\n",
    "nRows = 7\n",
    "hpc = True\n",
    "\n",
    "limit_angle = 60\n",
    "backtrack = True\n",
    "gcr = 0.35\n",
    "angledelta = 0.01\n",
    "\n",
    "starttime = '2021_11_06_10'# 'YY_MM_DD_HH'\n",
    "endtime = starttime\n",
    "cumulativesky = False\n"
   ]
  },
  {
   "cell_type": "code",
   "execution_count": null,
   "id": "497cf13d",
   "metadata": {},
   "outputs": [],
   "source": [
    "import bifacial_radiance\n",
    "\n",
    "sim_name = sim_general_name + starttime\n",
    "demo = bifacial_radiance.RadianceObj(simulationName, path=testfolder)  \n",
    "demo.setGround(albedo) \n",
    "metdata = demo.readWeatherFile(epwfile, starttime=starttime, endttime=endttime, coerce_year=2021)  \n",
    "sceneDict = {'gcr':gcr,'hub_height':hub_height, 'nMods': nMods, 'nRows': nRows}  \n",
    "trackerdict = demo.set1axis(limit_angle = limit_angle, backtrack = backtrack, gcr = gcr, cumulativesky = cumulativesky)\n",
    "trackerdict = demo.gendaylit1axis(startdate=startdate, enddate=enddate)\n",
    "trackerdict = demo.makeScene1axis(moduletype=moduletype,sceneDict=sceneDict, cumulativesky=cumulativesky, hpc=hpc) #makeScene creates a .rad file with 20 modules per row, 7 rows.\n",
    "trackerdict = demo.makeOct1axis(customname = sim_name, hpc=hpc)\n",
    "demo.analysis1axis(customname = sim_name, hpc=hpc)\n",
    "\n"
   ]
  },
  {
   "cell_type": "markdown",
   "id": "a45ba6ad",
   "metadata": {},
   "source": [
    "#### GencumSky1axis, looping over tracker_angles"
   ]
  },
  {
   "cell_type": "code",
   "execution_count": null,
   "id": "d2273463",
   "metadata": {},
   "outputs": [],
   "source": [
    "#Main Variables needed throughout\n",
    "albedo = 0.6\n",
    "sim_general_name = 'bifacial_example'\n",
    "lat = 37.5\n",
    "lon = -77.6\n",
    "epwfile = r'C:\\Users\\sayala\\Documents\\RadianceScenes\\HPC_Test\\USA_VA_Richmond.Intl.AP.724010_TMY.epw'\n",
    "testfolder = r'C:\\Users\\sayala\\Documents\\RadianceScenes\\HPC_Test\\Routine1' \n",
    "moduletype = 'Prism Solar Bi60 landscape'\n",
    "\n",
    "hub_height = 0.2\n",
    "nMods = 20\n",
    "nRows = 7\n",
    "hpc = True\n",
    "\n",
    "limit_angle = 60\n",
    "backtrack = True\n",
    "gcr = 0.35\n",
    "angledelta = 0.01\n",
    "\n",
    "starttime = '2021_11_06_10'# 'YY_MM_DD_HH'\n",
    "endtime = starttime\n",
    "cumulativesky = True\n"
   ]
  },
  {
   "cell_type": "code",
   "execution_count": 7,
   "id": "b13e0e70",
   "metadata": {},
   "outputs": [],
   "source": [
    "theta = str(20)"
   ]
  },
  {
   "cell_type": "code",
   "execution_count": null,
   "id": "03f05f7a",
   "metadata": {},
   "outputs": [],
   "source": [
    "import bifacial_radiance\n",
    "\n",
    "sim_name = sim_general_name + theta\n",
    "demo = bifacial_radiance.RadianceObj(simulationName, path=testfolder)  \n",
    "demo.setGround(albedo) \n",
    "metdata = demo.readWeatherFile(epwfile, starttime=starttime, endttime=endttime, coerce_year=2021)  \n",
    "sceneDict = {'gcr':gcr,'hub_height':hub_height, 'nMods': nMods, 'nRows': nRows}  \n",
    "trackerdict =demo.set1axis(limit_angle = limit_angle, backtrack = backtrack, gcr = gcr, cumulativesky = cumulativesky)\n",
    "trackerdict = demo.genCumSky1axis()\n",
    "trackerdict = demo.makeScene1axis(trackerdict = trackerdict[tetha], moduletype=moduletype,sceneDict=sceneDict, cumulativesky=cumulativesky, hpc=hpc) #makeScene creates a .rad file with 20 modules per row, 7 rows.\n",
    "trackerdict = demo.makeOct1axis(customname = sim_name, hpc=hpc)\n",
    "demo.analysis1axis(customname = sim_name, hpc=hpc)\n",
    "\n"
   ]
  },
  {
   "cell_type": "code",
   "execution_count": null,
   "id": "0cb91ff2",
   "metadata": {},
   "outputs": [],
   "source": []
  },
  {
   "cell_type": "code",
   "execution_count": null,
   "id": "0d7b3f7a",
   "metadata": {},
   "outputs": [],
   "source": []
  },
  {
   "cell_type": "code",
   "execution_count": null,
   "id": "d1ddfe9c",
   "metadata": {},
   "outputs": [],
   "source": []
  },
  {
   "cell_type": "code",
   "execution_count": null,
   "id": "afbc71ca",
   "metadata": {},
   "outputs": [],
   "source": []
  },
  {
   "cell_type": "code",
   "execution_count": null,
   "id": "1c0e4a11",
   "metadata": {},
   "outputs": [],
   "source": []
  }
 ],
 "metadata": {
  "kernelspec": {
   "display_name": "Python 3",
   "language": "python",
   "name": "python3"
  },
  "language_info": {
   "codemirror_mode": {
    "name": "ipython",
    "version": 3
   },
   "file_extension": ".py",
   "mimetype": "text/x-python",
   "name": "python",
   "nbconvert_exporter": "python",
   "pygments_lexer": "ipython3",
   "version": "3.7.10"
  }
 },
 "nbformat": 4,
 "nbformat_minor": 5
}
